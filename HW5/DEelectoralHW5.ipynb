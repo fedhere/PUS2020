{
  "nbformat": 4,
  "nbformat_minor": 0,
  "metadata": {
    "colab": {
      "name": "DEelectoralHW5.ipynb",
      "provenance": [],
      "toc_visible": true,
      "authorship_tag": "ABX9TyMi1OxPC3Dc+/mg5/Dt/Z2n",
      "include_colab_link": true
    },
    "kernelspec": {
      "name": "python3",
      "display_name": "Python 3"
    }
  },
  "cells": [
    {
      "cell_type": "markdown",
      "metadata": {
        "id": "view-in-github",
        "colab_type": "text"
      },
      "source": [
        "<a href=\"https://colab.research.google.com/github/fedhere/PUS2020_FBianco/blob/master/HW5/DEelectoralHW5.ipynb\" target=\"_parent\"><img src=\"https://colab.research.google.com/assets/colab-badge.svg\" alt=\"Open In Colab\"/></a>"
      ]
    },
    {
      "cell_type": "markdown",
      "metadata": {
        "id": "ymAQvKxEHTST"
      },
      "source": [
        "Use the delaware opendata to extract the voting precincts geometries\n",
        "\n",
        "https://opendata.firstmap.delaware.gov/datasets/delaware-election-boundaries\n",
        "\n",
        "USe the election data from the turnout project to get the precinct turnout\n",
        "\n",
        "https://raw.githubusercontent.com/openelections/openelections-data-de/master/2018/20181106__de__general__precinct.csv"
      ]
    },
    {
      "cell_type": "code",
      "metadata": {
        "id": "suzUimciHVGX",
        "outputId": "981d1284-ecff-4848-9fad-cadc33a27dad",
        "colab": {
          "base_uri": "https://localhost:8080/",
          "height": 443
        }
      },
      "source": [
        "!pip install geopandas"
      ],
      "execution_count": 1,
      "outputs": [
        {
          "output_type": "stream",
          "text": [
            "Collecting geopandas\n",
            "\u001b[?25l  Downloading https://files.pythonhosted.org/packages/f7/a4/e66aafbefcbb717813bf3a355c8c4fc3ed04ea1dd7feb2920f2f4f868921/geopandas-0.8.1-py2.py3-none-any.whl (962kB)\n",
            "\u001b[K     |████████████████████████████████| 972kB 2.7MB/s \n",
            "\u001b[?25hRequirement already satisfied: shapely in /usr/local/lib/python3.6/dist-packages (from geopandas) (1.7.1)\n",
            "Collecting pyproj>=2.2.0\n",
            "\u001b[?25l  Downloading https://files.pythonhosted.org/packages/e5/c3/071e080230ac4b6c64f1a2e2f9161c9737a2bc7b683d2c90b024825000c0/pyproj-2.6.1.post1-cp36-cp36m-manylinux2010_x86_64.whl (10.9MB)\n",
            "\u001b[K     |████████████████████████████████| 10.9MB 15.2MB/s \n",
            "\u001b[?25hCollecting fiona\n",
            "\u001b[?25l  Downloading https://files.pythonhosted.org/packages/36/8b/e8b2c11bed5373c8e98edb85ce891b09aa1f4210fd451d0fb3696b7695a2/Fiona-1.8.17-cp36-cp36m-manylinux1_x86_64.whl (14.8MB)\n",
            "\u001b[K     |████████████████████████████████| 14.8MB 251kB/s \n",
            "\u001b[?25hRequirement already satisfied: pandas>=0.23.0 in /usr/local/lib/python3.6/dist-packages (from geopandas) (1.1.2)\n",
            "Requirement already satisfied: six>=1.7 in /usr/local/lib/python3.6/dist-packages (from fiona->geopandas) (1.15.0)\n",
            "Requirement already satisfied: click<8,>=4.0 in /usr/local/lib/python3.6/dist-packages (from fiona->geopandas) (7.1.2)\n",
            "Collecting cligj>=0.5\n",
            "  Downloading https://files.pythonhosted.org/packages/e4/be/30a58b4b0733850280d01f8bd132591b4668ed5c7046761098d665ac2174/cligj-0.5.0-py3-none-any.whl\n",
            "Collecting munch\n",
            "  Downloading https://files.pythonhosted.org/packages/cc/ab/85d8da5c9a45e072301beb37ad7f833cd344e04c817d97e0cc75681d248f/munch-2.5.0-py2.py3-none-any.whl\n",
            "Collecting click-plugins>=1.0\n",
            "  Downloading https://files.pythonhosted.org/packages/e9/da/824b92d9942f4e472702488857914bdd50f73021efea15b4cad9aca8ecef/click_plugins-1.1.1-py2.py3-none-any.whl\n",
            "Requirement already satisfied: attrs>=17 in /usr/local/lib/python3.6/dist-packages (from fiona->geopandas) (20.2.0)\n",
            "Requirement already satisfied: numpy>=1.15.4 in /usr/local/lib/python3.6/dist-packages (from pandas>=0.23.0->geopandas) (1.18.5)\n",
            "Requirement already satisfied: python-dateutil>=2.7.3 in /usr/local/lib/python3.6/dist-packages (from pandas>=0.23.0->geopandas) (2.8.1)\n",
            "Requirement already satisfied: pytz>=2017.2 in /usr/local/lib/python3.6/dist-packages (from pandas>=0.23.0->geopandas) (2018.9)\n",
            "Installing collected packages: pyproj, cligj, munch, click-plugins, fiona, geopandas\n",
            "Successfully installed click-plugins-1.1.1 cligj-0.5.0 fiona-1.8.17 geopandas-0.8.1 munch-2.5.0 pyproj-2.6.1.post1\n"
          ],
          "name": "stdout"
        }
      ]
    },
    {
      "cell_type": "markdown",
      "metadata": {
        "id": "OFiXu3otVwPS"
      },
      "source": [
        "# read in data"
      ]
    },
    {
      "cell_type": "markdown",
      "metadata": {
        "id": "O-UrDBSqV3QP"
      },
      "source": [
        "## read in electoral precinct geojson file in geopandas (directly from the URL)"
      ]
    },
    {
      "cell_type": "code",
      "metadata": {
        "id": "MbBXvF9-UCHZ",
        "outputId": "7e4e334b-95a5-4122-ad9a-d88a301d93b2",
        "colab": {
          "base_uri": "https://localhost:8080/",
          "height": 281
        }
      },
      "source": [
        "de_elecp = gpd.read_file...\n",
        "de_elecp.plot()"
      ],
      "execution_count": 3,
      "outputs": [
        {
          "output_type": "execute_result",
          "data": {
            "text/plain": [
              "<matplotlib.axes._subplots.AxesSubplot at 0x7f389edaee48>"
            ]
          },
          "metadata": {
            "tags": []
          },
          "execution_count": 3
        },
        {
          "output_type": "display_data",
          "data": {
            "image/png": "[encoded data removed]",
            "text/plain": [
              "<Figure size 432x288 with 1 Axes>"
            ]
          },
          "metadata": {
            "tags": [],
            "needs_background": "light"
          }
        }
      ]
    },
    {
      "cell_type": "code",
      "metadata": {
        "id": "1tzwCCwpFkR3",
        "outputId": "28b8835e-234f-4988-dc97-1aa0db4529a9",
        "colab": {
          "base_uri": "https://localhost:8080/",
          "height": 191
        }
      },
      "source": [
        "de_elecp.head()"
      ],
      "execution_count": null,
      "outputs": [
        {
          "output_type": "execute_result",
          "data": {
            "text/html": [
              "<div>\n",
              "<style scoped>\n",
              "    .dataframe tbody tr th:only-of-type {\n",
              "        vertical-align: middle;\n",
              "    }\n",
              "\n",
              "    .dataframe tbody tr th {\n",
              "        vertical-align: top;\n",
              "    }\n",
              "\n",
              "    .dataframe thead th {\n",
              "        text-align: right;\n",
              "    }\n",
              "</style>\n",
              "<table border=\"1\" class=\"dataframe\">\n",
              "  <thead>\n",
              "    <tr style=\"text-align: right;\">\n",
              "      <th></th>\n",
              "      <th>OBJECTID</th>\n",
              "      <th>ID</th>\n",
              "      <th>EDRD_2012</th>\n",
              "      <th>POPULATION</th>\n",
              "      <th>DISTRICT</th>\n",
              "      <th>EGIS_OWNERElection_ED_RD_2012AREA</th>\n",
              "      <th>geometry</th>\n",
              "    </tr>\n",
              "  </thead>\n",
              "  <tbody>\n",
              "    <tr>\n",
              "      <th>0</th>\n",
              "      <td>1</td>\n",
              "      <td>20</td>\n",
              "      <td>01-21</td>\n",
              "      <td>1171</td>\n",
              "      <td>21</td>\n",
              "      <td>None</td>\n",
              "      <td>POLYGON ((-75.67816 39.74598, -75.67807 39.746...</td>\n",
              "    </tr>\n",
              "    <tr>\n",
              "      <th>1</th>\n",
              "      <td>2</td>\n",
              "      <td>21</td>\n",
              "      <td>01-22</td>\n",
              "      <td>1755</td>\n",
              "      <td>22</td>\n",
              "      <td>None</td>\n",
              "      <td>POLYGON ((-75.72394 39.76115, -75.72393 39.760...</td>\n",
              "    </tr>\n",
              "    <tr>\n",
              "      <th>2</th>\n",
              "      <td>3</td>\n",
              "      <td>22</td>\n",
              "      <td>01-23</td>\n",
              "      <td>1947</td>\n",
              "      <td>23</td>\n",
              "      <td>None</td>\n",
              "      <td>POLYGON ((-75.73601 39.68660, -75.73603 39.686...</td>\n",
              "    </tr>\n",
              "    <tr>\n",
              "      <th>3</th>\n",
              "      <td>4</td>\n",
              "      <td>23</td>\n",
              "      <td>01-24</td>\n",
              "      <td>2828</td>\n",
              "      <td>24</td>\n",
              "      <td>None</td>\n",
              "      <td>POLYGON ((-75.69655 39.66154, -75.69666 39.661...</td>\n",
              "    </tr>\n",
              "    <tr>\n",
              "      <th>4</th>\n",
              "      <td>5</td>\n",
              "      <td>24</td>\n",
              "      <td>01-25</td>\n",
              "      <td>7734</td>\n",
              "      <td>25</td>\n",
              "      <td>None</td>\n",
              "      <td>POLYGON ((-75.75158 39.65865, -75.75109 39.658...</td>\n",
              "    </tr>\n",
              "  </tbody>\n",
              "</table>\n",
              "</div>"
            ],
            "text/plain": [
              "   OBJECTID  ...                                           geometry\n",
              "0         1  ...  POLYGON ((-75.67816 39.74598, -75.67807 39.746...\n",
              "1         2  ...  POLYGON ((-75.72394 39.76115, -75.72393 39.760...\n",
              "2         3  ...  POLYGON ((-75.73601 39.68660, -75.73603 39.686...\n",
              "3         4  ...  POLYGON ((-75.69655 39.66154, -75.69666 39.661...\n",
              "4         5  ...  POLYGON ((-75.75158 39.65865, -75.75109 39.658...\n",
              "\n",
              "[5 rows x 7 columns]"
            ]
          },
          "metadata": {
            "tags": []
          },
          "execution_count": 117
        }
      ]
    },
    {
      "cell_type": "markdown",
      "metadata": {
        "id": "ObGZoi8xV-Ir"
      },
      "source": [
        "## read in turnout data - keep only election district, and votes\n"
      ]
    },
    {
      "cell_type": "code",
      "metadata": {
        "id": "V4nS91LHTjye",
        "outputId": "ee5fac06-5282-4c16-abee-e59f1921eb16",
        "colab": {
          "base_uri": "https://localhost:8080/",
          "height": 391
        }
      },
      "source": [
        "turnout = ...\n",
        "turnout"
      ],
      "execution_count": null,
      "outputs": [
        {
          "output_type": "execute_result",
          "data": {
            "text/html": [
              "<div>\n",
              "<style scoped>\n",
              "    .dataframe tbody tr th:only-of-type {\n",
              "        vertical-align: middle;\n",
              "    }\n",
              "\n",
              "    .dataframe tbody tr th {\n",
              "        vertical-align: top;\n",
              "    }\n",
              "\n",
              "    .dataframe thead th {\n",
              "        text-align: right;\n",
              "    }\n",
              "</style>\n",
              "<table border=\"1\" class=\"dataframe\">\n",
              "  <thead>\n",
              "    <tr style=\"text-align: right;\">\n",
              "      <th></th>\n",
              "      <th>election_district</th>\n",
              "      <th>votes</th>\n",
              "    </tr>\n",
              "  </thead>\n",
              "  <tbody>\n",
              "    <tr>\n",
              "      <th>0</th>\n",
              "      <td>01-01</td>\n",
              "      <td>581</td>\n",
              "    </tr>\n",
              "    <tr>\n",
              "      <th>1</th>\n",
              "      <td>01-01</td>\n",
              "      <td>51</td>\n",
              "    </tr>\n",
              "    <tr>\n",
              "      <th>2</th>\n",
              "      <td>01-01</td>\n",
              "      <td>5</td>\n",
              "    </tr>\n",
              "    <tr>\n",
              "      <th>3</th>\n",
              "      <td>01-01</td>\n",
              "      <td>6</td>\n",
              "    </tr>\n",
              "    <tr>\n",
              "      <th>4</th>\n",
              "      <td>02-01</td>\n",
              "      <td>937</td>\n",
              "    </tr>\n",
              "    <tr>\n",
              "      <th>...</th>\n",
              "      <td>...</td>\n",
              "      <td>...</td>\n",
              "    </tr>\n",
              "    <tr>\n",
              "      <th>4719</th>\n",
              "      <td>07-41</td>\n",
              "      <td>545</td>\n",
              "    </tr>\n",
              "    <tr>\n",
              "      <th>4720</th>\n",
              "      <td>08-41</td>\n",
              "      <td>191</td>\n",
              "    </tr>\n",
              "    <tr>\n",
              "      <th>4721</th>\n",
              "      <td>08-41</td>\n",
              "      <td>335</td>\n",
              "    </tr>\n",
              "    <tr>\n",
              "      <th>4722</th>\n",
              "      <td>Total</td>\n",
              "      <td>3388</td>\n",
              "    </tr>\n",
              "    <tr>\n",
              "      <th>4723</th>\n",
              "      <td>Total</td>\n",
              "      <td>5262</td>\n",
              "    </tr>\n",
              "  </tbody>\n",
              "</table>\n",
              "<p>4724 rows × 2 columns</p>\n",
              "</div>"
            ],
            "text/plain": [
              "     election_district  votes\n",
              "0                01-01    581\n",
              "1                01-01     51\n",
              "2                01-01      5\n",
              "3                01-01      6\n",
              "4                02-01    937\n",
              "...                ...    ...\n",
              "4719             07-41    545\n",
              "4720             08-41    191\n",
              "4721             08-41    335\n",
              "4722             Total   3388\n",
              "4723             Total   5262\n",
              "\n",
              "[4724 rows x 2 columns]"
            ]
          },
          "metadata": {
            "tags": []
          },
          "execution_count": 113
        }
      ]
    },
    {
      "cell_type": "markdown",
      "metadata": {
        "id": "zVkZNmD5WHJC"
      },
      "source": [
        "## group turnout data by election district and get the total number of data for that district\n",
        "\n",
        "there are multiple entries for each geometry because there entries indicate the votes per candidate.\n"
      ]
    },
    {
      "cell_type": "code",
      "metadata": {
        "id": "HPJkoWQpUu8v",
        "outputId": "468ed1cb-d7bd-45f1-9afc-39f83c2d80dc",
        "colab": {
          "base_uri": "https://localhost:8080/",
          "height": 420
        }
      },
      "source": [
        "turnout....."
      ],
      "execution_count": null,
      "outputs": [
        {
          "output_type": "execute_result",
          "data": {
            "text/html": [
              "<div>\n",
              "<style scoped>\n",
              "    .dataframe tbody tr th:only-of-type {\n",
              "        vertical-align: middle;\n",
              "    }\n",
              "\n",
              "    .dataframe tbody tr th {\n",
              "        vertical-align: top;\n",
              "    }\n",
              "\n",
              "    .dataframe thead th {\n",
              "        text-align: right;\n",
              "    }\n",
              "</style>\n",
              "<table border=\"1\" class=\"dataframe\">\n",
              "  <thead>\n",
              "    <tr style=\"text-align: right;\">\n",
              "      <th></th>\n",
              "      <th>votes</th>\n",
              "    </tr>\n",
              "    <tr>\n",
              "      <th>election_district</th>\n",
              "      <th></th>\n",
              "    </tr>\n",
              "  </thead>\n",
              "  <tbody>\n",
              "    <tr>\n",
              "      <th>01-01</th>\n",
              "      <td>2519</td>\n",
              "    </tr>\n",
              "    <tr>\n",
              "      <th>01-02</th>\n",
              "      <td>3632</td>\n",
              "    </tr>\n",
              "    <tr>\n",
              "      <th>01-03</th>\n",
              "      <td>2347</td>\n",
              "    </tr>\n",
              "    <tr>\n",
              "      <th>01-04</th>\n",
              "      <td>4676</td>\n",
              "    </tr>\n",
              "    <tr>\n",
              "      <th>01-05</th>\n",
              "      <td>3973</td>\n",
              "    </tr>\n",
              "    <tr>\n",
              "      <th>...</th>\n",
              "      <td>...</td>\n",
              "    </tr>\n",
              "    <tr>\n",
              "      <th>16-04</th>\n",
              "      <td>344</td>\n",
              "    </tr>\n",
              "    <tr>\n",
              "      <th>16-31</th>\n",
              "      <td>29</td>\n",
              "    </tr>\n",
              "    <tr>\n",
              "      <th>16-41</th>\n",
              "      <td>66</td>\n",
              "    </tr>\n",
              "    <tr>\n",
              "      <th>17-02</th>\n",
              "      <td>363</td>\n",
              "    </tr>\n",
              "    <tr>\n",
              "      <th>Total</th>\n",
              "      <td>1572588</td>\n",
              "    </tr>\n",
              "  </tbody>\n",
              "</table>\n",
              "<p>437 rows × 1 columns</p>\n",
              "</div>"
            ],
            "text/plain": [
              "                     votes\n",
              "election_district         \n",
              "01-01                 2519\n",
              "01-02                 3632\n",
              "01-03                 2347\n",
              "01-04                 4676\n",
              "01-05                 3973\n",
              "...                    ...\n",
              "16-04                  344\n",
              "16-31                   29\n",
              "16-41                   66\n",
              "17-02                  363\n",
              "Total              1572588\n",
              "\n",
              "[437 rows x 1 columns]"
            ]
          },
          "metadata": {
            "tags": []
          },
          "execution_count": 114
        }
      ]
    },
    {
      "cell_type": "markdown",
      "metadata": {
        "id": "N5DbThVZWVL0"
      },
      "source": [
        "## merge the turnout data with the electoral map\n"
      ]
    },
    {
      "cell_type": "code",
      "metadata": {
        "id": "cW27PSe4UU9X",
        "outputId": "9322e0be-8a64-44fa-e4cb-8bf76f10a2ee",
        "colab": {
          "base_uri": "https://localhost:8080/",
          "height": 553
        }
      },
      "source": [
        "de_elecmap = ...\n",
        "de_elecmap"
      ],
      "execution_count": 7,
      "outputs": [
        {
          "output_type": "execute_result",
          "data": {
            "text/html": [
              "<div>\n",
              "<style scoped>\n",
              "    .dataframe tbody tr th:only-of-type {\n",
              "        vertical-align: middle;\n",
              "    }\n",
              "\n",
              "    .dataframe tbody tr th {\n",
              "        vertical-align: top;\n",
              "    }\n",
              "\n",
              "    .dataframe thead th {\n",
              "        text-align: right;\n",
              "    }\n",
              "</style>\n",
              "<table border=\"1\" class=\"dataframe\">\n",
              "  <thead>\n",
              "    <tr style=\"text-align: right;\">\n",
              "      <th></th>\n",
              "      <th>OBJECTID</th>\n",
              "      <th>ID</th>\n",
              "      <th>EDRD_2012</th>\n",
              "      <th>POPULATION</th>\n",
              "      <th>DISTRICT</th>\n",
              "      <th>EGIS_OWNERElection_ED_RD_2012AREA</th>\n",
              "      <th>geometry</th>\n",
              "      <th>votes</th>\n",
              "    </tr>\n",
              "  </thead>\n",
              "  <tbody>\n",
              "    <tr>\n",
              "      <th>0</th>\n",
              "      <td>1</td>\n",
              "      <td>20</td>\n",
              "      <td>01-21</td>\n",
              "      <td>1171</td>\n",
              "      <td>21</td>\n",
              "      <td>None</td>\n",
              "      <td>POLYGON ((-75.67816 39.74598, -75.67807 39.746...</td>\n",
              "      <td>2598</td>\n",
              "    </tr>\n",
              "    <tr>\n",
              "      <th>1</th>\n",
              "      <td>2</td>\n",
              "      <td>21</td>\n",
              "      <td>01-22</td>\n",
              "      <td>1755</td>\n",
              "      <td>22</td>\n",
              "      <td>None</td>\n",
              "      <td>POLYGON ((-75.72394 39.76115, -75.72393 39.760...</td>\n",
              "      <td>4390</td>\n",
              "    </tr>\n",
              "    <tr>\n",
              "      <th>2</th>\n",
              "      <td>3</td>\n",
              "      <td>22</td>\n",
              "      <td>01-23</td>\n",
              "      <td>1947</td>\n",
              "      <td>23</td>\n",
              "      <td>None</td>\n",
              "      <td>POLYGON ((-75.73601 39.68660, -75.73603 39.686...</td>\n",
              "      <td>690</td>\n",
              "    </tr>\n",
              "    <tr>\n",
              "      <th>3</th>\n",
              "      <td>4</td>\n",
              "      <td>23</td>\n",
              "      <td>01-24</td>\n",
              "      <td>2828</td>\n",
              "      <td>24</td>\n",
              "      <td>None</td>\n",
              "      <td>POLYGON ((-75.69655 39.66154, -75.69666 39.661...</td>\n",
              "      <td>4399</td>\n",
              "    </tr>\n",
              "    <tr>\n",
              "      <th>4</th>\n",
              "      <td>5</td>\n",
              "      <td>24</td>\n",
              "      <td>01-25</td>\n",
              "      <td>7734</td>\n",
              "      <td>25</td>\n",
              "      <td>None</td>\n",
              "      <td>POLYGON ((-75.75158 39.65865, -75.75109 39.658...</td>\n",
              "      <td>2722</td>\n",
              "    </tr>\n",
              "    <tr>\n",
              "      <th>...</th>\n",
              "      <td>...</td>\n",
              "      <td>...</td>\n",
              "      <td>...</td>\n",
              "      <td>...</td>\n",
              "      <td>...</td>\n",
              "      <td>...</td>\n",
              "      <td>...</td>\n",
              "      <td>...</td>\n",
              "    </tr>\n",
              "    <tr>\n",
              "      <th>425</th>\n",
              "      <td>426</td>\n",
              "      <td>424</td>\n",
              "      <td>08-38</td>\n",
              "      <td>2042</td>\n",
              "      <td>38</td>\n",
              "      <td>None</td>\n",
              "      <td>POLYGON ((-75.12161 38.45119, -75.12186 38.451...</td>\n",
              "      <td>4719</td>\n",
              "    </tr>\n",
              "    <tr>\n",
              "      <th>426</th>\n",
              "      <td>427</td>\n",
              "      <td>425</td>\n",
              "      <td>08-40</td>\n",
              "      <td>1684</td>\n",
              "      <td>40</td>\n",
              "      <td>None</td>\n",
              "      <td>POLYGON ((-75.43038 38.65207, -75.43017 38.651...</td>\n",
              "      <td>2202</td>\n",
              "    </tr>\n",
              "    <tr>\n",
              "      <th>427</th>\n",
              "      <td>428</td>\n",
              "      <td>426</td>\n",
              "      <td>08-41</td>\n",
              "      <td>2785</td>\n",
              "      <td>41</td>\n",
              "      <td>None</td>\n",
              "      <td>POLYGON ((-75.36290 38.58543, -75.36268 38.585...</td>\n",
              "      <td>2086</td>\n",
              "    </tr>\n",
              "    <tr>\n",
              "      <th>428</th>\n",
              "      <td>429</td>\n",
              "      <td>427</td>\n",
              "      <td>09-20</td>\n",
              "      <td>414</td>\n",
              "      <td>20</td>\n",
              "      <td>None</td>\n",
              "      <td>POLYGON ((-75.27245 38.80446, -75.27254 38.804...</td>\n",
              "      <td>1197</td>\n",
              "    </tr>\n",
              "    <tr>\n",
              "      <th>429</th>\n",
              "      <td>430</td>\n",
              "      <td>428</td>\n",
              "      <td>09-36</td>\n",
              "      <td>315</td>\n",
              "      <td>36</td>\n",
              "      <td>None</td>\n",
              "      <td>POLYGON ((-75.40755 38.71621, -75.40730 38.716...</td>\n",
              "      <td>301</td>\n",
              "    </tr>\n",
              "  </tbody>\n",
              "</table>\n",
              "<p>429 rows × 8 columns</p>\n",
              "</div>"
            ],
            "text/plain": [
              "     OBJECTID   ID  ...                                           geometry  votes\n",
              "0           1   20  ...  POLYGON ((-75.67816 39.74598, -75.67807 39.746...   2598\n",
              "1           2   21  ...  POLYGON ((-75.72394 39.76115, -75.72393 39.760...   4390\n",
              "2           3   22  ...  POLYGON ((-75.73601 39.68660, -75.73603 39.686...    690\n",
              "3           4   23  ...  POLYGON ((-75.69655 39.66154, -75.69666 39.661...   4399\n",
              "4           5   24  ...  POLYGON ((-75.75158 39.65865, -75.75109 39.658...   2722\n",
              "..        ...  ...  ...                                                ...    ...\n",
              "425       426  424  ...  POLYGON ((-75.12161 38.45119, -75.12186 38.451...   4719\n",
              "426       427  425  ...  POLYGON ((-75.43038 38.65207, -75.43017 38.651...   2202\n",
              "427       428  426  ...  POLYGON ((-75.36290 38.58543, -75.36268 38.585...   2086\n",
              "428       429  427  ...  POLYGON ((-75.27245 38.80446, -75.27254 38.804...   1197\n",
              "429       430  428  ...  POLYGON ((-75.40755 38.71621, -75.40730 38.716...    301\n",
              "\n",
              "[429 rows x 8 columns]"
            ]
          },
          "metadata": {
            "tags": []
          },
          "execution_count": 7
        }
      ]
    },
    {
      "cell_type": "markdown",
      "metadata": {
        "id": "HC707ka1VA8v"
      },
      "source": [
        "# make 3 maps: a coropleth of the population by electoral precinct, votes by precinct, and people density. \n",
        "Make sure you discuss patterns that appear, and that you consider the odd shape that delaware has in this map.... what is wrong with it? why does it not look like your usual maps of Delaware? how does this affect the descriptive analysis you just did? Make sure you choose appropriate colors maps and scheme to display the colors. Note that the last map may not be trivial to render. log10 function may be halpful (see notebook https://github.com/fedhere/PUS2020_FBianco/blob/master/classdemo/linear_regression_in_detail.ipynb but it is not required to use it) and also consider the individual values in the rows - are any of them unuaual? if there are consider dropping those values."
      ]
    },
    {
      "cell_type": "code",
      "metadata": {
        "id": "0jwMeR9bGbCc",
        "outputId": "ca430869-4933-429e-b9ca-1ea28262606f",
        "colab": {
          "base_uri": "https://localhost:8080/",
          "height": 256
        }
      },
      "source": [
        "# this is just an option for one of the plot. choose your esthetic and functionality as you see fit\n",
        "..."
      ],
      "execution_count": 16,
      "outputs": [
        {
          "output_type": "display_data",
          "data": {
            "image/png": "[encoded data removed]",
            "text/plain": [
              "<Figure size 432x288 with 2 Axes>"
            ]
          },
          "metadata": {
            "tags": [],
            "needs_background": "light"
          }
        }
      ]
    },
    {
      "cell_type": "markdown",
      "metadata": {
        "id": "FEs5OXZjWsY8"
      },
      "source": [
        "# look at the variables' correlation"
      ]
    },
    {
      "cell_type": "code",
      "metadata": {
        "id": "0NWxG9GEVLTE"
      },
      "source": [
        "import scipy as sp"
      ],
      "execution_count": 17,
      "outputs": []
    },
    {
      "cell_type": "code",
      "metadata": {
        "id": "M3rYYXQRVdgR",
        "outputId": "f5353841-1f93-41f8-ba77-ad492b3c3e8b",
        "colab": {
          "base_uri": "https://localhost:8080/",
          "height": 191
        }
      },
      "source": [
        "de_elecmap.corr()"
      ],
      "execution_count": 18,
      "outputs": [
        {
          "output_type": "execute_result",
          "data": {
            "text/html": [
              "<div>\n",
              "<style scoped>\n",
              "    .dataframe tbody tr th:only-of-type {\n",
              "        vertical-align: middle;\n",
              "    }\n",
              "\n",
              "    .dataframe tbody tr th {\n",
              "        vertical-align: top;\n",
              "    }\n",
              "\n",
              "    .dataframe thead th {\n",
              "        text-align: right;\n",
              "    }\n",
              "</style>\n",
              "<table border=\"1\" class=\"dataframe\">\n",
              "  <thead>\n",
              "    <tr style=\"text-align: right;\">\n",
              "      <th></th>\n",
              "      <th>OBJECTID</th>\n",
              "      <th>ID</th>\n",
              "      <th>POPULATION</th>\n",
              "      <th>votes</th>\n",
              "      <th>popdensity</th>\n",
              "    </tr>\n",
              "  </thead>\n",
              "  <tbody>\n",
              "    <tr>\n",
              "      <th>OBJECTID</th>\n",
              "      <td>1.000000</td>\n",
              "      <td>0.991589</td>\n",
              "      <td>0.037839</td>\n",
              "      <td>0.178269</td>\n",
              "      <td>-0.354172</td>\n",
              "    </tr>\n",
              "    <tr>\n",
              "      <th>ID</th>\n",
              "      <td>0.991589</td>\n",
              "      <td>1.000000</td>\n",
              "      <td>0.036542</td>\n",
              "      <td>0.178375</td>\n",
              "      <td>-0.353899</td>\n",
              "    </tr>\n",
              "    <tr>\n",
              "      <th>POPULATION</th>\n",
              "      <td>0.037839</td>\n",
              "      <td>0.036542</td>\n",
              "      <td>1.000000</td>\n",
              "      <td>0.624456</td>\n",
              "      <td>-0.032481</td>\n",
              "    </tr>\n",
              "    <tr>\n",
              "      <th>votes</th>\n",
              "      <td>0.178269</td>\n",
              "      <td>0.178375</td>\n",
              "      <td>0.624456</td>\n",
              "      <td>1.000000</td>\n",
              "      <td>-0.222647</td>\n",
              "    </tr>\n",
              "    <tr>\n",
              "      <th>popdensity</th>\n",
              "      <td>-0.354172</td>\n",
              "      <td>-0.353899</td>\n",
              "      <td>-0.032481</td>\n",
              "      <td>-0.222647</td>\n",
              "      <td>1.000000</td>\n",
              "    </tr>\n",
              "  </tbody>\n",
              "</table>\n",
              "</div>"
            ],
            "text/plain": [
              "            OBJECTID        ID  POPULATION     votes  popdensity\n",
              "OBJECTID    1.000000  0.991589    0.037839  0.178269   -0.354172\n",
              "ID          0.991589  1.000000    0.036542  0.178375   -0.353899\n",
              "POPULATION  0.037839  0.036542    1.000000  0.624456   -0.032481\n",
              "votes       0.178269  0.178375    0.624456  1.000000   -0.222647\n",
              "popdensity -0.354172 -0.353899   -0.032481 -0.222647    1.000000"
            ]
          },
          "metadata": {
            "tags": []
          },
          "execution_count": 18
        }
      ]
    },
    {
      "cell_type": "code",
      "metadata": {
        "id": "XGjld4T_VgK-",
        "outputId": "3c0c1644-12ff-4cd9-b593-1de36f8c403f",
        "colab": {
          "base_uri": "https://localhost:8080/",
          "height": 268
        }
      },
      "source": [
        "#Correlation matrix - we will discuss this kind of plot soon\n",
        "plt.imshow(de_elecmap.corr())\n",
        "plt.xticks(range(len(de_elecmap.corr())), de_elecmap.corr().columns)\n",
        "plt.yticks(range(len(de_elecmap.corr())), de_elecmap.corr().columns)\n",
        "plt.colorbar();"
      ],
      "execution_count": 19,
      "outputs": [
        {
          "output_type": "display_data",
          "data": {
            "image/png": "[encoded data removed]",
            "text/plain": [
              "<Figure size 432x288 with 2 Axes>"
            ]
          },
          "metadata": {
            "tags": [],
            "needs_background": "light"
          }
        }
      ]
    },
    {
      "cell_type": "markdown",
      "metadata": {
        "id": "lu-CzSp3Vlo9"
      },
      "source": [
        "# fit a line model to the data and a polynomial of second degree. \n",
        "You can use whatever package you want but if you use statsmodels you can get \n",
        "model diagnostics that will help you discuss the model\n",
        "\n",
        "plot the model over the data\n",
        "\n",
        "https://github.com/fedhere/PUS2020_FBianco/blob/master/classdemo/linear_regression_in_detail.ipynb\n",
        "\n",
        "\n",
        "# extra credit: set up the problem as a machine leraning problem by splitting the sample into training and test data and evaluating the model on both sets.\n",
        "\n",
        "This is in the notebook I shared, even if we did not get to talk about it in class https://github.com/fedhere/PUS2020_FBianco/blob/master/classdemo/linear_regression_in_detail.ipynb"
      ]
    },
    {
      "cell_type": "code",
      "metadata": {
        "id": "iiY2hRfuW_LX"
      },
      "source": [
        "import statsmodels.formula.api as smf\n",
        "# note: if you clean the data differently or do split train and test the result will not be identical\n"
      ],
      "execution_count": null,
      "outputs": []
    },
    {
      "cell_type": "code",
      "metadata": {
        "id": "p_7lhYzfb968",
        "outputId": "75ca6ff7-e3a3-4121-d5ae-dd0a590a46b2",
        "colab": {
          "base_uri": "https://localhost:8080/",
          "height": 415
        }
      },
      "source": [
        "model1.summary()"
      ],
      "execution_count": null,
      "outputs": [
        {
          "output_type": "execute_result",
          "data": {
            "text/html": [
              "<table class=\"simpletable\">\n",
              "<caption>OLS Regression Results</caption>\n",
              "<tr>\n",
              "  <th>Dep. Variable:</th>            <td>y</td>        <th>  R-squared:         </th> <td>   0.367</td>\n",
              "</tr>\n",
              "<tr>\n",
              "  <th>Model:</th>                   <td>OLS</td>       <th>  Adj. R-squared:    </th> <td>   0.365</td>\n",
              "</tr>\n",
              "<tr>\n",
              "  <th>Method:</th>             <td>Least Squares</td>  <th>  F-statistic:       </th> <td>   185.2</td>\n",
              "</tr>\n",
              "<tr>\n",
              "  <th>Date:</th>             <td>Thu, 01 Oct 2020</td> <th>  Prob (F-statistic):</th> <td>1.42e-33</td>\n",
              "</tr>\n",
              "<tr>\n",
              "  <th>Time:</th>                 <td>03:24:45</td>     <th>  Log-Likelihood:    </th> <td> -2827.1</td>\n",
              "</tr>\n",
              "<tr>\n",
              "  <th>No. Observations:</th>      <td>   321</td>      <th>  AIC:               </th> <td>   5658.</td>\n",
              "</tr>\n",
              "<tr>\n",
              "  <th>Df Residuals:</th>          <td>   319</td>      <th>  BIC:               </th> <td>   5666.</td>\n",
              "</tr>\n",
              "<tr>\n",
              "  <th>Df Model:</th>              <td>     1</td>      <th>                     </th>     <td> </td>   \n",
              "</tr>\n",
              "<tr>\n",
              "  <th>Covariance Type:</th>      <td>nonrobust</td>    <th>                     </th>     <td> </td>   \n",
              "</tr>\n",
              "</table>\n",
              "<table class=\"simpletable\">\n",
              "<tr>\n",
              "    <td></td>       <th>coef</th>     <th>std err</th>      <th>t</th>      <th>P>|t|</th>  <th>[0.025</th>    <th>0.975]</th>  \n",
              "</tr>\n",
              "<tr>\n",
              "  <th>const</th> <td> 1031.2518</td> <td>  213.831</td> <td>    4.823</td> <td> 0.000</td> <td>  610.555</td> <td> 1451.949</td>\n",
              "</tr>\n",
              "<tr>\n",
              "  <th>x1</th>    <td>    1.2456</td> <td>    0.092</td> <td>   13.609</td> <td> 0.000</td> <td>    1.066</td> <td>    1.426</td>\n",
              "</tr>\n",
              "</table>\n",
              "<table class=\"simpletable\">\n",
              "<tr>\n",
              "  <th>Omnibus:</th>       <td>86.594</td> <th>  Durbin-Watson:     </th> <td>   2.127</td> \n",
              "</tr>\n",
              "<tr>\n",
              "  <th>Prob(Omnibus):</th> <td> 0.000</td> <th>  Jarque-Bera (JB):  </th> <td> 566.118</td> \n",
              "</tr>\n",
              "<tr>\n",
              "  <th>Skew:</th>          <td> 0.927</td> <th>  Prob(JB):          </th> <td>1.17e-123</td>\n",
              "</tr>\n",
              "<tr>\n",
              "  <th>Kurtosis:</th>      <td> 9.236</td> <th>  Cond. No.          </th> <td>5.52e+03</td> \n",
              "</tr>\n",
              "</table><br/><br/>Warnings:<br/>[1] Standard Errors assume that the covariance matrix of the errors is correctly specified.<br/>[2] The condition number is large, 5.52e+03. This might indicate that there are<br/>strong multicollinearity or other numerical problems."
            ],
            "text/plain": [
              "<class 'statsmodels.iolib.summary.Summary'>\n",
              "\"\"\"\n",
              "                            OLS Regression Results                            \n",
              "==============================================================================\n",
              "Dep. Variable:                      y   R-squared:                       0.367\n",
              "Model:                            OLS   Adj. R-squared:                  0.365\n",
              "Method:                 Least Squares   F-statistic:                     185.2\n",
              "Date:                Thu, 01 Oct 2020   Prob (F-statistic):           1.42e-33\n",
              "Time:                        03:24:45   Log-Likelihood:                -2827.1\n",
              "No. Observations:                 321   AIC:                             5658.\n",
              "Df Residuals:                     319   BIC:                             5666.\n",
              "Df Model:                           1                                         \n",
              "Covariance Type:            nonrobust                                         \n",
              "==============================================================================\n",
              "                 coef    std err          t      P>|t|      [0.025      0.975]\n",
              "------------------------------------------------------------------------------\n",
              "const       1031.2518    213.831      4.823      0.000     610.555    1451.949\n",
              "x1             1.2456      0.092     13.609      0.000       1.066       1.426\n",
              "==============================================================================\n",
              "Omnibus:                       86.594   Durbin-Watson:                   2.127\n",
              "Prob(Omnibus):                  0.000   Jarque-Bera (JB):              566.118\n",
              "Skew:                           0.927   Prob(JB):                    1.17e-123\n",
              "Kurtosis:                       9.236   Cond. No.                     5.52e+03\n",
              "==============================================================================\n",
              "\n",
              "Warnings:\n",
              "[1] Standard Errors assume that the covariance matrix of the errors is correctly specified.\n",
              "[2] The condition number is large, 5.52e+03. This might indicate that there are\n",
              "strong multicollinearity or other numerical problems.\n",
              "\"\"\""
            ]
          },
          "metadata": {
            "tags": []
          },
          "execution_count": 99
        }
      ]
    },
    {
      "cell_type": "code",
      "metadata": {
        "id": "FxNSv4QALM3n"
      },
      "source": [
        "model2...."
      ],
      "execution_count": null,
      "outputs": []
    },
    {
      "cell_type": "markdown",
      "metadata": {
        "id": "CetAJssoLc9a"
      },
      "source": [
        "# Make an influence plot for each of the 2 models following the notebook in class. \n",
        "https://github.com/fedhere/PUS2020_FBianco/blob/master/classdemo/linear_regression_in_detail.ipynb\n",
        "\n",
        "Interpret it based on the slides and the notebook info\n",
        "---\n",
        "\n"
      ]
    },
    {
      "cell_type": "code",
      "metadata": {
        "id": "uYZeFtQXNWEa"
      },
      "source": [
        "..."
      ],
      "execution_count": null,
      "outputs": []
    },
    {
      "cell_type": "markdown",
      "metadata": {
        "id": "gZ1kNedsNqLJ"
      },
      "source": [
        "# Compare the models with the Likelihood Ratio test (follow example in class)\n"
      ]
    },
    {
      "cell_type": "code",
      "metadata": {
        "id": "DMff_toaNowm"
      },
      "source": [
        "..."
      ],
      "execution_count": null,
      "outputs": []
    },
    {
      "cell_type": "markdown",
      "metadata": {
        "id": "TX3fzlo4NXyJ"
      },
      "source": [
        "\n",
        "# Discuss your model: what it means mathematically and what it means in practice\n",
        "\n",
        "You must discuss the model on the basis of the model summary (R squared, adjusted R squared, p-values for the coefficients etc)\n",
        "\n",
        "You must discuss the influence plot on the basis of the lecture discussion and of the reading\n",
        "\n",
        "You must assess wheather the more complex model is better"
      ]
    },
    {
      "cell_type": "markdown",
      "metadata": {
        "id": "ZczH4q6fXCX-"
      },
      "source": [
        "# Extra Credit: Collect any other variable about Delaware that you think may be relevant to predit turn out and fit a line model using that as an exogenous variable.\n",
        "\n",
        "You have a few options here: \n",
        "- dig for some other variable that is available at the electoral precinct level \n",
        "- get a variable at the county level , which means that the endogenous variable (votes) will be far more granular than the exogenous one... how would you deal with it?\n",
        "- get a variable at a hith resolution geomeetry, such as census block or census tract, and merge the geometry. This is the hardest option. The Census bureau offers advise on conversion between geometries\n",
        "\n",
        "Discuss your model: what it means mathematically and what it means in practice\n"
      ]
    }
  ]
}
