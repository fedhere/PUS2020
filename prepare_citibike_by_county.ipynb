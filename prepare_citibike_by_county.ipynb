{
  "nbformat": 4,
  "nbformat_minor": 0,
  "metadata": {
    "kernelspec": {
      "display_name": "Py3 + geopandas",
      "language": "python",
      "name": "gpd"
    },
    "language_info": {
      "codemirror_mode": {
        "name": "ipython",
        "version": 3
      },
      "file_extension": ".py",
      "mimetype": "text/x-python",
      "name": "python",
      "nbconvert_exporter": "python",
      "pygments_lexer": "ipython3",
      "version": "3.6.6"
    },
    "colab": {
      "name": "prepare_citibike_by_county.ipynb",
      "provenance": [],
      "collapsed_sections": [
        "3MEgOPvYPWuI",
        "sFjx_F0aPWuO",
        "E_bn9OiAPWuQ",
        "EZ-k21oTPWuW",
        "wG8muz_PPWuZ",
        "fl0lhjMSPWuh",
        "C2NVyWp9PWum",
        "TomeZAHpPWuq",
        "Fr-jed7SPWuv",
        "GO7vemccPWux",
        "qeh3Kfb8PWu3",
        "bNYvCHSaPWu5",
        "Gt5N_D62PWu_",
        "izlbvylgPWvS",
        "Ky_3-LVdPWvT"
      ],
      "include_colab_link": true
    }
  },
  "cells": [
    {
      "cell_type": "markdown",
      "metadata": {
        "id": "view-in-github",
        "colab_type": "text"
      },
      "source": [
        "<a href=\"https://colab.research.google.com/github/fedhere/PUS2020_FBianco/blob/master/prepare_citibike_by_county.ipynb\" target=\"_parent\"><img src=\"https://colab.research.google.com/assets/colab-badge.svg\" alt=\"Open In Colab\"/></a>"
      ]
    },
    {
      "cell_type": "code",
      "metadata": {
        "id": "MHC7ff3hcfZg"
      },
      "source": [
        ""
      ],
      "execution_count": null,
      "outputs": []
    },
    {
      "cell_type": "markdown",
      "metadata": {
        "id": "Z17AM922PWs1"
      },
      "source": [
        "# reproducible Spatial Data Analysis with pandas\n",
        "Exploratory spatial data analysis of CitiBike data using pysal and geopandas\n",
        "\n",
        "N.B. This workbook is based on one by SRK325. Choropleths and spatial join sections added by CMP670."
      ]
    },
    {
      "cell_type": "markdown",
      "metadata": {
        "id": "aNEYzn2KPWs9"
      },
      "source": [
        "## Import initial libraries"
      ]
    },
    {
      "cell_type": "code",
      "metadata": {
        "id": "5kv8_CB0PWs-"
      },
      "source": [
        "%matplotlib inline\n",
        "import numpy as np\n",
        "import pandas as pd\n",
        "from pandas import DataFrame\n",
        "import matplotlib.pylab as plt\n",
        "try:\n",
        "    import ipywidgets as widgets\n",
        "    hasWidgets = True\n",
        "except ImportError:\n",
        "    hasWidgets = False\n"
      ],
      "execution_count": 1,
      "outputs": []
    },
    {
      "cell_type": "code",
      "metadata": {
        "id": "nQuFf4RISc_7",
        "outputId": "b84a5c5c-1164-490e-a5e7-6d9b18b008f3",
        "colab": {
          "base_uri": "https://localhost:8080/",
          "height": 443
        }
      },
      "source": [
        "!pip install geopandas"
      ],
      "execution_count": 2,
      "outputs": [
        {
          "output_type": "stream",
          "text": [
            "Collecting geopandas\n",
            "\u001b[?25l  Downloading https://files.pythonhosted.org/packages/f7/a4/e66aafbefcbb717813bf3a355c8c4fc3ed04ea1dd7feb2920f2f4f868921/geopandas-0.8.1-py2.py3-none-any.whl (962kB)\n",
            "\u001b[K     |████████████████████████████████| 972kB 2.7MB/s \n",
            "\u001b[?25hCollecting fiona\n",
            "\u001b[?25l  Downloading https://files.pythonhosted.org/packages/36/8b/e8b2c11bed5373c8e98edb85ce891b09aa1f4210fd451d0fb3696b7695a2/Fiona-1.8.17-cp36-cp36m-manylinux1_x86_64.whl (14.8MB)\n",
            "\u001b[K     |████████████████████████████████| 14.8MB 283kB/s \n",
            "\u001b[?25hRequirement already satisfied: pandas>=0.23.0 in /usr/local/lib/python3.6/dist-packages (from geopandas) (1.1.2)\n",
            "Collecting pyproj>=2.2.0\n",
            "\u001b[?25l  Downloading https://files.pythonhosted.org/packages/e5/c3/071e080230ac4b6c64f1a2e2f9161c9737a2bc7b683d2c90b024825000c0/pyproj-2.6.1.post1-cp36-cp36m-manylinux2010_x86_64.whl (10.9MB)\n",
            "\u001b[K     |████████████████████████████████| 10.9MB 34.9MB/s \n",
            "\u001b[?25hRequirement already satisfied: shapely in /usr/local/lib/python3.6/dist-packages (from geopandas) (1.7.1)\n",
            "Requirement already satisfied: click<8,>=4.0 in /usr/local/lib/python3.6/dist-packages (from fiona->geopandas) (7.1.2)\n",
            "Collecting munch\n",
            "  Downloading https://files.pythonhosted.org/packages/cc/ab/85d8da5c9a45e072301beb37ad7f833cd344e04c817d97e0cc75681d248f/munch-2.5.0-py2.py3-none-any.whl\n",
            "Collecting click-plugins>=1.0\n",
            "  Downloading https://files.pythonhosted.org/packages/e9/da/824b92d9942f4e472702488857914bdd50f73021efea15b4cad9aca8ecef/click_plugins-1.1.1-py2.py3-none-any.whl\n",
            "Requirement already satisfied: attrs>=17 in /usr/local/lib/python3.6/dist-packages (from fiona->geopandas) (20.2.0)\n",
            "Collecting cligj>=0.5\n",
            "  Downloading https://files.pythonhosted.org/packages/e4/be/30a58b4b0733850280d01f8bd132591b4668ed5c7046761098d665ac2174/cligj-0.5.0-py3-none-any.whl\n",
            "Requirement already satisfied: six>=1.7 in /usr/local/lib/python3.6/dist-packages (from fiona->geopandas) (1.15.0)\n",
            "Requirement already satisfied: python-dateutil>=2.7.3 in /usr/local/lib/python3.6/dist-packages (from pandas>=0.23.0->geopandas) (2.8.1)\n",
            "Requirement already satisfied: pytz>=2017.2 in /usr/local/lib/python3.6/dist-packages (from pandas>=0.23.0->geopandas) (2018.9)\n",
            "Requirement already satisfied: numpy>=1.15.4 in /usr/local/lib/python3.6/dist-packages (from pandas>=0.23.0->geopandas) (1.18.5)\n",
            "Installing collected packages: munch, click-plugins, cligj, fiona, pyproj, geopandas\n",
            "Successfully installed click-plugins-1.1.1 cligj-0.5.0 fiona-1.8.17 geopandas-0.8.1 munch-2.5.0 pyproj-2.6.1.post1\n"
          ],
          "name": "stdout"
        }
      ]
    },
    {
      "cell_type": "code",
      "metadata": {
        "id": "XoDih6N0jHFt",
        "outputId": "0e2c767b-7168-4063-b2ad-96537ebad10f",
        "colab": {
          "base_uri": "https://localhost:8080/",
          "height": 732
        }
      },
      "source": [
        "!apt install python3-rtree \n"
      ],
      "execution_count": 3,
      "outputs": [
        {
          "output_type": "stream",
          "text": [
            "Reading package lists... Done\n",
            "Building dependency tree       \n",
            "Reading state information... Done\n",
            "The following additional packages will be installed:\n",
            "  libspatialindex-c4v5 libspatialindex-dev libspatialindex4v5\n",
            "  python3-pkg-resources\n",
            "Suggested packages:\n",
            "  python3-setuptools\n",
            "The following NEW packages will be installed:\n",
            "  libspatialindex-c4v5 libspatialindex-dev libspatialindex4v5\n",
            "  python3-pkg-resources python3-rtree\n",
            "0 upgraded, 5 newly installed, 0 to remove and 6 not upgraded.\n",
            "Need to get 671 kB of archives.\n",
            "After this operation, 3,948 kB of additional disk space will be used.\n",
            "Get:1 http://archive.ubuntu.com/ubuntu bionic/universe amd64 libspatialindex4v5 amd64 1.8.5-5 [219 kB]\n",
            "Get:2 http://archive.ubuntu.com/ubuntu bionic/universe amd64 libspatialindex-c4v5 amd64 1.8.5-5 [51.7 kB]\n",
            "Get:3 http://archive.ubuntu.com/ubuntu bionic/main amd64 python3-pkg-resources all 39.0.1-2 [98.8 kB]\n",
            "Get:4 http://archive.ubuntu.com/ubuntu bionic/universe amd64 libspatialindex-dev amd64 1.8.5-5 [285 kB]\n",
            "Get:5 http://archive.ubuntu.com/ubuntu bionic/universe amd64 python3-rtree all 0.8.3+ds-1 [16.9 kB]\n",
            "Fetched 671 kB in 1s (820 kB/s)\n",
            "Selecting previously unselected package libspatialindex4v5:amd64.\n",
            "(Reading database ... 144617 files and directories currently installed.)\n",
            "Preparing to unpack .../libspatialindex4v5_1.8.5-5_amd64.deb ...\n",
            "Unpacking libspatialindex4v5:amd64 (1.8.5-5) ...\n",
            "Selecting previously unselected package libspatialindex-c4v5:amd64.\n",
            "Preparing to unpack .../libspatialindex-c4v5_1.8.5-5_amd64.deb ...\n",
            "Unpacking libspatialindex-c4v5:amd64 (1.8.5-5) ...\n",
            "Selecting previously unselected package python3-pkg-resources.\n",
            "Preparing to unpack .../python3-pkg-resources_39.0.1-2_all.deb ...\n",
            "Unpacking python3-pkg-resources (39.0.1-2) ...\n",
            "Selecting previously unselected package libspatialindex-dev:amd64.\n",
            "Preparing to unpack .../libspatialindex-dev_1.8.5-5_amd64.deb ...\n",
            "Unpacking libspatialindex-dev:amd64 (1.8.5-5) ...\n",
            "Selecting previously unselected package python3-rtree.\n",
            "Preparing to unpack .../python3-rtree_0.8.3+ds-1_all.deb ...\n",
            "Unpacking python3-rtree (0.8.3+ds-1) ...\n",
            "Setting up libspatialindex4v5:amd64 (1.8.5-5) ...\n",
            "Setting up python3-pkg-resources (39.0.1-2) ...\n",
            "Setting up libspatialindex-c4v5:amd64 (1.8.5-5) ...\n",
            "Setting up libspatialindex-dev:amd64 (1.8.5-5) ...\n",
            "Setting up python3-rtree (0.8.3+ds-1) ...\n",
            "Processing triggers for libc-bin (2.27-3ubuntu1.2) ...\n",
            "/sbin/ldconfig.real: /usr/local/lib/python3.6/dist-packages/ideep4py/lib/libmkldnn.so.0 is not a symbolic link\n",
            "\n"
          ],
          "name": "stdout"
        }
      ]
    },
    {
      "cell_type": "code",
      "metadata": {
        "id": "88G3w3vTSHsV"
      },
      "source": [
        "import geopandas as gpd"
      ],
      "execution_count": 4,
      "outputs": []
    },
    {
      "cell_type": "code",
      "metadata": {
        "id": "nv99vYI1Yn2m",
        "outputId": "fdaf41a1-e415-4951-e4ad-2b4563e54c74",
        "colab": {
          "base_uri": "https://localhost:8080/",
          "height": 363
        }
      },
      "source": [
        "!pip install -U --no-deps mapclassify git+git://github.com/geopandas/geopandas.git@master\n"
      ],
      "execution_count": 5,
      "outputs": [
        {
          "output_type": "stream",
          "text": [
            "Collecting git+git://github.com/geopandas/geopandas.git@master\n",
            "  Cloning git://github.com/geopandas/geopandas.git (to revision master) to /tmp/pip-req-build-t4bsfcuv\n",
            "  Running command git clone -q git://github.com/geopandas/geopandas.git /tmp/pip-req-build-t4bsfcuv\n",
            "Collecting mapclassify\n",
            "  Downloading https://files.pythonhosted.org/packages/11/80/cd58dc848a93bfb01c4b84f26e3d5d6c64266163ca1e2453c3f6fb291ef7/mapclassify-2.3.0-py3-none-any.whl\n",
            "Building wheels for collected packages: geopandas\n",
            "  Building wheel for geopandas (setup.py) ... \u001b[?25l\u001b[?25hdone\n",
            "  Created wheel for geopandas: filename=geopandas-0.8.0+52.g7e595d0-py2.py3-none-any.whl size=969239 sha256=26f3e947279e4f8d25005ede3c1e2a863eb7462c70015e9174a1d73f6330f948\n",
            "  Stored in directory: /tmp/pip-ephem-wheel-cache-l5ijp9iy/wheels/1e/57/dc/7a5ea8503aefb23576c42181adfca7fc173fde5b71900660bc\n",
            "Successfully built geopandas\n",
            "Installing collected packages: mapclassify, geopandas\n",
            "  Found existing installation: geopandas 0.8.1\n",
            "    Uninstalling geopandas-0.8.1:\n",
            "      Successfully uninstalled geopandas-0.8.1\n",
            "Successfully installed geopandas-0.8.0+52.g7e595d0 mapclassify-2.3.0\n"
          ],
          "name": "stdout"
        },
        {
          "output_type": "display_data",
          "data": {
            "application/vnd.colab-display-data+json": {
              "pip_warning": {
                "packages": [
                  "geopandas"
                ]
              }
            }
          },
          "metadata": {
            "tags": []
          }
        }
      ]
    },
    {
      "cell_type": "markdown",
      "metadata": {
        "id": "gYsvd_5OSUxW"
      },
      "source": [
        "## Loading a shape file after you save it in your drive\n",
        "I already saved it in the shared drive PUS2020 that you all have access to"
      ]
    },
    {
      "cell_type": "code",
      "metadata": {
        "id": "AV0tIAOJUS0s",
        "outputId": "39b4dc4e-7fbf-4310-8a19-14a34966a789",
        "colab": {
          "base_uri": "https://localhost:8080/",
          "height": 33
        }
      },
      "source": [
        "from google.colab import drive\n",
        "drive.mount(\"/content/drive\")\n"
      ],
      "execution_count": 6,
      "outputs": [
        {
          "output_type": "stream",
          "text": [
            "Mounted at /content/drive\n"
          ],
          "name": "stdout"
        }
      ]
    },
    {
      "cell_type": "code",
      "metadata": {
        "id": "4jIGVfTNU5GV",
        "outputId": "31d9b2e1-b7db-4e33-d7d3-dcdc61e8e536",
        "colab": {
          "base_uri": "https://localhost:8080/",
          "height": 33
        }
      },
      "source": [
        "cd /content/drive/Shared\\ drives/PUS2020"
      ],
      "execution_count": 7,
      "outputs": [
        {
          "output_type": "stream",
          "text": [
            "/content/drive/Shared drives/PUS2020\n"
          ],
          "name": "stdout"
        }
      ]
    },
    {
      "cell_type": "code",
      "metadata": {
        "id": "5jzYURCqVHJh",
        "outputId": "f1eed27f-4811-4d0e-d750-81d933729127",
        "colab": {
          "base_uri": "https://localhost:8080/",
          "height": 570
        }
      },
      "source": [
        "ls data"
      ],
      "execution_count": 8,
      "outputs": [
        {
          "output_type": "stream",
          "text": [
            "\u001b[0m\u001b[01;34m'2010 Census Tracts'\u001b[0m/\n",
            " 201903-citibike-tripdata.csv.zip\n",
            " 201904-citibike-tripdata.csv.zip\n",
            " 201905-citibike-tripdata.csv.zip\n",
            " 201906-citibike-tripdata.csv.zip\n",
            " 202003-citibike-tripdata.csv.zip\n",
            " 202004-citibike-tripdata.csv.zip\n",
            " 202005-citibike-tripdata.csv.zip\n",
            " 202006-citibike-tripdata.csv.zip\n",
            " arrest_data_daily_by_zip.csv\n",
            " \u001b[01;34mcitibike\u001b[0m/\n",
            " citibikes_monthly.csv\n",
            " \u001b[01;34mLongitude_Graticules_and_World_Countries_Boundaries-shp\u001b[0m/\n",
            " MapPLUTO.cpg\n",
            " MapPLUTO.dbf\n",
            " MapPLUTO.prj\n",
            " MapPLUTO.sbn\n",
            " MapPLUTO.sbx\n",
            " MapPLUTO.shp\n",
            " MapPLUTO.shp.xml\n",
            " MapPLUTO.shx\n",
            " MNMapPLUTO.dbf\n",
            " MNMapPLUTO.prj\n",
            " MNMapPLUTO.sbn\n",
            " MNMapPLUTO.sbx\n",
            " MNMapPLUTO.shp\n",
            " MNMapPLUTO.shp.xml\n",
            " MNMapPLUTO.shx\n",
            " \u001b[01;34mnatural_earth_vector\u001b[0m/\n",
            " PLUTODD20v5.pdf\n",
            " PlutoReadme20v5.pdf\n",
            " PPR_Properties.csv\n",
            " Varnamesnlabels_m2ihip_R.xlsx\n",
            " Varnamesnlabels_m2ihip.xlsx\n"
          ],
          "name": "stdout"
        }
      ]
    },
    {
      "cell_type": "code",
      "metadata": {
        "id": "rbISa2kEVMW5",
        "outputId": "9243c678-6eda-4e08-834c-fcb5cab28272",
        "colab": {
          "base_uri": "https://localhost:8080/",
          "height": 82
        }
      },
      "source": [
        "ls \"data/2010 Census Tracts\""
      ],
      "execution_count": 9,
      "outputs": [
        {
          "output_type": "stream",
          "text": [
            "geo_export_342ef674-8015-48e8-b6a4-611ab0993e4f.dbf\n",
            "geo_export_342ef674-8015-48e8-b6a4-611ab0993e4f.prj\n",
            "geo_export_342ef674-8015-48e8-b6a4-611ab0993e4f.shp\n",
            "geo_export_342ef674-8015-48e8-b6a4-611ab0993e4f.shx\n"
          ],
          "name": "stdout"
        }
      ]
    },
    {
      "cell_type": "code",
      "metadata": {
        "id": "ZJcQMvVRPWtB",
        "outputId": "8d9848eb-5b6d-4751-a44d-ae54668adbf5",
        "colab": {
          "base_uri": "https://localhost:8080/",
          "height": 516
        }
      },
      "source": [
        "shape_path = \"data/2010 Census Tracts/geo_export_342ef674-8015-48e8-b6a4-611ab0993e4f.shp\"\n",
        "ct_shape = gpd.GeoDataFrame.from_file(shape_path)\n",
        "ct_shape.head()"
      ],
      "execution_count": 10,
      "outputs": [
        {
          "output_type": "execute_result",
          "data": {
            "text/html": [
              "<div>\n",
              "<style scoped>\n",
              "    .dataframe tbody tr th:only-of-type {\n",
              "        vertical-align: middle;\n",
              "    }\n",
              "\n",
              "    .dataframe tbody tr th {\n",
              "        vertical-align: top;\n",
              "    }\n",
              "\n",
              "    .dataframe thead th {\n",
              "        text-align: right;\n",
              "    }\n",
              "</style>\n",
              "<table border=\"1\" class=\"dataframe\">\n",
              "  <thead>\n",
              "    <tr style=\"text-align: right;\">\n",
              "      <th></th>\n",
              "      <th>boro_code</th>\n",
              "      <th>boro_ct201</th>\n",
              "      <th>boro_name</th>\n",
              "      <th>cdeligibil</th>\n",
              "      <th>ct2010</th>\n",
              "      <th>ctlabel</th>\n",
              "      <th>ntacode</th>\n",
              "      <th>ntaname</th>\n",
              "      <th>puma</th>\n",
              "      <th>shape_area</th>\n",
              "      <th>shape_leng</th>\n",
              "      <th>geometry</th>\n",
              "    </tr>\n",
              "  </thead>\n",
              "  <tbody>\n",
              "    <tr>\n",
              "      <th>0</th>\n",
              "      <td>5</td>\n",
              "      <td>5000900</td>\n",
              "      <td>Staten Island</td>\n",
              "      <td>E</td>\n",
              "      <td>000900</td>\n",
              "      <td>9</td>\n",
              "      <td>SI22</td>\n",
              "      <td>West New Brighton-New Brighton-St. George</td>\n",
              "      <td>3903</td>\n",
              "      <td>2.497010e+06</td>\n",
              "      <td>7729.016794</td>\n",
              "      <td>POLYGON ((-74.07921 40.64343, -74.07914 40.643...</td>\n",
              "    </tr>\n",
              "    <tr>\n",
              "      <th>1</th>\n",
              "      <td>1</td>\n",
              "      <td>1009800</td>\n",
              "      <td>Manhattan</td>\n",
              "      <td>I</td>\n",
              "      <td>009800</td>\n",
              "      <td>98</td>\n",
              "      <td>MN19</td>\n",
              "      <td>Turtle Bay-East Midtown</td>\n",
              "      <td>3808</td>\n",
              "      <td>1.906016e+06</td>\n",
              "      <td>5534.199811</td>\n",
              "      <td>POLYGON ((-73.96433 40.75638, -73.96479 40.755...</td>\n",
              "    </tr>\n",
              "    <tr>\n",
              "      <th>2</th>\n",
              "      <td>1</td>\n",
              "      <td>1010000</td>\n",
              "      <td>Manhattan</td>\n",
              "      <td>I</td>\n",
              "      <td>010000</td>\n",
              "      <td>100</td>\n",
              "      <td>MN19</td>\n",
              "      <td>Turtle Bay-East Midtown</td>\n",
              "      <td>3808</td>\n",
              "      <td>1.860938e+06</td>\n",
              "      <td>5692.168737</td>\n",
              "      <td>POLYGON ((-73.96802 40.75958, -73.96848 40.758...</td>\n",
              "    </tr>\n",
              "    <tr>\n",
              "      <th>3</th>\n",
              "      <td>1</td>\n",
              "      <td>1010200</td>\n",
              "      <td>Manhattan</td>\n",
              "      <td>I</td>\n",
              "      <td>010200</td>\n",
              "      <td>102</td>\n",
              "      <td>MN17</td>\n",
              "      <td>Midtown-Midtown South</td>\n",
              "      <td>3807</td>\n",
              "      <td>1.860993e+06</td>\n",
              "      <td>5687.802439</td>\n",
              "      <td>POLYGON ((-73.97124 40.76094, -73.97170 40.760...</td>\n",
              "    </tr>\n",
              "    <tr>\n",
              "      <th>4</th>\n",
              "      <td>1</td>\n",
              "      <td>1010400</td>\n",
              "      <td>Manhattan</td>\n",
              "      <td>I</td>\n",
              "      <td>010400</td>\n",
              "      <td>104</td>\n",
              "      <td>MN17</td>\n",
              "      <td>Midtown-Midtown South</td>\n",
              "      <td>3807</td>\n",
              "      <td>1.864600e+06</td>\n",
              "      <td>5693.036367</td>\n",
              "      <td>POLYGON ((-73.97446 40.76229, -73.97491 40.761...</td>\n",
              "    </tr>\n",
              "  </tbody>\n",
              "</table>\n",
              "</div>"
            ],
            "text/plain": [
              "  boro_code  ...                                           geometry\n",
              "0         5  ...  POLYGON ((-74.07921 40.64343, -74.07914 40.643...\n",
              "1         1  ...  POLYGON ((-73.96433 40.75638, -73.96479 40.755...\n",
              "2         1  ...  POLYGON ((-73.96802 40.75958, -73.96848 40.758...\n",
              "3         1  ...  POLYGON ((-73.97124 40.76094, -73.97170 40.760...\n",
              "4         1  ...  POLYGON ((-73.97446 40.76229, -73.97491 40.761...\n",
              "\n",
              "[5 rows x 12 columns]"
            ]
          },
          "metadata": {
            "tags": []
          },
          "execution_count": 10
        }
      ]
    },
    {
      "cell_type": "code",
      "metadata": {
        "id": "7zpQgLOHVka4",
        "outputId": "d325de8f-5a91-4f38-c7cd-54661dec0bce",
        "colab": {
          "base_uri": "https://localhost:8080/",
          "height": 277
        }
      },
      "source": [
        "ct_shape.describe()"
      ],
      "execution_count": 11,
      "outputs": [
        {
          "output_type": "execute_result",
          "data": {
            "text/html": [
              "<div>\n",
              "<style scoped>\n",
              "    .dataframe tbody tr th:only-of-type {\n",
              "        vertical-align: middle;\n",
              "    }\n",
              "\n",
              "    .dataframe tbody tr th {\n",
              "        vertical-align: top;\n",
              "    }\n",
              "\n",
              "    .dataframe thead th {\n",
              "        text-align: right;\n",
              "    }\n",
              "</style>\n",
              "<table border=\"1\" class=\"dataframe\">\n",
              "  <thead>\n",
              "    <tr style=\"text-align: right;\">\n",
              "      <th></th>\n",
              "      <th>shape_area</th>\n",
              "      <th>shape_leng</th>\n",
              "    </tr>\n",
              "  </thead>\n",
              "  <tbody>\n",
              "    <tr>\n",
              "      <th>count</th>\n",
              "      <td>2.165000e+03</td>\n",
              "      <td>2165.000000</td>\n",
              "    </tr>\n",
              "    <tr>\n",
              "      <th>mean</th>\n",
              "      <td>3.891504e+06</td>\n",
              "      <td>8727.346925</td>\n",
              "    </tr>\n",
              "    <tr>\n",
              "      <th>std</th>\n",
              "      <td>7.952934e+06</td>\n",
              "      <td>8421.790925</td>\n",
              "    </tr>\n",
              "    <tr>\n",
              "      <th>min</th>\n",
              "      <td>4.478076e+05</td>\n",
              "      <td>2816.869532</td>\n",
              "    </tr>\n",
              "    <tr>\n",
              "      <th>25%</th>\n",
              "      <td>1.683689e+06</td>\n",
              "      <td>5622.863766</td>\n",
              "    </tr>\n",
              "    <tr>\n",
              "      <th>50%</th>\n",
              "      <td>1.987938e+06</td>\n",
              "      <td>6496.952057</td>\n",
              "    </tr>\n",
              "    <tr>\n",
              "      <th>75%</th>\n",
              "      <td>3.192228e+06</td>\n",
              "      <td>8734.805687</td>\n",
              "    </tr>\n",
              "    <tr>\n",
              "      <th>max</th>\n",
              "      <td>1.966297e+08</td>\n",
              "      <td>182384.827557</td>\n",
              "    </tr>\n",
              "  </tbody>\n",
              "</table>\n",
              "</div>"
            ],
            "text/plain": [
              "         shape_area     shape_leng\n",
              "count  2.165000e+03    2165.000000\n",
              "mean   3.891504e+06    8727.346925\n",
              "std    7.952934e+06    8421.790925\n",
              "min    4.478076e+05    2816.869532\n",
              "25%    1.683689e+06    5622.863766\n",
              "50%    1.987938e+06    6496.952057\n",
              "75%    3.192228e+06    8734.805687\n",
              "max    1.966297e+08  182384.827557"
            ]
          },
          "metadata": {
            "tags": []
          },
          "execution_count": 11
        }
      ]
    },
    {
      "cell_type": "markdown",
      "metadata": {
        "id": "o6JbLGzePWtD"
      },
      "source": [
        "# Coordinate systems, projections, and transformations "
      ]
    },
    {
      "cell_type": "markdown",
      "metadata": {
        "id": "PMnQTCmBV2hB"
      },
      "source": [
        "conver to EPSG 2263 which is coordinated in feet, instead of lat long degrees\n",
        "\n",
        "extract the area of each gemetry : the geometry column has many relevant methods\n",
        "\n",
        "calculate the total area in miles squared. the feet to meter conversion is here \n",
        "https://www.google.com/search?sxsrf=ALeKk03B4ThQrJJXpFzoCrgRfrJ1nByPMg%3A1600870977934&ei=QVprX9muOIOl_QbOtaOwCQ&q=feet+to+mile&oq=feet+to+mile&gs_lcp=CgZwc3ktYWIQAzIICAAQsQMQkQIyAggAMgIIADICCAAyAggAMgIIADICCAAyAggAMgIIADICCAA6BAgAEEc6BAgjECc6BQgAELEDOgoIABCxAxAUEIcCUM_1AVjK-AFgzPoBaABwAngAgAFkiAHvApIBAzMuMZgBAKABAaoBB2d3cy13aXrIAQjAAQE&sclient=psy-ab&ved=0ahUKEwiZ0-GPvf_rAhWDUt8KHc7aCJYQ4dUDCA0&uact=5\n",
        "\n",
        "can you do it in 1 line?"
      ]
    },
    {
      "cell_type": "code",
      "metadata": {
        "id": "czAKhtoqmtJt"
      },
      "source": [
        "from fiona.crs import from_epsg\n"
      ],
      "execution_count": 12,
      "outputs": []
    },
    {
      "cell_type": "markdown",
      "metadata": {
        "id": "HWNDsJEpPWtd"
      },
      "source": [
        "# Explore CitiBike data"
      ]
    },
    {
      "cell_type": "markdown",
      "metadata": {
        "id": "iGCz2zjBPWtd"
      },
      "source": [
        "### Load CitiBike data"
      ]
    },
    {
      "cell_type": "code",
      "metadata": {
        "id": "ZMBcCI7bPWtd",
        "outputId": "769199fb-0057-4acc-bed7-15f106cbedf9",
        "colab": {
          "base_uri": "https://localhost:8080/",
          "height": 451
        }
      },
      "source": [
        "cb201309 = pd.read_csv('https://s3.amazonaws.com/tripdata/201309-citibike-tripdata.zip', index_col='starttime')\n",
        "cb201309.head()"
      ],
      "execution_count": 13,
      "outputs": [
        {
          "output_type": "execute_result",
          "data": {
            "text/html": [
              "<div>\n",
              "<style scoped>\n",
              "    .dataframe tbody tr th:only-of-type {\n",
              "        vertical-align: middle;\n",
              "    }\n",
              "\n",
              "    .dataframe tbody tr th {\n",
              "        vertical-align: top;\n",
              "    }\n",
              "\n",
              "    .dataframe thead th {\n",
              "        text-align: right;\n",
              "    }\n",
              "</style>\n",
              "<table border=\"1\" class=\"dataframe\">\n",
              "  <thead>\n",
              "    <tr style=\"text-align: right;\">\n",
              "      <th></th>\n",
              "      <th>tripduration</th>\n",
              "      <th>stoptime</th>\n",
              "      <th>start station id</th>\n",
              "      <th>start station name</th>\n",
              "      <th>start station latitude</th>\n",
              "      <th>start station longitude</th>\n",
              "      <th>end station id</th>\n",
              "      <th>end station name</th>\n",
              "      <th>end station latitude</th>\n",
              "      <th>end station longitude</th>\n",
              "      <th>bikeid</th>\n",
              "      <th>usertype</th>\n",
              "      <th>birth year</th>\n",
              "      <th>gender</th>\n",
              "    </tr>\n",
              "    <tr>\n",
              "      <th>starttime</th>\n",
              "      <th></th>\n",
              "      <th></th>\n",
              "      <th></th>\n",
              "      <th></th>\n",
              "      <th></th>\n",
              "      <th></th>\n",
              "      <th></th>\n",
              "      <th></th>\n",
              "      <th></th>\n",
              "      <th></th>\n",
              "      <th></th>\n",
              "      <th></th>\n",
              "      <th></th>\n",
              "      <th></th>\n",
              "    </tr>\n",
              "  </thead>\n",
              "  <tbody>\n",
              "    <tr>\n",
              "      <th>2013-09-01 00:00:02</th>\n",
              "      <td>1010</td>\n",
              "      <td>2013-09-01 00:16:52</td>\n",
              "      <td>254</td>\n",
              "      <td>W 11 St &amp; 6 Ave</td>\n",
              "      <td>40.735324</td>\n",
              "      <td>-73.998004</td>\n",
              "      <td>147</td>\n",
              "      <td>Greenwich St &amp; Warren St</td>\n",
              "      <td>40.715422</td>\n",
              "      <td>-74.011220</td>\n",
              "      <td>15014</td>\n",
              "      <td>Subscriber</td>\n",
              "      <td>1974</td>\n",
              "      <td>1</td>\n",
              "    </tr>\n",
              "    <tr>\n",
              "      <th>2013-09-01 00:00:09</th>\n",
              "      <td>1443</td>\n",
              "      <td>2013-09-01 00:24:12</td>\n",
              "      <td>151</td>\n",
              "      <td>Cleveland Pl &amp; Spring St</td>\n",
              "      <td>40.721816</td>\n",
              "      <td>-73.997203</td>\n",
              "      <td>497</td>\n",
              "      <td>E 17 St &amp; Broadway</td>\n",
              "      <td>40.737050</td>\n",
              "      <td>-73.990093</td>\n",
              "      <td>19393</td>\n",
              "      <td>Customer</td>\n",
              "      <td>\\N</td>\n",
              "      <td>0</td>\n",
              "    </tr>\n",
              "    <tr>\n",
              "      <th>2013-09-01 00:00:16</th>\n",
              "      <td>1387</td>\n",
              "      <td>2013-09-01 00:23:23</td>\n",
              "      <td>352</td>\n",
              "      <td>W 56 St &amp; 6 Ave</td>\n",
              "      <td>40.763406</td>\n",
              "      <td>-73.977225</td>\n",
              "      <td>405</td>\n",
              "      <td>Washington St &amp; Gansevoort St</td>\n",
              "      <td>40.739323</td>\n",
              "      <td>-74.008119</td>\n",
              "      <td>16160</td>\n",
              "      <td>Subscriber</td>\n",
              "      <td>1992</td>\n",
              "      <td>1</td>\n",
              "    </tr>\n",
              "    <tr>\n",
              "      <th>2013-09-01 00:00:18</th>\n",
              "      <td>405</td>\n",
              "      <td>2013-09-01 00:07:03</td>\n",
              "      <td>490</td>\n",
              "      <td>8 Ave &amp; W 33 St</td>\n",
              "      <td>40.751551</td>\n",
              "      <td>-73.993934</td>\n",
              "      <td>459</td>\n",
              "      <td>W 20 St &amp; 11 Ave</td>\n",
              "      <td>40.746745</td>\n",
              "      <td>-74.007756</td>\n",
              "      <td>14997</td>\n",
              "      <td>Subscriber</td>\n",
              "      <td>1973</td>\n",
              "      <td>1</td>\n",
              "    </tr>\n",
              "    <tr>\n",
              "      <th>2013-09-01 00:00:20</th>\n",
              "      <td>270</td>\n",
              "      <td>2013-09-01 00:04:50</td>\n",
              "      <td>236</td>\n",
              "      <td>St Marks Pl &amp; 2 Ave</td>\n",
              "      <td>40.728419</td>\n",
              "      <td>-73.987140</td>\n",
              "      <td>393</td>\n",
              "      <td>E 5 St &amp; Avenue C</td>\n",
              "      <td>40.722992</td>\n",
              "      <td>-73.979955</td>\n",
              "      <td>19609</td>\n",
              "      <td>Subscriber</td>\n",
              "      <td>1984</td>\n",
              "      <td>1</td>\n",
              "    </tr>\n",
              "  </tbody>\n",
              "</table>\n",
              "</div>"
            ],
            "text/plain": [
              "                     tripduration             stoptime  ...  birth year gender\n",
              "starttime                                               ...                   \n",
              "2013-09-01 00:00:02          1010  2013-09-01 00:16:52  ...        1974      1\n",
              "2013-09-01 00:00:09          1443  2013-09-01 00:24:12  ...          \\N      0\n",
              "2013-09-01 00:00:16          1387  2013-09-01 00:23:23  ...        1992      1\n",
              "2013-09-01 00:00:18           405  2013-09-01 00:07:03  ...        1973      1\n",
              "2013-09-01 00:00:20           270  2013-09-01 00:04:50  ...        1984      1\n",
              "\n",
              "[5 rows x 14 columns]"
            ]
          },
          "metadata": {
            "tags": []
          },
          "execution_count": 13
        }
      ]
    },
    {
      "cell_type": "code",
      "metadata": {
        "id": "vOHVJfeRPWtf"
      },
      "source": [
        "cb201309.index = pd.to_datetime(cb201309.index)"
      ],
      "execution_count": 14,
      "outputs": []
    },
    {
      "cell_type": "markdown",
      "metadata": {
        "id": "oAGVYUUyPWtn"
      },
      "source": [
        "## Map CitiBike Data to CT level"
      ]
    },
    {
      "cell_type": "markdown",
      "metadata": {
        "id": "rQzNQ-RwPWto"
      },
      "source": [
        "### extract CitiBike station location data"
      ]
    },
    {
      "cell_type": "code",
      "metadata": {
        "id": "z5GKfGzxbArQ",
        "outputId": "976e506d-0797-425c-e4d4-e8426dae288a",
        "colab": {
          "base_uri": "https://localhost:8080/",
          "height": 826
        }
      },
      "source": [
        "cb201309.groupby(\"start station id\").first()"
      ],
      "execution_count": 15,
      "outputs": [
        {
          "output_type": "execute_result",
          "data": {
            "text/html": [
              "<div>\n",
              "<style scoped>\n",
              "    .dataframe tbody tr th:only-of-type {\n",
              "        vertical-align: middle;\n",
              "    }\n",
              "\n",
              "    .dataframe tbody tr th {\n",
              "        vertical-align: top;\n",
              "    }\n",
              "\n",
              "    .dataframe thead th {\n",
              "        text-align: right;\n",
              "    }\n",
              "</style>\n",
              "<table border=\"1\" class=\"dataframe\">\n",
              "  <thead>\n",
              "    <tr style=\"text-align: right;\">\n",
              "      <th></th>\n",
              "      <th>tripduration</th>\n",
              "      <th>stoptime</th>\n",
              "      <th>start station name</th>\n",
              "      <th>start station latitude</th>\n",
              "      <th>start station longitude</th>\n",
              "      <th>end station id</th>\n",
              "      <th>end station name</th>\n",
              "      <th>end station latitude</th>\n",
              "      <th>end station longitude</th>\n",
              "      <th>bikeid</th>\n",
              "      <th>usertype</th>\n",
              "      <th>birth year</th>\n",
              "      <th>gender</th>\n",
              "    </tr>\n",
              "    <tr>\n",
              "      <th>start station id</th>\n",
              "      <th></th>\n",
              "      <th></th>\n",
              "      <th></th>\n",
              "      <th></th>\n",
              "      <th></th>\n",
              "      <th></th>\n",
              "      <th></th>\n",
              "      <th></th>\n",
              "      <th></th>\n",
              "      <th></th>\n",
              "      <th></th>\n",
              "      <th></th>\n",
              "      <th></th>\n",
              "    </tr>\n",
              "  </thead>\n",
              "  <tbody>\n",
              "    <tr>\n",
              "      <th>72</th>\n",
              "      <td>143</td>\n",
              "      <td>2013-09-01 01:29:19</td>\n",
              "      <td>W 52 St &amp; 11 Ave</td>\n",
              "      <td>40.767272</td>\n",
              "      <td>-73.993929</td>\n",
              "      <td>367</td>\n",
              "      <td>E 53 St &amp; Lexington Ave</td>\n",
              "      <td>40.758281</td>\n",
              "      <td>-73.970694</td>\n",
              "      <td>16521</td>\n",
              "      <td>Subscriber</td>\n",
              "      <td>1960</td>\n",
              "      <td>1</td>\n",
              "    </tr>\n",
              "    <tr>\n",
              "      <th>79</th>\n",
              "      <td>1049</td>\n",
              "      <td>2013-09-01 00:37:46</td>\n",
              "      <td>Franklin St &amp; W Broadway</td>\n",
              "      <td>40.719116</td>\n",
              "      <td>-74.006667</td>\n",
              "      <td>363</td>\n",
              "      <td>West Thames St</td>\n",
              "      <td>40.708347</td>\n",
              "      <td>-74.017134</td>\n",
              "      <td>17660</td>\n",
              "      <td>Customer</td>\n",
              "      <td>\\N</td>\n",
              "      <td>0</td>\n",
              "    </tr>\n",
              "    <tr>\n",
              "      <th>82</th>\n",
              "      <td>437</td>\n",
              "      <td>2013-09-01 12:09:47</td>\n",
              "      <td>St James Pl &amp; Pearl St</td>\n",
              "      <td>40.711174</td>\n",
              "      <td>-74.000165</td>\n",
              "      <td>151</td>\n",
              "      <td>Cleveland Pl &amp; Spring St</td>\n",
              "      <td>40.721816</td>\n",
              "      <td>-73.997203</td>\n",
              "      <td>19046</td>\n",
              "      <td>Subscriber</td>\n",
              "      <td>1980</td>\n",
              "      <td>2</td>\n",
              "    </tr>\n",
              "    <tr>\n",
              "      <th>83</th>\n",
              "      <td>857</td>\n",
              "      <td>2013-09-01 00:57:59</td>\n",
              "      <td>Atlantic Ave &amp; Fort Greene Pl</td>\n",
              "      <td>40.683826</td>\n",
              "      <td>-73.976323</td>\n",
              "      <td>406</td>\n",
              "      <td>Hicks St &amp; Montague St</td>\n",
              "      <td>40.695128</td>\n",
              "      <td>-73.995951</td>\n",
              "      <td>19618</td>\n",
              "      <td>Subscriber</td>\n",
              "      <td>1977</td>\n",
              "      <td>2</td>\n",
              "    </tr>\n",
              "    <tr>\n",
              "      <th>116</th>\n",
              "      <td>468</td>\n",
              "      <td>2013-09-01 00:13:46</td>\n",
              "      <td>W 17 St &amp; 8 Ave</td>\n",
              "      <td>40.741776</td>\n",
              "      <td>-74.001497</td>\n",
              "      <td>540</td>\n",
              "      <td>Lexington Ave &amp; E 26 St</td>\n",
              "      <td>40.741473</td>\n",
              "      <td>-73.983209</td>\n",
              "      <td>17346</td>\n",
              "      <td>Subscriber</td>\n",
              "      <td>1991</td>\n",
              "      <td>1</td>\n",
              "    </tr>\n",
              "    <tr>\n",
              "      <th>...</th>\n",
              "      <td>...</td>\n",
              "      <td>...</td>\n",
              "      <td>...</td>\n",
              "      <td>...</td>\n",
              "      <td>...</td>\n",
              "      <td>...</td>\n",
              "      <td>...</td>\n",
              "      <td>...</td>\n",
              "      <td>...</td>\n",
              "      <td>...</td>\n",
              "      <td>...</td>\n",
              "      <td>...</td>\n",
              "      <td>...</td>\n",
              "    </tr>\n",
              "    <tr>\n",
              "      <th>2017</th>\n",
              "      <td>266</td>\n",
              "      <td>2013-09-01 00:08:15</td>\n",
              "      <td>E 43 St &amp; 2 Ave</td>\n",
              "      <td>40.750224</td>\n",
              "      <td>-73.971214</td>\n",
              "      <td>228</td>\n",
              "      <td>E 48 St &amp; 3 Ave</td>\n",
              "      <td>40.754601</td>\n",
              "      <td>-73.971879</td>\n",
              "      <td>18462</td>\n",
              "      <td>Subscriber</td>\n",
              "      <td>1981</td>\n",
              "      <td>1</td>\n",
              "    </tr>\n",
              "    <tr>\n",
              "      <th>2021</th>\n",
              "      <td>1727</td>\n",
              "      <td>2013-09-01 01:05:25</td>\n",
              "      <td>W 45 St &amp; 8 Ave</td>\n",
              "      <td>40.759291</td>\n",
              "      <td>-73.988597</td>\n",
              "      <td>218</td>\n",
              "      <td>Gallatin Pl &amp; Livingston St</td>\n",
              "      <td>40.690284</td>\n",
              "      <td>-73.987071</td>\n",
              "      <td>16734</td>\n",
              "      <td>Customer</td>\n",
              "      <td>\\N</td>\n",
              "      <td>0</td>\n",
              "    </tr>\n",
              "    <tr>\n",
              "      <th>2022</th>\n",
              "      <td>1233</td>\n",
              "      <td>2013-09-01 00:39:20</td>\n",
              "      <td>E 59 St &amp; Sutton Pl</td>\n",
              "      <td>40.758491</td>\n",
              "      <td>-73.959206</td>\n",
              "      <td>528</td>\n",
              "      <td>2 Ave &amp; E 31 St</td>\n",
              "      <td>40.742909</td>\n",
              "      <td>-73.977061</td>\n",
              "      <td>19488</td>\n",
              "      <td>Subscriber</td>\n",
              "      <td>1961</td>\n",
              "      <td>2</td>\n",
              "    </tr>\n",
              "    <tr>\n",
              "      <th>2023</th>\n",
              "      <td>457</td>\n",
              "      <td>2013-09-01 00:35:20</td>\n",
              "      <td>E 55 St &amp; Lexington Ave</td>\n",
              "      <td>40.759681</td>\n",
              "      <td>-73.970314</td>\n",
              "      <td>449</td>\n",
              "      <td>W 52 St &amp; 9 Ave</td>\n",
              "      <td>40.764618</td>\n",
              "      <td>-73.987895</td>\n",
              "      <td>20031</td>\n",
              "      <td>Subscriber</td>\n",
              "      <td>1982</td>\n",
              "      <td>1</td>\n",
              "    </tr>\n",
              "    <tr>\n",
              "      <th>3002</th>\n",
              "      <td>844</td>\n",
              "      <td>2013-09-01 01:50:51</td>\n",
              "      <td>South End Ave &amp; Liberty St</td>\n",
              "      <td>40.711512</td>\n",
              "      <td>-74.015756</td>\n",
              "      <td>350</td>\n",
              "      <td>Clinton St &amp; Grand St</td>\n",
              "      <td>40.715595</td>\n",
              "      <td>-73.987030</td>\n",
              "      <td>20503</td>\n",
              "      <td>Subscriber</td>\n",
              "      <td>1970</td>\n",
              "      <td>2</td>\n",
              "    </tr>\n",
              "  </tbody>\n",
              "</table>\n",
              "<p>330 rows × 13 columns</p>\n",
              "</div>"
            ],
            "text/plain": [
              "                  tripduration             stoptime  ... birth year  gender\n",
              "start station id                                     ...                   \n",
              "72                         143  2013-09-01 01:29:19  ...       1960       1\n",
              "79                        1049  2013-09-01 00:37:46  ...         \\N       0\n",
              "82                         437  2013-09-01 12:09:47  ...       1980       2\n",
              "83                         857  2013-09-01 00:57:59  ...       1977       2\n",
              "116                        468  2013-09-01 00:13:46  ...       1991       1\n",
              "...                        ...                  ...  ...        ...     ...\n",
              "2017                       266  2013-09-01 00:08:15  ...       1981       1\n",
              "2021                      1727  2013-09-01 01:05:25  ...         \\N       0\n",
              "2022                      1233  2013-09-01 00:39:20  ...       1961       2\n",
              "2023                       457  2013-09-01 00:35:20  ...       1982       1\n",
              "3002                       844  2013-09-01 01:50:51  ...       1970       2\n",
              "\n",
              "[330 rows x 13 columns]"
            ]
          },
          "metadata": {
            "tags": []
          },
          "execution_count": 15
        }
      ]
    },
    {
      "cell_type": "code",
      "metadata": {
        "id": "tX-b67qwPWto",
        "outputId": "cbb67254-a2b5-4fd9-fadc-f7cc678dcc81",
        "colab": {
          "base_uri": "https://localhost:8080/",
          "height": 220
        }
      },
      "source": [
        "station_id = cb201309.groupby(\"start station id\").first()[[\"start station latitude\",\"start station longitude\"]]\n",
        "station_id.rename({\"start station latitude\":\"lat\",\"start station longitude\":\"lon\"}, axis=1, inplace=True)\n",
        "#station_id.index = station_id.index.astype(str)\n",
        "station_id.head()"
      ],
      "execution_count": 16,
      "outputs": [
        {
          "output_type": "execute_result",
          "data": {
            "text/html": [
              "<div>\n",
              "<style scoped>\n",
              "    .dataframe tbody tr th:only-of-type {\n",
              "        vertical-align: middle;\n",
              "    }\n",
              "\n",
              "    .dataframe tbody tr th {\n",
              "        vertical-align: top;\n",
              "    }\n",
              "\n",
              "    .dataframe thead th {\n",
              "        text-align: right;\n",
              "    }\n",
              "</style>\n",
              "<table border=\"1\" class=\"dataframe\">\n",
              "  <thead>\n",
              "    <tr style=\"text-align: right;\">\n",
              "      <th></th>\n",
              "      <th>lat</th>\n",
              "      <th>lon</th>\n",
              "    </tr>\n",
              "    <tr>\n",
              "      <th>start station id</th>\n",
              "      <th></th>\n",
              "      <th></th>\n",
              "    </tr>\n",
              "  </thead>\n",
              "  <tbody>\n",
              "    <tr>\n",
              "      <th>72</th>\n",
              "      <td>40.767272</td>\n",
              "      <td>-73.993929</td>\n",
              "    </tr>\n",
              "    <tr>\n",
              "      <th>79</th>\n",
              "      <td>40.719116</td>\n",
              "      <td>-74.006667</td>\n",
              "    </tr>\n",
              "    <tr>\n",
              "      <th>82</th>\n",
              "      <td>40.711174</td>\n",
              "      <td>-74.000165</td>\n",
              "    </tr>\n",
              "    <tr>\n",
              "      <th>83</th>\n",
              "      <td>40.683826</td>\n",
              "      <td>-73.976323</td>\n",
              "    </tr>\n",
              "    <tr>\n",
              "      <th>116</th>\n",
              "      <td>40.741776</td>\n",
              "      <td>-74.001497</td>\n",
              "    </tr>\n",
              "  </tbody>\n",
              "</table>\n",
              "</div>"
            ],
            "text/plain": [
              "                        lat        lon\n",
              "start station id                      \n",
              "72                40.767272 -73.993929\n",
              "79                40.719116 -74.006667\n",
              "82                40.711174 -74.000165\n",
              "83                40.683826 -73.976323\n",
              "116               40.741776 -74.001497"
            ]
          },
          "metadata": {
            "tags": []
          },
          "execution_count": 16
        }
      ]
    },
    {
      "cell_type": "markdown",
      "metadata": {
        "id": "zySaIE0jPWtq"
      },
      "source": [
        "### Create CitiBike station Geometry (Point) from Coordinates (Lat & Lon)"
      ]
    },
    {
      "cell_type": "code",
      "metadata": {
        "id": "5heNxyqOPWtr",
        "outputId": "8bb28708-3f18-40a9-90e3-9728a937ea37",
        "colab": {
          "base_uri": "https://localhost:8080/",
          "height": 220
        }
      },
      "source": [
        "import shapely\n",
        "# combine lat and lon to one column\n",
        "station_id['lonlat'] = list(zip(station_id.lon,station_id.lat))\n",
        "# Create Point Geometry for based on lonlat column\n",
        "station_id['geometry'] = station_id[['lonlat']].applymap(lambda x:shapely.geometry.Point(x))\n",
        "station_id = gpd.GeoDataFrame(station_id)\n",
        "station_id.head()"
      ],
      "execution_count": 17,
      "outputs": [
        {
          "output_type": "execute_result",
          "data": {
            "text/html": [
              "<div>\n",
              "<style scoped>\n",
              "    .dataframe tbody tr th:only-of-type {\n",
              "        vertical-align: middle;\n",
              "    }\n",
              "\n",
              "    .dataframe tbody tr th {\n",
              "        vertical-align: top;\n",
              "    }\n",
              "\n",
              "    .dataframe thead th {\n",
              "        text-align: right;\n",
              "    }\n",
              "</style>\n",
              "<table border=\"1\" class=\"dataframe\">\n",
              "  <thead>\n",
              "    <tr style=\"text-align: right;\">\n",
              "      <th></th>\n",
              "      <th>lat</th>\n",
              "      <th>lon</th>\n",
              "      <th>lonlat</th>\n",
              "      <th>geometry</th>\n",
              "    </tr>\n",
              "    <tr>\n",
              "      <th>start station id</th>\n",
              "      <th></th>\n",
              "      <th></th>\n",
              "      <th></th>\n",
              "      <th></th>\n",
              "    </tr>\n",
              "  </thead>\n",
              "  <tbody>\n",
              "    <tr>\n",
              "      <th>72</th>\n",
              "      <td>40.767272</td>\n",
              "      <td>-73.993929</td>\n",
              "      <td>(-73.99392888, 40.76727216)</td>\n",
              "      <td>POINT (-73.99393 40.76727)</td>\n",
              "    </tr>\n",
              "    <tr>\n",
              "      <th>79</th>\n",
              "      <td>40.719116</td>\n",
              "      <td>-74.006667</td>\n",
              "      <td>(-74.00666661, 40.71911552)</td>\n",
              "      <td>POINT (-74.00667 40.71912)</td>\n",
              "    </tr>\n",
              "    <tr>\n",
              "      <th>82</th>\n",
              "      <td>40.711174</td>\n",
              "      <td>-74.000165</td>\n",
              "      <td>(-74.00016545, 40.71117416)</td>\n",
              "      <td>POINT (-74.00017 40.71117)</td>\n",
              "    </tr>\n",
              "    <tr>\n",
              "      <th>83</th>\n",
              "      <td>40.683826</td>\n",
              "      <td>-73.976323</td>\n",
              "      <td>(-73.97632328, 40.68382604)</td>\n",
              "      <td>POINT (-73.97632 40.68383)</td>\n",
              "    </tr>\n",
              "    <tr>\n",
              "      <th>116</th>\n",
              "      <td>40.741776</td>\n",
              "      <td>-74.001497</td>\n",
              "      <td>(-74.00149746, 40.74177603)</td>\n",
              "      <td>POINT (-74.00150 40.74178)</td>\n",
              "    </tr>\n",
              "  </tbody>\n",
              "</table>\n",
              "</div>"
            ],
            "text/plain": [
              "                        lat  ...                    geometry\n",
              "start station id             ...                            \n",
              "72                40.767272  ...  POINT (-73.99393 40.76727)\n",
              "79                40.719116  ...  POINT (-74.00667 40.71912)\n",
              "82                40.711174  ...  POINT (-74.00017 40.71117)\n",
              "83                40.683826  ...  POINT (-73.97632 40.68383)\n",
              "116               40.741776  ...  POINT (-74.00150 40.74178)\n",
              "\n",
              "[5 rows x 4 columns]"
            ]
          },
          "metadata": {
            "tags": []
          },
          "execution_count": 17
        }
      ]
    },
    {
      "cell_type": "code",
      "metadata": {
        "id": "cNyz5UgDJYIQ",
        "outputId": "cb0cf1b1-6760-4d37-85c4-794d4038de06",
        "colab": {
          "base_uri": "https://localhost:8080/",
          "height": 577
        }
      },
      "source": [
        "f, ax = plt.subplots(figsize=(10,10))\n",
        "ax.get_xaxis().set_visible(False)\n",
        "ax.get_yaxis().set_visible(False)\n",
        "ct_shape.plot(ax=ax, color=\"None\", edgecolor='k')\n",
        "station_id.plot(ax=ax, c='orange');\n",
        "ax.set_xlim(-74.03, -73.93)\n",
        "ax.set_ylim(40.65, 40.78);"
      ],
      "execution_count": 18,
      "outputs": [
        {
          "output_type": "display_data",
          "data": {
            "image/png": "[encoded data removed]",
            "text/plain": [
              "<Figure size 720x720 with 1 Axes>"
            ]
          },
          "metadata": {
            "tags": [],
            "needs_background": "light"
          }
        }
      ]
    },
    {
      "cell_type": "markdown",
      "metadata": {
        "id": "Yums1ZwIPWtt"
      },
      "source": [
        "# Intersect  two geometries\n",
        "``` gdp.ct_shape.geometry.intersect```\n",
        "\n"
      ]
    },
    {
      "cell_type": "markdown",
      "metadata": {
        "id": "CUyIK1A5PWtv"
      },
      "source": [
        "## Perform a spatial join\n",
        "\n",
        "Perfoming an $n \\times m$ intersection test is horrifically inefficient and slow. Spatial joins use an R-tree for spatial indexing to rapidly join the tables on their geometries. \n",
        "\n",
        "Spatial joins operate on objects with eastings and northings, i.e., you must transform ALL data into a common CRS expressed with dimensioned lengths. This will NOT work on data expressed in lat/long!"
      ]
    },
    {
      "cell_type": "code",
      "metadata": {
        "id": "XC-SrmJNPWtw"
      },
      "source": [
        "from geopandas.tools import sjoin"
      ],
      "execution_count": 19,
      "outputs": []
    },
    {
      "cell_type": "code",
      "metadata": {
        "id": "OtTVnu4meKRx"
      },
      "source": [
        "# NOTE: I just created the gDF. it does not have a set of coordinates associated to the shapes!\n",
        "station_id.crs "
      ],
      "execution_count": 20,
      "outputs": []
    },
    {
      "cell_type": "code",
      "metadata": {
        "id": "MExnLUXlYSj6",
        "outputId": "a6f64ae4-2b55-44dd-f833-f36ed358f44d",
        "colab": {
          "base_uri": "https://localhost:8080/",
          "height": 70
        }
      },
      "source": [
        "station_id.crs = from_epsg(4326)"
      ],
      "execution_count": 21,
      "outputs": [
        {
          "output_type": "stream",
          "text": [
            "/usr/local/lib/python3.6/dist-packages/pyproj/crs/crs.py:53: FutureWarning: '+init=<authority>:<code>' syntax is deprecated. '<authority>:<code>' is the preferred initialization method. When making the change, be mindful of axis order changes: https://pyproj4.github.io/pyproj/stable/gotchas.html#axis-order-changes-in-proj-6\n",
            "  return _prepare_from_string(\" \".join(pjargs))\n"
          ],
          "name": "stderr"
        }
      ]
    },
    {
      "cell_type": "code",
      "metadata": {
        "id": "mhemTrj8PWt2"
      },
      "source": [
        "station_ft = station_id.to_crs(epsg=2263)\n",
        "ct_ft = ct_shape.to_crs(epsg=2263)"
      ],
      "execution_count": 22,
      "outputs": []
    },
    {
      "cell_type": "code",
      "metadata": {
        "id": "rSRP7He0KpPw",
        "outputId": "6c25f448-218c-4899-92c7-219ca48ebd1a",
        "colab": {
          "base_uri": "https://localhost:8080/",
          "height": 125
        }
      },
      "source": [
        "ct_ft.head(1)"
      ],
      "execution_count": 23,
      "outputs": [
        {
          "output_type": "execute_result",
          "data": {
            "text/html": [
              "<div>\n",
              "<style scoped>\n",
              "    .dataframe tbody tr th:only-of-type {\n",
              "        vertical-align: middle;\n",
              "    }\n",
              "\n",
              "    .dataframe tbody tr th {\n",
              "        vertical-align: top;\n",
              "    }\n",
              "\n",
              "    .dataframe thead th {\n",
              "        text-align: right;\n",
              "    }\n",
              "</style>\n",
              "<table border=\"1\" class=\"dataframe\">\n",
              "  <thead>\n",
              "    <tr style=\"text-align: right;\">\n",
              "      <th></th>\n",
              "      <th>boro_code</th>\n",
              "      <th>boro_ct201</th>\n",
              "      <th>boro_name</th>\n",
              "      <th>cdeligibil</th>\n",
              "      <th>ct2010</th>\n",
              "      <th>ctlabel</th>\n",
              "      <th>ntacode</th>\n",
              "      <th>ntaname</th>\n",
              "      <th>puma</th>\n",
              "      <th>shape_area</th>\n",
              "      <th>shape_leng</th>\n",
              "      <th>geometry</th>\n",
              "    </tr>\n",
              "  </thead>\n",
              "  <tbody>\n",
              "    <tr>\n",
              "      <th>0</th>\n",
              "      <td>5</td>\n",
              "      <td>5000900</td>\n",
              "      <td>Staten Island</td>\n",
              "      <td>E</td>\n",
              "      <td>000900</td>\n",
              "      <td>9</td>\n",
              "      <td>SI22</td>\n",
              "      <td>West New Brighton-New Brighton-St. George</td>\n",
              "      <td>3903</td>\n",
              "      <td>2.497010e+06</td>\n",
              "      <td>7729.016794</td>\n",
              "      <td>POLYGON ((962269.126 173705.500, 962288.722 17...</td>\n",
              "    </tr>\n",
              "  </tbody>\n",
              "</table>\n",
              "</div>"
            ],
            "text/plain": [
              "  boro_code  ...                                           geometry\n",
              "0         5  ...  POLYGON ((962269.126 173705.500, 962288.722 17...\n",
              "\n",
              "[1 rows x 12 columns]"
            ]
          },
          "metadata": {
            "tags": []
          },
          "execution_count": 23
        }
      ]
    },
    {
      "cell_type": "code",
      "metadata": {
        "id": "j1fae86UUxAe",
        "outputId": "7b1950ca-5efc-4c77-c754-aab2ea907ae8",
        "colab": {
          "base_uri": "https://localhost:8080/",
          "height": 162
        }
      },
      "source": [
        "station_ft.head(3)"
      ],
      "execution_count": 24,
      "outputs": [
        {
          "output_type": "execute_result",
          "data": {
            "text/html": [
              "<div>\n",
              "<style scoped>\n",
              "    .dataframe tbody tr th:only-of-type {\n",
              "        vertical-align: middle;\n",
              "    }\n",
              "\n",
              "    .dataframe tbody tr th {\n",
              "        vertical-align: top;\n",
              "    }\n",
              "\n",
              "    .dataframe thead th {\n",
              "        text-align: right;\n",
              "    }\n",
              "</style>\n",
              "<table border=\"1\" class=\"dataframe\">\n",
              "  <thead>\n",
              "    <tr style=\"text-align: right;\">\n",
              "      <th></th>\n",
              "      <th>lat</th>\n",
              "      <th>lon</th>\n",
              "      <th>lonlat</th>\n",
              "      <th>geometry</th>\n",
              "    </tr>\n",
              "    <tr>\n",
              "      <th>start station id</th>\n",
              "      <th></th>\n",
              "      <th></th>\n",
              "      <th></th>\n",
              "      <th></th>\n",
              "    </tr>\n",
              "  </thead>\n",
              "  <tbody>\n",
              "    <tr>\n",
              "      <th>72</th>\n",
              "      <td>40.767272</td>\n",
              "      <td>-73.993929</td>\n",
              "      <td>(-73.99392888, 40.76727216)</td>\n",
              "      <td>POINT (985931.707 218814.757)</td>\n",
              "    </tr>\n",
              "    <tr>\n",
              "      <th>79</th>\n",
              "      <td>40.719116</td>\n",
              "      <td>-74.006667</td>\n",
              "      <td>(-74.00666661, 40.71911552)</td>\n",
              "      <td>POINT (982402.007 201269.770)</td>\n",
              "    </tr>\n",
              "    <tr>\n",
              "      <th>82</th>\n",
              "      <td>40.711174</td>\n",
              "      <td>-74.000165</td>\n",
              "      <td>(-74.00016545, 40.71117416)</td>\n",
              "      <td>POINT (984204.132 198376.421)</td>\n",
              "    </tr>\n",
              "  </tbody>\n",
              "</table>\n",
              "</div>"
            ],
            "text/plain": [
              "                        lat  ...                       geometry\n",
              "start station id             ...                               \n",
              "72                40.767272  ...  POINT (985931.707 218814.757)\n",
              "79                40.719116  ...  POINT (982402.007 201269.770)\n",
              "82                40.711174  ...  POINT (984204.132 198376.421)\n",
              "\n",
              "[3 rows x 4 columns]"
            ]
          },
          "metadata": {
            "tags": []
          },
          "execution_count": 24
        }
      ]
    },
    {
      "cell_type": "code",
      "metadata": {
        "id": "fJu4XvlubGfO",
        "outputId": "a2d2207b-29e0-4f31-d722-13d1c9660194",
        "colab": {
          "base_uri": "https://localhost:8080/",
          "height": 33
        }
      },
      "source": [
        "station_ft.shape"
      ],
      "execution_count": 25,
      "outputs": [
        {
          "output_type": "execute_result",
          "data": {
            "text/plain": [
              "(330, 4)"
            ]
          },
          "metadata": {
            "tags": []
          },
          "execution_count": 25
        }
      ]
    },
    {
      "cell_type": "code",
      "metadata": {
        "id": "WjNo6mxPPWt5",
        "outputId": "219beb41-23b9-4019-a60f-137875d1d8e9",
        "colab": {
          "base_uri": "https://localhost:8080/",
          "height": 133
        }
      },
      "source": [
        "station_id = sjoin(ct_ft, station_ft.reset_index())[[\"boro_ct201\", \"geometry\",\n",
        "                                                      \"start station id\",\n",
        "                                                     \"lonlat\"]]\n",
        "station_id.head(3)"
      ],
      "execution_count": 26,
      "outputs": [
        {
          "output_type": "execute_result",
          "data": {
            "text/html": [
              "<div>\n",
              "<style scoped>\n",
              "    .dataframe tbody tr th:only-of-type {\n",
              "        vertical-align: middle;\n",
              "    }\n",
              "\n",
              "    .dataframe tbody tr th {\n",
              "        vertical-align: top;\n",
              "    }\n",
              "\n",
              "    .dataframe thead th {\n",
              "        text-align: right;\n",
              "    }\n",
              "</style>\n",
              "<table border=\"1\" class=\"dataframe\">\n",
              "  <thead>\n",
              "    <tr style=\"text-align: right;\">\n",
              "      <th></th>\n",
              "      <th>boro_ct201</th>\n",
              "      <th>geometry</th>\n",
              "      <th>start station id</th>\n",
              "      <th>lonlat</th>\n",
              "    </tr>\n",
              "  </thead>\n",
              "  <tbody>\n",
              "    <tr>\n",
              "      <th>1</th>\n",
              "      <td>1009800</td>\n",
              "      <td>POLYGON ((994133.507 214848.898, 994005.909 21...</td>\n",
              "      <td>454</td>\n",
              "      <td>(-73.96592976, 40.75455731)</td>\n",
              "    </tr>\n",
              "    <tr>\n",
              "      <th>1</th>\n",
              "      <td>1009800</td>\n",
              "      <td>POLYGON ((994133.507 214848.898, 994005.909 21...</td>\n",
              "      <td>441</td>\n",
              "      <td>(-73.967416, 40.756014)</td>\n",
              "    </tr>\n",
              "    <tr>\n",
              "      <th>2</th>\n",
              "      <td>1010000</td>\n",
              "      <td>POLYGON ((993108.306 216013.131, 992982.220 21...</td>\n",
              "      <td>522</td>\n",
              "      <td>(-73.97207836, 40.75714758)</td>\n",
              "    </tr>\n",
              "  </tbody>\n",
              "</table>\n",
              "</div>"
            ],
            "text/plain": [
              "  boro_ct201  ...                       lonlat\n",
              "1    1009800  ...  (-73.96592976, 40.75455731)\n",
              "1    1009800  ...      (-73.967416, 40.756014)\n",
              "2    1010000  ...  (-73.97207836, 40.75714758)\n",
              "\n",
              "[3 rows x 4 columns]"
            ]
          },
          "metadata": {
            "tags": []
          },
          "execution_count": 26
        }
      ]
    },
    {
      "cell_type": "code",
      "metadata": {
        "id": "X33BtBlFbIFt",
        "outputId": "ed3ecb93-d7d4-417c-d5a7-92defcfdc0c8",
        "colab": {
          "base_uri": "https://localhost:8080/",
          "height": 33
        }
      },
      "source": [
        "station_id.shape"
      ],
      "execution_count": 27,
      "outputs": [
        {
          "output_type": "execute_result",
          "data": {
            "text/plain": [
              "(330, 4)"
            ]
          },
          "metadata": {
            "tags": []
          },
          "execution_count": 27
        }
      ]
    },
    {
      "cell_type": "code",
      "metadata": {
        "id": "LNKGjEZvcP-H",
        "outputId": "920ce3fb-e498-4c3c-e92d-c5bc6b37ef4a",
        "colab": {
          "base_uri": "https://localhost:8080/",
          "height": 245
        }
      },
      "source": [
        "station_id.crs"
      ],
      "execution_count": 28,
      "outputs": [
        {
          "output_type": "execute_result",
          "data": {
            "text/plain": [
              "<Projected CRS: EPSG:2263>\n",
              "Name: NAD83 / New York Long Island (ftUS)\n",
              "Axis Info [cartesian]:\n",
              "- X[east]: Easting (US survey foot)\n",
              "- Y[north]: Northing (US survey foot)\n",
              "Area of Use:\n",
              "- name: USA - New York - SPCS - Long Island\n",
              "- bounds: (-74.26, 40.47, -71.8, 41.3)\n",
              "Coordinate Operation:\n",
              "- name: SPCS83 New York Long Island zone (US Survey feet)\n",
              "- method: Lambert Conic Conformal (2SP)\n",
              "Datum: North American Datum 1983\n",
              "- Ellipsoid: GRS 1980\n",
              "- Prime Meridian: Greenwich"
            ]
          },
          "metadata": {
            "tags": []
          },
          "execution_count": 28
        }
      ]
    },
    {
      "cell_type": "markdown",
      "metadata": {
        "id": "zX4ODgMOK81h"
      },
      "source": [
        "# count trips by census tract"
      ]
    },
    {
      "cell_type": "markdown",
      "metadata": {
        "id": "sO3uIrBSVH_w"
      },
      "source": [
        "## count rides by census tract"
      ]
    },
    {
      "cell_type": "code",
      "metadata": {
        "id": "P6WNc96CYsJA",
        "outputId": "e9c57b2a-0ff6-4f59-d4b0-a974fc3a0dff",
        "colab": {
          "base_uri": "https://localhost:8080/",
          "height": 33
        }
      },
      "source": [
        "station_id =  station_id.merge(cb201309, left_on=\"start station id\", right_on=\"start station id\")\n",
        "#cb201309.groupby(\"start station id\").count()[[\"tripduration\"]\n",
        "#                                ].rename({\"tripduration\":\"MonthlyAve\"}, axis=1)\n",
        "station_id.shape"
      ],
      "execution_count": 29,
      "outputs": [
        {
          "output_type": "execute_result",
          "data": {
            "text/plain": [
              "(1034359, 17)"
            ]
          },
          "metadata": {
            "tags": []
          },
          "execution_count": 29
        }
      ]
    },
    {
      "cell_type": "code",
      "metadata": {
        "id": "vumf7aO3oy0N"
      },
      "source": [
        "# add the series to station id\n",
        "monthlyrides_boro = station_id.groupby(\"boro_ct201\").count()[[\"tripduration\"]].rename(\n",
        "    {\"tripduration\":\"monthlyrides\"}, axis=1)"
      ],
      "execution_count": 30,
      "outputs": []
    },
    {
      "cell_type": "code",
      "metadata": {
        "id": "kGak6q5HNtpy",
        "outputId": "4bb05f62-e2fa-442a-9727-98af30cd475d",
        "colab": {
          "base_uri": "https://localhost:8080/",
          "height": 220
        }
      },
      "source": [
        "monthlyrides_boro.head()"
      ],
      "execution_count": 31,
      "outputs": [
        {
          "output_type": "execute_result",
          "data": {
            "text/html": [
              "<div>\n",
              "<style scoped>\n",
              "    .dataframe tbody tr th:only-of-type {\n",
              "        vertical-align: middle;\n",
              "    }\n",
              "\n",
              "    .dataframe tbody tr th {\n",
              "        vertical-align: top;\n",
              "    }\n",
              "\n",
              "    .dataframe thead th {\n",
              "        text-align: right;\n",
              "    }\n",
              "</style>\n",
              "<table border=\"1\" class=\"dataframe\">\n",
              "  <thead>\n",
              "    <tr style=\"text-align: right;\">\n",
              "      <th></th>\n",
              "      <th>monthlyrides</th>\n",
              "    </tr>\n",
              "    <tr>\n",
              "      <th>boro_ct201</th>\n",
              "      <th></th>\n",
              "    </tr>\n",
              "  </thead>\n",
              "  <tbody>\n",
              "    <tr>\n",
              "      <th>1000202</th>\n",
              "      <td>4809</td>\n",
              "    </tr>\n",
              "    <tr>\n",
              "      <th>1000600</th>\n",
              "      <td>5817</td>\n",
              "    </tr>\n",
              "    <tr>\n",
              "      <th>1000700</th>\n",
              "      <td>19521</td>\n",
              "    </tr>\n",
              "    <tr>\n",
              "      <th>1000800</th>\n",
              "      <td>2817</td>\n",
              "    </tr>\n",
              "    <tr>\n",
              "      <th>1000900</th>\n",
              "      <td>5466</td>\n",
              "    </tr>\n",
              "  </tbody>\n",
              "</table>\n",
              "</div>"
            ],
            "text/plain": [
              "            monthlyrides\n",
              "boro_ct201              \n",
              "1000202             4809\n",
              "1000600             5817\n",
              "1000700            19521\n",
              "1000800             2817\n",
              "1000900             5466"
            ]
          },
          "metadata": {
            "tags": []
          },
          "execution_count": 31
        }
      ]
    },
    {
      "cell_type": "code",
      "metadata": {
        "id": "z1VTNTZRb9sF"
      },
      "source": [
        "tripsbyct = station_id.groupby(\"boro_ct201\").first().merge(monthlyrides_boro, left_index=True, right_index=True)"
      ],
      "execution_count": 32,
      "outputs": []
    },
    {
      "cell_type": "code",
      "metadata": {
        "id": "qZIN2OvKchNP",
        "outputId": "e3930d17-7688-4336-ac91-8b93bedb5851",
        "colab": {
          "base_uri": "https://localhost:8080/",
          "height": 516
        }
      },
      "source": [
        "tripsbyct.head()"
      ],
      "execution_count": 33,
      "outputs": [
        {
          "output_type": "execute_result",
          "data": {
            "text/html": [
              "<div>\n",
              "<style scoped>\n",
              "    .dataframe tbody tr th:only-of-type {\n",
              "        vertical-align: middle;\n",
              "    }\n",
              "\n",
              "    .dataframe tbody tr th {\n",
              "        vertical-align: top;\n",
              "    }\n",
              "\n",
              "    .dataframe thead th {\n",
              "        text-align: right;\n",
              "    }\n",
              "</style>\n",
              "<table border=\"1\" class=\"dataframe\">\n",
              "  <thead>\n",
              "    <tr style=\"text-align: right;\">\n",
              "      <th></th>\n",
              "      <th>geometry</th>\n",
              "      <th>start station id</th>\n",
              "      <th>lonlat</th>\n",
              "      <th>tripduration</th>\n",
              "      <th>stoptime</th>\n",
              "      <th>start station name</th>\n",
              "      <th>start station latitude</th>\n",
              "      <th>start station longitude</th>\n",
              "      <th>end station id</th>\n",
              "      <th>end station name</th>\n",
              "      <th>end station latitude</th>\n",
              "      <th>end station longitude</th>\n",
              "      <th>bikeid</th>\n",
              "      <th>usertype</th>\n",
              "      <th>birth year</th>\n",
              "      <th>gender</th>\n",
              "      <th>monthlyrides</th>\n",
              "    </tr>\n",
              "    <tr>\n",
              "      <th>boro_ct201</th>\n",
              "      <th></th>\n",
              "      <th></th>\n",
              "      <th></th>\n",
              "      <th></th>\n",
              "      <th></th>\n",
              "      <th></th>\n",
              "      <th></th>\n",
              "      <th></th>\n",
              "      <th></th>\n",
              "      <th></th>\n",
              "      <th></th>\n",
              "      <th></th>\n",
              "      <th></th>\n",
              "      <th></th>\n",
              "      <th></th>\n",
              "      <th></th>\n",
              "      <th></th>\n",
              "    </tr>\n",
              "  </thead>\n",
              "  <tbody>\n",
              "    <tr>\n",
              "      <th>1000202</th>\n",
              "      <td>MULTIPOLYGON (((989137.110 196325.439, 989113....</td>\n",
              "      <td>332</td>\n",
              "      <td>(-73.97948148, 40.71219906)</td>\n",
              "      <td>833</td>\n",
              "      <td>2013-09-01 07:56:22</td>\n",
              "      <td>Cherry St</td>\n",
              "      <td>40.712199</td>\n",
              "      <td>-73.979481</td>\n",
              "      <td>224</td>\n",
              "      <td>Spruce St &amp; Nassau St</td>\n",
              "      <td>40.711464</td>\n",
              "      <td>-74.005524</td>\n",
              "      <td>14533</td>\n",
              "      <td>Subscriber</td>\n",
              "      <td>1966</td>\n",
              "      <td>2</td>\n",
              "      <td>4809</td>\n",
              "    </tr>\n",
              "    <tr>\n",
              "      <th>1000600</th>\n",
              "      <td>POLYGON ((986961.186 199553.643, 987206.139 19...</td>\n",
              "      <td>331</td>\n",
              "      <td>(-73.99193043, 40.71173107)</td>\n",
              "      <td>610</td>\n",
              "      <td>2013-09-01 07:27:15</td>\n",
              "      <td>Pike St &amp; Monroe St</td>\n",
              "      <td>40.711731</td>\n",
              "      <td>-73.991930</td>\n",
              "      <td>302</td>\n",
              "      <td>Avenue D &amp; E 3 St</td>\n",
              "      <td>40.720828</td>\n",
              "      <td>-73.977932</td>\n",
              "      <td>15667</td>\n",
              "      <td>Subscriber</td>\n",
              "      <td>1963</td>\n",
              "      <td>1</td>\n",
              "      <td>5817</td>\n",
              "    </tr>\n",
              "    <tr>\n",
              "      <th>1000700</th>\n",
              "      <td>MULTIPOLYGON (((984804.689 193867.306, 984798....</td>\n",
              "      <td>315</td>\n",
              "      <td>(-74.00670227, 40.70355377)</td>\n",
              "      <td>2087</td>\n",
              "      <td>2013-09-01 09:02:33</td>\n",
              "      <td>South St &amp; Gouverneur Ln</td>\n",
              "      <td>40.703554</td>\n",
              "      <td>-74.006702</td>\n",
              "      <td>495</td>\n",
              "      <td>W 47 St &amp; 10 Ave</td>\n",
              "      <td>40.762699</td>\n",
              "      <td>-73.993012</td>\n",
              "      <td>16592</td>\n",
              "      <td>Customer</td>\n",
              "      <td>\\N</td>\n",
              "      <td>0</td>\n",
              "      <td>19521</td>\n",
              "    </tr>\n",
              "    <tr>\n",
              "      <th>1000800</th>\n",
              "      <td>POLYGON ((986494.145 197775.830, 986457.043 19...</td>\n",
              "      <td>408</td>\n",
              "      <td>(-73.99400398, 40.71076228)</td>\n",
              "      <td>1654</td>\n",
              "      <td>2013-09-01 01:54:40</td>\n",
              "      <td>Market St &amp; Cherry St</td>\n",
              "      <td>40.710762</td>\n",
              "      <td>-73.994004</td>\n",
              "      <td>363</td>\n",
              "      <td>West Thames St</td>\n",
              "      <td>40.708347</td>\n",
              "      <td>-74.017134</td>\n",
              "      <td>19620</td>\n",
              "      <td>Subscriber</td>\n",
              "      <td>1980</td>\n",
              "      <td>1</td>\n",
              "      <td>2817</td>\n",
              "    </tr>\n",
              "    <tr>\n",
              "      <th>1000900</th>\n",
              "      <td>MULTIPOLYGON (((984032.884 192223.748, 983984....</td>\n",
              "      <td>259</td>\n",
              "      <td>(-74.01234218, 40.70122128)</td>\n",
              "      <td>681</td>\n",
              "      <td>2013-09-01 05:40:38</td>\n",
              "      <td>South St &amp; Whitehall St</td>\n",
              "      <td>40.701221</td>\n",
              "      <td>-74.012342</td>\n",
              "      <td>417</td>\n",
              "      <td>Barclay St &amp; Church St</td>\n",
              "      <td>40.712912</td>\n",
              "      <td>-74.010202</td>\n",
              "      <td>16693</td>\n",
              "      <td>Subscriber</td>\n",
              "      <td>1977</td>\n",
              "      <td>1</td>\n",
              "      <td>5466</td>\n",
              "    </tr>\n",
              "  </tbody>\n",
              "</table>\n",
              "</div>"
            ],
            "text/plain": [
              "                                                     geometry  ...  monthlyrides\n",
              "boro_ct201                                                     ...              \n",
              "1000202     MULTIPOLYGON (((989137.110 196325.439, 989113....  ...          4809\n",
              "1000600     POLYGON ((986961.186 199553.643, 987206.139 19...  ...          5817\n",
              "1000700     MULTIPOLYGON (((984804.689 193867.306, 984798....  ...         19521\n",
              "1000800     POLYGON ((986494.145 197775.830, 986457.043 19...  ...          2817\n",
              "1000900     MULTIPOLYGON (((984032.884 192223.748, 983984....  ...          5466\n",
              "\n",
              "[5 rows x 17 columns]"
            ]
          },
          "metadata": {
            "tags": []
          },
          "execution_count": 33
        }
      ]
    },
    {
      "cell_type": "markdown",
      "metadata": {
        "id": "Kbk6T2pNPWt-"
      },
      "source": [
        "## Add Monthly rides to the station GeoDataFrame with CT code"
      ]
    },
    {
      "cell_type": "code",
      "metadata": {
        "scrolled": false,
        "id": "exLvzXQCPWuG",
        "outputId": "5393426d-f965-4f8d-9b4a-5e226b2b67e1",
        "colab": {
          "base_uri": "https://localhost:8080/",
          "height": 607
        }
      },
      "source": [
        "f, ax = plt.subplots(figsize=(10,10))\n",
        "tripsbyct.plot(column='monthlyrides',cmap='hot_r',alpha=1,linewidth=0.1,ax=ax)\n",
        "plt.title(\"Monthly Ride Counts\");\n",
        "plt.axis('off')"
      ],
      "execution_count": 34,
      "outputs": [
        {
          "output_type": "execute_result",
          "data": {
            "text/plain": [
              "(977916.2223968485, 999277.1364288309, 184458.2205290992, 233167.63426811201)"
            ]
          },
          "metadata": {
            "tags": []
          },
          "execution_count": 34
        },
        {
          "output_type": "display_data",
          "data": {
            "image/png": "[encoded data removed]",
            "text/plain": [
              "<Figure size 720x720 with 1 Axes>"
            ]
          },
          "metadata": {
            "tags": [],
            "needs_background": "light"
          }
        }
      ]
    },
    {
      "cell_type": "markdown",
      "metadata": {
        "id": "3MEgOPvYPWuI"
      },
      "source": [
        "### Removing the CTs that are out of zoom boundries"
      ]
    },
    {
      "cell_type": "code",
      "metadata": {
        "id": "MXZ3ahBPPWuL",
        "outputId": "5eafe695-66dd-499f-9485-08512430221a",
        "colab": {
          "base_uri": "https://localhost:8080/",
          "height": 0
        }
      },
      "source": [
        "print ('Total number of CTs: {}'.format(ct_shape.shape[0]))\n",
        "print ('Number of zoomed CTs: {}'.format(len(tripsbyct.monthlyrides)))"
      ],
      "execution_count": 35,
      "outputs": [
        {
          "output_type": "stream",
          "text": [
            "Total number of CTs: 2165\n",
            "Number of zoomed CTs: 163\n"
          ],
          "name": "stdout"
        }
      ]
    },
    {
      "cell_type": "markdown",
      "metadata": {
        "id": "sFjx_F0aPWuO"
      },
      "source": [
        "### Map the monthly rides "
      ]
    },
    {
      "cell_type": "markdown",
      "metadata": {
        "id": "E_bn9OiAPWuQ"
      },
      "source": [
        "### Export Shapefile CTs in the CitiBike Zone"
      ]
    },
    {
      "cell_type": "code",
      "metadata": {
        "id": "QYqIMdLlPWuR",
        "outputId": "068ac05c-ae3c-45c2-e566-7c5720285e8f",
        "colab": {
          "base_uri": "https://localhost:8080/",
          "height": 0
        }
      },
      "source": [
        "%mkdir Output"
      ],
      "execution_count": 36,
      "outputs": [
        {
          "output_type": "stream",
          "text": [
            "mkdir: cannot create directory ‘Output’: File exists\n"
          ],
          "name": "stdout"
        }
      ]
    },
    {
      "cell_type": "code",
      "metadata": {
        "id": "VFEwOGDieO4A",
        "outputId": "833c7c17-5415-4bf4-cdb7-120f8a4ed0df",
        "colab": {
          "base_uri": "https://localhost:8080/",
          "height": 0
        }
      },
      "source": [
        "tripsbyct.columns"
      ],
      "execution_count": 37,
      "outputs": [
        {
          "output_type": "execute_result",
          "data": {
            "text/plain": [
              "Index(['geometry', 'start station id', 'lonlat', 'tripduration', 'stoptime',\n",
              "       'start station name', 'start station latitude',\n",
              "       'start station longitude', 'end station id', 'end station name',\n",
              "       'end station latitude', 'end station longitude', 'bikeid', 'usertype',\n",
              "       'birth year', 'gender', 'monthlyrides'],\n",
              "      dtype='object')"
            ]
          },
          "metadata": {
            "tags": []
          },
          "execution_count": 37
        }
      ]
    },
    {
      "cell_type": "code",
      "metadata": {
        "id": "P-325u6PeK85",
        "outputId": "adc13d88-a766-41f2-c04c-e2c507f294b6",
        "colab": {
          "base_uri": "https://localhost:8080/",
          "height": 0
        }
      },
      "source": [
        "tripsbyct = tripsbyct[['geometry', 'start station id', 'start station latitude',\n",
        "       'start station longitude', 'monthlyrides']]\n",
        "tripsbyct"
      ],
      "execution_count": 38,
      "outputs": [
        {
          "output_type": "execute_result",
          "data": {
            "text/html": [
              "<div>\n",
              "<style scoped>\n",
              "    .dataframe tbody tr th:only-of-type {\n",
              "        vertical-align: middle;\n",
              "    }\n",
              "\n",
              "    .dataframe tbody tr th {\n",
              "        vertical-align: top;\n",
              "    }\n",
              "\n",
              "    .dataframe thead th {\n",
              "        text-align: right;\n",
              "    }\n",
              "</style>\n",
              "<table border=\"1\" class=\"dataframe\">\n",
              "  <thead>\n",
              "    <tr style=\"text-align: right;\">\n",
              "      <th></th>\n",
              "      <th>geometry</th>\n",
              "      <th>start station id</th>\n",
              "      <th>start station latitude</th>\n",
              "      <th>start station longitude</th>\n",
              "      <th>monthlyrides</th>\n",
              "    </tr>\n",
              "    <tr>\n",
              "      <th>boro_ct201</th>\n",
              "      <th></th>\n",
              "      <th></th>\n",
              "      <th></th>\n",
              "      <th></th>\n",
              "      <th></th>\n",
              "    </tr>\n",
              "  </thead>\n",
              "  <tbody>\n",
              "    <tr>\n",
              "      <th>1000202</th>\n",
              "      <td>MULTIPOLYGON (((989137.110 196325.439, 989113....</td>\n",
              "      <td>332</td>\n",
              "      <td>40.712199</td>\n",
              "      <td>-73.979481</td>\n",
              "      <td>4809</td>\n",
              "    </tr>\n",
              "    <tr>\n",
              "      <th>1000600</th>\n",
              "      <td>POLYGON ((986961.186 199553.643, 987206.139 19...</td>\n",
              "      <td>331</td>\n",
              "      <td>40.711731</td>\n",
              "      <td>-73.991930</td>\n",
              "      <td>5817</td>\n",
              "    </tr>\n",
              "    <tr>\n",
              "      <th>1000700</th>\n",
              "      <td>MULTIPOLYGON (((984804.689 193867.306, 984798....</td>\n",
              "      <td>315</td>\n",
              "      <td>40.703554</td>\n",
              "      <td>-74.006702</td>\n",
              "      <td>19521</td>\n",
              "    </tr>\n",
              "    <tr>\n",
              "      <th>1000800</th>\n",
              "      <td>POLYGON ((986494.145 197775.830, 986457.043 19...</td>\n",
              "      <td>408</td>\n",
              "      <td>40.710762</td>\n",
              "      <td>-73.994004</td>\n",
              "      <td>2817</td>\n",
              "    </tr>\n",
              "    <tr>\n",
              "      <th>1000900</th>\n",
              "      <td>MULTIPOLYGON (((984032.884 192223.748, 983984....</td>\n",
              "      <td>259</td>\n",
              "      <td>40.701221</td>\n",
              "      <td>-74.012342</td>\n",
              "      <td>5466</td>\n",
              "    </tr>\n",
              "    <tr>\n",
              "      <th>...</th>\n",
              "      <td>...</td>\n",
              "      <td>...</td>\n",
              "      <td>...</td>\n",
              "      <td>...</td>\n",
              "      <td>...</td>\n",
              "    </tr>\n",
              "    <tr>\n",
              "      <th>3054900</th>\n",
              "      <td>POLYGON ((994945.336 198442.546, 994837.843 19...</td>\n",
              "      <td>389</td>\n",
              "      <td>40.710446</td>\n",
              "      <td>-73.965251</td>\n",
              "      <td>1908</td>\n",
              "    </tr>\n",
              "    <tr>\n",
              "      <th>3055100</th>\n",
              "      <td>POLYGON ((994568.723 199811.333, 994981.983 19...</td>\n",
              "      <td>481</td>\n",
              "      <td>40.712605</td>\n",
              "      <td>-73.962644</td>\n",
              "      <td>1154</td>\n",
              "    </tr>\n",
              "    <tr>\n",
              "      <th>3055300</th>\n",
              "      <td>POLYGON ((996490.405 200716.407, 996325.543 20...</td>\n",
              "      <td>539</td>\n",
              "      <td>40.715348</td>\n",
              "      <td>-73.960241</td>\n",
              "      <td>2665</td>\n",
              "    </tr>\n",
              "    <tr>\n",
              "      <th>3055500</th>\n",
              "      <td>POLYGON ((995613.061 201097.814, 995447.441 20...</td>\n",
              "      <td>2002</td>\n",
              "      <td>40.716887</td>\n",
              "      <td>-73.963198</td>\n",
              "      <td>2095</td>\n",
              "    </tr>\n",
              "    <tr>\n",
              "      <th>3123700</th>\n",
              "      <td>POLYGON ((997424.901 192488.638, 997168.399 19...</td>\n",
              "      <td>372</td>\n",
              "      <td>40.694528</td>\n",
              "      <td>-73.958089</td>\n",
              "      <td>297</td>\n",
              "    </tr>\n",
              "  </tbody>\n",
              "</table>\n",
              "<p>163 rows × 5 columns</p>\n",
              "</div>"
            ],
            "text/plain": [
              "                                                     geometry  ...  monthlyrides\n",
              "boro_ct201                                                     ...              \n",
              "1000202     MULTIPOLYGON (((989137.110 196325.439, 989113....  ...          4809\n",
              "1000600     POLYGON ((986961.186 199553.643, 987206.139 19...  ...          5817\n",
              "1000700     MULTIPOLYGON (((984804.689 193867.306, 984798....  ...         19521\n",
              "1000800     POLYGON ((986494.145 197775.830, 986457.043 19...  ...          2817\n",
              "1000900     MULTIPOLYGON (((984032.884 192223.748, 983984....  ...          5466\n",
              "...                                                       ...  ...           ...\n",
              "3054900     POLYGON ((994945.336 198442.546, 994837.843 19...  ...          1908\n",
              "3055100     POLYGON ((994568.723 199811.333, 994981.983 19...  ...          1154\n",
              "3055300     POLYGON ((996490.405 200716.407, 996325.543 20...  ...          2665\n",
              "3055500     POLYGON ((995613.061 201097.814, 995447.441 20...  ...          2095\n",
              "3123700     POLYGON ((997424.901 192488.638, 997168.399 19...  ...           297\n",
              "\n",
              "[163 rows x 5 columns]"
            ]
          },
          "metadata": {
            "tags": []
          },
          "execution_count": 38
        }
      ]
    },
    {
      "cell_type": "code",
      "metadata": {
        "id": "MO6G1liZPWuS"
      },
      "source": [
        "path = 'Output/ct_shape_MonthlyAve_Zoom.shp'\n",
        "tripsbyct.to_file(path)"
      ],
      "execution_count": 39,
      "outputs": []
    },
    {
      "cell_type": "code",
      "metadata": {
        "id": "yGtsMRl95WyT",
        "outputId": "1a0ce2af-bc3f-4b64-d0bb-83767f1ef33c",
        "colab": {
          "base_uri": "https://localhost:8080/",
          "height": 0
        }
      },
      "source": [
        "gpd.GeoDataFrame.from_file(path)"
      ],
      "execution_count": 40,
      "outputs": [
        {
          "output_type": "execute_result",
          "data": {
            "text/html": [
              "<div>\n",
              "<style scoped>\n",
              "    .dataframe tbody tr th:only-of-type {\n",
              "        vertical-align: middle;\n",
              "    }\n",
              "\n",
              "    .dataframe tbody tr th {\n",
              "        vertical-align: top;\n",
              "    }\n",
              "\n",
              "    .dataframe thead th {\n",
              "        text-align: right;\n",
              "    }\n",
              "</style>\n",
              "<table border=\"1\" class=\"dataframe\">\n",
              "  <thead>\n",
              "    <tr style=\"text-align: right;\">\n",
              "      <th></th>\n",
              "      <th>boro_ct201</th>\n",
              "      <th>start stat</th>\n",
              "      <th>start st_1</th>\n",
              "      <th>start st_2</th>\n",
              "      <th>monthlyrid</th>\n",
              "      <th>geometry</th>\n",
              "    </tr>\n",
              "  </thead>\n",
              "  <tbody>\n",
              "    <tr>\n",
              "      <th>0</th>\n",
              "      <td>1000202</td>\n",
              "      <td>332</td>\n",
              "      <td>40.712199</td>\n",
              "      <td>-73.979481</td>\n",
              "      <td>4809</td>\n",
              "      <td>MULTIPOLYGON (((989137.110 196325.439, 989113....</td>\n",
              "    </tr>\n",
              "    <tr>\n",
              "      <th>1</th>\n",
              "      <td>1000600</td>\n",
              "      <td>331</td>\n",
              "      <td>40.711731</td>\n",
              "      <td>-73.991930</td>\n",
              "      <td>5817</td>\n",
              "      <td>POLYGON ((986961.186 199553.643, 987206.139 19...</td>\n",
              "    </tr>\n",
              "    <tr>\n",
              "      <th>2</th>\n",
              "      <td>1000700</td>\n",
              "      <td>315</td>\n",
              "      <td>40.703554</td>\n",
              "      <td>-74.006702</td>\n",
              "      <td>19521</td>\n",
              "      <td>MULTIPOLYGON (((984804.689 193867.306, 984798....</td>\n",
              "    </tr>\n",
              "    <tr>\n",
              "      <th>3</th>\n",
              "      <td>1000800</td>\n",
              "      <td>408</td>\n",
              "      <td>40.710762</td>\n",
              "      <td>-73.994004</td>\n",
              "      <td>2817</td>\n",
              "      <td>POLYGON ((986494.145 197775.830, 986457.043 19...</td>\n",
              "    </tr>\n",
              "    <tr>\n",
              "      <th>4</th>\n",
              "      <td>1000900</td>\n",
              "      <td>259</td>\n",
              "      <td>40.701221</td>\n",
              "      <td>-74.012342</td>\n",
              "      <td>5466</td>\n",
              "      <td>MULTIPOLYGON (((984032.884 192223.748, 983984....</td>\n",
              "    </tr>\n",
              "    <tr>\n",
              "      <th>...</th>\n",
              "      <td>...</td>\n",
              "      <td>...</td>\n",
              "      <td>...</td>\n",
              "      <td>...</td>\n",
              "      <td>...</td>\n",
              "      <td>...</td>\n",
              "    </tr>\n",
              "    <tr>\n",
              "      <th>158</th>\n",
              "      <td>3054900</td>\n",
              "      <td>389</td>\n",
              "      <td>40.710446</td>\n",
              "      <td>-73.965251</td>\n",
              "      <td>1908</td>\n",
              "      <td>POLYGON ((994945.336 198442.546, 994837.843 19...</td>\n",
              "    </tr>\n",
              "    <tr>\n",
              "      <th>159</th>\n",
              "      <td>3055100</td>\n",
              "      <td>481</td>\n",
              "      <td>40.712605</td>\n",
              "      <td>-73.962644</td>\n",
              "      <td>1154</td>\n",
              "      <td>POLYGON ((994568.723 199811.333, 994981.983 19...</td>\n",
              "    </tr>\n",
              "    <tr>\n",
              "      <th>160</th>\n",
              "      <td>3055300</td>\n",
              "      <td>539</td>\n",
              "      <td>40.715348</td>\n",
              "      <td>-73.960241</td>\n",
              "      <td>2665</td>\n",
              "      <td>POLYGON ((996490.405 200716.407, 996325.543 20...</td>\n",
              "    </tr>\n",
              "    <tr>\n",
              "      <th>161</th>\n",
              "      <td>3055500</td>\n",
              "      <td>2002</td>\n",
              "      <td>40.716887</td>\n",
              "      <td>-73.963198</td>\n",
              "      <td>2095</td>\n",
              "      <td>POLYGON ((995613.061 201097.814, 995447.441 20...</td>\n",
              "    </tr>\n",
              "    <tr>\n",
              "      <th>162</th>\n",
              "      <td>3123700</td>\n",
              "      <td>372</td>\n",
              "      <td>40.694528</td>\n",
              "      <td>-73.958089</td>\n",
              "      <td>297</td>\n",
              "      <td>POLYGON ((997424.901 192488.638, 997168.399 19...</td>\n",
              "    </tr>\n",
              "  </tbody>\n",
              "</table>\n",
              "<p>163 rows × 6 columns</p>\n",
              "</div>"
            ],
            "text/plain": [
              "    boro_ct201  ...                                           geometry\n",
              "0      1000202  ...  MULTIPOLYGON (((989137.110 196325.439, 989113....\n",
              "1      1000600  ...  POLYGON ((986961.186 199553.643, 987206.139 19...\n",
              "2      1000700  ...  MULTIPOLYGON (((984804.689 193867.306, 984798....\n",
              "3      1000800  ...  POLYGON ((986494.145 197775.830, 986457.043 19...\n",
              "4      1000900  ...  MULTIPOLYGON (((984032.884 192223.748, 983984....\n",
              "..         ...  ...                                                ...\n",
              "158    3054900  ...  POLYGON ((994945.336 198442.546, 994837.843 19...\n",
              "159    3055100  ...  POLYGON ((994568.723 199811.333, 994981.983 19...\n",
              "160    3055300  ...  POLYGON ((996490.405 200716.407, 996325.543 20...\n",
              "161    3055500  ...  POLYGON ((995613.061 201097.814, 995447.441 20...\n",
              "162    3123700  ...  POLYGON ((997424.901 192488.638, 997168.399 19...\n",
              "\n",
              "[163 rows x 6 columns]"
            ]
          },
          "metadata": {
            "tags": []
          },
          "execution_count": 40
        }
      ]
    },
    {
      "cell_type": "code",
      "metadata": {
        "id": "bRqPuBA5Vlgl"
      },
      "source": [
        ""
      ],
      "execution_count": 40,
      "outputs": []
    }
  ]
}