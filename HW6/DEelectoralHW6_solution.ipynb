{
  "nbformat": 4,
  "nbformat_minor": 0,
  "metadata": {
    "colab": {
      "name": "DEelectoralHW6_solution.ipynb",
      "provenance": [],
      "authorship_tag": "ABX9TyPfxHIwWnnW3BQeI3/v7xsu",
      "include_colab_link": true
    },
    "kernelspec": {
      "name": "python3",
      "display_name": "Python 3"
    }
  },
  "cells": [
    {
      "cell_type": "markdown",
      "metadata": {
        "id": "view-in-github",
        "colab_type": "text"
      },
      "source": [
        "<a href=\"https://colab.research.google.com/github/fedhere/PUS2020_FBianco/blob/master/HW6/DEelectoralHW6_solution.ipynb\" target=\"_parent\"><img src=\"https://colab.research.google.com/assets/colab-badge.svg\" alt=\"Open In Colab\"/></a>"
      ]
    },
    {
      "cell_type": "code",
      "metadata": {
        "id": "hcRcWelkgXt0"
      },
      "source": [
        ""
      ],
      "execution_count": null,
      "outputs": []
    },
    {
      "cell_type": "code",
      "metadata": {
        "id": "4HML2ZQrEZb-",
        "outputId": "f73ee409-21df-4c01-ddae-f0bb22a2b050",
        "colab": {
          "base_uri": "https://localhost:8080/",
          "height": 102
        }
      },
      "source": [
        "import numpy as np\n",
        "import pandas as pd\n",
        "import matplotlib\n",
        "import scipy as sp\n",
        "import pylab as plt\n",
        "import shapely\n",
        "\n",
        "%pylab inline"
      ],
      "execution_count": null,
      "outputs": [
        {
          "output_type": "stream",
          "text": [
            "Populating the interactive namespace from numpy and matplotlib\n"
          ],
          "name": "stdout"
        },
        {
          "output_type": "stream",
          "text": [
            "/usr/local/lib/python3.6/dist-packages/IPython/core/magics/pylab.py:161: UserWarning: pylab import has clobbered these variables: ['plt']\n",
            "`%matplotlib` prevents importing * from pylab and numpy\n",
            "  \"\\n`%matplotlib` prevents importing * from pylab and numpy\"\n"
          ],
          "name": "stderr"
        }
      ]
    },
    {
      "cell_type": "code",
      "metadata": {
        "id": "suzUimciHVGX",
        "outputId": "50d0b303-a5d3-416f-db36-8fa46f65fb16",
        "colab": {
          "base_uri": "https://localhost:8080/",
          "height": 443
        }
      },
      "source": [
        "!pip install geopandas"
      ],
      "execution_count": null,
      "outputs": [
        {
          "output_type": "stream",
          "text": [
            "Collecting geopandas\n",
            "\u001b[?25l  Downloading https://files.pythonhosted.org/packages/f7/a4/e66aafbefcbb717813bf3a355c8c4fc3ed04ea1dd7feb2920f2f4f868921/geopandas-0.8.1-py2.py3-none-any.whl (962kB)\n",
            "\u001b[K     |████████████████████████████████| 972kB 2.8MB/s \n",
            "\u001b[?25hCollecting pyproj>=2.2.0\n",
            "\u001b[?25l  Downloading https://files.pythonhosted.org/packages/e5/c3/071e080230ac4b6c64f1a2e2f9161c9737a2bc7b683d2c90b024825000c0/pyproj-2.6.1.post1-cp36-cp36m-manylinux2010_x86_64.whl (10.9MB)\n",
            "\u001b[K     |████████████████████████████████| 10.9MB 13.9MB/s \n",
            "\u001b[?25hCollecting fiona\n",
            "\u001b[?25l  Downloading https://files.pythonhosted.org/packages/36/8b/e8b2c11bed5373c8e98edb85ce891b09aa1f4210fd451d0fb3696b7695a2/Fiona-1.8.17-cp36-cp36m-manylinux1_x86_64.whl (14.8MB)\n",
            "\u001b[K     |████████████████████████████████| 14.8MB 286kB/s \n",
            "\u001b[?25hRequirement already satisfied: shapely in /usr/local/lib/python3.6/dist-packages (from geopandas) (1.7.1)\n",
            "Requirement already satisfied: pandas>=0.23.0 in /usr/local/lib/python3.6/dist-packages (from geopandas) (1.1.2)\n",
            "Requirement already satisfied: six>=1.7 in /usr/local/lib/python3.6/dist-packages (from fiona->geopandas) (1.15.0)\n",
            "Requirement already satisfied: attrs>=17 in /usr/local/lib/python3.6/dist-packages (from fiona->geopandas) (20.2.0)\n",
            "Collecting click-plugins>=1.0\n",
            "  Downloading https://files.pythonhosted.org/packages/e9/da/824b92d9942f4e472702488857914bdd50f73021efea15b4cad9aca8ecef/click_plugins-1.1.1-py2.py3-none-any.whl\n",
            "Collecting cligj>=0.5\n",
            "  Downloading https://files.pythonhosted.org/packages/e4/be/30a58b4b0733850280d01f8bd132591b4668ed5c7046761098d665ac2174/cligj-0.5.0-py3-none-any.whl\n",
            "Collecting munch\n",
            "  Downloading https://files.pythonhosted.org/packages/cc/ab/85d8da5c9a45e072301beb37ad7f833cd344e04c817d97e0cc75681d248f/munch-2.5.0-py2.py3-none-any.whl\n",
            "Requirement already satisfied: click<8,>=4.0 in /usr/local/lib/python3.6/dist-packages (from fiona->geopandas) (7.1.2)\n",
            "Requirement already satisfied: numpy>=1.15.4 in /usr/local/lib/python3.6/dist-packages (from pandas>=0.23.0->geopandas) (1.18.5)\n",
            "Requirement already satisfied: python-dateutil>=2.7.3 in /usr/local/lib/python3.6/dist-packages (from pandas>=0.23.0->geopandas) (2.8.1)\n",
            "Requirement already satisfied: pytz>=2017.2 in /usr/local/lib/python3.6/dist-packages (from pandas>=0.23.0->geopandas) (2018.9)\n",
            "Installing collected packages: pyproj, click-plugins, cligj, munch, fiona, geopandas\n",
            "Successfully installed click-plugins-1.1.1 cligj-0.5.0 fiona-1.8.17 geopandas-0.8.1 munch-2.5.0 pyproj-2.6.1.post1\n"
          ],
          "name": "stdout"
        }
      ]
    },
    {
      "cell_type": "code",
      "metadata": {
        "id": "ctg3I6OHnfAm",
        "outputId": "97191f3a-7580-4d7f-f79f-445ad8641029",
        "colab": {
          "base_uri": "https://localhost:8080/",
          "height": 281
        }
      },
      "source": [
        "!pip install -U --no-deps mapclassify git+git://github.com/geopandas/geopandas.git@master\n"
      ],
      "execution_count": null,
      "outputs": [
        {
          "output_type": "stream",
          "text": [
            "Collecting git+git://github.com/geopandas/geopandas.git@master\n",
            "  Cloning git://github.com/geopandas/geopandas.git (to revision master) to /tmp/pip-req-build-7iwf0o06\n",
            "  Running command git clone -q git://github.com/geopandas/geopandas.git /tmp/pip-req-build-7iwf0o06\n",
            "Collecting mapclassify\n",
            "  Downloading https://files.pythonhosted.org/packages/11/80/cd58dc848a93bfb01c4b84f26e3d5d6c64266163ca1e2453c3f6fb291ef7/mapclassify-2.3.0-py3-none-any.whl\n",
            "Building wheels for collected packages: geopandas\n",
            "  Building wheel for geopandas (setup.py) ... \u001b[?25l\u001b[?25hdone\n",
            "  Created wheel for geopandas: filename=geopandas-0.8.0+55.g924cdf6-py2.py3-none-any.whl size=970002 sha256=8cabf529fac11046c5e4f7adc8d948135dabe1ca04ee6bdd6607bfa9f7d6d1f0\n",
            "  Stored in directory: /tmp/pip-ephem-wheel-cache-vzrc41zi/wheels/1e/57/dc/7a5ea8503aefb23576c42181adfca7fc173fde5b71900660bc\n",
            "Successfully built geopandas\n",
            "Installing collected packages: mapclassify, geopandas\n",
            "  Found existing installation: geopandas 0.8.1\n",
            "    Uninstalling geopandas-0.8.1:\n",
            "      Successfully uninstalled geopandas-0.8.1\n",
            "Successfully installed geopandas-0.8.0+55.g924cdf6 mapclassify-2.3.0\n"
          ],
          "name": "stdout"
        }
      ]
    },
    {
      "cell_type": "code",
      "metadata": {
        "id": "j7CCEj7stsOM",
        "outputId": "5182e8e6-aff2-4e3c-d757-811ad292cabb",
        "colab": {
          "base_uri": "https://localhost:8080/",
          "height": 1000
        }
      },
      "source": [
        "!apt install libspatialindex-c4v5\n",
        "!pip install pysal"
      ],
      "execution_count": null,
      "outputs": [
        {
          "output_type": "stream",
          "text": [
            "Reading package lists... Done\n",
            "Building dependency tree       \n",
            "Reading state information... Done\n",
            "The following additional packages will be installed:\n",
            "  libspatialindex4v5\n",
            "The following NEW packages will be installed:\n",
            "  libspatialindex-c4v5 libspatialindex4v5\n",
            "0 upgraded, 2 newly installed, 0 to remove and 21 not upgraded.\n",
            "Need to get 270 kB of archives.\n",
            "After this operation, 1,107 kB of additional disk space will be used.\n",
            "Get:1 http://archive.ubuntu.com/ubuntu bionic/universe amd64 libspatialindex4v5 amd64 1.8.5-5 [219 kB]\n",
            "Get:2 http://archive.ubuntu.com/ubuntu bionic/universe amd64 libspatialindex-c4v5 amd64 1.8.5-5 [51.7 kB]\n",
            "Fetched 270 kB in 1s (420 kB/s)\n",
            "Selecting previously unselected package libspatialindex4v5:amd64.\n",
            "(Reading database ... 144611 files and directories currently installed.)\n",
            "Preparing to unpack .../libspatialindex4v5_1.8.5-5_amd64.deb ...\n",
            "Unpacking libspatialindex4v5:amd64 (1.8.5-5) ...\n",
            "Selecting previously unselected package libspatialindex-c4v5:amd64.\n",
            "Preparing to unpack .../libspatialindex-c4v5_1.8.5-5_amd64.deb ...\n",
            "Unpacking libspatialindex-c4v5:amd64 (1.8.5-5) ...\n",
            "Setting up libspatialindex4v5:amd64 (1.8.5-5) ...\n",
            "Setting up libspatialindex-c4v5:amd64 (1.8.5-5) ...\n",
            "Processing triggers for libc-bin (2.27-3ubuntu1.2) ...\n",
            "/sbin/ldconfig.real: /usr/local/lib/python3.6/dist-packages/ideep4py/lib/libmkldnn.so.0 is not a symbolic link\n",
            "\n",
            "Collecting pysal\n",
            "\u001b[?25l  Downloading https://files.pythonhosted.org/packages/ae/81/15c6ee658197330923cbd892b82323c4b8ac276503f9d38620343acb3822/pysal-2.3.0.tar.gz (108kB)\n",
            "\u001b[K     |████████████████████████████████| 112kB 2.8MB/s \n",
            "\u001b[?25hCollecting libpysal>=4.3.0\n",
            "\u001b[?25l  Downloading https://files.pythonhosted.org/packages/98/b8/90e8d8a1cf8e5d38c89debf40d5bc89496395b5e2014a1de22228ead4b55/libpysal-4.3.0.tar.gz (2.4MB)\n",
            "\u001b[K     |████████████████████████████████| 2.4MB 8.8MB/s \n",
            "\u001b[?25hCollecting access>=1.1.1\n",
            "  Downloading https://files.pythonhosted.org/packages/e7/59/e73623ae5d880c810340a1f65d5b2104612c38c7983f0fa4428b6c49912a/access-1.1.1-py3-none-any.whl\n",
            "Collecting esda>=2.3.1\n",
            "\u001b[?25l  Downloading https://files.pythonhosted.org/packages/c1/ee/80d6c041e4b5b81a41058efcb4b92b03bc13d6005dd5263f8a7896ee8804/esda-2.3.1.tar.gz (71kB)\n",
            "\u001b[K     |████████████████████████████████| 71kB 8.2MB/s \n",
            "\u001b[?25hCollecting giddy>=2.3.3\n",
            "\u001b[?25l  Downloading https://files.pythonhosted.org/packages/5c/71/f7fc2b41e36b2a06bac30937435d2dedd125f74f3157213ec121ff52d961/giddy-2.3.3-py3-none-any.whl (60kB)\n",
            "\u001b[K     |████████████████████████████████| 61kB 7.1MB/s \n",
            "\u001b[?25hCollecting inequality>=1.0.0\n",
            "  Downloading https://files.pythonhosted.org/packages/74/0f/9ed2d097f29160d0c873f33ffc0b9806c1083e3611acb2143eb66adcf580/inequality-1.0.0.tar.gz\n",
            "Collecting pointpats>=2.2.0\n",
            "\u001b[?25l  Downloading https://files.pythonhosted.org/packages/5f/2b/a3e99c42b37c3e848eb8e55f2ee2b2d281ae0d49df261f13eaaeba7171a5/pointpats-2.2.0.tar.gz (55kB)\n",
            "\u001b[K     |████████████████████████████████| 61kB 7.8MB/s \n",
            "\u001b[?25hCollecting segregation>=1.3.0\n",
            "\u001b[?25l  Downloading https://files.pythonhosted.org/packages/46/06/e26a4de643332ff15b9e719fc92b13e0ce562695c4fd47fb0a6df96e72bc/segregation-1.3.0-py3-none-any.whl (82kB)\n",
            "\u001b[K     |████████████████████████████████| 92kB 9.7MB/s \n",
            "\u001b[?25hCollecting spaghetti>=1.5.0\n",
            "\u001b[?25l  Downloading https://files.pythonhosted.org/packages/d6/f1/1770ea2de7c441a42c3b3e47d9746256202a17666c3d49bdacc54cebb51e/spaghetti-1.5.0-py3-none-any.whl (43kB)\n",
            "\u001b[K     |████████████████████████████████| 51kB 5.3MB/s \n",
            "\u001b[?25hCollecting mgwr>=2.1.1\n",
            "\u001b[?25l  Downloading https://files.pythonhosted.org/packages/8e/14/e18342b62655ec7f37624ff936d6f273f82b51913cd558110fd4d670794e/mgwr-2.1.2.tar.gz (41kB)\n",
            "\u001b[K     |████████████████████████████████| 51kB 6.8MB/s \n",
            "\u001b[?25hCollecting spglm>=1.0.7\n",
            "  Downloading https://files.pythonhosted.org/packages/07/8f/03f07807967595d2632dbe0f7c442511a5ff422103b49c76557f9eed40c5/spglm-1.0.8.tar.gz\n",
            "Collecting spint>=1.0.6\n",
            "  Downloading https://files.pythonhosted.org/packages/7e/c5/e4862ab3f745a1886135b07e498e77504c14e468d0a6b89f7270f5def979/spint-1.0.7.tar.gz\n",
            "Collecting spreg>=1.1.1\n",
            "\u001b[?25l  Downloading https://files.pythonhosted.org/packages/d6/37/6789fbf602e1ad27ebf5e1a6ec05b7553c5630e3bd0a34a521832da169a8/spreg-1.1.2.post1-py3-none-any.whl (265kB)\n",
            "\u001b[K     |████████████████████████████████| 266kB 20.2MB/s \n",
            "\u001b[?25hCollecting spvcm==0.3.0\n",
            "\u001b[?25l  Downloading https://files.pythonhosted.org/packages/b4/c9/43fb98bc60728b76fceee175119a1ff7e5033ed9012d07570e34a2a19a8f/spvcm-0.3.0.tar.gz (5.7MB)\n",
            "\u001b[K     |████████████████████████████████| 5.7MB 15.1MB/s \n",
            "\u001b[?25hCollecting tobler>=0.3.1\n",
            "  Downloading https://files.pythonhosted.org/packages/05/2a/d40c1c9dc8c83f5f87889a8ca4cb252124b11fb26ebf437ee2561e898f25/tobler-0.4.0-py3-none-any.whl\n",
            "Requirement already satisfied: mapclassify>=2.3.0 in /usr/local/lib/python3.6/dist-packages (from pysal) (2.3.0)\n",
            "Collecting splot>=1.1.3\n",
            "  Downloading https://files.pythonhosted.org/packages/83/1c/afb3e3eeeda4eef065f0b3249ca74cbcc44af3bc59ddb5a21b5445753955/splot-1.1.3.tar.gz\n",
            "Requirement already satisfied: urllib3<1.25 in /usr/local/lib/python3.6/dist-packages (from pysal) (1.24.3)\n",
            "Collecting python-dateutil<=2.8.0\n",
            "\u001b[?25l  Downloading https://files.pythonhosted.org/packages/41/17/c62faccbfbd163c7f57f3844689e3a78bae1f403648a6afb1d0866d87fbb/python_dateutil-2.8.0-py2.py3-none-any.whl (226kB)\n",
            "\u001b[K     |████████████████████████████████| 235kB 48.0MB/s \n",
            "\u001b[?25hRequirement already satisfied: pytest in /usr/local/lib/python3.6/dist-packages (from pysal) (3.6.4)\n",
            "Collecting pytest-cov\n",
            "  Downloading https://files.pythonhosted.org/packages/e5/18/401594af67eda194a8b9167208621761927c937db7d60292608342bbac0a/pytest_cov-2.10.1-py2.py3-none-any.whl\n",
            "Requirement already satisfied: coverage in /usr/local/lib/python3.6/dist-packages (from pysal) (3.7.1)\n",
            "Requirement already satisfied: scipy>=0.11 in /usr/local/lib/python3.6/dist-packages (from libpysal>=4.3.0->pysal) (1.4.1)\n",
            "Requirement already satisfied: numpy>=1.3 in /usr/local/lib/python3.6/dist-packages (from libpysal>=4.3.0->pysal) (1.18.5)\n",
            "Requirement already satisfied: pandas in /usr/local/lib/python3.6/dist-packages (from libpysal>=4.3.0->pysal) (1.1.2)\n",
            "Requirement already satisfied: beautifulsoup4 in /usr/local/lib/python3.6/dist-packages (from libpysal>=4.3.0->pysal) (4.6.3)\n",
            "Requirement already satisfied: requests in /usr/local/lib/python3.6/dist-packages (from libpysal>=4.3.0->pysal) (2.23.0)\n",
            "Requirement already satisfied: jinja2 in /usr/local/lib/python3.6/dist-packages (from libpysal>=4.3.0->pysal) (2.11.2)\n",
            "Collecting Sphinx==2.4.3\n",
            "\u001b[?25l  Downloading https://files.pythonhosted.org/packages/33/34/54e25b6a948d824046289f87a081741328439509beabfa39ab8332fcec75/Sphinx-2.4.3-py3-none-any.whl (2.7MB)\n",
            "\u001b[K     |████████████████████████████████| 2.7MB 34.5MB/s \n",
            "\u001b[?25hRequirement already satisfied: scikit-learn in /usr/local/lib/python3.6/dist-packages (from esda>=2.3.1->pysal) (0.22.2.post1)\n",
            "Collecting quantecon>=0.4.7\n",
            "\u001b[?25l  Downloading https://files.pythonhosted.org/packages/5d/e3/4fd5f948de917036b5696347b28fa25da7bd7df995e4f9f42db1c3070eb8/quantecon-0.4.8-py3-none-any.whl (230kB)\n",
            "\u001b[K     |████████████████████████████████| 235kB 46.3MB/s \n",
            "\u001b[?25hRequirement already satisfied: matplotlib in /usr/local/lib/python3.6/dist-packages (from pointpats>=2.2.0->pysal) (3.2.2)\n",
            "Collecting opencv-contrib-python>=4.2.0\n",
            "\u001b[?25l  Downloading https://files.pythonhosted.org/packages/a7/25/d4aa87bb9279127f1bac881b7524d8bafd25d626aba2c28fa355ed1ada2a/opencv_contrib_python-4.4.0.44-cp36-cp36m-manylinux2014_x86_64.whl (55.7MB)\n",
            "\u001b[K     |████████████████████████████████| 55.7MB 63kB/s \n",
            "\u001b[?25hRequirement already satisfied: geopandas in /usr/local/lib/python3.6/dist-packages (from segregation>=1.3.0->pysal) (0.8.0+55.g924cdf6)\n",
            "Requirement already satisfied: seaborn in /usr/local/lib/python3.6/dist-packages (from segregation>=1.3.0->pysal) (0.11.0)\n",
            "Requirement already satisfied: tqdm in /usr/local/lib/python3.6/dist-packages (from segregation>=1.3.0->pysal) (4.41.1)\n",
            "Collecting rtree\n",
            "\u001b[?25l  Downloading https://files.pythonhosted.org/packages/56/6f/f1e91001d5ad9fa9bed65875152f5a1c7955c5763168cae309546e6e9fda/Rtree-0.9.4.tar.gz (62kB)\n",
            "\u001b[K     |████████████████████████████████| 71kB 8.8MB/s \n",
            "\u001b[?25hRequirement already satisfied: statsmodels in /usr/local/lib/python3.6/dist-packages (from tobler>=0.3.1->pysal) (0.10.2)\n",
            "Collecting rasterstats\n",
            "  Downloading https://files.pythonhosted.org/packages/9f/52/055b2b736e4aa1126c4619a561b44c3bc30fbe48025e6f3275b92928a0a0/rasterstats-0.15.0-py3-none-any.whl\n",
            "Collecting rasterio\n",
            "\u001b[?25l  Downloading https://files.pythonhosted.org/packages/cc/1c/0f36885ac5864b8ad75f167ca1d403666a5f0c3b2ea8ad3366c98a628e99/rasterio-1.1.7-cp36-cp36m-manylinux1_x86_64.whl (18.1MB)\n",
            "\u001b[K     |████████████████████████████████| 18.1MB 244kB/s \n",
            "\u001b[?25hRequirement already satisfied: networkx in /usr/local/lib/python3.6/dist-packages (from mapclassify>=2.3.0->pysal) (2.5)\n",
            "Requirement already satisfied: descartes in /usr/local/lib/python3.6/dist-packages (from splot>=1.1.3->pysal) (1.1.0)\n",
            "Requirement already satisfied: six>=1.5 in /usr/local/lib/python3.6/dist-packages (from python-dateutil<=2.8.0->pysal) (1.15.0)\n",
            "Requirement already satisfied: pluggy<0.8,>=0.5 in /usr/local/lib/python3.6/dist-packages (from pytest->pysal) (0.7.1)\n",
            "Requirement already satisfied: py>=1.5.0 in /usr/local/lib/python3.6/dist-packages (from pytest->pysal) (1.9.0)\n",
            "Requirement already satisfied: more-itertools>=4.0.0 in /usr/local/lib/python3.6/dist-packages (from pytest->pysal) (8.5.0)\n",
            "Requirement already satisfied: atomicwrites>=1.0 in /usr/local/lib/python3.6/dist-packages (from pytest->pysal) (1.4.0)\n",
            "Requirement already satisfied: setuptools in /usr/local/lib/python3.6/dist-packages (from pytest->pysal) (50.3.0)\n",
            "Requirement already satisfied: attrs>=17.4.0 in /usr/local/lib/python3.6/dist-packages (from pytest->pysal) (20.2.0)\n",
            "Requirement already satisfied: pytz>=2017.2 in /usr/local/lib/python3.6/dist-packages (from pandas->libpysal>=4.3.0->pysal) (2018.9)\n",
            "Requirement already satisfied: idna<3,>=2.5 in /usr/local/lib/python3.6/dist-packages (from requests->libpysal>=4.3.0->pysal) (2.10)\n",
            "Requirement already satisfied: certifi>=2017.4.17 in /usr/local/lib/python3.6/dist-packages (from requests->libpysal>=4.3.0->pysal) (2020.6.20)\n",
            "Requirement already satisfied: chardet<4,>=3.0.2 in /usr/local/lib/python3.6/dist-packages (from requests->libpysal>=4.3.0->pysal) (3.0.4)\n",
            "Requirement already satisfied: MarkupSafe>=0.23 in /usr/local/lib/python3.6/dist-packages (from jinja2->libpysal>=4.3.0->pysal) (1.1.1)\n",
            "Requirement already satisfied: Pygments>=2.0 in /usr/local/lib/python3.6/dist-packages (from Sphinx==2.4.3->access>=1.1.1->pysal) (2.6.1)\n",
            "Requirement already satisfied: sphinxcontrib-serializinghtml in /usr/local/lib/python3.6/dist-packages (from Sphinx==2.4.3->access>=1.1.1->pysal) (1.1.4)\n",
            "Collecting sphinxcontrib-devhelp\n",
            "\u001b[?25l  Downloading https://files.pythonhosted.org/packages/c5/09/5de5ed43a521387f18bdf5f5af31d099605c992fd25372b2b9b825ce48ee/sphinxcontrib_devhelp-1.0.2-py2.py3-none-any.whl (84kB)\n",
            "\u001b[K     |████████████████████████████████| 92kB 11.3MB/s \n",
            "\u001b[?25hCollecting sphinxcontrib-jsmath\n",
            "  Downloading https://files.pythonhosted.org/packages/c2/42/4c8646762ee83602e3fb3fbe774c2fac12f317deb0b5dbeeedd2d3ba4b77/sphinxcontrib_jsmath-1.0.1-py2.py3-none-any.whl\n",
            "Requirement already satisfied: packaging in /usr/local/lib/python3.6/dist-packages (from Sphinx==2.4.3->access>=1.1.1->pysal) (20.4)\n",
            "Requirement already satisfied: docutils>=0.12 in /usr/local/lib/python3.6/dist-packages (from Sphinx==2.4.3->access>=1.1.1->pysal) (0.16)\n",
            "Requirement already satisfied: snowballstemmer>=1.1 in /usr/local/lib/python3.6/dist-packages (from Sphinx==2.4.3->access>=1.1.1->pysal) (2.0.0)\n",
            "Collecting sphinxcontrib-applehelp\n",
            "\u001b[?25l  Downloading https://files.pythonhosted.org/packages/dc/47/86022665a9433d89a66f5911b558ddff69861766807ba685de2e324bd6ed/sphinxcontrib_applehelp-1.0.2-py2.py3-none-any.whl (121kB)\n",
            "\u001b[K     |████████████████████████████████| 122kB 51.0MB/s \n",
            "\u001b[?25hRequirement already satisfied: babel!=2.0,>=1.3 in /usr/local/lib/python3.6/dist-packages (from Sphinx==2.4.3->access>=1.1.1->pysal) (2.8.0)\n",
            "Requirement already satisfied: alabaster<0.8,>=0.7 in /usr/local/lib/python3.6/dist-packages (from Sphinx==2.4.3->access>=1.1.1->pysal) (0.7.12)\n",
            "Collecting sphinxcontrib-htmlhelp\n",
            "\u001b[?25l  Downloading https://files.pythonhosted.org/packages/36/62/8222554b29b3acde8420128d6d3999c5904d40922ef4b6ccb370e2be7421/sphinxcontrib_htmlhelp-1.0.3-py2.py3-none-any.whl (96kB)\n",
            "\u001b[K     |████████████████████████████████| 102kB 12.2MB/s \n",
            "\u001b[?25hRequirement already satisfied: imagesize in /usr/local/lib/python3.6/dist-packages (from Sphinx==2.4.3->access>=1.1.1->pysal) (1.2.0)\n",
            "Collecting sphinxcontrib-qthelp\n",
            "\u001b[?25l  Downloading https://files.pythonhosted.org/packages/2b/14/05f9206cf4e9cfca1afb5fd224c7cd434dcc3a433d6d9e4e0264d29c6cdb/sphinxcontrib_qthelp-1.0.3-py2.py3-none-any.whl (90kB)\n",
            "\u001b[K     |████████████████████████████████| 92kB 10.7MB/s \n",
            "\u001b[?25hRequirement already satisfied: joblib>=0.11 in /usr/local/lib/python3.6/dist-packages (from scikit-learn->esda>=2.3.1->pysal) (0.16.0)\n",
            "Requirement already satisfied: numba>=0.38 in /usr/local/lib/python3.6/dist-packages (from quantecon>=0.4.7->giddy>=2.3.3->pysal) (0.48.0)\n",
            "Requirement already satisfied: sympy in /usr/local/lib/python3.6/dist-packages (from quantecon>=0.4.7->giddy>=2.3.3->pysal) (1.1.1)\n",
            "Requirement already satisfied: kiwisolver>=1.0.1 in /usr/local/lib/python3.6/dist-packages (from matplotlib->pointpats>=2.2.0->pysal) (1.2.0)\n",
            "Requirement already satisfied: cycler>=0.10 in /usr/local/lib/python3.6/dist-packages (from matplotlib->pointpats>=2.2.0->pysal) (0.10.0)\n",
            "Requirement already satisfied: pyparsing!=2.0.4,!=2.1.2,!=2.1.6,>=2.0.1 in /usr/local/lib/python3.6/dist-packages (from matplotlib->pointpats>=2.2.0->pysal) (2.4.7)\n",
            "Requirement already satisfied: shapely>=1.6 in /usr/local/lib/python3.6/dist-packages (from geopandas->segregation>=1.3.0->pysal) (1.7.1)\n",
            "Requirement already satisfied: pyproj>=2.2.0 in /usr/local/lib/python3.6/dist-packages (from geopandas->segregation>=1.3.0->pysal) (2.6.1.post1)\n",
            "Requirement already satisfied: fiona>=1.8 in /usr/local/lib/python3.6/dist-packages (from geopandas->segregation>=1.3.0->pysal) (1.8.17)\n",
            "Requirement already satisfied: patsy>=0.4.0 in /usr/local/lib/python3.6/dist-packages (from statsmodels->tobler>=0.3.1->pysal) (0.5.1)\n",
            "Collecting affine<3.0\n",
            "  Downloading https://files.pythonhosted.org/packages/ac/a6/1a39a1ede71210e3ddaf623982b06ecfc5c5c03741ae659073159184cd3e/affine-2.3.0-py2.py3-none-any.whl\n",
            "Collecting simplejson\n",
            "\u001b[?25l  Downloading https://files.pythonhosted.org/packages/73/96/1e6b19045375890068d7342cbe280dd64ae73fd90b9735b5efb8d1e044a1/simplejson-3.17.2-cp36-cp36m-manylinux2010_x86_64.whl (127kB)\n",
            "\u001b[K     |████████████████████████████████| 133kB 52.6MB/s \n",
            "\u001b[?25hRequirement already satisfied: cligj>=0.4 in /usr/local/lib/python3.6/dist-packages (from rasterstats->tobler>=0.3.1->pysal) (0.5.0)\n",
            "Requirement already satisfied: click-plugins in /usr/local/lib/python3.6/dist-packages (from rasterio->tobler>=0.3.1->pysal) (1.1.1)\n",
            "Requirement already satisfied: click<8,>=4.0 in /usr/local/lib/python3.6/dist-packages (from rasterio->tobler>=0.3.1->pysal) (7.1.2)\n",
            "Collecting snuggs>=1.4.1\n",
            "  Downloading https://files.pythonhosted.org/packages/cc/0e/d27d6e806d6c0d1a2cfdc5d1f088e42339a0a54a09c3343f7f81ec8947ea/snuggs-1.4.7-py3-none-any.whl\n",
            "Requirement already satisfied: decorator>=4.3.0 in /usr/local/lib/python3.6/dist-packages (from networkx->mapclassify>=2.3.0->pysal) (4.4.2)\n",
            "Requirement already satisfied: llvmlite<0.32.0,>=0.31.0dev0 in /usr/local/lib/python3.6/dist-packages (from numba>=0.38->quantecon>=0.4.7->giddy>=2.3.3->pysal) (0.31.0)\n",
            "Requirement already satisfied: mpmath>=0.19 in /usr/local/lib/python3.6/dist-packages (from sympy->quantecon>=0.4.7->giddy>=2.3.3->pysal) (1.1.0)\n",
            "Requirement already satisfied: munch in /usr/local/lib/python3.6/dist-packages (from fiona>=1.8->geopandas->segregation>=1.3.0->pysal) (2.5.0)\n",
            "Building wheels for collected packages: pysal, libpysal, esda, inequality, pointpats, mgwr, spglm, spint, spvcm, splot, rtree\n",
            "  Building wheel for pysal (setup.py) ... \u001b[?25l\u001b[?25hdone\n",
            "  Created wheel for pysal: filename=pysal-2.3.0-cp36-none-any.whl size=18421 sha256=f20f1d6a1281c75d22bf81d9191c2d589b6d684a0ae99e79cffb8d0b6a0fcde4\n",
            "  Stored in directory: /root/.cache/pip/wheels/ec/51/8f/4fd7e7088448f99c3a26c2cf434b60ba18b6fef695dd72f439\n",
            "  Building wheel for libpysal (setup.py) ... \u001b[?25l\u001b[?25hdone\n",
            "  Created wheel for libpysal: filename=libpysal-4.3.0-py2.py3-none-any.whl size=2379082 sha256=8d7636b026805c2d5e8d84f1506f7318d86e8b3f68e1524dcfb5b809108acbe1\n",
            "  Stored in directory: /root/.cache/pip/wheels/68/44/db/3d7a8b7d9ae5dba0cfcfb37f14e2a6e6f26b03557bdf1cf06d\n",
            "  Building wheel for esda (setup.py) ... \u001b[?25l\u001b[?25hdone\n",
            "  Created wheel for esda: filename=esda-2.3.1-cp36-none-any.whl size=82452 sha256=9f5b9b6a88ab42912375d4ff9c98232a0a065d7d8d4e6ff9f4d9f1b1914f6ac6\n",
            "  Stored in directory: /root/.cache/pip/wheels/0f/7e/49/fe3abdfe85019a1390c7bf70af56275139fa7f99a57ff5333f\n",
            "  Building wheel for inequality (setup.py) ... \u001b[?25l\u001b[?25hdone\n",
            "  Created wheel for inequality: filename=inequality-1.0.0-cp36-none-any.whl size=11800 sha256=97ad6d4ccf7d8d8af31a0d3fe2641351281959c6030c22503e28cf0f4bf95841\n",
            "  Stored in directory: /root/.cache/pip/wheels/0e/cc/44/666696f89f7c7b13cc477bd9c1a9aef180be238550419007f2\n",
            "  Building wheel for pointpats (setup.py) ... \u001b[?25l\u001b[?25hdone\n",
            "  Created wheel for pointpats: filename=pointpats-2.2.0-cp36-none-any.whl size=60817 sha256=3cc03210fdd84e8e5bf5326ca2a845d1bd50f9d0cbccdd8c431e78f9e22e4feb\n",
            "  Stored in directory: /root/.cache/pip/wheels/f9/28/f2/65c0993e68e25cef954ecd20abff91c6b11f0419f31b60e2ff\n",
            "  Building wheel for mgwr (setup.py) ... \u001b[?25l\u001b[?25hdone\n",
            "  Created wheel for mgwr: filename=mgwr-2.1.2-cp36-none-any.whl size=46371 sha256=3cc15a4d53c2d793ddc729a5644b356e4cdc9da89d94f4d544a8817c9f9629a6\n",
            "  Stored in directory: /root/.cache/pip/wheels/cf/11/e3/68692f1c637b23a8e2c6e200f6183c3502718b5f7de6dc630d\n",
            "  Building wheel for spglm (setup.py) ... \u001b[?25l\u001b[?25hdone\n",
            "  Created wheel for spglm: filename=spglm-1.0.8-cp36-none-any.whl size=38807 sha256=0f61901f97730b200ef7d4b9e68a1100a487a6e8b5377b89004c09d64a2c89ea\n",
            "  Stored in directory: /root/.cache/pip/wheels/cd/1e/e3/c68bde79087fdc97cf65ec86e6d1d7ed2171e1baa1b0482363\n",
            "  Building wheel for spint (setup.py) ... \u001b[?25l\u001b[?25hdone\n",
            "  Created wheel for spint: filename=spint-1.0.7-cp36-none-any.whl size=31371 sha256=d63e1a5100fabae0f610c6342202c665b06770ccad6315469fc0e6661180c7de\n",
            "  Stored in directory: /root/.cache/pip/wheels/e1/f0/fe/754baccec76ae29184c37ea6112d881a883e044977bd963d08\n",
            "  Building wheel for spvcm (setup.py) ... \u001b[?25l\u001b[?25hdone\n",
            "  Created wheel for spvcm: filename=spvcm-0.3.0-cp36-none-any.whl size=5777202 sha256=4a086cbe4d6302d21033dd5912c6e91c3e816b2a303add3e04021f335d73c2de\n",
            "  Stored in directory: /root/.cache/pip/wheels/8f/2e/c8/35a9abbb5c8508cfc597cdd2217c1b9b2cb82fc2f7fe18c11c\n",
            "  Building wheel for splot (setup.py) ... \u001b[?25l\u001b[?25hdone\n",
            "  Created wheel for splot: filename=splot-1.1.3-cp36-none-any.whl size=37866 sha256=0416cf791d75cbf21d326a1867b6515dab60cac26e0abc0d4a055e3b9d2fae64\n",
            "  Stored in directory: /root/.cache/pip/wheels/bd/4f/94/71caf6a544f341a1ef2788a7c96272e7e9dfebb04a1aecc24f\n",
            "  Building wheel for rtree (setup.py) ... \u001b[?25l\u001b[?25hdone\n",
            "  Created wheel for rtree: filename=Rtree-0.9.4-cp36-none-any.whl size=21769 sha256=5e3a378d3b7a51ff163f6e9dcdee009cc19c6e437b6202d113a8cea2ba077ba5\n",
            "  Stored in directory: /root/.cache/pip/wheels/ff/20/c5/0004ef7acb96745ec99be960053902b0b414a2aa2dcad5834e\n",
            "Successfully built pysal libpysal esda inequality pointpats mgwr spglm spint spvcm splot rtree\n",
            "\u001b[31mERROR: datascience 0.10.6 has requirement folium==0.2.1, but you'll have folium 0.8.3 which is incompatible.\u001b[0m\n",
            "\u001b[31mERROR: albumentations 0.1.12 has requirement imgaug<0.2.7,>=0.2.5, but you'll have imgaug 0.2.9 which is incompatible.\u001b[0m\n",
            "\u001b[31mERROR: pytest-cov 2.10.1 has requirement coverage>=4.4, but you'll have coverage 3.7.1 which is incompatible.\u001b[0m\n",
            "\u001b[31mERROR: pytest-cov 2.10.1 has requirement pytest>=4.6, but you'll have pytest 3.6.4 which is incompatible.\u001b[0m\n",
            "Installing collected packages: libpysal, sphinxcontrib-devhelp, sphinxcontrib-jsmath, sphinxcontrib-applehelp, sphinxcontrib-htmlhelp, sphinxcontrib-qthelp, Sphinx, access, esda, quantecon, giddy, inequality, opencv-contrib-python, pointpats, segregation, rtree, spaghetti, spreg, spglm, mgwr, spint, spvcm, affine, snuggs, rasterio, simplejson, rasterstats, tobler, splot, python-dateutil, pytest-cov, pysal\n",
            "  Found existing installation: Sphinx 1.8.5\n",
            "    Uninstalling Sphinx-1.8.5:\n",
            "      Successfully uninstalled Sphinx-1.8.5\n",
            "  Found existing installation: opencv-contrib-python 4.1.2.30\n",
            "    Uninstalling opencv-contrib-python-4.1.2.30:\n",
            "      Successfully uninstalled opencv-contrib-python-4.1.2.30\n",
            "  Found existing installation: python-dateutil 2.8.1\n",
            "    Uninstalling python-dateutil-2.8.1:\n",
            "      Successfully uninstalled python-dateutil-2.8.1\n",
            "Successfully installed Sphinx-2.4.3 access-1.1.1 affine-2.3.0 esda-2.3.1 giddy-2.3.3 inequality-1.0.0 libpysal-4.3.0 mgwr-2.1.2 opencv-contrib-python-4.4.0.44 pointpats-2.2.0 pysal-2.3.0 pytest-cov-2.10.1 python-dateutil-2.8.0 quantecon-0.4.8 rasterio-1.1.7 rasterstats-0.15.0 rtree-0.9.4 segregation-1.3.0 simplejson-3.17.2 snuggs-1.4.7 spaghetti-1.5.0 spglm-1.0.8 sphinxcontrib-applehelp-1.0.2 sphinxcontrib-devhelp-1.0.2 sphinxcontrib-htmlhelp-1.0.3 sphinxcontrib-jsmath-1.0.1 sphinxcontrib-qthelp-1.0.3 spint-1.0.7 splot-1.1.3 spreg-1.1.2.post1 spvcm-0.3.0 tobler-0.4.0\n"
          ],
          "name": "stdout"
        },
        {
          "output_type": "display_data",
          "data": {
            "application/vnd.colab-display-data+json": {
              "pip_warning": {
                "packages": [
                  "dateutil",
                  "sphinxcontrib"
                ]
              }
            }
          },
          "metadata": {
            "tags": []
          }
        }
      ]
    },
    {
      "cell_type": "code",
      "metadata": {
        "id": "OHESepfzHZoo"
      },
      "source": [
        "import geopandas as gpd"
      ],
      "execution_count": null,
      "outputs": []
    },
    {
      "cell_type": "code",
      "metadata": {
        "id": "8Tfnw3wltuS9"
      },
      "source": [
        "import pysal as ps"
      ],
      "execution_count": null,
      "outputs": []
    },
    {
      "cell_type": "markdown",
      "metadata": {
        "id": "ymAQvKxEHTST"
      },
      "source": [
        "Use the delaware opendata to extract the voting precincts geometries\n",
        "\n",
        "https://opendata.firstmap.delaware.gov/datasets/delaware-election-boundaries\n",
        "\n",
        "USe the election data from the turnout project to get the precinct turnout\n",
        "\n",
        "https://raw.githubusercontent.com/openelections/openelections-data-de/master/2018/20181106__de__general__precinct.csv"
      ]
    },
    {
      "cell_type": "markdown",
      "metadata": {
        "id": "_b002gHuT1bw"
      },
      "source": [
        "# Start from your HW5 (or from the solution posted)\n",
        "\n",
        "You will need to rerun it and make dure that \n",
        "- there are no nan values. Since a lot of the analysis you do relies on population density this will have to be done by **removing areas of 0 population** \n",
        "- after you remove precints fix the index by calling ```df_.reset_index(inplace=True)``` on your dataframe so that it does not have missing value. if it did you would be in trouble after creating the weight: you would get a missing index value (I got it for index 274) and also you might have troubles when fitting a line to the Moran's I\n",
        "- make sure you convert the dataframe to feet (epsg=2263) and work your spatial analysis in feet (there is one point in which I will give you the coordinates of a specific locatoin in lat and lon: you need to either convert those in feet or reconvert temporarily the dataframe to lat-lon to do that part of the analysis)\n",
        "- make sure you select a single race! the vanilla analysis we did in HW5 could work with summing all the races, but if we want to really look at voters turout, and especially voter turnout by political party and analysis blue and red votes separately, we need to make sure we do not doublecount. I chose the U.S. Senate race. If this were a real project you would need to check if choosing another rate changes your result.\n",
        "\n",
        "NOTE: I care mostly about the interpretation of the figures in this notebook more than ever! if you cannot get a piece of code to reproduce the figure ask me. I do want you to try (so I want you to ask for it on a step by step basis), but I am happy to show you the solution. I really care about the considerations and interpretation tho!\n"
      ]
    },
    {
      "cell_type": "markdown",
      "metadata": {
        "id": "OFiXu3otVwPS"
      },
      "source": [
        "# read in data"
      ]
    },
    {
      "cell_type": "markdown",
      "metadata": {
        "id": "O-UrDBSqV3QP"
      },
      "source": [
        "## read in electoral precinct geojson file in geopandas (directly from the URL)"
      ]
    },
    {
      "cell_type": "code",
      "metadata": {
        "id": "MbBXvF9-UCHZ"
      },
      "source": [
        "# leave\n",
        "de_elecp = gpd.read_file(\"https://opendata.arcgis.com/datasets/91c1f132c7d34885983c56b47dc675fd_0.geojson\")\n",
        "\n"
      ],
      "execution_count": 120,
      "outputs": []
    },
    {
      "cell_type": "code",
      "metadata": {
        "id": "1tzwCCwpFkR3",
        "outputId": "ddda9512-8fd2-446f-f235-0160188d0ddf",
        "colab": {
          "base_uri": "https://localhost:8080/",
          "height": 191
        }
      },
      "source": [
        "# leave\n",
        "de_elecp.head()"
      ],
      "execution_count": null,
      "outputs": [
        {
          "output_type": "execute_result",
          "data": {
            "text/html": [
              "<div>\n",
              "<style scoped>\n",
              "    .dataframe tbody tr th:only-of-type {\n",
              "        vertical-align: middle;\n",
              "    }\n",
              "\n",
              "    .dataframe tbody tr th {\n",
              "        vertical-align: top;\n",
              "    }\n",
              "\n",
              "    .dataframe thead th {\n",
              "        text-align: right;\n",
              "    }\n",
              "</style>\n",
              "<table border=\"1\" class=\"dataframe\">\n",
              "  <thead>\n",
              "    <tr style=\"text-align: right;\">\n",
              "      <th></th>\n",
              "      <th>OBJECTID</th>\n",
              "      <th>ID</th>\n",
              "      <th>EDRD_2012</th>\n",
              "      <th>POPULATION</th>\n",
              "      <th>DISTRICT</th>\n",
              "      <th>EGIS_OWNERElection_ED_RD_2012AREA</th>\n",
              "      <th>geometry</th>\n",
              "    </tr>\n",
              "  </thead>\n",
              "  <tbody>\n",
              "    <tr>\n",
              "      <th>0</th>\n",
              "      <td>1</td>\n",
              "      <td>20</td>\n",
              "      <td>01-21</td>\n",
              "      <td>1171</td>\n",
              "      <td>21</td>\n",
              "      <td>None</td>\n",
              "      <td>POLYGON ((-75.67816 39.74598, -75.67807 39.746...</td>\n",
              "    </tr>\n",
              "    <tr>\n",
              "      <th>1</th>\n",
              "      <td>2</td>\n",
              "      <td>21</td>\n",
              "      <td>01-22</td>\n",
              "      <td>1755</td>\n",
              "      <td>22</td>\n",
              "      <td>None</td>\n",
              "      <td>POLYGON ((-75.72394 39.76115, -75.72393 39.760...</td>\n",
              "    </tr>\n",
              "    <tr>\n",
              "      <th>2</th>\n",
              "      <td>3</td>\n",
              "      <td>22</td>\n",
              "      <td>01-23</td>\n",
              "      <td>1947</td>\n",
              "      <td>23</td>\n",
              "      <td>None</td>\n",
              "      <td>POLYGON ((-75.73601 39.68660, -75.73603 39.686...</td>\n",
              "    </tr>\n",
              "    <tr>\n",
              "      <th>3</th>\n",
              "      <td>4</td>\n",
              "      <td>23</td>\n",
              "      <td>01-24</td>\n",
              "      <td>2828</td>\n",
              "      <td>24</td>\n",
              "      <td>None</td>\n",
              "      <td>POLYGON ((-75.69655 39.66154, -75.69666 39.661...</td>\n",
              "    </tr>\n",
              "    <tr>\n",
              "      <th>4</th>\n",
              "      <td>5</td>\n",
              "      <td>24</td>\n",
              "      <td>01-25</td>\n",
              "      <td>7734</td>\n",
              "      <td>25</td>\n",
              "      <td>None</td>\n",
              "      <td>POLYGON ((-75.75158 39.65865, -75.75109 39.658...</td>\n",
              "    </tr>\n",
              "  </tbody>\n",
              "</table>\n",
              "</div>"
            ],
            "text/plain": [
              "   OBJECTID  ...                                           geometry\n",
              "0         1  ...  POLYGON ((-75.67816 39.74598, -75.67807 39.746...\n",
              "1         2  ...  POLYGON ((-75.72394 39.76115, -75.72393 39.760...\n",
              "2         3  ...  POLYGON ((-75.73601 39.68660, -75.73603 39.686...\n",
              "3         4  ...  POLYGON ((-75.69655 39.66154, -75.69666 39.661...\n",
              "4         5  ...  POLYGON ((-75.75158 39.65865, -75.75109 39.658...\n",
              "\n",
              "[5 rows x 7 columns]"
            ]
          },
          "metadata": {
            "tags": []
          },
          "execution_count": 8
        }
      ]
    },
    {
      "cell_type": "code",
      "metadata": {
        "id": "GHHK0ZpsXQYa",
        "outputId": "fa0512c9-3a84-4acc-d841-7b4e8b199f46",
        "colab": {
          "base_uri": "https://localhost:8080/",
          "height": 277
        }
      },
      "source": [
        "# leave\n",
        "de_elecp.describe()"
      ],
      "execution_count": null,
      "outputs": [
        {
          "output_type": "execute_result",
          "data": {
            "text/html": [
              "<div>\n",
              "<style scoped>\n",
              "    .dataframe tbody tr th:only-of-type {\n",
              "        vertical-align: middle;\n",
              "    }\n",
              "\n",
              "    .dataframe tbody tr th {\n",
              "        vertical-align: top;\n",
              "    }\n",
              "\n",
              "    .dataframe thead th {\n",
              "        text-align: right;\n",
              "    }\n",
              "</style>\n",
              "<table border=\"1\" class=\"dataframe\">\n",
              "  <thead>\n",
              "    <tr style=\"text-align: right;\">\n",
              "      <th></th>\n",
              "      <th>OBJECTID</th>\n",
              "      <th>ID</th>\n",
              "      <th>POPULATION</th>\n",
              "    </tr>\n",
              "  </thead>\n",
              "  <tbody>\n",
              "    <tr>\n",
              "      <th>count</th>\n",
              "      <td>430.000000</td>\n",
              "      <td>430.000000</td>\n",
              "      <td>430.000000</td>\n",
              "    </tr>\n",
              "    <tr>\n",
              "      <th>mean</th>\n",
              "      <td>215.500000</td>\n",
              "      <td>216.500000</td>\n",
              "      <td>2088.218605</td>\n",
              "    </tr>\n",
              "    <tr>\n",
              "      <th>std</th>\n",
              "      <td>124.274562</td>\n",
              "      <td>124.274562</td>\n",
              "      <td>998.347223</td>\n",
              "    </tr>\n",
              "    <tr>\n",
              "      <th>min</th>\n",
              "      <td>1.000000</td>\n",
              "      <td>2.000000</td>\n",
              "      <td>0.000000</td>\n",
              "    </tr>\n",
              "    <tr>\n",
              "      <th>25%</th>\n",
              "      <td>108.250000</td>\n",
              "      <td>109.250000</td>\n",
              "      <td>1484.750000</td>\n",
              "    </tr>\n",
              "    <tr>\n",
              "      <th>50%</th>\n",
              "      <td>215.500000</td>\n",
              "      <td>216.500000</td>\n",
              "      <td>2141.500000</td>\n",
              "    </tr>\n",
              "    <tr>\n",
              "      <th>75%</th>\n",
              "      <td>322.750000</td>\n",
              "      <td>323.750000</td>\n",
              "      <td>2659.750000</td>\n",
              "    </tr>\n",
              "    <tr>\n",
              "      <th>max</th>\n",
              "      <td>430.000000</td>\n",
              "      <td>431.000000</td>\n",
              "      <td>7734.000000</td>\n",
              "    </tr>\n",
              "  </tbody>\n",
              "</table>\n",
              "</div>"
            ],
            "text/plain": [
              "         OBJECTID          ID   POPULATION\n",
              "count  430.000000  430.000000   430.000000\n",
              "mean   215.500000  216.500000  2088.218605\n",
              "std    124.274562  124.274562   998.347223\n",
              "min      1.000000    2.000000     0.000000\n",
              "25%    108.250000  109.250000  1484.750000\n",
              "50%    215.500000  216.500000  2141.500000\n",
              "75%    322.750000  323.750000  2659.750000\n",
              "max    430.000000  431.000000  7734.000000"
            ]
          },
          "metadata": {
            "tags": []
          },
          "execution_count": 9
        }
      ]
    },
    {
      "cell_type": "markdown",
      "metadata": {
        "id": "ObGZoi8xV-Ir"
      },
      "source": [
        "## read in turnout data - keep only election district, and votes\n"
      ]
    },
    {
      "cell_type": "code",
      "metadata": {
        "id": "OqpAgSPYReQo"
      },
      "source": [
        "# leave\n",
        "turnout = pd.read_csv(\"https://raw.githubusercontent.com/openelections/\" + \n",
        "                      \"openelections-data-de/master/2018/20181106__de__\" + \n",
        "                      \"general__precinct.csv\")\n",
        "turnout = turnout[turnout[\"office\"]==\"U.S. Senate\"][[\"party\",\"election_district\", \"votes\"]]"
      ],
      "execution_count": null,
      "outputs": []
    },
    {
      "cell_type": "markdown",
      "metadata": {
        "id": "zVkZNmD5WHJC"
      },
      "source": [
        "## group by election district and get the total number of data for that district\n",
        "\n",
        "there are multiple entries for each geometry because there entries indicate the votes per candidate.\n"
      ]
    },
    {
      "cell_type": "code",
      "metadata": {
        "id": "HPJkoWQpUu8v",
        "outputId": "2ab87733-7ff4-487a-a694-89440c0867af",
        "colab": {
          "base_uri": "https://localhost:8080/"
        }
      },
      "source": [
        "# leave\n",
        "turnout.groupby([\"election_district\", \"party\"]).sum()[[\"votes\"]]"
      ],
      "execution_count": null,
      "outputs": [
        {
          "output_type": "execute_result",
          "data": {
            "text/html": [
              "<div>\n",
              "<style scoped>\n",
              "    .dataframe tbody tr th:only-of-type {\n",
              "        vertical-align: middle;\n",
              "    }\n",
              "\n",
              "    .dataframe tbody tr th {\n",
              "        vertical-align: top;\n",
              "    }\n",
              "\n",
              "    .dataframe thead th {\n",
              "        text-align: right;\n",
              "    }\n",
              "</style>\n",
              "<table border=\"1\" class=\"dataframe\">\n",
              "  <thead>\n",
              "    <tr style=\"text-align: right;\">\n",
              "      <th></th>\n",
              "      <th></th>\n",
              "      <th>votes</th>\n",
              "    </tr>\n",
              "    <tr>\n",
              "      <th>election_district</th>\n",
              "      <th>party</th>\n",
              "      <th></th>\n",
              "    </tr>\n",
              "  </thead>\n",
              "  <tbody>\n",
              "    <tr>\n",
              "      <th rowspan=\"4\" valign=\"top\">01-01</th>\n",
              "      <th>DEMOCRATIC</th>\n",
              "      <td>581</td>\n",
              "    </tr>\n",
              "    <tr>\n",
              "      <th>GREEN</th>\n",
              "      <td>5</td>\n",
              "    </tr>\n",
              "    <tr>\n",
              "      <th>LIBERTARIN</th>\n",
              "      <td>6</td>\n",
              "    </tr>\n",
              "    <tr>\n",
              "      <th>REPUBLICAN</th>\n",
              "      <td>51</td>\n",
              "    </tr>\n",
              "    <tr>\n",
              "      <th>01-02</th>\n",
              "      <th>DEMOCRATIC</th>\n",
              "      <td>694</td>\n",
              "    </tr>\n",
              "    <tr>\n",
              "      <th>...</th>\n",
              "      <th>...</th>\n",
              "      <td>...</td>\n",
              "    </tr>\n",
              "    <tr>\n",
              "      <th>17-02</th>\n",
              "      <th>REPUBLICAN</th>\n",
              "      <td>14</td>\n",
              "    </tr>\n",
              "    <tr>\n",
              "      <th rowspan=\"4\" valign=\"top\">Total</th>\n",
              "      <th>DEMOCRATIC</th>\n",
              "      <td>217385</td>\n",
              "    </tr>\n",
              "    <tr>\n",
              "      <th>GREEN</th>\n",
              "      <td>4170</td>\n",
              "    </tr>\n",
              "    <tr>\n",
              "      <th>LIBERTARIN</th>\n",
              "      <td>3910</td>\n",
              "    </tr>\n",
              "    <tr>\n",
              "      <th>REPUBLICAN</th>\n",
              "      <td>137127</td>\n",
              "    </tr>\n",
              "  </tbody>\n",
              "</table>\n",
              "<p>1748 rows × 1 columns</p>\n",
              "</div>"
            ],
            "text/plain": [
              "                               votes\n",
              "election_district party             \n",
              "01-01             DEMOCRATIC     581\n",
              "                  GREEN            5\n",
              "                  LIBERTARIN       6\n",
              "                  REPUBLICAN      51\n",
              "01-02             DEMOCRATIC     694\n",
              "...                              ...\n",
              "17-02             REPUBLICAN      14\n",
              "Total             DEMOCRATIC  217385\n",
              "                  GREEN         4170\n",
              "                  LIBERTARIN    3910\n",
              "                  REPUBLICAN  137127\n",
              "\n",
              "[1748 rows x 1 columns]"
            ]
          },
          "metadata": {
            "tags": []
          },
          "execution_count": 11
        }
      ]
    },
    {
      "cell_type": "markdown",
      "metadata": {
        "id": "N5DbThVZWVL0"
      },
      "source": [
        "## merge the turnout data with the electoral map\n"
      ]
    },
    {
      "cell_type": "code",
      "metadata": {
        "id": "cW27PSe4UU9X"
      },
      "source": [
        "# remove\n",
        "de_elecmap = de_elecp.merge(turnout.groupby(\"election_district\").sum()[[\"votes\"]], \n",
        "                            left_on=\"EDRD_2012\", right_index=True, how=\"left\")\n",
        "\n"
      ],
      "execution_count": null,
      "outputs": []
    },
    {
      "cell_type": "code",
      "metadata": {
        "id": "8XdwP1DPt-3l"
      },
      "source": [
        "# leave this cell to show\n",
        "no0votesindx = de_elecmap.POPULATION > 0\n",
        "de_elecmap = de_elecmap[no0votesindx]\n",
        "de_elecmap.reset_index(inplace=True)"
      ],
      "execution_count": null,
      "outputs": []
    },
    {
      "cell_type": "code",
      "metadata": {
        "id": "ioSz732JU8yb",
        "outputId": "f6983de9-6388-44c8-ebb7-60fbafe8bcc8",
        "colab": {
          "base_uri": "https://localhost:8080/"
        }
      },
      "source": [
        "# leave this cell to show\n",
        "# note you have 430 precincts with indices 0-429\n",
        "de_elecmap"
      ],
      "execution_count": null,
      "outputs": [
        {
          "output_type": "execute_result",
          "data": {
            "text/html": [
              "<div>\n",
              "<style scoped>\n",
              "    .dataframe tbody tr th:only-of-type {\n",
              "        vertical-align: middle;\n",
              "    }\n",
              "\n",
              "    .dataframe tbody tr th {\n",
              "        vertical-align: top;\n",
              "    }\n",
              "\n",
              "    .dataframe thead th {\n",
              "        text-align: right;\n",
              "    }\n",
              "</style>\n",
              "<table border=\"1\" class=\"dataframe\">\n",
              "  <thead>\n",
              "    <tr style=\"text-align: right;\">\n",
              "      <th></th>\n",
              "      <th>index</th>\n",
              "      <th>OBJECTID</th>\n",
              "      <th>ID</th>\n",
              "      <th>EDRD_2012</th>\n",
              "      <th>POPULATION</th>\n",
              "      <th>DISTRICT</th>\n",
              "      <th>EGIS_OWNERElection_ED_RD_2012AREA</th>\n",
              "      <th>geometry</th>\n",
              "      <th>votes</th>\n",
              "    </tr>\n",
              "  </thead>\n",
              "  <tbody>\n",
              "    <tr>\n",
              "      <th>0</th>\n",
              "      <td>0</td>\n",
              "      <td>1</td>\n",
              "      <td>20</td>\n",
              "      <td>01-21</td>\n",
              "      <td>1171</td>\n",
              "      <td>21</td>\n",
              "      <td>None</td>\n",
              "      <td>POLYGON ((-75.67816 39.74598, -75.67807 39.746...</td>\n",
              "      <td>528.0</td>\n",
              "    </tr>\n",
              "    <tr>\n",
              "      <th>1</th>\n",
              "      <td>1</td>\n",
              "      <td>2</td>\n",
              "      <td>21</td>\n",
              "      <td>01-22</td>\n",
              "      <td>1755</td>\n",
              "      <td>22</td>\n",
              "      <td>None</td>\n",
              "      <td>POLYGON ((-75.72394 39.76115, -75.72393 39.760...</td>\n",
              "      <td>1109.0</td>\n",
              "    </tr>\n",
              "    <tr>\n",
              "      <th>2</th>\n",
              "      <td>2</td>\n",
              "      <td>3</td>\n",
              "      <td>22</td>\n",
              "      <td>01-23</td>\n",
              "      <td>1947</td>\n",
              "      <td>23</td>\n",
              "      <td>None</td>\n",
              "      <td>POLYGON ((-75.73601 39.68660, -75.73603 39.686...</td>\n",
              "      <td>185.0</td>\n",
              "    </tr>\n",
              "    <tr>\n",
              "      <th>3</th>\n",
              "      <td>3</td>\n",
              "      <td>4</td>\n",
              "      <td>23</td>\n",
              "      <td>01-24</td>\n",
              "      <td>2828</td>\n",
              "      <td>24</td>\n",
              "      <td>None</td>\n",
              "      <td>POLYGON ((-75.69655 39.66154, -75.69666 39.661...</td>\n",
              "      <td>892.0</td>\n",
              "    </tr>\n",
              "    <tr>\n",
              "      <th>4</th>\n",
              "      <td>4</td>\n",
              "      <td>5</td>\n",
              "      <td>24</td>\n",
              "      <td>01-25</td>\n",
              "      <td>7734</td>\n",
              "      <td>25</td>\n",
              "      <td>None</td>\n",
              "      <td>POLYGON ((-75.75158 39.65865, -75.75109 39.658...</td>\n",
              "      <td>682.0</td>\n",
              "    </tr>\n",
              "    <tr>\n",
              "      <th>...</th>\n",
              "      <td>...</td>\n",
              "      <td>...</td>\n",
              "      <td>...</td>\n",
              "      <td>...</td>\n",
              "      <td>...</td>\n",
              "      <td>...</td>\n",
              "      <td>...</td>\n",
              "      <td>...</td>\n",
              "      <td>...</td>\n",
              "    </tr>\n",
              "    <tr>\n",
              "      <th>423</th>\n",
              "      <td>425</td>\n",
              "      <td>426</td>\n",
              "      <td>424</td>\n",
              "      <td>08-38</td>\n",
              "      <td>2042</td>\n",
              "      <td>38</td>\n",
              "      <td>None</td>\n",
              "      <td>POLYGON ((-75.12161 38.45119, -75.12186 38.451...</td>\n",
              "      <td>1197.0</td>\n",
              "    </tr>\n",
              "    <tr>\n",
              "      <th>424</th>\n",
              "      <td>426</td>\n",
              "      <td>427</td>\n",
              "      <td>425</td>\n",
              "      <td>08-40</td>\n",
              "      <td>1684</td>\n",
              "      <td>40</td>\n",
              "      <td>None</td>\n",
              "      <td>POLYGON ((-75.43038 38.65207, -75.43017 38.651...</td>\n",
              "      <td>598.0</td>\n",
              "    </tr>\n",
              "    <tr>\n",
              "      <th>425</th>\n",
              "      <td>427</td>\n",
              "      <td>428</td>\n",
              "      <td>426</td>\n",
              "      <td>08-41</td>\n",
              "      <td>2785</td>\n",
              "      <td>41</td>\n",
              "      <td>None</td>\n",
              "      <td>POLYGON ((-75.36290 38.58543, -75.36268 38.585...</td>\n",
              "      <td>531.0</td>\n",
              "    </tr>\n",
              "    <tr>\n",
              "      <th>426</th>\n",
              "      <td>428</td>\n",
              "      <td>429</td>\n",
              "      <td>427</td>\n",
              "      <td>09-20</td>\n",
              "      <td>414</td>\n",
              "      <td>20</td>\n",
              "      <td>None</td>\n",
              "      <td>POLYGON ((-75.27245 38.80446, -75.27254 38.804...</td>\n",
              "      <td>247.0</td>\n",
              "    </tr>\n",
              "    <tr>\n",
              "      <th>427</th>\n",
              "      <td>429</td>\n",
              "      <td>430</td>\n",
              "      <td>428</td>\n",
              "      <td>09-36</td>\n",
              "      <td>315</td>\n",
              "      <td>36</td>\n",
              "      <td>None</td>\n",
              "      <td>POLYGON ((-75.40755 38.71621, -75.40730 38.716...</td>\n",
              "      <td>78.0</td>\n",
              "    </tr>\n",
              "  </tbody>\n",
              "</table>\n",
              "<p>428 rows × 9 columns</p>\n",
              "</div>"
            ],
            "text/plain": [
              "     index  OBJECTID  ...                                           geometry   votes\n",
              "0        0         1  ...  POLYGON ((-75.67816 39.74598, -75.67807 39.746...   528.0\n",
              "1        1         2  ...  POLYGON ((-75.72394 39.76115, -75.72393 39.760...  1109.0\n",
              "2        2         3  ...  POLYGON ((-75.73601 39.68660, -75.73603 39.686...   185.0\n",
              "3        3         4  ...  POLYGON ((-75.69655 39.66154, -75.69666 39.661...   892.0\n",
              "4        4         5  ...  POLYGON ((-75.75158 39.65865, -75.75109 39.658...   682.0\n",
              "..     ...       ...  ...                                                ...     ...\n",
              "423    425       426  ...  POLYGON ((-75.12161 38.45119, -75.12186 38.451...  1197.0\n",
              "424    426       427  ...  POLYGON ((-75.43038 38.65207, -75.43017 38.651...   598.0\n",
              "425    427       428  ...  POLYGON ((-75.36290 38.58543, -75.36268 38.585...   531.0\n",
              "426    428       429  ...  POLYGON ((-75.27245 38.80446, -75.27254 38.804...   247.0\n",
              "427    429       430  ...  POLYGON ((-75.40755 38.71621, -75.40730 38.716...    78.0\n",
              "\n",
              "[428 rows x 9 columns]"
            ]
          },
          "metadata": {
            "tags": []
          },
          "execution_count": 14
        }
      ]
    },
    {
      "cell_type": "markdown",
      "metadata": {
        "id": "HC707ka1VA8v"
      },
      "source": [
        "## make 3 maps: a coropleth of the population by electoral precinct, votes by precinct, and people density. \n",
        "Make sure you discuss patterns that appear, and that you consider the odd shape that delaware has in this map.... what is wrong with it? why does it not look like your usual maps of Delaware? how does this affect the descriptive analysis you just did? Make sure you choose appropriate colors maps and scheme to display the colors. Note that the last map may not be trivial to render. log10 function may be halpful (see notebook https://github.com/fedhere/PUS2020_FBianco/blob/master/classdemo/linear_regression_in_detail.ipynb but it is not required to use it) and also consider the individual values in the rows - are any of them unuaual? if there are consider dropping those values."
      ]
    },
    {
      "cell_type": "code",
      "metadata": {
        "id": "FJxJs0yPL_1T",
        "outputId": "cfad0b23-fc00-42a9-c1b6-460743b68505",
        "colab": {
          "base_uri": "https://localhost:8080/"
        }
      },
      "source": [
        "# leave\n",
        "# exploratory plot\n",
        "\n",
        "de_elecmap.plot(column=\"POPULATION\");"
      ],
      "execution_count": null,
      "outputs": [
        {
          "output_type": "display_data",
          "data": {
            "image/png": "[encoded data removed]",
            "text/plain": [
              "<Figure size 432x288 with 1 Axes>"
            ]
          },
          "metadata": {
            "tags": [],
            "needs_background": "light"
          }
        }
      ]
    },
    {
      "cell_type": "code",
      "metadata": {
        "id": "QVd4gpsnVJeF",
        "outputId": "19db2046-3a28-449c-fa46-fe05ef5dab35",
        "colab": {
          "base_uri": "https://localhost:8080/"
        }
      },
      "source": [
        "# leave\n",
        "# exploratory plot\n",
        "de_elecmap.plot(column=\"votes\");"
      ],
      "execution_count": null,
      "outputs": [
        {
          "output_type": "display_data",
          "data": {
            "image/png": "[encoded data removed]",
            "text/plain": [
              "<Figure size 432x288 with 1 Axes>"
            ]
          },
          "metadata": {
            "tags": [],
            "needs_background": "light"
          }
        }
      ]
    },
    {
      "cell_type": "code",
      "metadata": {
        "id": "y1oGpODxtE2s"
      },
      "source": [
        "de_elecmap_ft = de_elecmap.to_crs(epsg=\"2263\")\n",
        "de_elecmap[\"popdensity\"] = (de_elecmap.POPULATION / de_elecmap_ft.geometry.area * 5280 * 5280)\n"
      ],
      "execution_count": null,
      "outputs": []
    },
    {
      "cell_type": "code",
      "metadata": {
        "id": "0jwMeR9bGbCc",
        "outputId": "9f56dc11-3d62-4022-baf8-4ee0de264ea0",
        "colab": {
          "base_uri": "https://localhost:8080/"
        }
      },
      "source": [
        "# leave\n",
        "de_elecmap.plot(column=\"popdensity\", norm=matplotlib.colors.LogNorm())\n"
      ],
      "execution_count": null,
      "outputs": [
        {
          "output_type": "execute_result",
          "data": {
            "text/plain": [
              "<matplotlib.axes._subplots.AxesSubplot at 0x7f41bd39f978>"
            ]
          },
          "metadata": {
            "tags": []
          },
          "execution_count": 18
        },
        {
          "output_type": "display_data",
          "data": {
            "image/png": "[encoded data removed]",
            "text/plain": [
              "<Figure size 432x288 with 1 Axes>"
            ]
          },
          "metadata": {
            "tags": [],
            "needs_background": "light"
          }
        }
      ]
    },
    {
      "cell_type": "code",
      "metadata": {
        "id": "Wey2hInUbXm_"
      },
      "source": [
        "# leave\n",
        "from sklearn.linear_model import LinearRegression\n",
        "from sklearn.model_selection import train_test_split"
      ],
      "execution_count": null,
      "outputs": []
    },
    {
      "cell_type": "code",
      "metadata": {
        "id": "l-ST8bFebX-z"
      },
      "source": [
        "# leave\n",
        "X_train, X_test, y_train, y_test = train_test_split(de_elecmap.POPULATION.values, \n",
        "                                                    de_elecmap.votes.values, test_size=0.25, \n",
        "                                                     random_state=302)\n",
        "X_train\n",
        "\n",
        "# or I can do\n",
        "np.random.seed(302)\n",
        "inds = np.sort(np.random.choice(de_elecmap.index, \n",
        "                                int(de_elecmap.shape[0] * 0.75), replace=False))"
      ],
      "execution_count": null,
      "outputs": []
    },
    {
      "cell_type": "code",
      "metadata": {
        "id": "Ty7pmk-peITo"
      },
      "source": [
        "# remove\n",
        "de_elecmap_train = de_elecmap[[\"votes\", \"POPULATION\", \"popdensity\"]].loc[inds].dropna()\n",
        "de_elecmap_test = de_elecmap[[\"votes\", \"POPULATION\", \"popdensity\"]].loc[\n",
        "  np.array([i for i in de_elecmap.index if not i in inds ])].dropna()"
      ],
      "execution_count": null,
      "outputs": []
    },
    {
      "cell_type": "markdown",
      "metadata": {
        "id": "MiB7XCHSvqNK"
      },
      "source": [
        "# This is where HW2 starts"
      ]
    },
    {
      "cell_type": "markdown",
      "metadata": {
        "id": "9zmY098Nmi8_"
      },
      "source": [
        "## feature engineering\n",
        "- create a \"voterturnout\" variable: the number of votes per person.\n",
        "\n",
        "- create a \"red votes\" variable: the number of republican votes per person.\n",
        "\n",
        "- create a \"blue votes\" variable: the number of democrat votes per person."
      ]
    },
    {
      "cell_type": "markdown",
      "metadata": {
        "id": "-kwq1sT2v7Jt"
      },
      "source": [
        "you want all the variable same the same geodataframe"
      ]
    },
    {
      "cell_type": "code",
      "metadata": {
        "id": "xuwSX7vFVqvh"
      },
      "source": [
        "# remove\n",
        "df_ = turnout.groupby([\"election_district\",\"party\"]).sum()\n",
        "dems = df_[df_.index.get_level_values('party') == \"DEMOCRATIC\"].rename(\n",
        "    {\"votes\":\"dems\"}, axis=1).reset_index(1).drop(\"party\", axis=1)\n",
        "reps = df_[df_.index.get_level_values('party') == \"REPUBLICAN\"].rename(\n",
        "    {\"votes\":\"reps\"}, axis=1).reset_index(1).drop(\"party\", axis=1)\n"
      ],
      "execution_count": null,
      "outputs": []
    },
    {
      "cell_type": "code",
      "metadata": {
        "id": "iNk2dPCGoiQN",
        "outputId": "4b392325-6f52-4f8b-d525-5b4dc6a92b22",
        "colab": {
          "base_uri": "https://localhost:8080/",
          "height": 420
        }
      },
      "source": [
        "#leave\n",
        "dems"
      ],
      "execution_count": null,
      "outputs": [
        {
          "output_type": "execute_result",
          "data": {
            "text/html": [
              "<div>\n",
              "<style scoped>\n",
              "    .dataframe tbody tr th:only-of-type {\n",
              "        vertical-align: middle;\n",
              "    }\n",
              "\n",
              "    .dataframe tbody tr th {\n",
              "        vertical-align: top;\n",
              "    }\n",
              "\n",
              "    .dataframe thead th {\n",
              "        text-align: right;\n",
              "    }\n",
              "</style>\n",
              "<table border=\"1\" class=\"dataframe\">\n",
              "  <thead>\n",
              "    <tr style=\"text-align: right;\">\n",
              "      <th></th>\n",
              "      <th>dems</th>\n",
              "    </tr>\n",
              "    <tr>\n",
              "      <th>election_district</th>\n",
              "      <th></th>\n",
              "    </tr>\n",
              "  </thead>\n",
              "  <tbody>\n",
              "    <tr>\n",
              "      <th>01-01</th>\n",
              "      <td>581</td>\n",
              "    </tr>\n",
              "    <tr>\n",
              "      <th>01-02</th>\n",
              "      <td>694</td>\n",
              "    </tr>\n",
              "    <tr>\n",
              "      <th>01-03</th>\n",
              "      <td>430</td>\n",
              "    </tr>\n",
              "    <tr>\n",
              "      <th>01-04</th>\n",
              "      <td>928</td>\n",
              "    </tr>\n",
              "    <tr>\n",
              "      <th>01-05</th>\n",
              "      <td>830</td>\n",
              "    </tr>\n",
              "    <tr>\n",
              "      <th>...</th>\n",
              "      <td>...</td>\n",
              "    </tr>\n",
              "    <tr>\n",
              "      <th>16-04</th>\n",
              "      <td>59</td>\n",
              "    </tr>\n",
              "    <tr>\n",
              "      <th>16-31</th>\n",
              "      <td>11</td>\n",
              "    </tr>\n",
              "    <tr>\n",
              "      <th>16-41</th>\n",
              "      <td>31</td>\n",
              "    </tr>\n",
              "    <tr>\n",
              "      <th>17-02</th>\n",
              "      <td>160</td>\n",
              "    </tr>\n",
              "    <tr>\n",
              "      <th>Total</th>\n",
              "      <td>217385</td>\n",
              "    </tr>\n",
              "  </tbody>\n",
              "</table>\n",
              "<p>437 rows × 1 columns</p>\n",
              "</div>"
            ],
            "text/plain": [
              "                     dems\n",
              "election_district        \n",
              "01-01                 581\n",
              "01-02                 694\n",
              "01-03                 430\n",
              "01-04                 928\n",
              "01-05                 830\n",
              "...                   ...\n",
              "16-04                  59\n",
              "16-31                  11\n",
              "16-41                  31\n",
              "17-02                 160\n",
              "Total              217385\n",
              "\n",
              "[437 rows x 1 columns]"
            ]
          },
          "metadata": {
            "tags": []
          },
          "execution_count": 23
        }
      ]
    },
    {
      "cell_type": "code",
      "metadata": {
        "id": "3dDF0boYokA1"
      },
      "source": [
        "# remove\n",
        "de_elecmap_ft = de_elecmap_ft.merge(dems, left_on=\"EDRD_2012\",\n",
        "                 right_index=True).merge(reps, left_on=\"EDRD_2012\",\n",
        "                 right_index=True)\n"
      ],
      "execution_count": null,
      "outputs": []
    },
    {
      "cell_type": "code",
      "metadata": {
        "id": "ojqOf8pEVzh3",
        "outputId": "8e2e96f5-e263-41c7-a7b3-df999f91cec8",
        "colab": {
          "base_uri": "https://localhost:8080/",
          "height": 353
        }
      },
      "source": [
        "#leave\n",
        "de_elecmap_ft.head()"
      ],
      "execution_count": null,
      "outputs": [
        {
          "output_type": "execute_result",
          "data": {
            "text/html": [
              "<div>\n",
              "<style scoped>\n",
              "    .dataframe tbody tr th:only-of-type {\n",
              "        vertical-align: middle;\n",
              "    }\n",
              "\n",
              "    .dataframe tbody tr th {\n",
              "        vertical-align: top;\n",
              "    }\n",
              "\n",
              "    .dataframe thead th {\n",
              "        text-align: right;\n",
              "    }\n",
              "</style>\n",
              "<table border=\"1\" class=\"dataframe\">\n",
              "  <thead>\n",
              "    <tr style=\"text-align: right;\">\n",
              "      <th></th>\n",
              "      <th>index</th>\n",
              "      <th>OBJECTID</th>\n",
              "      <th>ID</th>\n",
              "      <th>EDRD_2012</th>\n",
              "      <th>POPULATION</th>\n",
              "      <th>DISTRICT</th>\n",
              "      <th>EGIS_OWNERElection_ED_RD_2012AREA</th>\n",
              "      <th>geometry</th>\n",
              "      <th>votes</th>\n",
              "      <th>dems</th>\n",
              "      <th>reps</th>\n",
              "    </tr>\n",
              "  </thead>\n",
              "  <tbody>\n",
              "    <tr>\n",
              "      <th>0</th>\n",
              "      <td>0</td>\n",
              "      <td>1</td>\n",
              "      <td>20</td>\n",
              "      <td>01-21</td>\n",
              "      <td>1171</td>\n",
              "      <td>21</td>\n",
              "      <td>None</td>\n",
              "      <td>POLYGON ((512298.901 -148744.869, 512327.758 -...</td>\n",
              "      <td>528.0</td>\n",
              "      <td>353</td>\n",
              "      <td>170</td>\n",
              "    </tr>\n",
              "    <tr>\n",
              "      <th>1</th>\n",
              "      <td>1</td>\n",
              "      <td>2</td>\n",
              "      <td>21</td>\n",
              "      <td>01-22</td>\n",
              "      <td>1755</td>\n",
              "      <td>22</td>\n",
              "      <td>None</td>\n",
              "      <td>POLYGON ((499532.843 -142968.932, 499534.031 -...</td>\n",
              "      <td>1109.0</td>\n",
              "      <td>671</td>\n",
              "      <td>411</td>\n",
              "    </tr>\n",
              "    <tr>\n",
              "      <th>2</th>\n",
              "      <td>2</td>\n",
              "      <td>3</td>\n",
              "      <td>22</td>\n",
              "      <td>01-23</td>\n",
              "      <td>1947</td>\n",
              "      <td>23</td>\n",
              "      <td>None</td>\n",
              "      <td>POLYGON ((495603.003 -170059.360, 495596.249 -...</td>\n",
              "      <td>185.0</td>\n",
              "      <td>129</td>\n",
              "      <td>41</td>\n",
              "    </tr>\n",
              "    <tr>\n",
              "      <th>3</th>\n",
              "      <td>3</td>\n",
              "      <td>4</td>\n",
              "      <td>23</td>\n",
              "      <td>01-24</td>\n",
              "      <td>2828</td>\n",
              "      <td>24</td>\n",
              "      <td>None</td>\n",
              "      <td>POLYGON ((506531.023 -179405.605, 506499.398 -...</td>\n",
              "      <td>892.0</td>\n",
              "      <td>582</td>\n",
              "      <td>278</td>\n",
              "    </tr>\n",
              "    <tr>\n",
              "      <th>4</th>\n",
              "      <td>4</td>\n",
              "      <td>5</td>\n",
              "      <td>24</td>\n",
              "      <td>01-25</td>\n",
              "      <td>7734</td>\n",
              "      <td>25</td>\n",
              "      <td>None</td>\n",
              "      <td>POLYGON ((491018.486 -180154.129, 491153.174 -...</td>\n",
              "      <td>682.0</td>\n",
              "      <td>549</td>\n",
              "      <td>97</td>\n",
              "    </tr>\n",
              "  </tbody>\n",
              "</table>\n",
              "</div>"
            ],
            "text/plain": [
              "   index  OBJECTID  ID  ...   votes  dems reps\n",
              "0      0         1  20  ...   528.0   353  170\n",
              "1      1         2  21  ...  1109.0   671  411\n",
              "2      2         3  22  ...   185.0   129   41\n",
              "3      3         4  23  ...   892.0   582  278\n",
              "4      4         5  24  ...   682.0   549   97\n",
              "\n",
              "[5 rows x 11 columns]"
            ]
          },
          "metadata": {
            "tags": []
          },
          "execution_count": 25
        }
      ]
    },
    {
      "cell_type": "code",
      "metadata": {
        "id": "qivmxtm4mxGI"
      },
      "source": [
        "# remove\n",
        "de_elecmap_ft[\"voterturnout\"] = de_elecmap_ft.votes / de_elecmap_ft.POPULATION\n",
        "de_elecmap_ft[\"redvotes\"] = de_elecmap_ft.reps / de_elecmap_ft.POPULATION\n",
        "de_elecmap_ft[\"bluevotes\"] = de_elecmap_ft.dems / de_elecmap_ft.POPULATION\n"
      ],
      "execution_count": null,
      "outputs": []
    },
    {
      "cell_type": "code",
      "metadata": {
        "id": "j0P_UIj4V3BM",
        "outputId": "58fffedc-334e-4660-a674-8f7736a4baee",
        "colab": {
          "base_uri": "https://localhost:8080/",
          "height": 536
        }
      },
      "source": [
        "de_elecmap_ft.head()"
      ],
      "execution_count": null,
      "outputs": [
        {
          "output_type": "execute_result",
          "data": {
            "text/html": [
              "<div>\n",
              "<style scoped>\n",
              "    .dataframe tbody tr th:only-of-type {\n",
              "        vertical-align: middle;\n",
              "    }\n",
              "\n",
              "    .dataframe tbody tr th {\n",
              "        vertical-align: top;\n",
              "    }\n",
              "\n",
              "    .dataframe thead th {\n",
              "        text-align: right;\n",
              "    }\n",
              "</style>\n",
              "<table border=\"1\" class=\"dataframe\">\n",
              "  <thead>\n",
              "    <tr style=\"text-align: right;\">\n",
              "      <th></th>\n",
              "      <th>index</th>\n",
              "      <th>OBJECTID</th>\n",
              "      <th>ID</th>\n",
              "      <th>EDRD_2012</th>\n",
              "      <th>POPULATION</th>\n",
              "      <th>DISTRICT</th>\n",
              "      <th>EGIS_OWNERElection_ED_RD_2012AREA</th>\n",
              "      <th>geometry</th>\n",
              "      <th>votes</th>\n",
              "      <th>dems</th>\n",
              "      <th>reps</th>\n",
              "      <th>voterturnout</th>\n",
              "      <th>redvotes</th>\n",
              "      <th>bluevotes</th>\n",
              "    </tr>\n",
              "  </thead>\n",
              "  <tbody>\n",
              "    <tr>\n",
              "      <th>0</th>\n",
              "      <td>0</td>\n",
              "      <td>1</td>\n",
              "      <td>20</td>\n",
              "      <td>01-21</td>\n",
              "      <td>1171</td>\n",
              "      <td>21</td>\n",
              "      <td>None</td>\n",
              "      <td>POLYGON ((512298.901 -148744.869, 512327.758 -...</td>\n",
              "      <td>528.0</td>\n",
              "      <td>353</td>\n",
              "      <td>170</td>\n",
              "      <td>0.450897</td>\n",
              "      <td>0.145175</td>\n",
              "      <td>0.301452</td>\n",
              "    </tr>\n",
              "    <tr>\n",
              "      <th>1</th>\n",
              "      <td>1</td>\n",
              "      <td>2</td>\n",
              "      <td>21</td>\n",
              "      <td>01-22</td>\n",
              "      <td>1755</td>\n",
              "      <td>22</td>\n",
              "      <td>None</td>\n",
              "      <td>POLYGON ((499532.843 -142968.932, 499534.031 -...</td>\n",
              "      <td>1109.0</td>\n",
              "      <td>671</td>\n",
              "      <td>411</td>\n",
              "      <td>0.631909</td>\n",
              "      <td>0.234188</td>\n",
              "      <td>0.382336</td>\n",
              "    </tr>\n",
              "    <tr>\n",
              "      <th>2</th>\n",
              "      <td>2</td>\n",
              "      <td>3</td>\n",
              "      <td>22</td>\n",
              "      <td>01-23</td>\n",
              "      <td>1947</td>\n",
              "      <td>23</td>\n",
              "      <td>None</td>\n",
              "      <td>POLYGON ((495603.003 -170059.360, 495596.249 -...</td>\n",
              "      <td>185.0</td>\n",
              "      <td>129</td>\n",
              "      <td>41</td>\n",
              "      <td>0.095018</td>\n",
              "      <td>0.021058</td>\n",
              "      <td>0.066256</td>\n",
              "    </tr>\n",
              "    <tr>\n",
              "      <th>3</th>\n",
              "      <td>3</td>\n",
              "      <td>4</td>\n",
              "      <td>23</td>\n",
              "      <td>01-24</td>\n",
              "      <td>2828</td>\n",
              "      <td>24</td>\n",
              "      <td>None</td>\n",
              "      <td>POLYGON ((506531.023 -179405.605, 506499.398 -...</td>\n",
              "      <td>892.0</td>\n",
              "      <td>582</td>\n",
              "      <td>278</td>\n",
              "      <td>0.315417</td>\n",
              "      <td>0.098303</td>\n",
              "      <td>0.205799</td>\n",
              "    </tr>\n",
              "    <tr>\n",
              "      <th>4</th>\n",
              "      <td>4</td>\n",
              "      <td>5</td>\n",
              "      <td>24</td>\n",
              "      <td>01-25</td>\n",
              "      <td>7734</td>\n",
              "      <td>25</td>\n",
              "      <td>None</td>\n",
              "      <td>POLYGON ((491018.486 -180154.129, 491153.174 -...</td>\n",
              "      <td>682.0</td>\n",
              "      <td>549</td>\n",
              "      <td>97</td>\n",
              "      <td>0.088182</td>\n",
              "      <td>0.012542</td>\n",
              "      <td>0.070985</td>\n",
              "    </tr>\n",
              "  </tbody>\n",
              "</table>\n",
              "</div>"
            ],
            "text/plain": [
              "   index  OBJECTID  ID EDRD_2012  ...  reps voterturnout  redvotes bluevotes\n",
              "0      0         1  20     01-21  ...   170     0.450897  0.145175  0.301452\n",
              "1      1         2  21     01-22  ...   411     0.631909  0.234188  0.382336\n",
              "2      2         3  22     01-23  ...    41     0.095018  0.021058  0.066256\n",
              "3      3         4  23     01-24  ...   278     0.315417  0.098303  0.205799\n",
              "4      4         5  24     01-25  ...    97     0.088182  0.012542  0.070985\n",
              "\n",
              "[5 rows x 14 columns]"
            ]
          },
          "metadata": {
            "tags": []
          },
          "execution_count": 28
        }
      ]
    },
    {
      "cell_type": "code",
      "metadata": {
        "id": "3rCXsIZ4u_yD",
        "outputId": "e50fa445-fcf3-47ba-cfbb-9aee14734cf9",
        "colab": {
          "base_uri": "https://localhost:8080/",
          "height": 360
        }
      },
      "source": [
        "fig = plt.figure(figsize=(25,7))\n",
        "ax = fig.add_subplot(141)\n",
        "de_elecmap_ft.plot(column=\"votes\", k=5, clim=(0.15), linewidth=0.1, ax=ax, \n",
        "         legend=False, scheme=\"quantiles\")\n",
        "ax.axis('off')\n",
        "ax.text( plt.xlim()[0], plt.ylim()[0], \"all - number\", fontsize=20)\n",
        "ax = fig.add_subplot(142)\n",
        "de_elecmap_ft.plot(column=\"voterturnout\", k=5, clim=(0.15), linewidth=0.1, ax=ax, \n",
        "         legend=True, scheme=\"quantiles\")\n",
        "ax.axis('off')\n",
        "ax.text( plt.xlim()[0], plt.ylim()[0], \"all - density\", fontsize=20)\n",
        "ax = fig.add_subplot(143)\n",
        "de_elecmap_ft.plot(column=\"redvotes\", k=5, linewidth=0.1, ax=ax, \n",
        "         legend=True, scheme=\"quantiles\", clim=(0.15))\n",
        "ax.axis('off')\n",
        "ax.text( plt.xlim()[0], plt.ylim()[0], \"red - density\", fontsize=20)\n",
        "ax = fig.add_subplot(144)\n",
        "ax = de_elecmap_ft.plot(column=\"bluevotes\", k=5, linewidth=0.1, ax=ax, \n",
        "         legend=True, scheme=\"quantiles\", clim=(0.15))\n",
        "ax.axis('off')\n",
        "ax.text(plt.xlim()[0], plt.ylim()[0], \"blue - density\", fontsize=20);\n"
      ],
      "execution_count": null,
      "outputs": [
        {
          "output_type": "display_data",
          "data": {
            "image/png": "[encoded data removed]",
            "text/plain": [
              "<Figure size 1800x504 with 4 Axes>"
            ]
          },
          "metadata": {
            "tags": [],
            "needs_background": "light"
          }
        }
      ]
    },
    {
      "cell_type": "markdown",
      "metadata": {
        "id": "Q_GEMd5gSYd3"
      },
      "source": [
        "Figure 1: coropleths of DE electoral districts in 5 quantile intervals. From the left the voters number is shown, the voters density (voter turnout, i.e. voters over population) the Republican Turnout and the Democrats turnout. The most striking features are the high turnout on the south coast and in the wilmington region, the low density of republican votes  in the urban Wilmington area, the low density of democrat voters in the center of the state and high density in urban areas and on the cost."
      ]
    },
    {
      "cell_type": "code",
      "metadata": {
        "id": "QFO-qPST6iue"
      },
      "source": [
        "de_elecmap_ft = de_elecmap_ft.dropna(subset=[\"votes\"])\n",
        "de_elecmap_ft.reset_index(inplace=True)\n",
        "\n",
        "de_elecmap = de_elecmap.dropna(subset=[\"votes\"])\n",
        "de_elecmap.reset_index(inplace=True)"
      ],
      "execution_count": null,
      "outputs": []
    },
    {
      "cell_type": "code",
      "metadata": {
        "id": "_EpkDAXxtwBh"
      },
      "source": [
        "# create the rook and queens weights for the DE electoral map geoDF. \n",
        "# you can do this by saving the df to a file and calling Rook.from_file (like in the class example) \n",
        "# or you can use .from_iterable(geometry) passing the geometry series from the geoDF\n",
        "\n",
        "from libpysal.weights import Queen, Rook\n",
        "\n",
        "rook_DE = Rook.from_iterable(de_elecmap_ft.dropna(subset=[\"votes\"]).geometry)\n",
        "queens_DE = Queen.from_iterable(de_elecmap_ft.dropna(subset=[\"votes\"]).geometry)"
      ],
      "execution_count": null,
      "outputs": []
    },
    {
      "cell_type": "code",
      "metadata": {
        "id": "67ZIlpjmi8ym",
        "outputId": "921d917f-16e4-46a5-86f7-264e1f8516d1",
        "colab": {
          "base_uri": "https://localhost:8080/",
          "height": 1000
        }
      },
      "source": [
        "de_elecmap_ft"
      ],
      "execution_count": null,
      "outputs": [
        {
          "output_type": "execute_result",
          "data": {
            "text/html": [
              "<div>\n",
              "<style scoped>\n",
              "    .dataframe tbody tr th:only-of-type {\n",
              "        vertical-align: middle;\n",
              "    }\n",
              "\n",
              "    .dataframe tbody tr th {\n",
              "        vertical-align: top;\n",
              "    }\n",
              "\n",
              "    .dataframe thead th {\n",
              "        text-align: right;\n",
              "    }\n",
              "</style>\n",
              "<table border=\"1\" class=\"dataframe\">\n",
              "  <thead>\n",
              "    <tr style=\"text-align: right;\">\n",
              "      <th></th>\n",
              "      <th>level_0</th>\n",
              "      <th>index</th>\n",
              "      <th>OBJECTID</th>\n",
              "      <th>ID</th>\n",
              "      <th>EDRD_2012</th>\n",
              "      <th>POPULATION</th>\n",
              "      <th>DISTRICT</th>\n",
              "      <th>EGIS_OWNERElection_ED_RD_2012AREA</th>\n",
              "      <th>geometry</th>\n",
              "      <th>votes</th>\n",
              "      <th>dems</th>\n",
              "      <th>reps</th>\n",
              "      <th>voterturnout</th>\n",
              "      <th>redvotes</th>\n",
              "      <th>bluevotes</th>\n",
              "    </tr>\n",
              "  </thead>\n",
              "  <tbody>\n",
              "    <tr>\n",
              "      <th>0</th>\n",
              "      <td>0</td>\n",
              "      <td>0</td>\n",
              "      <td>1</td>\n",
              "      <td>20</td>\n",
              "      <td>01-21</td>\n",
              "      <td>1171</td>\n",
              "      <td>21</td>\n",
              "      <td>None</td>\n",
              "      <td>POLYGON ((512298.901 -148744.869, 512327.758 -...</td>\n",
              "      <td>528.0</td>\n",
              "      <td>353</td>\n",
              "      <td>170</td>\n",
              "      <td>0.450897</td>\n",
              "      <td>0.145175</td>\n",
              "      <td>0.301452</td>\n",
              "    </tr>\n",
              "    <tr>\n",
              "      <th>1</th>\n",
              "      <td>1</td>\n",
              "      <td>1</td>\n",
              "      <td>2</td>\n",
              "      <td>21</td>\n",
              "      <td>01-22</td>\n",
              "      <td>1755</td>\n",
              "      <td>22</td>\n",
              "      <td>None</td>\n",
              "      <td>POLYGON ((499532.843 -142968.932, 499534.031 -...</td>\n",
              "      <td>1109.0</td>\n",
              "      <td>671</td>\n",
              "      <td>411</td>\n",
              "      <td>0.631909</td>\n",
              "      <td>0.234188</td>\n",
              "      <td>0.382336</td>\n",
              "    </tr>\n",
              "    <tr>\n",
              "      <th>2</th>\n",
              "      <td>2</td>\n",
              "      <td>2</td>\n",
              "      <td>3</td>\n",
              "      <td>22</td>\n",
              "      <td>01-23</td>\n",
              "      <td>1947</td>\n",
              "      <td>23</td>\n",
              "      <td>None</td>\n",
              "      <td>POLYGON ((495603.003 -170059.360, 495596.249 -...</td>\n",
              "      <td>185.0</td>\n",
              "      <td>129</td>\n",
              "      <td>41</td>\n",
              "      <td>0.095018</td>\n",
              "      <td>0.021058</td>\n",
              "      <td>0.066256</td>\n",
              "    </tr>\n",
              "    <tr>\n",
              "      <th>3</th>\n",
              "      <td>3</td>\n",
              "      <td>3</td>\n",
              "      <td>4</td>\n",
              "      <td>23</td>\n",
              "      <td>01-24</td>\n",
              "      <td>2828</td>\n",
              "      <td>24</td>\n",
              "      <td>None</td>\n",
              "      <td>POLYGON ((506531.023 -179405.605, 506499.398 -...</td>\n",
              "      <td>892.0</td>\n",
              "      <td>582</td>\n",
              "      <td>278</td>\n",
              "      <td>0.315417</td>\n",
              "      <td>0.098303</td>\n",
              "      <td>0.205799</td>\n",
              "    </tr>\n",
              "    <tr>\n",
              "      <th>4</th>\n",
              "      <td>4</td>\n",
              "      <td>4</td>\n",
              "      <td>5</td>\n",
              "      <td>24</td>\n",
              "      <td>01-25</td>\n",
              "      <td>7734</td>\n",
              "      <td>25</td>\n",
              "      <td>None</td>\n",
              "      <td>POLYGON ((491018.486 -180154.129, 491153.174 -...</td>\n",
              "      <td>682.0</td>\n",
              "      <td>549</td>\n",
              "      <td>97</td>\n",
              "      <td>0.088182</td>\n",
              "      <td>0.012542</td>\n",
              "      <td>0.070985</td>\n",
              "    </tr>\n",
              "    <tr>\n",
              "      <th>...</th>\n",
              "      <td>...</td>\n",
              "      <td>...</td>\n",
              "      <td>...</td>\n",
              "      <td>...</td>\n",
              "      <td>...</td>\n",
              "      <td>...</td>\n",
              "      <td>...</td>\n",
              "      <td>...</td>\n",
              "      <td>...</td>\n",
              "      <td>...</td>\n",
              "      <td>...</td>\n",
              "      <td>...</td>\n",
              "      <td>...</td>\n",
              "      <td>...</td>\n",
              "      <td>...</td>\n",
              "    </tr>\n",
              "    <tr>\n",
              "      <th>423</th>\n",
              "      <td>423</td>\n",
              "      <td>425</td>\n",
              "      <td>426</td>\n",
              "      <td>424</td>\n",
              "      <td>08-38</td>\n",
              "      <td>2042</td>\n",
              "      <td>38</td>\n",
              "      <td>None</td>\n",
              "      <td>POLYGON ((662767.289 -623032.929, 662695.364 -...</td>\n",
              "      <td>1197.0</td>\n",
              "      <td>364</td>\n",
              "      <td>818</td>\n",
              "      <td>0.586190</td>\n",
              "      <td>0.400588</td>\n",
              "      <td>0.178257</td>\n",
              "    </tr>\n",
              "    <tr>\n",
              "      <th>424</th>\n",
              "      <td>424</td>\n",
              "      <td>426</td>\n",
              "      <td>427</td>\n",
              "      <td>425</td>\n",
              "      <td>08-40</td>\n",
              "      <td>1684</td>\n",
              "      <td>40</td>\n",
              "      <td>None</td>\n",
              "      <td>POLYGON ((575465.618 -548539.559, 575527.485 -...</td>\n",
              "      <td>598.0</td>\n",
              "      <td>218</td>\n",
              "      <td>369</td>\n",
              "      <td>0.355107</td>\n",
              "      <td>0.219121</td>\n",
              "      <td>0.129454</td>\n",
              "    </tr>\n",
              "    <tr>\n",
              "      <th>425</th>\n",
              "      <td>425</td>\n",
              "      <td>427</td>\n",
              "      <td>428</td>\n",
              "      <td>426</td>\n",
              "      <td>08-41</td>\n",
              "      <td>2785</td>\n",
              "      <td>41</td>\n",
              "      <td>None</td>\n",
              "      <td>POLYGON ((594371.059 -573129.452, 594435.303 -...</td>\n",
              "      <td>531.0</td>\n",
              "      <td>210</td>\n",
              "      <td>309</td>\n",
              "      <td>0.190664</td>\n",
              "      <td>0.110952</td>\n",
              "      <td>0.075404</td>\n",
              "    </tr>\n",
              "    <tr>\n",
              "      <th>426</th>\n",
              "      <td>426</td>\n",
              "      <td>428</td>\n",
              "      <td>429</td>\n",
              "      <td>427</td>\n",
              "      <td>09-20</td>\n",
              "      <td>414</td>\n",
              "      <td>20</td>\n",
              "      <td>None</td>\n",
              "      <td>POLYGON ((621404.971 -493701.642, 621379.547 -...</td>\n",
              "      <td>247.0</td>\n",
              "      <td>80</td>\n",
              "      <td>163</td>\n",
              "      <td>0.596618</td>\n",
              "      <td>0.393720</td>\n",
              "      <td>0.193237</td>\n",
              "    </tr>\n",
              "    <tr>\n",
              "      <th>427</th>\n",
              "      <td>427</td>\n",
              "      <td>429</td>\n",
              "      <td>430</td>\n",
              "      <td>428</td>\n",
              "      <td>09-36</td>\n",
              "      <td>315</td>\n",
              "      <td>36</td>\n",
              "      <td>None</td>\n",
              "      <td>POLYGON ((582365.472 -525270.458, 582437.803 -...</td>\n",
              "      <td>78.0</td>\n",
              "      <td>23</td>\n",
              "      <td>55</td>\n",
              "      <td>0.247619</td>\n",
              "      <td>0.174603</td>\n",
              "      <td>0.073016</td>\n",
              "    </tr>\n",
              "  </tbody>\n",
              "</table>\n",
              "<p>428 rows × 15 columns</p>\n",
              "</div>"
            ],
            "text/plain": [
              "     level_0  index  OBJECTID   ID  ... reps  voterturnout  redvotes bluevotes\n",
              "0          0      0         1   20  ...  170      0.450897  0.145175  0.301452\n",
              "1          1      1         2   21  ...  411      0.631909  0.234188  0.382336\n",
              "2          2      2         3   22  ...   41      0.095018  0.021058  0.066256\n",
              "3          3      3         4   23  ...  278      0.315417  0.098303  0.205799\n",
              "4          4      4         5   24  ...   97      0.088182  0.012542  0.070985\n",
              "..       ...    ...       ...  ...  ...  ...           ...       ...       ...\n",
              "423      423    425       426  424  ...  818      0.586190  0.400588  0.178257\n",
              "424      424    426       427  425  ...  369      0.355107  0.219121  0.129454\n",
              "425      425    427       428  426  ...  309      0.190664  0.110952  0.075404\n",
              "426      426    428       429  427  ...  163      0.596618  0.393720  0.193237\n",
              "427      427    429       430  428  ...   55      0.247619  0.174603  0.073016\n",
              "\n",
              "[428 rows x 15 columns]"
            ]
          },
          "metadata": {
            "tags": []
          },
          "execution_count": 114
        }
      ]
    },
    {
      "cell_type": "code",
      "metadata": {
        "id": "7ZNY-bwjig6f"
      },
      "source": [
        "rook_DE2 = Rook.from_dataframe(de_elecmap_ft.dropna(subset=[\"votes\"]))\n",
        "queens_DE2 = Queen.from_dataframe(de_elecmap_ft.dropna(subset=[\"votes\"]))"
      ],
      "execution_count": null,
      "outputs": []
    },
    {
      "cell_type": "code",
      "metadata": {
        "id": "XnGSCI4au0oE",
        "outputId": "f1f46405-20c2-43dc-bb21-c7025964e6b8",
        "colab": {
          "base_uri": "https://localhost:8080/",
          "height": 1000
        }
      },
      "source": [
        "queens_DE.cardinalities"
      ],
      "execution_count": null,
      "outputs": [
        {
          "output_type": "execute_result",
          "data": {
            "text/plain": [
              "{0: 7,\n",
              " 1: 8,\n",
              " 2: 6,\n",
              " 3: 9,\n",
              " 4: 10,\n",
              " 5: 5,\n",
              " 6: 5,\n",
              " 7: 5,\n",
              " 8: 5,\n",
              " 9: 10,\n",
              " 10: 5,\n",
              " 11: 5,\n",
              " 12: 5,\n",
              " 13: 4,\n",
              " 14: 5,\n",
              " 15: 5,\n",
              " 16: 5,\n",
              " 17: 7,\n",
              " 18: 8,\n",
              " 19: 9,\n",
              " 20: 6,\n",
              " 21: 8,\n",
              " 22: 5,\n",
              " 23: 11,\n",
              " 24: 5,\n",
              " 25: 5,\n",
              " 26: 6,\n",
              " 27: 10,\n",
              " 28: 7,\n",
              " 29: 5,\n",
              " 30: 5,\n",
              " 31: 6,\n",
              " 32: 4,\n",
              " 33: 5,\n",
              " 34: 5,\n",
              " 35: 7,\n",
              " 36: 5,\n",
              " 37: 4,\n",
              " 38: 6,\n",
              " 39: 6,\n",
              " 40: 4,\n",
              " 41: 6,\n",
              " 42: 4,\n",
              " 43: 8,\n",
              " 44: 7,\n",
              " 45: 4,\n",
              " 46: 6,\n",
              " 47: 4,\n",
              " 48: 11,\n",
              " 49: 12,\n",
              " 50: 6,\n",
              " 51: 7,\n",
              " 52: 8,\n",
              " 53: 3,\n",
              " 54: 4,\n",
              " 55: 5,\n",
              " 56: 7,\n",
              " 57: 5,\n",
              " 58: 5,\n",
              " 59: 6,\n",
              " 60: 6,\n",
              " 61: 4,\n",
              " 62: 8,\n",
              " 63: 8,\n",
              " 64: 4,\n",
              " 65: 10,\n",
              " 66: 9,\n",
              " 67: 7,\n",
              " 68: 6,\n",
              " 69: 4,\n",
              " 70: 6,\n",
              " 71: 7,\n",
              " 72: 9,\n",
              " 73: 3,\n",
              " 74: 3,\n",
              " 75: 3,\n",
              " 76: 7,\n",
              " 77: 8,\n",
              " 78: 5,\n",
              " 79: 3,\n",
              " 80: 7,\n",
              " 81: 4,\n",
              " 82: 6,\n",
              " 83: 2,\n",
              " 84: 8,\n",
              " 85: 4,\n",
              " 86: 6,\n",
              " 87: 5,\n",
              " 88: 3,\n",
              " 89: 7,\n",
              " 90: 5,\n",
              " 91: 5,\n",
              " 92: 6,\n",
              " 93: 5,\n",
              " 94: 7,\n",
              " 95: 5,\n",
              " 96: 8,\n",
              " 97: 6,\n",
              " 98: 5,\n",
              " 99: 4,\n",
              " 100: 9,\n",
              " 101: 6,\n",
              " 102: 5,\n",
              " 103: 6,\n",
              " 104: 5,\n",
              " 105: 7,\n",
              " 106: 5,\n",
              " 107: 8,\n",
              " 108: 7,\n",
              " 109: 6,\n",
              " 110: 5,\n",
              " 111: 8,\n",
              " 112: 8,\n",
              " 113: 7,\n",
              " 114: 3,\n",
              " 115: 6,\n",
              " 116: 7,\n",
              " 117: 7,\n",
              " 118: 5,\n",
              " 119: 11,\n",
              " 120: 4,\n",
              " 121: 2,\n",
              " 122: 5,\n",
              " 123: 8,\n",
              " 124: 4,\n",
              " 125: 6,\n",
              " 126: 8,\n",
              " 127: 5,\n",
              " 128: 6,\n",
              " 129: 6,\n",
              " 130: 7,\n",
              " 131: 10,\n",
              " 132: 5,\n",
              " 133: 5,\n",
              " 134: 5,\n",
              " 135: 7,\n",
              " 136: 4,\n",
              " 137: 5,\n",
              " 138: 4,\n",
              " 139: 6,\n",
              " 140: 6,\n",
              " 141: 4,\n",
              " 142: 8,\n",
              " 143: 6,\n",
              " 144: 9,\n",
              " 145: 4,\n",
              " 146: 4,\n",
              " 147: 6,\n",
              " 148: 5,\n",
              " 149: 9,\n",
              " 150: 7,\n",
              " 151: 7,\n",
              " 152: 8,\n",
              " 153: 6,\n",
              " 154: 7,\n",
              " 155: 10,\n",
              " 156: 3,\n",
              " 157: 5,\n",
              " 158: 5,\n",
              " 159: 6,\n",
              " 160: 7,\n",
              " 161: 8,\n",
              " 162: 8,\n",
              " 163: 8,\n",
              " 164: 5,\n",
              " 165: 5,\n",
              " 166: 6,\n",
              " 167: 4,\n",
              " 168: 6,\n",
              " 169: 6,\n",
              " 170: 5,\n",
              " 171: 4,\n",
              " 172: 5,\n",
              " 173: 4,\n",
              " 174: 4,\n",
              " 175: 6,\n",
              " 176: 7,\n",
              " 177: 5,\n",
              " 178: 7,\n",
              " 179: 3,\n",
              " 180: 7,\n",
              " 181: 10,\n",
              " 182: 5,\n",
              " 183: 4,\n",
              " 184: 4,\n",
              " 185: 4,\n",
              " 186: 9,\n",
              " 187: 6,\n",
              " 188: 4,\n",
              " 189: 6,\n",
              " 190: 9,\n",
              " 191: 5,\n",
              " 192: 7,\n",
              " 193: 10,\n",
              " 194: 6,\n",
              " 195: 6,\n",
              " 196: 7,\n",
              " 197: 5,\n",
              " 198: 7,\n",
              " 199: 6,\n",
              " 200: 8,\n",
              " 201: 6,\n",
              " 202: 8,\n",
              " 203: 8,\n",
              " 204: 6,\n",
              " 205: 6,\n",
              " 206: 4,\n",
              " 207: 8,\n",
              " 208: 6,\n",
              " 209: 5,\n",
              " 210: 6,\n",
              " 211: 4,\n",
              " 212: 5,\n",
              " 213: 6,\n",
              " 214: 7,\n",
              " 215: 5,\n",
              " 216: 4,\n",
              " 217: 5,\n",
              " 218: 9,\n",
              " 219: 6,\n",
              " 220: 7,\n",
              " 221: 8,\n",
              " 222: 6,\n",
              " 223: 4,\n",
              " 224: 8,\n",
              " 225: 4,\n",
              " 226: 8,\n",
              " 227: 8,\n",
              " 228: 9,\n",
              " 229: 12,\n",
              " 230: 5,\n",
              " 231: 7,\n",
              " 232: 5,\n",
              " 233: 10,\n",
              " 234: 4,\n",
              " 235: 5,\n",
              " 236: 3,\n",
              " 237: 6,\n",
              " 238: 6,\n",
              " 239: 7,\n",
              " 240: 6,\n",
              " 241: 6,\n",
              " 242: 6,\n",
              " 243: 7,\n",
              " 244: 8,\n",
              " 245: 6,\n",
              " 246: 5,\n",
              " 247: 5,\n",
              " 248: 7,\n",
              " 249: 5,\n",
              " 250: 8,\n",
              " 251: 7,\n",
              " 252: 4,\n",
              " 253: 8,\n",
              " 254: 12,\n",
              " 255: 7,\n",
              " 256: 5,\n",
              " 257: 5,\n",
              " 258: 4,\n",
              " 259: 9,\n",
              " 260: 9,\n",
              " 261: 4,\n",
              " 262: 6,\n",
              " 263: 7,\n",
              " 264: 6,\n",
              " 265: 7,\n",
              " 266: 4,\n",
              " 267: 6,\n",
              " 268: 8,\n",
              " 269: 5,\n",
              " 270: 6,\n",
              " 271: 5,\n",
              " 272: 7,\n",
              " 273: 6,\n",
              " 274: 4,\n",
              " 275: 6,\n",
              " 276: 3,\n",
              " 277: 12,\n",
              " 278: 6,\n",
              " 279: 7,\n",
              " 280: 4,\n",
              " 281: 4,\n",
              " 282: 6,\n",
              " 283: 8,\n",
              " 284: 7,\n",
              " 285: 7,\n",
              " 286: 7,\n",
              " 287: 6,\n",
              " 288: 9,\n",
              " 289: 5,\n",
              " 290: 5,\n",
              " 291: 7,\n",
              " 292: 5,\n",
              " 293: 8,\n",
              " 294: 6,\n",
              " 295: 4,\n",
              " 296: 4,\n",
              " 297: 7,\n",
              " 298: 7,\n",
              " 299: 4,\n",
              " 300: 7,\n",
              " 301: 5,\n",
              " 302: 5,\n",
              " 303: 7,\n",
              " 304: 8,\n",
              " 305: 6,\n",
              " 306: 5,\n",
              " 307: 5,\n",
              " 308: 6,\n",
              " 309: 6,\n",
              " 310: 9,\n",
              " 311: 7,\n",
              " 312: 6,\n",
              " 313: 7,\n",
              " 314: 7,\n",
              " 315: 8,\n",
              " 316: 10,\n",
              " 317: 7,\n",
              " 318: 7,\n",
              " 319: 4,\n",
              " 320: 5,\n",
              " 321: 5,\n",
              " 322: 7,\n",
              " 323: 5,\n",
              " 324: 6,\n",
              " 325: 7,\n",
              " 326: 7,\n",
              " 327: 5,\n",
              " 328: 8,\n",
              " 329: 6,\n",
              " 330: 6,\n",
              " 331: 6,\n",
              " 332: 6,\n",
              " 333: 10,\n",
              " 334: 4,\n",
              " 335: 5,\n",
              " 336: 5,\n",
              " 337: 7,\n",
              " 338: 8,\n",
              " 339: 3,\n",
              " 340: 5,\n",
              " 341: 6,\n",
              " 342: 3,\n",
              " 343: 8,\n",
              " 344: 6,\n",
              " 345: 8,\n",
              " 346: 6,\n",
              " 347: 4,\n",
              " 348: 4,\n",
              " 349: 10,\n",
              " 350: 4,\n",
              " 351: 5,\n",
              " 352: 4,\n",
              " 353: 6,\n",
              " 354: 7,\n",
              " 355: 4,\n",
              " 356: 5,\n",
              " 357: 5,\n",
              " 358: 4,\n",
              " 359: 9,\n",
              " 360: 6,\n",
              " 361: 7,\n",
              " 362: 6,\n",
              " 363: 7,\n",
              " 364: 8,\n",
              " 365: 8,\n",
              " 366: 4,\n",
              " 367: 5,\n",
              " 368: 7,\n",
              " 369: 8,\n",
              " 370: 7,\n",
              " 371: 6,\n",
              " 372: 9,\n",
              " 373: 3,\n",
              " 374: 8,\n",
              " 375: 6,\n",
              " 376: 9,\n",
              " 377: 8,\n",
              " 378: 7,\n",
              " 379: 4,\n",
              " 380: 6,\n",
              " 381: 5,\n",
              " 382: 4,\n",
              " 383: 5,\n",
              " 384: 4,\n",
              " 385: 7,\n",
              " 386: 5,\n",
              " 387: 5,\n",
              " 388: 3,\n",
              " 389: 7,\n",
              " 390: 5,\n",
              " 391: 6,\n",
              " 392: 6,\n",
              " 393: 8,\n",
              " 394: 4,\n",
              " 395: 6,\n",
              " 396: 8,\n",
              " 397: 3,\n",
              " 398: 3,\n",
              " 399: 7,\n",
              " 400: 7,\n",
              " 401: 9,\n",
              " 402: 5,\n",
              " 403: 8,\n",
              " 404: 8,\n",
              " 405: 4,\n",
              " 406: 5,\n",
              " 407: 3,\n",
              " 408: 6,\n",
              " 409: 3,\n",
              " 410: 5,\n",
              " 411: 4,\n",
              " 412: 9,\n",
              " 413: 4,\n",
              " 414: 5,\n",
              " 415: 2,\n",
              " 416: 2,\n",
              " 417: 6,\n",
              " 418: 5,\n",
              " 419: 3,\n",
              " 420: 3,\n",
              " 421: 4,\n",
              " 422: 7,\n",
              " 423: 4,\n",
              " 424: 6,\n",
              " 425: 6,\n",
              " 426: 4,\n",
              " 427: 6}"
            ]
          },
          "metadata": {
            "tags": []
          },
          "execution_count": 116
        }
      ]
    },
    {
      "cell_type": "code",
      "metadata": {
        "id": "IolmjdW7u0vR"
      },
      "source": [
        "rook_DE.weights"
      ],
      "execution_count": null,
      "outputs": []
    },
    {
      "cell_type": "code",
      "metadata": {
        "id": "nuwgUSgDbd5E"
      },
      "source": [
        "rook_DE.cardinalities"
      ],
      "execution_count": null,
      "outputs": []
    },
    {
      "cell_type": "code",
      "metadata": {
        "id": "H3vHj2LFvykM",
        "outputId": "7a41197e-6c5e-4438-c2fa-51d40f489ea8",
        "colab": {
          "base_uri": "https://localhost:8080/",
          "height": 1000
        }
      },
      "source": [
        "queens_DE.cardinalities"
      ],
      "execution_count": null,
      "outputs": [
        {
          "output_type": "execute_result",
          "data": {
            "text/plain": [
              "{0: 7,\n",
              " 1: 8,\n",
              " 2: 6,\n",
              " 3: 9,\n",
              " 4: 10,\n",
              " 5: 5,\n",
              " 6: 5,\n",
              " 7: 5,\n",
              " 8: 5,\n",
              " 9: 10,\n",
              " 10: 5,\n",
              " 11: 5,\n",
              " 12: 5,\n",
              " 13: 4,\n",
              " 14: 5,\n",
              " 15: 5,\n",
              " 16: 5,\n",
              " 17: 7,\n",
              " 18: 8,\n",
              " 19: 9,\n",
              " 20: 6,\n",
              " 21: 8,\n",
              " 22: 5,\n",
              " 23: 11,\n",
              " 24: 5,\n",
              " 25: 5,\n",
              " 26: 6,\n",
              " 27: 10,\n",
              " 28: 7,\n",
              " 29: 5,\n",
              " 30: 5,\n",
              " 31: 6,\n",
              " 32: 4,\n",
              " 33: 5,\n",
              " 34: 5,\n",
              " 35: 7,\n",
              " 36: 5,\n",
              " 37: 4,\n",
              " 38: 6,\n",
              " 39: 6,\n",
              " 40: 4,\n",
              " 41: 6,\n",
              " 42: 4,\n",
              " 43: 8,\n",
              " 44: 7,\n",
              " 45: 4,\n",
              " 46: 6,\n",
              " 47: 4,\n",
              " 48: 11,\n",
              " 49: 12,\n",
              " 50: 6,\n",
              " 51: 7,\n",
              " 52: 8,\n",
              " 53: 3,\n",
              " 54: 4,\n",
              " 55: 5,\n",
              " 56: 7,\n",
              " 57: 5,\n",
              " 58: 5,\n",
              " 59: 6,\n",
              " 60: 6,\n",
              " 61: 4,\n",
              " 62: 8,\n",
              " 63: 8,\n",
              " 64: 4,\n",
              " 65: 10,\n",
              " 66: 9,\n",
              " 67: 7,\n",
              " 68: 6,\n",
              " 69: 4,\n",
              " 70: 6,\n",
              " 71: 7,\n",
              " 72: 9,\n",
              " 73: 3,\n",
              " 74: 3,\n",
              " 75: 3,\n",
              " 76: 7,\n",
              " 77: 8,\n",
              " 78: 5,\n",
              " 79: 3,\n",
              " 80: 7,\n",
              " 81: 4,\n",
              " 82: 6,\n",
              " 83: 2,\n",
              " 84: 8,\n",
              " 85: 4,\n",
              " 86: 6,\n",
              " 87: 5,\n",
              " 88: 3,\n",
              " 89: 7,\n",
              " 90: 5,\n",
              " 91: 5,\n",
              " 92: 6,\n",
              " 93: 5,\n",
              " 94: 7,\n",
              " 95: 5,\n",
              " 96: 8,\n",
              " 97: 6,\n",
              " 98: 5,\n",
              " 99: 4,\n",
              " 100: 9,\n",
              " 101: 6,\n",
              " 102: 5,\n",
              " 103: 6,\n",
              " 104: 5,\n",
              " 105: 7,\n",
              " 106: 5,\n",
              " 107: 8,\n",
              " 108: 7,\n",
              " 109: 6,\n",
              " 110: 5,\n",
              " 111: 8,\n",
              " 112: 8,\n",
              " 113: 7,\n",
              " 114: 3,\n",
              " 115: 6,\n",
              " 116: 7,\n",
              " 117: 7,\n",
              " 118: 5,\n",
              " 119: 11,\n",
              " 120: 4,\n",
              " 121: 2,\n",
              " 122: 5,\n",
              " 123: 8,\n",
              " 124: 4,\n",
              " 125: 6,\n",
              " 126: 8,\n",
              " 127: 5,\n",
              " 128: 6,\n",
              " 129: 6,\n",
              " 130: 7,\n",
              " 131: 10,\n",
              " 132: 5,\n",
              " 133: 5,\n",
              " 134: 5,\n",
              " 135: 7,\n",
              " 136: 4,\n",
              " 137: 5,\n",
              " 138: 4,\n",
              " 139: 6,\n",
              " 140: 6,\n",
              " 141: 4,\n",
              " 142: 8,\n",
              " 143: 6,\n",
              " 144: 9,\n",
              " 145: 4,\n",
              " 146: 4,\n",
              " 147: 6,\n",
              " 148: 5,\n",
              " 149: 9,\n",
              " 150: 7,\n",
              " 151: 7,\n",
              " 152: 8,\n",
              " 153: 6,\n",
              " 154: 7,\n",
              " 155: 10,\n",
              " 156: 3,\n",
              " 157: 5,\n",
              " 158: 5,\n",
              " 159: 6,\n",
              " 160: 7,\n",
              " 161: 8,\n",
              " 162: 8,\n",
              " 163: 8,\n",
              " 164: 5,\n",
              " 165: 5,\n",
              " 166: 6,\n",
              " 167: 4,\n",
              " 168: 6,\n",
              " 169: 6,\n",
              " 170: 5,\n",
              " 171: 4,\n",
              " 172: 5,\n",
              " 173: 4,\n",
              " 174: 4,\n",
              " 175: 6,\n",
              " 176: 7,\n",
              " 177: 5,\n",
              " 178: 7,\n",
              " 179: 3,\n",
              " 180: 7,\n",
              " 181: 10,\n",
              " 182: 5,\n",
              " 183: 4,\n",
              " 184: 4,\n",
              " 185: 4,\n",
              " 186: 9,\n",
              " 187: 6,\n",
              " 188: 4,\n",
              " 189: 6,\n",
              " 190: 9,\n",
              " 191: 5,\n",
              " 192: 7,\n",
              " 193: 10,\n",
              " 194: 6,\n",
              " 195: 6,\n",
              " 196: 7,\n",
              " 197: 5,\n",
              " 198: 7,\n",
              " 199: 6,\n",
              " 200: 8,\n",
              " 201: 6,\n",
              " 202: 8,\n",
              " 203: 8,\n",
              " 204: 6,\n",
              " 205: 6,\n",
              " 206: 4,\n",
              " 207: 8,\n",
              " 208: 6,\n",
              " 209: 5,\n",
              " 210: 6,\n",
              " 211: 4,\n",
              " 212: 5,\n",
              " 213: 6,\n",
              " 214: 7,\n",
              " 215: 5,\n",
              " 216: 4,\n",
              " 217: 5,\n",
              " 218: 9,\n",
              " 219: 6,\n",
              " 220: 7,\n",
              " 221: 8,\n",
              " 222: 6,\n",
              " 223: 4,\n",
              " 224: 8,\n",
              " 225: 4,\n",
              " 226: 8,\n",
              " 227: 8,\n",
              " 228: 9,\n",
              " 229: 12,\n",
              " 230: 5,\n",
              " 231: 7,\n",
              " 232: 5,\n",
              " 233: 10,\n",
              " 234: 4,\n",
              " 235: 5,\n",
              " 236: 3,\n",
              " 237: 6,\n",
              " 238: 6,\n",
              " 239: 7,\n",
              " 240: 6,\n",
              " 241: 6,\n",
              " 242: 6,\n",
              " 243: 7,\n",
              " 244: 8,\n",
              " 245: 6,\n",
              " 246: 5,\n",
              " 247: 5,\n",
              " 248: 7,\n",
              " 249: 5,\n",
              " 250: 8,\n",
              " 251: 7,\n",
              " 252: 4,\n",
              " 253: 8,\n",
              " 254: 12,\n",
              " 255: 7,\n",
              " 256: 5,\n",
              " 257: 5,\n",
              " 258: 4,\n",
              " 259: 9,\n",
              " 260: 9,\n",
              " 261: 4,\n",
              " 262: 6,\n",
              " 263: 7,\n",
              " 264: 6,\n",
              " 265: 7,\n",
              " 266: 4,\n",
              " 267: 6,\n",
              " 268: 8,\n",
              " 269: 5,\n",
              " 270: 6,\n",
              " 271: 5,\n",
              " 272: 7,\n",
              " 273: 6,\n",
              " 274: 4,\n",
              " 275: 6,\n",
              " 276: 3,\n",
              " 277: 12,\n",
              " 278: 6,\n",
              " 279: 7,\n",
              " 280: 4,\n",
              " 281: 4,\n",
              " 282: 6,\n",
              " 283: 8,\n",
              " 284: 7,\n",
              " 285: 7,\n",
              " 286: 7,\n",
              " 287: 6,\n",
              " 288: 9,\n",
              " 289: 5,\n",
              " 290: 5,\n",
              " 291: 7,\n",
              " 292: 5,\n",
              " 293: 8,\n",
              " 294: 6,\n",
              " 295: 4,\n",
              " 296: 4,\n",
              " 297: 7,\n",
              " 298: 7,\n",
              " 299: 4,\n",
              " 300: 7,\n",
              " 301: 5,\n",
              " 302: 5,\n",
              " 303: 7,\n",
              " 304: 8,\n",
              " 305: 6,\n",
              " 306: 5,\n",
              " 307: 5,\n",
              " 308: 6,\n",
              " 309: 6,\n",
              " 310: 9,\n",
              " 311: 7,\n",
              " 312: 6,\n",
              " 313: 7,\n",
              " 314: 7,\n",
              " 315: 8,\n",
              " 316: 10,\n",
              " 317: 7,\n",
              " 318: 7,\n",
              " 319: 4,\n",
              " 320: 5,\n",
              " 321: 5,\n",
              " 322: 7,\n",
              " 323: 5,\n",
              " 324: 6,\n",
              " 325: 7,\n",
              " 326: 7,\n",
              " 327: 5,\n",
              " 328: 8,\n",
              " 329: 6,\n",
              " 330: 6,\n",
              " 331: 6,\n",
              " 332: 6,\n",
              " 333: 10,\n",
              " 334: 4,\n",
              " 335: 5,\n",
              " 336: 5,\n",
              " 337: 7,\n",
              " 338: 8,\n",
              " 339: 3,\n",
              " 340: 5,\n",
              " 341: 6,\n",
              " 342: 3,\n",
              " 343: 8,\n",
              " 344: 6,\n",
              " 345: 8,\n",
              " 346: 6,\n",
              " 347: 4,\n",
              " 348: 4,\n",
              " 349: 10,\n",
              " 350: 4,\n",
              " 351: 5,\n",
              " 352: 4,\n",
              " 353: 6,\n",
              " 354: 7,\n",
              " 355: 4,\n",
              " 356: 5,\n",
              " 357: 5,\n",
              " 358: 4,\n",
              " 359: 9,\n",
              " 360: 6,\n",
              " 361: 7,\n",
              " 362: 6,\n",
              " 363: 7,\n",
              " 364: 8,\n",
              " 365: 8,\n",
              " 366: 4,\n",
              " 367: 5,\n",
              " 368: 7,\n",
              " 369: 8,\n",
              " 370: 7,\n",
              " 371: 6,\n",
              " 372: 9,\n",
              " 373: 3,\n",
              " 374: 8,\n",
              " 375: 6,\n",
              " 376: 9,\n",
              " 377: 8,\n",
              " 378: 7,\n",
              " 379: 4,\n",
              " 380: 6,\n",
              " 381: 5,\n",
              " 382: 4,\n",
              " 383: 5,\n",
              " 384: 4,\n",
              " 385: 7,\n",
              " 386: 5,\n",
              " 387: 5,\n",
              " 388: 3,\n",
              " 389: 7,\n",
              " 390: 5,\n",
              " 391: 6,\n",
              " 392: 6,\n",
              " 393: 8,\n",
              " 394: 4,\n",
              " 395: 6,\n",
              " 396: 8,\n",
              " 397: 3,\n",
              " 398: 3,\n",
              " 399: 7,\n",
              " 400: 7,\n",
              " 401: 9,\n",
              " 402: 5,\n",
              " 403: 8,\n",
              " 404: 8,\n",
              " 405: 4,\n",
              " 406: 5,\n",
              " 407: 3,\n",
              " 408: 6,\n",
              " 409: 3,\n",
              " 410: 5,\n",
              " 411: 4,\n",
              " 412: 9,\n",
              " 413: 4,\n",
              " 414: 5,\n",
              " 415: 2,\n",
              " 416: 2,\n",
              " 417: 6,\n",
              " 418: 5,\n",
              " 419: 3,\n",
              " 420: 3,\n",
              " 421: 4,\n",
              " 422: 7,\n",
              " 423: 4,\n",
              " 424: 6,\n",
              " 425: 6,\n",
              " 426: 4,\n",
              " 427: 6}"
            ]
          },
          "metadata": {
            "tags": []
          },
          "execution_count": 118
        }
      ]
    },
    {
      "cell_type": "markdown",
      "metadata": {
        "id": "ls8ttxG8vPMD"
      },
      "source": [
        "## what is the electoral pricincts with most neighbouring ones? is it the same for Rook and Queens weights?\n",
        "\n",
        "note: you can use the weights object cardinalities attribute, e.g.\n",
        "```rook_DE.cardinalities```\n",
        "this will return a dictionary. \n",
        "To find the maximum of a dictionary you can look here \n",
        "https://www.geeksforgeeks.org/python-get-key-with-maximum-value-in-dictionary/\n",
        "\n"
      ]
    },
    {
      "cell_type": "code",
      "metadata": {
        "id": "gg_QKEtWvcww",
        "outputId": "0091dfc9-5868-45d3-ed36-af0e3101ead8",
        "colab": {
          "base_uri": "https://localhost:8080/",
          "height": 33
        }
      },
      "source": [
        "# remove\n",
        "RKeymax = max(rook_DE.cardinalities, key=rook_DE.cardinalities.get) \n",
        "print(RKeymax) "
      ],
      "execution_count": null,
      "outputs": [
        {
          "output_type": "stream",
          "text": [
            "9\n"
          ],
          "name": "stdout"
        }
      ]
    },
    {
      "cell_type": "code",
      "metadata": {
        "id": "Wd4eGtPFvjz4",
        "outputId": "74fb45d7-daf3-4309-ad4d-c558b6280148",
        "colab": {
          "base_uri": "https://localhost:8080/",
          "height": 33
        }
      },
      "source": [
        "QKeymax = max(queens_DE.cardinalities, key=queens_DE.cardinalities.get) \n",
        "print(QKeymax) "
      ],
      "execution_count": null,
      "outputs": [
        {
          "output_type": "stream",
          "text": [
            "49\n"
          ],
          "name": "stdout"
        }
      ]
    },
    {
      "cell_type": "code",
      "metadata": {
        "id": "m2pIqD2kc2s4",
        "outputId": "84e16977-b8a8-49ce-98eb-ca87a43cb4ab",
        "colab": {
          "base_uri": "https://localhost:8080/",
          "height": 50
        }
      },
      "source": [
        "print(\"all precinct with 10 Rook neighbors (max number)\")\n",
        "\n",
        "[k for k,v in rook_DE.cardinalities.items() if float(v) == rook_DE.cardinalities[RKeymax]]"
      ],
      "execution_count": 124,
      "outputs": [
        {
          "output_type": "stream",
          "text": [
            "all precinct with 10 Rook neighbors (max number)\n"
          ],
          "name": "stdout"
        },
        {
          "output_type": "execute_result",
          "data": {
            "text/plain": [
              "[9, 48, 49, 65, 229, 254, 349]"
            ]
          },
          "metadata": {
            "tags": []
          },
          "execution_count": 124
        }
      ]
    },
    {
      "cell_type": "code",
      "metadata": {
        "id": "KY4rlJppfMXo",
        "outputId": "5ac2ed34-f852-406b-e25b-ee6661d63fa6",
        "colab": {
          "base_uri": "https://localhost:8080/",
          "height": 50
        }
      },
      "source": [
        "print(\"all precinct with 10 Queens neighbors (max number)\")\n",
        "\n",
        "[k for k,v in queens_DE.cardinalities.items() if float(v) == queens_DE.cardinalities[QKeymax]]"
      ],
      "execution_count": 125,
      "outputs": [
        {
          "output_type": "stream",
          "text": [
            "all precinct with 10 Queens neighbors (max number)\n"
          ],
          "name": "stdout"
        },
        {
          "output_type": "execute_result",
          "data": {
            "text/plain": [
              "[49, 229, 254, 277]"
            ]
          },
          "metadata": {
            "tags": []
          },
          "execution_count": 125
        }
      ]
    },
    {
      "cell_type": "markdown",
      "metadata": {
        "id": "cMiGddF_gZ1o"
      },
      "source": [
        "District 49, 254, and 229both have max number of neighbors for Queens and Rook weights. Other ones differe in the weights"
      ]
    },
    {
      "cell_type": "markdown",
      "metadata": {
        "id": "VcZBubQaxzzK"
      },
      "source": [
        "are there isolated electoral precincts? you can find out with the attribute of the weights \"island\"\n"
      ]
    },
    {
      "cell_type": "code",
      "metadata": {
        "id": "0v7_NNDOwAIt",
        "outputId": "e74c7241-d2de-4315-afd3-3308957d0ed8",
        "colab": {
          "base_uri": "https://localhost:8080/",
          "height": 33
        }
      },
      "source": [
        "rook_DE.islands"
      ],
      "execution_count": 126,
      "outputs": [
        {
          "output_type": "execute_result",
          "data": {
            "text/plain": [
              "[]"
            ]
          },
          "metadata": {
            "tags": []
          },
          "execution_count": 126
        }
      ]
    },
    {
      "cell_type": "code",
      "metadata": {
        "id": "WcFJFbxSwaDp",
        "outputId": "34e6d2bc-e4e9-4560-9ec6-73d483457522",
        "colab": {
          "base_uri": "https://localhost:8080/",
          "height": 33
        }
      },
      "source": [
        "queens_DE.islands"
      ],
      "execution_count": 127,
      "outputs": [
        {
          "output_type": "execute_result",
          "data": {
            "text/plain": [
              "[]"
            ]
          },
          "metadata": {
            "tags": []
          },
          "execution_count": 127
        }
      ]
    },
    {
      "cell_type": "markdown",
      "metadata": {
        "id": "uZ6uA_Xdgsyl"
      },
      "source": [
        "There are not islands in either weight set"
      ]
    },
    {
      "cell_type": "markdown",
      "metadata": {
        "id": "VsmpEWsmwbt9"
      },
      "source": [
        "# challenge: wilmington center has coordinated 39.7447° N, 75.5484° W. \n",
        "find out in which precinct this location is (look at the first citibike notebook ) and find how many neighbors that precinct has in booth Rook and Queens weights\n",
        "\n",
        "\n",
        " https://automating-gis-processes.github.io/CSC18/lessons/L4/point-in-polygon.html\n",
        "\n"
      ]
    },
    {
      "cell_type": "code",
      "metadata": {
        "id": "VfsOccaN0UCb"
      },
      "source": [
        "# remove \n",
        "# combine lat and lon to one column\n",
        "lonlat = (-75.5484,39.7447)\n",
        "# Create Point Geometry for based on lonlat column\n",
        "wilmington = shapely.geometry.Point(lonlat)\n"
      ],
      "execution_count": null,
      "outputs": []
    },
    {
      "cell_type": "code",
      "metadata": {
        "id": "9hW5iqU5zE3D",
        "outputId": "27e534fd-dfec-4692-94a9-e18c6c85db82",
        "colab": {
          "base_uri": "https://localhost:8080/",
          "height": 141
        }
      },
      "source": [
        "#remove\n",
        "wilmingtonpc = de_elecmap.dropna(subset=[\"geometry\"])[\n",
        "          de_elecmap.dropna(subset=[\"geometry\"]).geometry.map(lambda \n",
        "                                  geom: wilmington.within(geom))]\n",
        "wilmingtonpc"
      ],
      "execution_count": null,
      "outputs": [
        {
          "output_type": "execute_result",
          "data": {
            "text/html": [
              "<div>\n",
              "<style scoped>\n",
              "    .dataframe tbody tr th:only-of-type {\n",
              "        vertical-align: middle;\n",
              "    }\n",
              "\n",
              "    .dataframe tbody tr th {\n",
              "        vertical-align: top;\n",
              "    }\n",
              "\n",
              "    .dataframe thead th {\n",
              "        text-align: right;\n",
              "    }\n",
              "</style>\n",
              "<table border=\"1\" class=\"dataframe\">\n",
              "  <thead>\n",
              "    <tr style=\"text-align: right;\">\n",
              "      <th></th>\n",
              "      <th>level_0</th>\n",
              "      <th>index</th>\n",
              "      <th>OBJECTID</th>\n",
              "      <th>ID</th>\n",
              "      <th>EDRD_2012</th>\n",
              "      <th>POPULATION</th>\n",
              "      <th>DISTRICT</th>\n",
              "      <th>EGIS_OWNERElection_ED_RD_2012AREA</th>\n",
              "      <th>geometry</th>\n",
              "      <th>votes</th>\n",
              "      <th>popdensity</th>\n",
              "    </tr>\n",
              "  </thead>\n",
              "  <tbody>\n",
              "    <tr>\n",
              "      <th>100</th>\n",
              "      <td>100</td>\n",
              "      <td>100</td>\n",
              "      <td>101</td>\n",
              "      <td>127</td>\n",
              "      <td>06-02</td>\n",
              "      <td>1505</td>\n",
              "      <td>02</td>\n",
              "      <td>None</td>\n",
              "      <td>POLYGON ((-75.55499 39.75124, -75.55501 39.751...</td>\n",
              "      <td>445.0</td>\n",
              "      <td>6011.222225</td>\n",
              "    </tr>\n",
              "  </tbody>\n",
              "</table>\n",
              "</div>"
            ],
            "text/plain": [
              "     level_0  index  ...  votes   popdensity\n",
              "100      100    100  ...  445.0  6011.222225\n",
              "\n",
              "[1 rows x 11 columns]"
            ]
          },
          "metadata": {
            "tags": []
          },
          "execution_count": 87
        }
      ]
    },
    {
      "cell_type": "code",
      "metadata": {
        "id": "1ZJMd7vFsV3q",
        "outputId": "9fa45b6b-d71a-4d5b-8bb1-0b0c8d0e0acb",
        "colab": {
          "base_uri": "https://localhost:8080/",
          "height": 212
        }
      },
      "source": [
        "de_elecmap.geometry.map(lambda geom: wilmington.within(geom))"
      ],
      "execution_count": null,
      "outputs": [
        {
          "output_type": "execute_result",
          "data": {
            "text/plain": [
              "0      False\n",
              "1      False\n",
              "2      False\n",
              "3      False\n",
              "4      False\n",
              "       ...  \n",
              "423    False\n",
              "424    False\n",
              "425    False\n",
              "426    False\n",
              "427    False\n",
              "Name: geometry, Length: 428, dtype: bool"
            ]
          },
          "metadata": {
            "tags": []
          },
          "execution_count": 88
        }
      ]
    },
    {
      "cell_type": "code",
      "metadata": {
        "id": "q-pR12cstYzW",
        "outputId": "03495128-aeb7-4bdd-f1dc-fbf1d83dbfec",
        "colab": {
          "base_uri": "https://localhost:8080/",
          "height": 516
        }
      },
      "source": [
        "de_elecmap.head()\n"
      ],
      "execution_count": null,
      "outputs": [
        {
          "output_type": "execute_result",
          "data": {
            "text/html": [
              "<div>\n",
              "<style scoped>\n",
              "    .dataframe tbody tr th:only-of-type {\n",
              "        vertical-align: middle;\n",
              "    }\n",
              "\n",
              "    .dataframe tbody tr th {\n",
              "        vertical-align: top;\n",
              "    }\n",
              "\n",
              "    .dataframe thead th {\n",
              "        text-align: right;\n",
              "    }\n",
              "</style>\n",
              "<table border=\"1\" class=\"dataframe\">\n",
              "  <thead>\n",
              "    <tr style=\"text-align: right;\">\n",
              "      <th></th>\n",
              "      <th>level_0</th>\n",
              "      <th>index</th>\n",
              "      <th>OBJECTID</th>\n",
              "      <th>ID</th>\n",
              "      <th>EDRD_2012</th>\n",
              "      <th>POPULATION</th>\n",
              "      <th>DISTRICT</th>\n",
              "      <th>EGIS_OWNERElection_ED_RD_2012AREA</th>\n",
              "      <th>geometry</th>\n",
              "      <th>votes</th>\n",
              "      <th>popdensity</th>\n",
              "    </tr>\n",
              "  </thead>\n",
              "  <tbody>\n",
              "    <tr>\n",
              "      <th>0</th>\n",
              "      <td>0</td>\n",
              "      <td>0</td>\n",
              "      <td>1</td>\n",
              "      <td>20</td>\n",
              "      <td>01-21</td>\n",
              "      <td>1171</td>\n",
              "      <td>21</td>\n",
              "      <td>None</td>\n",
              "      <td>POLYGON ((-75.67816 39.74598, -75.67807 39.746...</td>\n",
              "      <td>528.0</td>\n",
              "      <td>3051.035117</td>\n",
              "    </tr>\n",
              "    <tr>\n",
              "      <th>1</th>\n",
              "      <td>1</td>\n",
              "      <td>1</td>\n",
              "      <td>2</td>\n",
              "      <td>21</td>\n",
              "      <td>01-22</td>\n",
              "      <td>1755</td>\n",
              "      <td>22</td>\n",
              "      <td>None</td>\n",
              "      <td>POLYGON ((-75.72394 39.76115, -75.72393 39.760...</td>\n",
              "      <td>1109.0</td>\n",
              "      <td>1353.325230</td>\n",
              "    </tr>\n",
              "    <tr>\n",
              "      <th>2</th>\n",
              "      <td>2</td>\n",
              "      <td>2</td>\n",
              "      <td>3</td>\n",
              "      <td>22</td>\n",
              "      <td>01-23</td>\n",
              "      <td>1947</td>\n",
              "      <td>23</td>\n",
              "      <td>None</td>\n",
              "      <td>POLYGON ((-75.73601 39.68660, -75.73603 39.686...</td>\n",
              "      <td>185.0</td>\n",
              "      <td>7024.074253</td>\n",
              "    </tr>\n",
              "    <tr>\n",
              "      <th>3</th>\n",
              "      <td>3</td>\n",
              "      <td>3</td>\n",
              "      <td>4</td>\n",
              "      <td>23</td>\n",
              "      <td>01-24</td>\n",
              "      <td>2828</td>\n",
              "      <td>24</td>\n",
              "      <td>None</td>\n",
              "      <td>POLYGON ((-75.69655 39.66154, -75.69666 39.661...</td>\n",
              "      <td>892.0</td>\n",
              "      <td>2229.844811</td>\n",
              "    </tr>\n",
              "    <tr>\n",
              "      <th>4</th>\n",
              "      <td>4</td>\n",
              "      <td>4</td>\n",
              "      <td>5</td>\n",
              "      <td>24</td>\n",
              "      <td>01-25</td>\n",
              "      <td>7734</td>\n",
              "      <td>25</td>\n",
              "      <td>None</td>\n",
              "      <td>POLYGON ((-75.75158 39.65865, -75.75109 39.658...</td>\n",
              "      <td>682.0</td>\n",
              "      <td>3461.239454</td>\n",
              "    </tr>\n",
              "  </tbody>\n",
              "</table>\n",
              "</div>"
            ],
            "text/plain": [
              "   level_0  index  ...   votes   popdensity\n",
              "0        0      0  ...   528.0  3051.035117\n",
              "1        1      1  ...  1109.0  1353.325230\n",
              "2        2      2  ...   185.0  7024.074253\n",
              "3        3      3  ...   892.0  2229.844811\n",
              "4        4      4  ...   682.0  3461.239454\n",
              "\n",
              "[5 rows x 11 columns]"
            ]
          },
          "metadata": {
            "tags": []
          },
          "execution_count": 89
        }
      ]
    },
    {
      "cell_type": "code",
      "metadata": {
        "id": "-YOIsFXo30vn"
      },
      "source": [
        "wilmingtonpcid = wilmingtonpc.index.values[0]\n"
      ],
      "execution_count": null,
      "outputs": []
    },
    {
      "cell_type": "code",
      "metadata": {
        "id": "fl5Log7L3sTT",
        "outputId": "1f4217db-1363-4b1b-a342-b87ec1038414",
        "colab": {
          "base_uri": "https://localhost:8080/",
          "height": 33
        }
      },
      "source": [
        "# remove\n",
        "rook_DE.cardinalities[wilmingtonpcid], \\\n",
        "queens_DE.cardinalities[wilmingtonpcid]\n"
      ],
      "execution_count": null,
      "outputs": [
        {
          "output_type": "execute_result",
          "data": {
            "text/plain": [
              "(7, 9)"
            ]
          },
          "metadata": {
            "tags": []
          },
          "execution_count": 91
        }
      ]
    },
    {
      "cell_type": "code",
      "metadata": {
        "id": "z-dwb20TDwhL",
        "outputId": "6a390644-61e4-46f6-e771-8f6590fec497",
        "colab": {
          "base_uri": "https://localhost:8080/",
          "height": 247
        }
      },
      "source": [
        "ax = wilmingtonpc.plot(edgecolor='grey')\n",
        "ax.plot(wilmington.coords[0][0], wilmington.coords[0][1], 'ro')\n",
        "ax.axis('off');"
      ],
      "execution_count": 128,
      "outputs": [
        {
          "output_type": "display_data",
          "data": {
            "image/png": "[encoded data removed]",
            "text/plain": [
              "<Figure size 432x288 with 1 Axes>"
            ]
          },
          "metadata": {
            "tags": [],
            "needs_background": "light"
          }
        }
      ]
    },
    {
      "cell_type": "markdown",
      "metadata": {
        "id": "TIMJCVlUTsPj"
      },
      "source": [
        "Fig 2: the distric twhere the center of Wilmington is, which is distric 100, is plotted. Wilmington center (coordinates 39.7447° N, 75.5484° W) is plotted as a red dot."
      ]
    },
    {
      "cell_type": "code",
      "metadata": {
        "id": "3MUUiu2RhnIF",
        "outputId": "21845dac-4428-469a-caf0-775ea8b8ac1a",
        "colab": {
          "base_uri": "https://localhost:8080/",
          "height": 33
        }
      },
      "source": [
        "print(\"precinct %d has %d rook and %d queens weights\"%(wilmingtonpcid, \n",
        "rook_DE.cardinalities[wilmingtonpcid], \n",
        "queens_DE.cardinalities[wilmingtonpcid]))\n"
      ],
      "execution_count": null,
      "outputs": [
        {
          "output_type": "stream",
          "text": [
            "precinct 100 has 7 rook and 9 queens weights\n"
          ],
          "name": "stdout"
        }
      ]
    },
    {
      "cell_type": "markdown",
      "metadata": {
        "id": "zsP0IpeI10RM"
      },
      "source": [
        "## make a connection plot: plot the neighborhood of the Wilmington center precincts and the Rook and Queens weights on it. \n",
        "\n",
        "\n",
        "Reproduce the diagram that shows the connectivity of the precints, the weights diagram (see notebook example https://github.com/fedhere/PUS2020_FBianco/blob/master/classdemo/SpatialWeights_CitiBike.ipynb) can you see which neighbourhood assignments are different for the rook and the queens weights? can you tell why?\n"
      ]
    },
    {
      "cell_type": "code",
      "metadata": {
        "id": "Fi9geXOWzUGe",
        "outputId": "dcca2df0-b100-41f3-caf7-2cf45aec1f08",
        "colab": {
          "base_uri": "https://localhost:8080/"
        }
      },
      "source": [
        "# remove\n",
        "ax = de_elecmap_ft.plot(edgecolor='grey', facecolor='w')\n",
        "ax = wilmingtonpc.to_crs(epsg=2263).plot(edgecolor='grey', facecolor='b', ax=ax)\n",
        "f,ax = queens_DE.plot(de_elecmap_ft, ax=ax, \n",
        "        edge_kws=dict(color='b', linestyle=':', linewidth=1),\n",
        "        node_kws=dict(marker=''))\n",
        "f,ax = rook_DE.plot(de_elecmap_ft, ax=ax, \n",
        "        edge_kws=dict(color='r', linestyle=':', alpha=0.5, linewidth=1),\n",
        "        node_kws=dict(marker=''))\n",
        "\n",
        "\n",
        "ax.set_axis_off()\n",
        "\n",
        "plt.xlim((540000, 560000))\n",
        "plt.ylim((-145000, -155000.));\n"
      ],
      "execution_count": null,
      "outputs": [
        {
          "output_type": "display_data",
          "data": {
            "image/png": "[encoded data removed]",
            "text/plain": [
              "<Figure size 432x288 with 1 Axes>"
            ]
          },
          "metadata": {
            "tags": [],
            "needs_background": "light"
          }
        }
      ]
    },
    {
      "cell_type": "markdown",
      "metadata": {
        "id": "mHmUeAhUT_pq"
      },
      "source": [
        "Fig 3: cardinalities of the district where wilmington center is: the queens weights show, as expected, additional connection with districts that share a single point boundary in the giedataframe, e.g. the district on the top right corner of the district plotted in blue"
      ]
    },
    {
      "cell_type": "code",
      "metadata": {
        "id": "mNY10ayY4nsQ"
      },
      "source": [
        "import pysal.lib as ps"
      ],
      "execution_count": null,
      "outputs": []
    },
    {
      "cell_type": "markdown",
      "metadata": {
        "id": "uT_IqayD3L4d"
      },
      "source": [
        "# create the spatial lag metrics and calculate the global Moran's I"
      ]
    },
    {
      "cell_type": "code",
      "metadata": {
        "id": "c4PRG87iuX5z"
      },
      "source": [
        "# remove\n",
        "voterturnoutlag = ps.weights.lag_spatial(queens_DE, de_elecmap_ft.voterturnout)\n",
        "redvoteslag = ps.weights.lag_spatial(queens_DE, de_elecmap_ft.redvotes)\n",
        "bluevoteslag = ps.weights.lag_spatial(queens_DE, de_elecmap_ft.bluevotes)"
      ],
      "execution_count": null,
      "outputs": []
    },
    {
      "cell_type": "code",
      "metadata": {
        "id": "TeIOjxRePFUm",
        "outputId": "720e8334-5722-489d-9f54-81cba24fb2d7",
        "colab": {
          "base_uri": "https://localhost:8080/",
          "height": 33
        }
      },
      "source": [
        "# leave\n",
        "np.where(de_elecmap_ft.voterturnout.isna())"
      ],
      "execution_count": null,
      "outputs": [
        {
          "output_type": "execute_result",
          "data": {
            "text/plain": [
              "(array([], dtype=int64),)"
            ]
          },
          "metadata": {
            "tags": []
          },
          "execution_count": 45
        }
      ]
    },
    {
      "cell_type": "code",
      "metadata": {
        "id": "51D0BiJE7CYy",
        "outputId": "8d5fa029-94ba-45f8-973a-d7e3d6ff3372",
        "colab": {
          "base_uri": "https://localhost:8080/",
          "height": 282
        }
      },
      "source": [
        "# leave\n",
        "plt.plot(de_elecmap_ft.voterturnout, voterturnoutlag, '.')\n",
        "plt.xlabel(\"voter turnout (all parties)\")\n",
        "plt.ylabel(\"voter turnout spatial lag\");"
      ],
      "execution_count": null,
      "outputs": [
        {
          "output_type": "display_data",
          "data": {
            "image/png": "[encoded data removed]",
            "text/plain": [
              "<Figure size 432x288 with 1 Axes>"
            ]
          },
          "metadata": {
            "tags": [],
            "needs_background": "light"
          }
        }
      ]
    },
    {
      "cell_type": "markdown",
      "metadata": {
        "id": "uVyWZgBVURLZ"
      },
      "source": [
        "Figure 4: spatial lag plot of the voters \"turnout\" as defined in Figure 1, plotted against the voter turnour. The plot shows little correlation and it is further investigated below"
      ]
    },
    {
      "cell_type": "code",
      "metadata": {
        "id": "DyQ7o18D4l1S"
      },
      "source": [
        "ball, aall = np.polyfit(de_elecmap_ft.voterturnout.values, voterturnoutlag, 1)\n",
        "br,ar = np.polyfit(de_elecmap_ft.redvotes.values, redvoteslag, 1)\n",
        "bb,ab = np.polyfit(de_elecmap_ft.bluevotes.values, bluevoteslag, 1)\n"
      ],
      "execution_count": null,
      "outputs": []
    },
    {
      "cell_type": "markdown",
      "metadata": {
        "id": "AwM_NrNlZ0p4"
      },
      "source": [
        "## following the notebook example in class make a Moran'sI plot of each:\n",
        "-all votes\n",
        "\n",
        "-red votes\n",
        "\n",
        "-blue votes\n",
        "\n",
        "what do you notice?\n"
      ]
    },
    {
      "cell_type": "code",
      "metadata": {
        "id": "IDuJKaZH4-HI",
        "outputId": "14ccd275-467c-4808-acfb-733b7f8b4e70",
        "colab": {
          "base_uri": "https://localhost:8080/"
        }
      },
      "source": [
        "# remove\n",
        "f, ax = plt.subplots(1, figsize=(9, 9))\n",
        "\n",
        "plt.plot(de_elecmap_ft.voterturnout.values, voterturnoutlag, \n",
        "         '.', color='firebrick')\n",
        "\n",
        " # dashed vert at mean of the last year's PCI\n",
        "plt.vlines(de_elecmap_ft.voterturnout.values.mean(), \n",
        "           voterturnoutlag.min(), \n",
        "           voterturnoutlag.max(), linestyle='--')\n",
        " # dashed horizontal at mean of lagged PCI\n",
        "plt.hlines(voterturnoutlag.mean(), \n",
        "           de_elecmap_ft.voterturnout.values.min(), \n",
        "           de_elecmap_ft.voterturnout.values.max(), linestyle='--')\n",
        "\n",
        "# red line of best fit using global I as slope\n",
        "plt.plot(de_elecmap_ft.voterturnout.values , \n",
        "         aall + ball * de_elecmap_ft.voterturnout.values, 'r')\n",
        "plt.title('Moran Scatterplot')\n",
        "plt.ylabel('Spatial Lag of Votes')\n",
        "plt.xlabel('all votes');"
      ],
      "execution_count": null,
      "outputs": [
        {
          "output_type": "display_data",
          "data": {
            "image/png": "[encoded data removed]",
            "text/plain": [
              "<Figure size 648x648 with 1 Axes>"
            ]
          },
          "metadata": {
            "tags": [],
            "needs_background": "light"
          }
        }
      ]
    },
    {
      "cell_type": "markdown",
      "metadata": {
        "id": "3Pvlhs92UljY"
      },
      "source": [
        "Figure 5: moorans I ov voter turnout regardless of party: the diagonal line represent a like fit to the point, which is positive indicating positive autocorrelation"
      ]
    },
    {
      "cell_type": "code",
      "metadata": {
        "id": "UhRdfDqwBZk7",
        "outputId": "62cb4398-3341-4eb4-a7e5-c5655693701e",
        "colab": {
          "base_uri": "https://localhost:8080/"
        }
      },
      "source": [
        "# remove\n",
        "f, ax = plt.subplots(1, figsize=(9, 9))\n",
        "\n",
        "plt.plot(de_elecmap_ft.redvotes.values, redvoteslag, \n",
        "         '.', color='firebrick')\n",
        "\n",
        " # dashed vert at mean of the last year's PCI\n",
        "plt.vlines(de_elecmap_ft.redvotes.values.mean(), \n",
        "           redvoteslag.min(), \n",
        "           redvoteslag.max(), linestyle='--')\n",
        " # dashed horizontal at mean of lagged PCI\n",
        "plt.hlines(redvoteslag.mean(), \n",
        "           de_elecmap_ft.redvotes.values.min(), \n",
        "           de_elecmap_ft.redvotes.values.max(), linestyle='--')\n",
        "\n",
        "# red line of best fit using global I as slope\n",
        "plt.plot(de_elecmap_ft.redvotes.values, \n",
        "         ar + br * de_elecmap_ft.redvotes.values, 'r')\n",
        "plt.title('Moran Scatterplot')\n",
        "plt.ylabel('Spatial Lag of Votes')\n",
        "plt.xlabel('red votes');"
      ],
      "execution_count": null,
      "outputs": [
        {
          "output_type": "display_data",
          "data": {
            "image/png": "[encoded data removed]",
            "text/plain": [
              "<Figure size 648x648 with 1 Axes>"
            ]
          },
          "metadata": {
            "tags": [],
            "needs_background": "light"
          }
        }
      ]
    },
    {
      "cell_type": "markdown",
      "metadata": {
        "id": "Ixs7RxBnUv8-"
      },
      "source": [
        "Figure 6: moorans I ov voter turnout of republican votes: the diagonal line represent a like fit to the point, which is positive indicating positive autocorrelation. The points are aligned more tightly along the diagonal indicating a stronger spatial correlation"
      ]
    },
    {
      "cell_type": "code",
      "metadata": {
        "id": "mntGlqYpBaoB",
        "outputId": "131bb955-1d4c-447e-cdb2-d4ef188bd19e",
        "colab": {
          "base_uri": "https://localhost:8080/"
        }
      },
      "source": [
        "# remove\n",
        "f, ax = plt.subplots(1, figsize=(9, 9))\n",
        "\n",
        "plt.plot(de_elecmap_ft.bluevotes.values, bluevoteslag, \n",
        "         '.', color='firebrick')\n",
        "\n",
        " # dashed vert at mean of the last year's PCI\n",
        "plt.vlines(de_elecmap_ft.bluevotes.values.mean(), \n",
        "           bluevoteslag.min(), \n",
        "           bluevoteslag.max(), linestyle='--')\n",
        " # dashed horizontal at mean of lagged PCI\n",
        "plt.hlines(bluevoteslag.mean(), \n",
        "           de_elecmap_ft.bluevotes.values.min(), \n",
        "           de_elecmap_ft.bluevotes.values .max(), linestyle='--')\n",
        "\n",
        "# red line of best fit using global I as slope\n",
        "plt.plot(de_elecmap_ft.bluevotes.values, \n",
        "         ab + bb * de_elecmap_ft.bluevotes.values, 'r')\n",
        "plt.title('Moran Scatterplot')\n",
        "plt.ylabel('Spatial Lag of Votes')\n",
        "plt.xlabel('blue votes');"
      ],
      "execution_count": null,
      "outputs": [
        {
          "output_type": "display_data",
          "data": {
            "image/png": "[encoded data removed]",
            "text/plain": [
              "<Figure size 648x648 with 1 Axes>"
            ]
          },
          "metadata": {
            "tags": [],
            "needs_background": "light"
          }
        }
      ]
    },
    {
      "cell_type": "markdown",
      "metadata": {
        "id": "kX9qWWv_U5cH"
      },
      "source": [
        "Figure 6: moorans I ov voter turnout of democtar votes: the diagonal line represent a like fit to the point, which is positive indicating positive autocorrelation. The points are aligned less tightly than in both the generic and republican votes  along the diagonal indicating a weaker spatial correlation"
      ]
    },
    {
      "cell_type": "markdown",
      "metadata": {
        "id": "0miBYvpD41Ce"
      },
      "source": [
        "# Follow the notebook to complete the *local* spatial analysis. \n",
        "# how can you interpret these results ? (we will talk about it in class on Monday too)"
      ]
    },
    {
      "cell_type": "code",
      "metadata": {
        "id": "M2_y6K8LN4we"
      },
      "source": [
        "from pysal.explore import esda"
      ],
      "execution_count": null,
      "outputs": []
    },
    {
      "cell_type": "code",
      "metadata": {
        "id": "Fxi0aY5cDMwi"
      },
      "source": [
        "mi1 = esda.Moran(voterturnoutlag, queens_DE)\n",
        "mi2 = esda.Moran(redvoteslag, queens_DE)\n",
        "mi3 = esda.Moran(bluevoteslag, queens_DE)\n"
      ],
      "execution_count": null,
      "outputs": []
    },
    {
      "cell_type": "code",
      "metadata": {
        "id": "5kV68eWw_9lm",
        "outputId": "9228298e-2c3f-4cf3-ba9c-49bc8a55738f",
        "colab": {
          "base_uri": "https://localhost:8080/",
          "height": 115
        }
      },
      "source": [
        "for v, mi in zip((\"all\", \"red\", \"blue\"), (mi1, mi2, mi3)) :\n",
        "  print(\"the global Moran's I for \" + \n",
        "      \"{} is {:.2f}\\nwhich corresponds to a p-value of the spatial distribution being random {:.2g}\".format(\n",
        "   v, mi.I, mi.p_sim))"
      ],
      "execution_count": null,
      "outputs": [
        {
          "output_type": "stream",
          "text": [
            "the global Moran's I for all is 0.29\n",
            "which corresponds to a p-value of the spatial distribution being random 0.001\n",
            "the global Moran's I for red is 0.67\n",
            "which corresponds to a p-value of the spatial distribution being random 0.001\n",
            "the global Moran's I for blue is 0.42\n",
            "which corresponds to a p-value of the spatial distribution being random 0.001\n"
          ],
          "name": "stdout"
        }
      ]
    },
    {
      "cell_type": "markdown",
      "metadata": {
        "id": "dQszun9TVBiG"
      },
      "source": [
        "All Moran's I coefficients are positive and statistically significant at a p<0.05 , in dicating there is positive autocorrelation in the voters turnout globally, as well as by partisan lines. The largest coefficient is for the republican votes, indicating the most significant spatial correlation: neighborhood vote red more cohesively. The weakest correlation is for the overall voters turnout."
      ]
    },
    {
      "cell_type": "code",
      "metadata": {
        "id": "K-aTbqrs_KSq"
      },
      "source": [
        "LMo_red = esda.Moran_Local(de_elecmap_ft.redvotes.values, queens_DE, permutations=9999)\n"
      ],
      "execution_count": null,
      "outputs": []
    },
    {
      "cell_type": "code",
      "metadata": {
        "id": "9dBb1KvyR0LF"
      },
      "source": [
        "LMo_blue = esda.Moran_Local(de_elecmap_ft.bluevotes.values, queens_DE, permutations=9999)\n"
      ],
      "execution_count": null,
      "outputs": []
    },
    {
      "cell_type": "code",
      "metadata": {
        "id": "8TRwrZQ8SNuz",
        "outputId": "56e9fc90-f65e-4bf1-8f13-cb09e1b307b2",
        "colab": {
          "base_uri": "https://localhost:8080/",
          "height": 50
        }
      },
      "source": [
        "sig = LMo_red.p_sim < 0.01\n",
        "hotspotsR = LMo_red.q==1 * sig\n",
        "coldspotsR = LMo_red.q==3 * sig\n",
        "print (\"Number of Hotspots:\", hotspotsR.sum())\n",
        "print (\"Number of Coldspots:\", coldspotsR.sum())"
      ],
      "execution_count": null,
      "outputs": [
        {
          "output_type": "stream",
          "text": [
            "Number of Hotspots: 36\n",
            "Number of Coldspots: 59\n"
          ],
          "name": "stdout"
        }
      ]
    },
    {
      "cell_type": "code",
      "metadata": {
        "id": "_xLlbi6JShBp",
        "outputId": "3ea41312-61a0-4ddf-fcfd-831b90d6097c",
        "colab": {
          "base_uri": "https://localhost:8080/",
          "height": 50
        }
      },
      "source": [
        "sig = LMo_blue.p_sim < 0.01\n",
        "hotspotsB = LMo_blue.q==1 * sig\n",
        "coldspotsB = LMo_blue.q==3 * sig\n",
        "print (\"Number of Hotspots:\", hotspotsB.sum())\n",
        "print (\"Number of Coldspots:\", coldspotsB.sum())"
      ],
      "execution_count": null,
      "outputs": [
        {
          "output_type": "stream",
          "text": [
            "Number of Hotspots: 35\n",
            "Number of Coldspots: 49\n"
          ],
          "name": "stdout"
        }
      ]
    },
    {
      "cell_type": "code",
      "metadata": {
        "id": "2boBRm1lSm8e",
        "outputId": "a5964fda-d369-4ab6-9297-ac127ffb7d50",
        "colab": {
          "base_uri": "https://localhost:8080/",
          "height": 536
        }
      },
      "source": [
        "from matplotlib import colors\n",
        "\n",
        "hcmap = colors.ListedColormap(['Indianred','red','white'])\n",
        "hotcold = hotspotsR*1 + coldspotsR*2\n",
        "\n",
        "f, ax = plt.subplots(figsize=(9, 9))\n",
        "de_elecmap_ft.assign(cl=hotcold).plot(column='cl', categorical=True, \n",
        "        k=3, cmap=hcmap, linewidth=0.1, ax=ax, \n",
        "        edgecolor='white', legend=True)\n",
        "ax.set_axis_off()\n",
        "plt.title(\"Red votes Spatial Lag Deciles\");"
      ],
      "execution_count": null,
      "outputs": [
        {
          "output_type": "display_data",
          "data": {
            "image/png": "[encoded data removed]",
            "text/plain": [
              "<Figure size 648x648 with 1 Axes>"
            ]
          },
          "metadata": {
            "tags": [],
            "needs_background": "light"
          }
        }
      ]
    },
    {
      "cell_type": "markdown",
      "metadata": {
        "id": "UhQcM4ltVhJD"
      },
      "source": [
        "Figure 7: hot sports of red votes, as measured by the spacial lag with a significance of 0.01, are see in lower delaware, particularly along the cost. Low red voting areas are seen in the urban Wilmington region"
      ]
    },
    {
      "cell_type": "code",
      "metadata": {
        "id": "vFyh-gmMS6tZ",
        "outputId": "2818d3d5-876b-4b45-aac2-54840345ebcb",
        "colab": {
          "base_uri": "https://localhost:8080/",
          "height": 536
        }
      },
      "source": [
        "\n",
        "hcmap = colors.ListedColormap(['lightblue','blue','white'])\n",
        "hotcold = hotspotsB*1 + coldspotsB*2\n",
        "\n",
        "f, ax = plt.subplots(figsize=(9, 9))\n",
        "de_elecmap_ft.assign(cl=hotcold).plot(column='cl', categorical=True, \n",
        "        k=10, cmap=hcmap, linewidth=0.1, ax=ax, \n",
        "        edgecolor='white', legend=True)\n",
        "ax.set_axis_off()\n",
        "plt.title(\"Red votes Spatial Lag hot-cold spots\");"
      ],
      "execution_count": null,
      "outputs": [
        {
          "output_type": "display_data",
          "data": {
            "image/png": "[encoded data removed]",
            "text/plain": [
              "<Figure size 648x648 with 1 Axes>"
            ]
          },
          "metadata": {
            "tags": [],
            "needs_background": "light"
          }
        }
      ]
    },
    {
      "cell_type": "markdown",
      "metadata": {
        "id": "_B-A88jSVzVn"
      },
      "source": [
        "Figure 8: hot sports of blue votes, as measured by the spacial lag with a significance of 0.01, are seen in the urban Wilmington region as well as in the lower delaware coast, which was also showing high red turnout."
      ]
    },
    {
      "cell_type": "code",
      "metadata": {
        "id": "p_F-z3ozTEW-"
      },
      "source": [
        ""
      ],
      "execution_count": null,
      "outputs": []
    }
  ]
}