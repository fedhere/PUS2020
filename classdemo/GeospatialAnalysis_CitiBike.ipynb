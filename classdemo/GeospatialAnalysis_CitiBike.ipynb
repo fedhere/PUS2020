{
  "nbformat": 4,
  "nbformat_minor": 0,
  "metadata": {
    "kernelspec": {
      "display_name": "Py3 + geopandas",
      "language": "python",
      "name": "gpd"
    },
    "language_info": {
      "codemirror_mode": {
        "name": "ipython",
        "version": 3
      },
      "file_extension": ".py",
      "mimetype": "text/x-python",
      "name": "python",
      "nbconvert_exporter": "python",
      "pygments_lexer": "ipython3",
      "version": "3.6.6"
    },
    "colab": {
      "name": "GeospatialAnalysis_CitiBike.ipynb",
      "provenance": [],
      "collapsed_sections": [
        "3MEgOPvYPWuI",
        "sFjx_F0aPWuO",
        "E_bn9OiAPWuQ",
        "EZ-k21oTPWuW",
        "wG8muz_PPWuZ",
        "fl0lhjMSPWuh",
        "C2NVyWp9PWum",
        "TomeZAHpPWuq",
        "Fr-jed7SPWuv",
        "GO7vemccPWux",
        "qeh3Kfb8PWu3",
        "bNYvCHSaPWu5",
        "Gt5N_D62PWu_",
        "izlbvylgPWvS",
        "Ky_3-LVdPWvT"
      ],
      "include_colab_link": true
    },
    "widgets": {
      "application/vnd.jupyter.widget-state+json": {
        "b58623f7e251438c87e72805ff81ac44": {
          "model_module": "@jupyter-widgets/controls",
          "model_name": "FloatProgressModel",
          "state": {
            "_view_name": "ProgressView",
            "style": "IPY_MODEL_9af5f53ffd3b4ba5a953966774925790",
            "_dom_classes": [],
            "description": "Done!",
            "_model_name": "FloatProgressModel",
            "bar_style": "",
            "max": 1,
            "_view_module": "@jupyter-widgets/controls",
            "_model_module_version": "1.5.0",
            "value": 1,
            "_view_count": null,
            "_view_module_version": "1.5.0",
            "orientation": "horizontal",
            "min": 0,
            "description_tooltip": null,
            "_model_module": "@jupyter-widgets/controls",
            "layout": "IPY_MODEL_5de9c97dc5af4e4f9ce31457caecab07"
          }
        },
        "9af5f53ffd3b4ba5a953966774925790": {
          "model_module": "@jupyter-widgets/controls",
          "model_name": "ProgressStyleModel",
          "state": {
            "_view_name": "StyleView",
            "_model_name": "ProgressStyleModel",
            "description_width": "",
            "_view_module": "@jupyter-widgets/base",
            "_model_module_version": "1.5.0",
            "_view_count": null,
            "_view_module_version": "1.2.0",
            "bar_color": null,
            "_model_module": "@jupyter-widgets/controls"
          }
        },
        "5de9c97dc5af4e4f9ce31457caecab07": {
          "model_module": "@jupyter-widgets/base",
          "model_name": "LayoutModel",
          "state": {
            "_view_name": "LayoutView",
            "grid_template_rows": null,
            "right": null,
            "justify_content": null,
            "_view_module": "@jupyter-widgets/base",
            "overflow": null,
            "_model_module_version": "1.2.0",
            "_view_count": null,
            "flex_flow": null,
            "width": null,
            "min_width": null,
            "border": null,
            "align_items": null,
            "bottom": null,
            "_model_module": "@jupyter-widgets/base",
            "top": null,
            "grid_column": null,
            "overflow_y": null,
            "overflow_x": null,
            "grid_auto_flow": null,
            "grid_area": null,
            "grid_template_columns": null,
            "flex": null,
            "_model_name": "LayoutModel",
            "justify_items": null,
            "grid_row": null,
            "max_height": null,
            "align_content": null,
            "visibility": null,
            "align_self": null,
            "height": null,
            "min_height": null,
            "padding": null,
            "grid_auto_rows": null,
            "grid_gap": null,
            "max_width": null,
            "order": null,
            "_view_module_version": "1.2.0",
            "grid_template_areas": null,
            "object_position": null,
            "object_fit": null,
            "grid_auto_columns": null,
            "margin": null,
            "display": null,
            "left": null
          }
        }
      }
    }
  },
  "cells": [
    {
      "cell_type": "markdown",
      "metadata": {
        "id": "view-in-github",
        "colab_type": "text"
      },
      "source": [
        "<a href=\"https://colab.research.google.com/github/fedhere/PUS2020_FBianco/blob/master/classdemo/GeospatialAnalysis_CitiBike.ipynb\" target=\"_parent\"><img src=\"https://colab.research.google.com/assets/colab-badge.svg\" alt=\"Open In Colab\"/></a>"
      ]
    },
    {
      "cell_type": "markdown",
      "metadata": {
        "id": "Z17AM922PWs1",
        "colab_type": "text"
      },
      "source": [
        "# reproducible Spatial Data Analysis with pandas\n",
        "Exploratory spatial data analysis of CitiBike data using pysal and geopandas\n",
        "\n",
        "N.B. This workbook is based on one by SRK325. Choropleths and spatial join sections added by CMP670."
      ]
    },
    {
      "cell_type": "markdown",
      "metadata": {
        "id": "aNEYzn2KPWs9",
        "colab_type": "text"
      },
      "source": [
        "## Import initial libraries"
      ]
    },
    {
      "cell_type": "code",
      "metadata": {
        "id": "5kv8_CB0PWs-",
        "colab_type": "code",
        "colab": {}
      },
      "source": [
        "%matplotlib inline\n",
        "import numpy as np\n",
        "import pandas as pd\n",
        "from pandas import DataFrame\n",
        "import matplotlib.pylab as plt\n",
        "try:\n",
        "    import ipywidgets as widgets\n",
        "    hasWidgets = True\n",
        "except ImportError:\n",
        "    hasWidgets = False\n"
      ],
      "execution_count": 1,
      "outputs": []
    },
    {
      "cell_type": "code",
      "metadata": {
        "id": "nQuFf4RISc_7",
        "colab_type": "code",
        "colab": {
          "base_uri": "https://localhost:8080/",
          "height": 245
        },
        "outputId": "a892d48b-a43e-4759-d912-3db87bd679f3"
      },
      "source": [
        "!pip install geopandas"
      ],
      "execution_count": 2,
      "outputs": [
        {
          "output_type": "stream",
          "text": [
            "Requirement already satisfied: geopandas in /usr/local/lib/python3.6/dist-packages (0.8.0+40.gcb4e8cb)\n",
            "Requirement already satisfied: pyproj>=2.2.0 in /usr/local/lib/python3.6/dist-packages (from geopandas) (2.6.1.post1)\n",
            "Requirement already satisfied: pandas>=0.24.0 in /usr/local/lib/python3.6/dist-packages (from geopandas) (1.0.5)\n",
            "Requirement already satisfied: shapely>=1.6 in /usr/local/lib/python3.6/dist-packages (from geopandas) (1.7.1)\n",
            "Requirement already satisfied: fiona>=1.8 in /usr/local/lib/python3.6/dist-packages (from geopandas) (1.8.17)\n",
            "Requirement already satisfied: python-dateutil>=2.6.1 in /usr/local/lib/python3.6/dist-packages (from pandas>=0.24.0->geopandas) (2.8.0)\n",
            "Requirement already satisfied: pytz>=2017.2 in /usr/local/lib/python3.6/dist-packages (from pandas>=0.24.0->geopandas) (2018.9)\n",
            "Requirement already satisfied: numpy>=1.13.3 in /usr/local/lib/python3.6/dist-packages (from pandas>=0.24.0->geopandas) (1.18.5)\n",
            "Requirement already satisfied: click<8,>=4.0 in /usr/local/lib/python3.6/dist-packages (from fiona>=1.8->geopandas) (7.1.2)\n",
            "Requirement already satisfied: click-plugins>=1.0 in /usr/local/lib/python3.6/dist-packages (from fiona>=1.8->geopandas) (1.1.1)\n",
            "Requirement already satisfied: munch in /usr/local/lib/python3.6/dist-packages (from fiona>=1.8->geopandas) (2.5.0)\n",
            "Requirement already satisfied: six>=1.7 in /usr/local/lib/python3.6/dist-packages (from fiona>=1.8->geopandas) (1.15.0)\n",
            "Requirement already satisfied: attrs>=17 in /usr/local/lib/python3.6/dist-packages (from fiona>=1.8->geopandas) (20.2.0)\n",
            "Requirement already satisfied: cligj>=0.5 in /usr/local/lib/python3.6/dist-packages (from fiona>=1.8->geopandas) (0.5.0)\n"
          ],
          "name": "stdout"
        }
      ]
    },
    {
      "cell_type": "code",
      "metadata": {
        "id": "88G3w3vTSHsV",
        "colab_type": "code",
        "colab": {}
      },
      "source": [
        "import geopandas as gpd\n",
        "world = gpd.read_file(gpd.datasets.get_path('naturalearth_lowres'))"
      ],
      "execution_count": 3,
      "outputs": []
    },
    {
      "cell_type": "code",
      "metadata": {
        "id": "Mld0yn8XSn06",
        "colab_type": "code",
        "colab": {
          "base_uri": "https://localhost:8080/",
          "height": 196
        },
        "outputId": "83e8937b-e2ba-40aa-a712-afbc0dce4f57"
      },
      "source": [
        "world.crs"
      ],
      "execution_count": 4,
      "outputs": [
        {
          "output_type": "execute_result",
          "data": {
            "text/plain": [
              "<Geographic 2D CRS: EPSG:4326>\n",
              "Name: WGS 84\n",
              "Axis Info [ellipsoidal]:\n",
              "- Lat[north]: Geodetic latitude (degree)\n",
              "- Lon[east]: Geodetic longitude (degree)\n",
              "Area of Use:\n",
              "- name: World\n",
              "- bounds: (-180.0, -90.0, 180.0, 90.0)\n",
              "Datum: World Geodetic System 1984\n",
              "- Ellipsoid: WGS 84\n",
              "- Prime Meridian: Greenwich"
            ]
          },
          "metadata": {
            "tags": []
          },
          "execution_count": 4
        }
      ]
    },
    {
      "cell_type": "code",
      "metadata": {
        "id": "Zz8SyQQNSnea",
        "colab_type": "code",
        "colab": {
          "base_uri": "https://localhost:8080/",
          "height": 226
        },
        "outputId": "179b39e7-de35-480e-d9e9-87e644c2fc95"
      },
      "source": [
        "ax = world.plot()\n",
        "ax.set_title(\"WGS84 (lat/lon)\");\n",
        "\n"
      ],
      "execution_count": 5,
      "outputs": [
        {
          "output_type": "display_data",
          "data": {
            "image/png": "[encoded data removed]",
            "text/plain": [
              "<Figure size 432x288 with 1 Axes>"
            ]
          },
          "metadata": {
            "tags": [],
            "needs_background": "light"
          }
        }
      ]
    },
    {
      "cell_type": "code",
      "metadata": {
        "id": "4_1cLcjlSm0N",
        "colab_type": "code",
        "colab": {
          "base_uri": "https://localhost:8080/",
          "height": 292
        },
        "outputId": "f24e3771-09c5-4e12-e4c1-08dab52d0c30"
      },
      "source": [
        "# Reproject to Mercator (after dropping Antartica)\n",
        "world = world[(world.name != \"Antarctica\") & (world.name != \"Fr. S. Antarctic Lands\")]\n",
        "\n",
        "world = world.to_crs(\"EPSG:3395\") # world.to_crs(epsg=3395) would also work\n",
        "\n",
        "ax = world.plot()\n",
        "\n",
        "ax.set_title(\"Mercator\");"
      ],
      "execution_count": 6,
      "outputs": [
        {
          "output_type": "display_data",
          "data": {
            "image/png": "[encoded data removed]",
            "text/plain": [
              "<Figure size 432x288 with 1 Axes>"
            ]
          },
          "metadata": {
            "tags": [],
            "needs_background": "light"
          }
        }
      ]
    },
    {
      "cell_type": "code",
      "metadata": {
        "id": "n73IJJa4Tpg8",
        "colab_type": "code",
        "colab": {
          "base_uri": "https://localhost:8080/",
          "height": 293
        },
        "outputId": "0863c10a-4052-4132-d7ff-059cf601bda7"
      },
      "source": [
        "world = world[(world.name != \"Antarctica\") & (world.name != \"Fr. S. Antarctic Lands\")]\n",
        "\n",
        "world = world.to_crs(\"EPSG:3407\") # hong kong projection\n",
        "ax = world.plot()\n",
        "\n",
        "ax.set_title(\"Mercator\");"
      ],
      "execution_count": 7,
      "outputs": [
        {
          "output_type": "display_data",
          "data": {
            "image/png": "[encoded data removed]",
            "text/plain": [
              "<Figure size 432x288 with 1 Axes>"
            ]
          },
          "metadata": {
            "tags": [],
            "needs_background": "light"
          }
        }
      ]
    },
    {
      "cell_type": "code",
      "metadata": {
        "id": "NBeLfp2xb1Ep",
        "colab_type": "code",
        "colab": {
          "base_uri": "https://localhost:8080/",
          "height": 191
        },
        "outputId": "b29c238a-171c-4e63-fef5-f41f63b6e860"
      },
      "source": [
        "world.head()"
      ],
      "execution_count": 8,
      "outputs": [
        {
          "output_type": "execute_result",
          "data": {
            "text/html": [
              "<div>\n",
              "<style scoped>\n",
              "    .dataframe tbody tr th:only-of-type {\n",
              "        vertical-align: middle;\n",
              "    }\n",
              "\n",
              "    .dataframe tbody tr th {\n",
              "        vertical-align: top;\n",
              "    }\n",
              "\n",
              "    .dataframe thead th {\n",
              "        text-align: right;\n",
              "    }\n",
              "</style>\n",
              "<table border=\"1\" class=\"dataframe\">\n",
              "  <thead>\n",
              "    <tr style=\"text-align: right;\">\n",
              "      <th></th>\n",
              "      <th>pop_est</th>\n",
              "      <th>continent</th>\n",
              "      <th>name</th>\n",
              "      <th>iso_a3</th>\n",
              "      <th>gdp_md_est</th>\n",
              "      <th>geometry</th>\n",
              "    </tr>\n",
              "  </thead>\n",
              "  <tbody>\n",
              "    <tr>\n",
              "      <th>0</th>\n",
              "      <td>920938</td>\n",
              "      <td>Oceania</td>\n",
              "      <td>Fiji</td>\n",
              "      <td>FJI</td>\n",
              "      <td>8374.0</td>\n",
              "      <td>MULTIPOLYGON (((23038880.464 -19387146.959, 22...</td>\n",
              "    </tr>\n",
              "    <tr>\n",
              "      <th>1</th>\n",
              "      <td>53950935</td>\n",
              "      <td>Africa</td>\n",
              "      <td>Tanzania</td>\n",
              "      <td>TZA</td>\n",
              "      <td>150600.0</td>\n",
              "      <td>POLYGON ((-29182486.766 -9001104.258, -2911968...</td>\n",
              "    </tr>\n",
              "    <tr>\n",
              "      <th>2</th>\n",
              "      <td>603253</td>\n",
              "      <td>Africa</td>\n",
              "      <td>W. Sahara</td>\n",
              "      <td>ESH</td>\n",
              "      <td>906.5</td>\n",
              "      <td>POLYGON ((-42268840.017 50089343.438, -4229576...</td>\n",
              "    </tr>\n",
              "    <tr>\n",
              "      <th>3</th>\n",
              "      <td>35623680</td>\n",
              "      <td>North America</td>\n",
              "      <td>Canada</td>\n",
              "      <td>CAN</td>\n",
              "      <td>1674000.0</td>\n",
              "      <td>MULTIPOLYGON (((25322565.735 48291643.473, 252...</td>\n",
              "    </tr>\n",
              "    <tr>\n",
              "      <th>4</th>\n",
              "      <td>326625791</td>\n",
              "      <td>North America</td>\n",
              "      <td>United States of America</td>\n",
              "      <td>USA</td>\n",
              "      <td>18560000.0</td>\n",
              "      <td>MULTIPOLYGON (((25322565.735 48291643.473, 261...</td>\n",
              "    </tr>\n",
              "  </tbody>\n",
              "</table>\n",
              "</div>"
            ],
            "text/plain": [
              "     pop_est  ...                                           geometry\n",
              "0     920938  ...  MULTIPOLYGON (((23038880.464 -19387146.959, 22...\n",
              "1   53950935  ...  POLYGON ((-29182486.766 -9001104.258, -2911968...\n",
              "2     603253  ...  POLYGON ((-42268840.017 50089343.438, -4229576...\n",
              "3   35623680  ...  MULTIPOLYGON (((25322565.735 48291643.473, 252...\n",
              "4  326625791  ...  MULTIPOLYGON (((25322565.735 48291643.473, 261...\n",
              "\n",
              "[5 rows x 6 columns]"
            ]
          },
          "metadata": {
            "tags": []
          },
          "execution_count": 8
        }
      ]
    },
    {
      "cell_type": "code",
      "metadata": {
        "id": "O8ApBzcqcNcd",
        "colab_type": "code",
        "colab": {
          "base_uri": "https://localhost:8080/",
          "height": 420
        },
        "outputId": "57514efd-8dc0-464b-a60a-cfd1cb35941d"
      },
      "source": [
        "world = gpd.read_file(gpd.datasets.get_path('naturalearth_lowres'))\n",
        "world.set_index(\"name\", inplace=True)\n",
        "world"
      ],
      "execution_count": 12,
      "outputs": [
        {
          "output_type": "execute_result",
          "data": {
            "text/html": [
              "<div>\n",
              "<style scoped>\n",
              "    .dataframe tbody tr th:only-of-type {\n",
              "        vertical-align: middle;\n",
              "    }\n",
              "\n",
              "    .dataframe tbody tr th {\n",
              "        vertical-align: top;\n",
              "    }\n",
              "\n",
              "    .dataframe thead th {\n",
              "        text-align: right;\n",
              "    }\n",
              "</style>\n",
              "<table border=\"1\" class=\"dataframe\">\n",
              "  <thead>\n",
              "    <tr style=\"text-align: right;\">\n",
              "      <th></th>\n",
              "      <th>pop_est</th>\n",
              "      <th>continent</th>\n",
              "      <th>iso_a3</th>\n",
              "      <th>gdp_md_est</th>\n",
              "      <th>geometry</th>\n",
              "    </tr>\n",
              "    <tr>\n",
              "      <th>name</th>\n",
              "      <th></th>\n",
              "      <th></th>\n",
              "      <th></th>\n",
              "      <th></th>\n",
              "      <th></th>\n",
              "    </tr>\n",
              "  </thead>\n",
              "  <tbody>\n",
              "    <tr>\n",
              "      <th>Fiji</th>\n",
              "      <td>920938</td>\n",
              "      <td>Oceania</td>\n",
              "      <td>FJI</td>\n",
              "      <td>8374.0</td>\n",
              "      <td>MULTIPOLYGON (((180.00000 -16.06713, 180.00000...</td>\n",
              "    </tr>\n",
              "    <tr>\n",
              "      <th>Tanzania</th>\n",
              "      <td>53950935</td>\n",
              "      <td>Africa</td>\n",
              "      <td>TZA</td>\n",
              "      <td>150600.0</td>\n",
              "      <td>POLYGON ((33.90371 -0.95000, 34.07262 -1.05982...</td>\n",
              "    </tr>\n",
              "    <tr>\n",
              "      <th>W. Sahara</th>\n",
              "      <td>603253</td>\n",
              "      <td>Africa</td>\n",
              "      <td>ESH</td>\n",
              "      <td>906.5</td>\n",
              "      <td>POLYGON ((-8.66559 27.65643, -8.66512 27.58948...</td>\n",
              "    </tr>\n",
              "    <tr>\n",
              "      <th>Canada</th>\n",
              "      <td>35623680</td>\n",
              "      <td>North America</td>\n",
              "      <td>CAN</td>\n",
              "      <td>1674000.0</td>\n",
              "      <td>MULTIPOLYGON (((-122.84000 49.00000, -122.9742...</td>\n",
              "    </tr>\n",
              "    <tr>\n",
              "      <th>United States of America</th>\n",
              "      <td>326625791</td>\n",
              "      <td>North America</td>\n",
              "      <td>USA</td>\n",
              "      <td>18560000.0</td>\n",
              "      <td>MULTIPOLYGON (((-122.84000 49.00000, -120.0000...</td>\n",
              "    </tr>\n",
              "    <tr>\n",
              "      <th>...</th>\n",
              "      <td>...</td>\n",
              "      <td>...</td>\n",
              "      <td>...</td>\n",
              "      <td>...</td>\n",
              "      <td>...</td>\n",
              "    </tr>\n",
              "    <tr>\n",
              "      <th>Serbia</th>\n",
              "      <td>7111024</td>\n",
              "      <td>Europe</td>\n",
              "      <td>SRB</td>\n",
              "      <td>101800.0</td>\n",
              "      <td>POLYGON ((18.82982 45.90887, 18.82984 45.90888...</td>\n",
              "    </tr>\n",
              "    <tr>\n",
              "      <th>Montenegro</th>\n",
              "      <td>642550</td>\n",
              "      <td>Europe</td>\n",
              "      <td>MNE</td>\n",
              "      <td>10610.0</td>\n",
              "      <td>POLYGON ((20.07070 42.58863, 19.80161 42.50009...</td>\n",
              "    </tr>\n",
              "    <tr>\n",
              "      <th>Kosovo</th>\n",
              "      <td>1895250</td>\n",
              "      <td>Europe</td>\n",
              "      <td>-99</td>\n",
              "      <td>18490.0</td>\n",
              "      <td>POLYGON ((20.59025 41.85541, 20.52295 42.21787...</td>\n",
              "    </tr>\n",
              "    <tr>\n",
              "      <th>Trinidad and Tobago</th>\n",
              "      <td>1218208</td>\n",
              "      <td>North America</td>\n",
              "      <td>TTO</td>\n",
              "      <td>43570.0</td>\n",
              "      <td>POLYGON ((-61.68000 10.76000, -61.10500 10.890...</td>\n",
              "    </tr>\n",
              "    <tr>\n",
              "      <th>S. Sudan</th>\n",
              "      <td>13026129</td>\n",
              "      <td>Africa</td>\n",
              "      <td>SSD</td>\n",
              "      <td>20880.0</td>\n",
              "      <td>POLYGON ((30.83385 3.50917, 29.95350 4.17370, ...</td>\n",
              "    </tr>\n",
              "  </tbody>\n",
              "</table>\n",
              "<p>177 rows × 5 columns</p>\n",
              "</div>"
            ],
            "text/plain": [
              "                            pop_est  ...                                           geometry\n",
              "name                                 ...                                                   \n",
              "Fiji                         920938  ...  MULTIPOLYGON (((180.00000 -16.06713, 180.00000...\n",
              "Tanzania                   53950935  ...  POLYGON ((33.90371 -0.95000, 34.07262 -1.05982...\n",
              "W. Sahara                    603253  ...  POLYGON ((-8.66559 27.65643, -8.66512 27.58948...\n",
              "Canada                     35623680  ...  MULTIPOLYGON (((-122.84000 49.00000, -122.9742...\n",
              "United States of America  326625791  ...  MULTIPOLYGON (((-122.84000 49.00000, -120.0000...\n",
              "...                             ...  ...                                                ...\n",
              "Serbia                      7111024  ...  POLYGON ((18.82982 45.90887, 18.82984 45.90888...\n",
              "Montenegro                   642550  ...  POLYGON ((20.07070 42.58863, 19.80161 42.50009...\n",
              "Kosovo                      1895250  ...  POLYGON ((20.59025 41.85541, 20.52295 42.21787...\n",
              "Trinidad and Tobago         1218208  ...  POLYGON ((-61.68000 10.76000, -61.10500 10.890...\n",
              "S. Sudan                   13026129  ...  POLYGON ((30.83385 3.50917, 29.95350 4.17370, ...\n",
              "\n",
              "[177 rows x 5 columns]"
            ]
          },
          "metadata": {
            "tags": []
          },
          "execution_count": 12
        }
      ]
    },
    {
      "cell_type": "code",
      "metadata": {
        "id": "reVcgEOZb6AD",
        "colab_type": "code",
        "colab": {
          "base_uri": "https://localhost:8080/",
          "height": 121
        },
        "outputId": "2600c614-a142-4878-f278-b7e3fd8fd086"
      },
      "source": [
        "# a polygon\n",
        "world.loc[\"Tanzania\", \"geometry\"]"
      ],
      "execution_count": 13,
      "outputs": [
        {
          "output_type": "execute_result",
          "data": {
            "text/plain": [
              "<shapely.geometry.polygon.Polygon at 0x7f48672beb70>"
            ],
            "image/svg+xml": "<svg xmlns=\"http://www.w3.org/2000/svg\" xmlns:xlink=\"http://www.w3.org/1999/xlink\" width=\"100.0\" height=\"100.0\" viewBox=\"28.90093389661636 -12.160001698450722 11.854719799667649 11.64906539473471\" preserveAspectRatio=\"xMinYMin meet\"><g transform=\"matrix(1,0,0,-1,0,-12.670938002166736)\"><path fill-rule=\"evenodd\" fill=\"#66cc99\" stroke=\"#555555\" stroke-width=\"0.23709439599335297\" opacity=\"0.6\" d=\"M 33.90371119710453,-0.9500000000000001 L 34.07261999999997,-1.0598199999999451 L 37.69868999999994,-3.0969899999999484 L 37.7669,-3.6771200000000004 L 39.20222,-4.67677 L 38.74053999999995,-5.9089499999999475 L 38.79977000000008,-6.475660000000005 L 39.44,-6.839999999999861 L 39.47000000000014,-7.099999999999966 L 39.19468999999998,-7.703899999999976 L 39.25203000000005,-8.00780999999995 L 39.18652000000009,-8.48550999999992 L 39.53574000000009,-9.112369999999885 L 39.94960000000003,-10.098400000000026 L 40.316586229110854,-10.317097752817492 L 40.31659000000002,-10.317099999999868 L 39.52099999999996,-10.89688000000001 L 38.42755659358775,-11.285202325081656 L 37.827639999999974,-11.26878999999991 L 37.471289999999954,-11.568759999999997 L 36.775150994622805,-11.594537448780805 L 36.51408165868426,-11.720938002166735 L 35.31239790216904,-11.439146416879147 L 34.55998904799935,-11.520020033415925 L 34.27999999999997,-10.160000000000025 L 33.940837724096525,-9.693673841980285 L 33.73972000000009,-9.417149999999992 L 32.75937544122132,-9.23059905358906 L 32.19186486179194,-8.930358981973257 L 31.556348097466497,-8.762048841998642 L 31.15775133695005,-8.594578747317366 L 30.740009731422095,-8.34000593035372 L 30.74001549655179,-8.340007419470915 L 30.199996779101696,-7.079980970898163 L 29.620032179490014,-6.520015150583426 L 29.419992710088167,-5.939998874539434 L 29.519986606572928,-5.419978936386315 L 29.339997592900346,-4.4999834122940925 L 29.753512404099865,-4.452389418153302 L 30.11632000000003,-4.090120000000013 L 30.505539999999996,-3.5685799999999404 L 30.752240000000086,-3.3593099999999936 L 30.743010000000027,-3.034309999999948 L 30.527660000000026,-2.807619999999986 L 30.469673645761223,-2.41385475710134 L 30.469670000000008,-2.4138299999999617 L 30.75830895358311,-2.2872502579883687 L 30.816134881317712,-1.6989140763453887 L 30.419104852019245,-1.1346591121504161 L 30.769860000000108,-1.0145499999999856 L 31.866170000000068,-1.0273599999999306 L 33.90371119710453,-0.9500000000000001 z\" /></g></svg>"
          },
          "metadata": {
            "tags": []
          },
          "execution_count": 13
        }
      ]
    },
    {
      "cell_type": "code",
      "metadata": {
        "id": "5-mk7LAPcEFq",
        "colab_type": "code",
        "colab": {
          "base_uri": "https://localhost:8080/",
          "height": 121
        },
        "outputId": "c8894599-1a6e-4501-b342-6d000593c7fc"
      },
      "source": [
        "# a multipolygon\n",
        "world.loc[\"Italy\", \"geometry\"]"
      ],
      "execution_count": 14,
      "outputs": [
        {
          "output_type": "execute_result",
          "data": {
            "text/plain": [
              "<shapely.geometry.multipolygon.MultiPolygon at 0x7f486722b470>"
            ],
            "image/svg+xml": "<svg xmlns=\"http://www.w3.org/2000/svg\" xmlns:xlink=\"http://www.w3.org/1999/xlink\" width=\"100.0\" height=\"100.0\" viewBox=\"6.280743605177904 36.150775621071645 12.66871508794128 11.433829223678558\" preserveAspectRatio=\"xMinYMin meet\"><g transform=\"matrix(1,0,0,-1,0,83.73538046582185)\"><g><path fill-rule=\"evenodd\" fill=\"#66cc99\" stroke=\"#555555\" stroke-width=\"0.2533743017588256\" opacity=\"0.6\" d=\"M 10.44270145024663,46.89354625099743 L 11.048555942436536,46.75135854754634 L 11.16482791509327,46.94157949481273 L 12.153088006243054,47.11539317482645 L 12.376485223040817,46.76755910906985 L 13.806475457421527,46.509306138691215 L 13.698109978905478,46.01677806251735 L 13.937630242578308,45.59101593686462 L 13.141606479554296,45.73669179949542 L 12.32858117030625,45.381778062514826 L 12.383874952858548,44.885374253919096 L 12.261453484759102,44.600482082693986 L 12.589237094786455,44.09136587175446 L 13.526905958722494,43.587727362637864 L 14.029820997787029,42.761007798832466 L 15.142569614327925,41.95513967545685 L 15.926191033601896,41.961315009115715 L 16.169897088290384,41.74029490820339 L 15.889345737377797,41.541082261718216 L 16.785001661860548,41.17960561783656 L 17.51916873543118,40.87714345963222 L 18.37668745288252,40.35562490494263 L 18.48024702319543,40.16886627863981 L 18.293385044028042,39.810774441073264 L 17.738380161213314,40.277671006830346 L 16.869595981522338,40.44223460546381 L 16.448743116937322,39.79540070246644 L 17.17148969897147,39.42469981542068 L 17.052840610429314,38.90287120213735 L 16.635088331781816,38.843572496082416 L 16.100960727613,37.9858987493342 L 15.684086948314473,37.908849188787016 L 15.687962680736348,38.21459280044188 L 15.89198123542468,38.75094249119924 L 16.109332309644287,38.9645470240777 L 15.718813510814613,39.54407237401492 L 15.413612501698793,40.048356838535156 L 14.99849572109818,40.17294871679087 L 14.703268263414714,40.604550279292596 L 14.060671827865264,40.7863479680954 L 13.627985060285397,41.1882872584616 L 12.888081902730365,41.253089504555604 L 12.106682570044939,41.70453481705741 L 11.191906365614216,42.3554253199897 L 10.51194786951774,42.93146251074721 L 10.200028924203991,43.9200068222746 L 9.702488234097842,44.03627879493132 L 8.88894616052687,44.36633616797951 L 8.428560825238577,44.23122813575242 L 7.8507666357831445,43.76714793555524 L 7.435184767291872,43.69384491634922 L 7.549596388386107,44.12790110938481 L 7.007562290076635,44.25476675066136 L 6.749955275101655,45.02851797136758 L 7.096652459347837,45.33309886329589 L 6.802355177445605,45.70857982032864 L 6.843592970414505,45.99114655210061 L 7.2738509456766565,45.776947740250776 L 7.7559920589598335,45.82449005795931 L 8.31662967289438,46.16364248309086 L 8.489952426801324,46.005150865251686 L 8.966305779667806,46.03693187111119 L 9.182881707403055,46.44021474871698 L 9.922836541390382,46.31489940040919 L 10.363378126678612,46.48357127540986 L 10.44270145024663,46.89354625099743 z\" /><path fill-rule=\"evenodd\" fill=\"#66cc99\" stroke=\"#555555\" stroke-width=\"0.2533743017588256\" opacity=\"0.6\" d=\"M 14.761249220446189,38.14387360285046 L 15.520376010813806,38.23115509699143 L 15.160242954171736,37.44404551853776 L 15.309897902089006,37.13421946873183 L 15.099988234119422,36.6199872909954 L 14.335228712631988,36.996630967754726 L 13.826732618879959,37.10453135838016 L 12.431003859108756,37.61294993748375 L 12.570943637755136,38.12638113051966 L 13.741156447004613,38.03496552179533 L 14.761249220446189,38.14387360285046 z\" /><path fill-rule=\"evenodd\" fill=\"#66cc99\" stroke=\"#555555\" stroke-width=\"0.2533743017588256\" opacity=\"0.6\" d=\"M 8.709990675500109,40.899984442705225 L 9.210011834356266,41.209991360024176 L 9.80997521326492,40.50000885676613 L 9.669518670295616,39.17737641047178 L 9.214817742559433,39.24047333430015 L 8.806935662479674,38.906617743478506 L 8.428302443077115,39.17184703221655 L 8.388253208050912,40.37831085871876 L 8.159998406617689,40.95000722916376 L 8.709990675500109,40.899984442705225 z\" /></g></g></svg>"
          },
          "metadata": {
            "tags": []
          },
          "execution_count": 14
        }
      ]
    },
    {
      "cell_type": "markdown",
      "metadata": {
        "id": "o0SeWHQQPWtA",
        "colab_type": "text"
      },
      "source": [
        "# Working with Shape File"
      ]
    },
    {
      "cell_type": "markdown",
      "metadata": {
        "id": "_dFqeTywPWtA",
        "colab_type": "text"
      },
      "source": [
        "### Loading Census Tract GeoJSON File\n"
      ]
    },
    {
      "cell_type": "code",
      "metadata": {
        "id": "HJ4w5jyBRSBg",
        "colab_type": "code",
        "colab": {
          "base_uri": "https://localhost:8080/",
          "height": 878
        },
        "outputId": "695c25f8-1e74-4912-9840-9bdaf4b43a1d"
      },
      "source": [
        "gpd.read_file(\"https://data.cityofnewyork.us/api/geospatial/fxpq-c8ku?method=export&format=GeoJSON\")"
      ],
      "execution_count": 18,
      "outputs": [
        {
          "output_type": "execute_result",
          "data": {
            "text/html": [
              "<div>\n",
              "<style scoped>\n",
              "    .dataframe tbody tr th:only-of-type {\n",
              "        vertical-align: middle;\n",
              "    }\n",
              "\n",
              "    .dataframe tbody tr th {\n",
              "        vertical-align: top;\n",
              "    }\n",
              "\n",
              "    .dataframe thead th {\n",
              "        text-align: right;\n",
              "    }\n",
              "</style>\n",
              "<table border=\"1\" class=\"dataframe\">\n",
              "  <thead>\n",
              "    <tr style=\"text-align: right;\">\n",
              "      <th></th>\n",
              "      <th>ntacode</th>\n",
              "      <th>shape_area</th>\n",
              "      <th>ntaname</th>\n",
              "      <th>shape_leng</th>\n",
              "      <th>boro_name</th>\n",
              "      <th>puma</th>\n",
              "      <th>ct2010</th>\n",
              "      <th>boro_code</th>\n",
              "      <th>cdeligibil</th>\n",
              "      <th>boro_ct2010</th>\n",
              "      <th>ctlabel</th>\n",
              "      <th>geometry</th>\n",
              "    </tr>\n",
              "  </thead>\n",
              "  <tbody>\n",
              "    <tr>\n",
              "      <th>0</th>\n",
              "      <td>SI22</td>\n",
              "      <td>2497009.71359</td>\n",
              "      <td>West New Brighton-New Brighton-St. George</td>\n",
              "      <td>7729.01679383</td>\n",
              "      <td>Staten Island</td>\n",
              "      <td>3903</td>\n",
              "      <td>000900</td>\n",
              "      <td>5</td>\n",
              "      <td>E</td>\n",
              "      <td>5000900</td>\n",
              "      <td>9</td>\n",
              "      <td>MULTIPOLYGON (((-74.07921 40.64343, -74.07914 ...</td>\n",
              "    </tr>\n",
              "    <tr>\n",
              "      <th>1</th>\n",
              "      <td>MN19</td>\n",
              "      <td>1906016.35002</td>\n",
              "      <td>Turtle Bay-East Midtown</td>\n",
              "      <td>5534.19981063</td>\n",
              "      <td>Manhattan</td>\n",
              "      <td>3808</td>\n",
              "      <td>009800</td>\n",
              "      <td>1</td>\n",
              "      <td>I</td>\n",
              "      <td>1009800</td>\n",
              "      <td>98</td>\n",
              "      <td>MULTIPOLYGON (((-73.96433 40.75638, -73.96479 ...</td>\n",
              "    </tr>\n",
              "    <tr>\n",
              "      <th>2</th>\n",
              "      <td>MN19</td>\n",
              "      <td>1860938.37721</td>\n",
              "      <td>Turtle Bay-East Midtown</td>\n",
              "      <td>5692.16873705</td>\n",
              "      <td>Manhattan</td>\n",
              "      <td>3808</td>\n",
              "      <td>010000</td>\n",
              "      <td>1</td>\n",
              "      <td>I</td>\n",
              "      <td>1010000</td>\n",
              "      <td>100</td>\n",
              "      <td>MULTIPOLYGON (((-73.96802 40.75958, -73.96848 ...</td>\n",
              "    </tr>\n",
              "    <tr>\n",
              "      <th>3</th>\n",
              "      <td>MN17</td>\n",
              "      <td>1860992.70485</td>\n",
              "      <td>Midtown-Midtown South</td>\n",
              "      <td>5687.80243866</td>\n",
              "      <td>Manhattan</td>\n",
              "      <td>3807</td>\n",
              "      <td>010200</td>\n",
              "      <td>1</td>\n",
              "      <td>I</td>\n",
              "      <td>1010200</td>\n",
              "      <td>102</td>\n",
              "      <td>MULTIPOLYGON (((-73.97124 40.76094, -73.97170 ...</td>\n",
              "    </tr>\n",
              "    <tr>\n",
              "      <th>4</th>\n",
              "      <td>MN17</td>\n",
              "      <td>1864600.37503</td>\n",
              "      <td>Midtown-Midtown South</td>\n",
              "      <td>5693.03636655</td>\n",
              "      <td>Manhattan</td>\n",
              "      <td>3807</td>\n",
              "      <td>010400</td>\n",
              "      <td>1</td>\n",
              "      <td>I</td>\n",
              "      <td>1010400</td>\n",
              "      <td>104</td>\n",
              "      <td>MULTIPOLYGON (((-73.97446 40.76229, -73.97491 ...</td>\n",
              "    </tr>\n",
              "    <tr>\n",
              "      <th>...</th>\n",
              "      <td>...</td>\n",
              "      <td>...</td>\n",
              "      <td>...</td>\n",
              "      <td>...</td>\n",
              "      <td>...</td>\n",
              "      <td>...</td>\n",
              "      <td>...</td>\n",
              "      <td>...</td>\n",
              "      <td>...</td>\n",
              "      <td>...</td>\n",
              "      <td>...</td>\n",
              "      <td>...</td>\n",
              "    </tr>\n",
              "    <tr>\n",
              "      <th>2160</th>\n",
              "      <td>QN61</td>\n",
              "      <td>2536195.96005</td>\n",
              "      <td>Jamaica</td>\n",
              "      <td>8201.8752654</td>\n",
              "      <td>Queens</td>\n",
              "      <td>4112</td>\n",
              "      <td>021200</td>\n",
              "      <td>4</td>\n",
              "      <td>I</td>\n",
              "      <td>4021200</td>\n",
              "      <td>212</td>\n",
              "      <td>MULTIPOLYGON (((-73.81153 40.70227, -73.81083 ...</td>\n",
              "    </tr>\n",
              "    <tr>\n",
              "      <th>2161</th>\n",
              "      <td>QN10</td>\n",
              "      <td>15530528.5775</td>\n",
              "      <td>Breezy Point-Belle Harbor-Rockaway Park-Broad ...</td>\n",
              "      <td>35194.2249482</td>\n",
              "      <td>Queens</td>\n",
              "      <td>4114</td>\n",
              "      <td>107201</td>\n",
              "      <td>4</td>\n",
              "      <td>I</td>\n",
              "      <td>4107201</td>\n",
              "      <td>1072.01</td>\n",
              "      <td>MULTIPOLYGON (((-73.81653 40.61495, -73.81655 ...</td>\n",
              "    </tr>\n",
              "    <tr>\n",
              "      <th>2162</th>\n",
              "      <td>QN99</td>\n",
              "      <td>71788388.9114</td>\n",
              "      <td>park-cemetery-etc-Queens</td>\n",
              "      <td>182384.827557</td>\n",
              "      <td>Queens</td>\n",
              "      <td>4114</td>\n",
              "      <td>107202</td>\n",
              "      <td>4</td>\n",
              "      <td>I</td>\n",
              "      <td>4107202</td>\n",
              "      <td>1072.02</td>\n",
              "      <td>MULTIPOLYGON (((-73.82645 40.59053, -73.82642 ...</td>\n",
              "    </tr>\n",
              "    <tr>\n",
              "      <th>2163</th>\n",
              "      <td>SI11</td>\n",
              "      <td>86233396.7938</td>\n",
              "      <td>Charleston-Richmond Valley-Tottenville</td>\n",
              "      <td>54954.3509498</td>\n",
              "      <td>Staten Island</td>\n",
              "      <td>3901</td>\n",
              "      <td>022600</td>\n",
              "      <td>5</td>\n",
              "      <td>I</td>\n",
              "      <td>5022600</td>\n",
              "      <td>226</td>\n",
              "      <td>MULTIPOLYGON (((-74.20700 40.55757, -74.20880 ...</td>\n",
              "    </tr>\n",
              "    <tr>\n",
              "      <th>2164</th>\n",
              "      <td>SI11</td>\n",
              "      <td>17601621.2932</td>\n",
              "      <td>Charleston-Richmond Valley-Tottenville</td>\n",
              "      <td>31778.4434412</td>\n",
              "      <td>Staten Island</td>\n",
              "      <td>3901</td>\n",
              "      <td>024800</td>\n",
              "      <td>5</td>\n",
              "      <td>I</td>\n",
              "      <td>5024800</td>\n",
              "      <td>248</td>\n",
              "      <td>MULTIPOLYGON (((-74.22948 40.51908, -74.22963 ...</td>\n",
              "    </tr>\n",
              "  </tbody>\n",
              "</table>\n",
              "<p>2165 rows × 12 columns</p>\n",
              "</div>"
            ],
            "text/plain": [
              "     ntacode  ...                                           geometry\n",
              "0       SI22  ...  MULTIPOLYGON (((-74.07921 40.64343, -74.07914 ...\n",
              "1       MN19  ...  MULTIPOLYGON (((-73.96433 40.75638, -73.96479 ...\n",
              "2       MN19  ...  MULTIPOLYGON (((-73.96802 40.75958, -73.96848 ...\n",
              "3       MN17  ...  MULTIPOLYGON (((-73.97124 40.76094, -73.97170 ...\n",
              "4       MN17  ...  MULTIPOLYGON (((-73.97446 40.76229, -73.97491 ...\n",
              "...      ...  ...                                                ...\n",
              "2160    QN61  ...  MULTIPOLYGON (((-73.81153 40.70227, -73.81083 ...\n",
              "2161    QN10  ...  MULTIPOLYGON (((-73.81653 40.61495, -73.81655 ...\n",
              "2162    QN99  ...  MULTIPOLYGON (((-73.82645 40.59053, -73.82642 ...\n",
              "2163    SI11  ...  MULTIPOLYGON (((-74.20700 40.55757, -74.20880 ...\n",
              "2164    SI11  ...  MULTIPOLYGON (((-74.22948 40.51908, -74.22963 ...\n",
              "\n",
              "[2165 rows x 12 columns]"
            ]
          },
          "metadata": {
            "tags": []
          },
          "execution_count": 18
        }
      ]
    },
    {
      "cell_type": "markdown",
      "metadata": {
        "id": "gYsvd_5OSUxW",
        "colab_type": "text"
      },
      "source": [
        "## Loading a shape file after you save it in your drive\n",
        "I already saved it in the shared drive PUS2020 that you all have access to"
      ]
    },
    {
      "cell_type": "code",
      "metadata": {
        "id": "AV0tIAOJUS0s",
        "colab_type": "code",
        "colab": {
          "base_uri": "https://localhost:8080/",
          "height": 33
        },
        "outputId": "0695f463-f72c-4526-e163-61a3a30c0c47"
      },
      "source": [
        "from google.colab import drive\n",
        "drive.mount(\"/content/drive\")\n"
      ],
      "execution_count": 20,
      "outputs": [
        {
          "output_type": "stream",
          "text": [
            "Drive already mounted at /content/drive; to attempt to forcibly remount, call drive.mount(\"/content/drive\", force_remount=True).\n"
          ],
          "name": "stdout"
        }
      ]
    },
    {
      "cell_type": "code",
      "metadata": {
        "id": "4jIGVfTNU5GV",
        "colab_type": "code",
        "colab": {
          "base_uri": "https://localhost:8080/",
          "height": 33
        },
        "outputId": "458293a0-8e17-42e0-ebac-f568b9b3ff7c"
      },
      "source": [
        "cd /content/drive/Shared\\ drives/PUS2020"
      ],
      "execution_count": 21,
      "outputs": [
        {
          "output_type": "stream",
          "text": [
            "/content/drive/Shared drives/PUS2020\n"
          ],
          "name": "stdout"
        }
      ]
    },
    {
      "cell_type": "code",
      "metadata": {
        "id": "5jzYURCqVHJh",
        "colab_type": "code",
        "colab": {
          "base_uri": "https://localhost:8080/",
          "height": 570
        },
        "outputId": "4befb7d0-2526-4c0c-a805-24ddbd2615b4"
      },
      "source": [
        "ls data"
      ],
      "execution_count": 22,
      "outputs": [
        {
          "output_type": "stream",
          "text": [
            "\u001b[0m\u001b[01;34m'2010 Census Tracts'\u001b[0m/\n",
            " 201903-citibike-tripdata.csv.zip\n",
            " 201904-citibike-tripdata.csv.zip\n",
            " 201905-citibike-tripdata.csv.zip\n",
            " 201906-citibike-tripdata.csv.zip\n",
            " 202003-citibike-tripdata.csv.zip\n",
            " 202004-citibike-tripdata.csv.zip\n",
            " 202005-citibike-tripdata.csv.zip\n",
            " 202006-citibike-tripdata.csv.zip\n",
            " arrest_data_daily_by_zip.csv\n",
            " \u001b[01;34mcitibike\u001b[0m/\n",
            " citibikes_monthly.csv\n",
            " \u001b[01;34mLongitude_Graticules_and_World_Countries_Boundaries-shp\u001b[0m/\n",
            " MapPLUTO.cpg\n",
            " MapPLUTO.dbf\n",
            " MapPLUTO.prj\n",
            " MapPLUTO.sbn\n",
            " MapPLUTO.sbx\n",
            " MapPLUTO.shp\n",
            " MapPLUTO.shp.xml\n",
            " MapPLUTO.shx\n",
            " MNMapPLUTO.dbf\n",
            " MNMapPLUTO.prj\n",
            " MNMapPLUTO.sbn\n",
            " MNMapPLUTO.sbx\n",
            " MNMapPLUTO.shp\n",
            " MNMapPLUTO.shp.xml\n",
            " MNMapPLUTO.shx\n",
            " \u001b[01;34mnatural_earth_vector\u001b[0m/\n",
            " PLUTODD20v5.pdf\n",
            " PlutoReadme20v5.pdf\n",
            " PPR_Properties.csv\n",
            " Varnamesnlabels_m2ihip_R.xlsx\n",
            " Varnamesnlabels_m2ihip.xlsx\n"
          ],
          "name": "stdout"
        }
      ]
    },
    {
      "cell_type": "code",
      "metadata": {
        "id": "rbISa2kEVMW5",
        "colab_type": "code",
        "colab": {
          "base_uri": "https://localhost:8080/",
          "height": 82
        },
        "outputId": "012042e4-dd3b-4b2b-ca41-8186e0737a95"
      },
      "source": [
        "ls \"data/2010 Census Tracts\""
      ],
      "execution_count": 23,
      "outputs": [
        {
          "output_type": "stream",
          "text": [
            "geo_export_342ef674-8015-48e8-b6a4-611ab0993e4f.dbf\n",
            "geo_export_342ef674-8015-48e8-b6a4-611ab0993e4f.prj\n",
            "geo_export_342ef674-8015-48e8-b6a4-611ab0993e4f.shp\n",
            "geo_export_342ef674-8015-48e8-b6a4-611ab0993e4f.shx\n"
          ],
          "name": "stdout"
        }
      ]
    },
    {
      "cell_type": "code",
      "metadata": {
        "id": "ZJcQMvVRPWtB",
        "colab_type": "code",
        "colab": {
          "base_uri": "https://localhost:8080/",
          "height": 435
        },
        "outputId": "237a63a1-9738-46d5-a251-fd24239c86fd"
      },
      "source": [
        "shape_path = \"data/2010 Census Tracts/geo_export_342ef674-8015-48e8-b6a4-611ab0993e4f.shp\"\n",
        "ct_shape = gpd.GeoDataFrame.from_file(shape_path)\n",
        "ct_shape.head()"
      ],
      "execution_count": 24,
      "outputs": [
        {
          "output_type": "execute_result",
          "data": {
            "text/html": [
              "<div>\n",
              "<style scoped>\n",
              "    .dataframe tbody tr th:only-of-type {\n",
              "        vertical-align: middle;\n",
              "    }\n",
              "\n",
              "    .dataframe tbody tr th {\n",
              "        vertical-align: top;\n",
              "    }\n",
              "\n",
              "    .dataframe thead th {\n",
              "        text-align: right;\n",
              "    }\n",
              "</style>\n",
              "<table border=\"1\" class=\"dataframe\">\n",
              "  <thead>\n",
              "    <tr style=\"text-align: right;\">\n",
              "      <th></th>\n",
              "      <th>boro_code</th>\n",
              "      <th>boro_ct201</th>\n",
              "      <th>boro_name</th>\n",
              "      <th>cdeligibil</th>\n",
              "      <th>ct2010</th>\n",
              "      <th>ctlabel</th>\n",
              "      <th>ntacode</th>\n",
              "      <th>ntaname</th>\n",
              "      <th>puma</th>\n",
              "      <th>shape_area</th>\n",
              "      <th>shape_leng</th>\n",
              "      <th>geometry</th>\n",
              "    </tr>\n",
              "  </thead>\n",
              "  <tbody>\n",
              "    <tr>\n",
              "      <th>0</th>\n",
              "      <td>5</td>\n",
              "      <td>5000900</td>\n",
              "      <td>Staten Island</td>\n",
              "      <td>E</td>\n",
              "      <td>000900</td>\n",
              "      <td>9</td>\n",
              "      <td>SI22</td>\n",
              "      <td>West New Brighton-New Brighton-St. George</td>\n",
              "      <td>3903</td>\n",
              "      <td>2.497010e+06</td>\n",
              "      <td>7729.016794</td>\n",
              "      <td>POLYGON ((-74.07921 40.64343, -74.07914 40.643...</td>\n",
              "    </tr>\n",
              "    <tr>\n",
              "      <th>1</th>\n",
              "      <td>1</td>\n",
              "      <td>1009800</td>\n",
              "      <td>Manhattan</td>\n",
              "      <td>I</td>\n",
              "      <td>009800</td>\n",
              "      <td>98</td>\n",
              "      <td>MN19</td>\n",
              "      <td>Turtle Bay-East Midtown</td>\n",
              "      <td>3808</td>\n",
              "      <td>1.906016e+06</td>\n",
              "      <td>5534.199811</td>\n",
              "      <td>POLYGON ((-73.96433 40.75638, -73.96479 40.755...</td>\n",
              "    </tr>\n",
              "    <tr>\n",
              "      <th>2</th>\n",
              "      <td>1</td>\n",
              "      <td>1010000</td>\n",
              "      <td>Manhattan</td>\n",
              "      <td>I</td>\n",
              "      <td>010000</td>\n",
              "      <td>100</td>\n",
              "      <td>MN19</td>\n",
              "      <td>Turtle Bay-East Midtown</td>\n",
              "      <td>3808</td>\n",
              "      <td>1.860938e+06</td>\n",
              "      <td>5692.168737</td>\n",
              "      <td>POLYGON ((-73.96802 40.75958, -73.96848 40.758...</td>\n",
              "    </tr>\n",
              "    <tr>\n",
              "      <th>3</th>\n",
              "      <td>1</td>\n",
              "      <td>1010200</td>\n",
              "      <td>Manhattan</td>\n",
              "      <td>I</td>\n",
              "      <td>010200</td>\n",
              "      <td>102</td>\n",
              "      <td>MN17</td>\n",
              "      <td>Midtown-Midtown South</td>\n",
              "      <td>3807</td>\n",
              "      <td>1.860993e+06</td>\n",
              "      <td>5687.802439</td>\n",
              "      <td>POLYGON ((-73.97124 40.76094, -73.97170 40.760...</td>\n",
              "    </tr>\n",
              "    <tr>\n",
              "      <th>4</th>\n",
              "      <td>1</td>\n",
              "      <td>1010400</td>\n",
              "      <td>Manhattan</td>\n",
              "      <td>I</td>\n",
              "      <td>010400</td>\n",
              "      <td>104</td>\n",
              "      <td>MN17</td>\n",
              "      <td>Midtown-Midtown South</td>\n",
              "      <td>3807</td>\n",
              "      <td>1.864600e+06</td>\n",
              "      <td>5693.036367</td>\n",
              "      <td>POLYGON ((-73.97446 40.76229, -73.97491 40.761...</td>\n",
              "    </tr>\n",
              "  </tbody>\n",
              "</table>\n",
              "</div>"
            ],
            "text/plain": [
              "  boro_code  ...                                           geometry\n",
              "0         5  ...  POLYGON ((-74.07921 40.64343, -74.07914 40.643...\n",
              "1         1  ...  POLYGON ((-73.96433 40.75638, -73.96479 40.755...\n",
              "2         1  ...  POLYGON ((-73.96802 40.75958, -73.96848 40.758...\n",
              "3         1  ...  POLYGON ((-73.97124 40.76094, -73.97170 40.760...\n",
              "4         1  ...  POLYGON ((-73.97446 40.76229, -73.97491 40.761...\n",
              "\n",
              "[5 rows x 12 columns]"
            ]
          },
          "metadata": {
            "tags": []
          },
          "execution_count": 24
        }
      ]
    },
    {
      "cell_type": "code",
      "metadata": {
        "id": "7zpQgLOHVka4",
        "colab_type": "code",
        "colab": {
          "base_uri": "https://localhost:8080/",
          "height": 277
        },
        "outputId": "1895bf0c-1f72-401a-e8ec-26eccf962d2a"
      },
      "source": [
        "ct_shape.describe()"
      ],
      "execution_count": 25,
      "outputs": [
        {
          "output_type": "execute_result",
          "data": {
            "text/html": [
              "<div>\n",
              "<style scoped>\n",
              "    .dataframe tbody tr th:only-of-type {\n",
              "        vertical-align: middle;\n",
              "    }\n",
              "\n",
              "    .dataframe tbody tr th {\n",
              "        vertical-align: top;\n",
              "    }\n",
              "\n",
              "    .dataframe thead th {\n",
              "        text-align: right;\n",
              "    }\n",
              "</style>\n",
              "<table border=\"1\" class=\"dataframe\">\n",
              "  <thead>\n",
              "    <tr style=\"text-align: right;\">\n",
              "      <th></th>\n",
              "      <th>shape_area</th>\n",
              "      <th>shape_leng</th>\n",
              "    </tr>\n",
              "  </thead>\n",
              "  <tbody>\n",
              "    <tr>\n",
              "      <th>count</th>\n",
              "      <td>2.165000e+03</td>\n",
              "      <td>2165.000000</td>\n",
              "    </tr>\n",
              "    <tr>\n",
              "      <th>mean</th>\n",
              "      <td>3.891504e+06</td>\n",
              "      <td>8727.346925</td>\n",
              "    </tr>\n",
              "    <tr>\n",
              "      <th>std</th>\n",
              "      <td>7.952934e+06</td>\n",
              "      <td>8421.790925</td>\n",
              "    </tr>\n",
              "    <tr>\n",
              "      <th>min</th>\n",
              "      <td>4.478076e+05</td>\n",
              "      <td>2816.869532</td>\n",
              "    </tr>\n",
              "    <tr>\n",
              "      <th>25%</th>\n",
              "      <td>1.683689e+06</td>\n",
              "      <td>5622.863766</td>\n",
              "    </tr>\n",
              "    <tr>\n",
              "      <th>50%</th>\n",
              "      <td>1.987938e+06</td>\n",
              "      <td>6496.952057</td>\n",
              "    </tr>\n",
              "    <tr>\n",
              "      <th>75%</th>\n",
              "      <td>3.192228e+06</td>\n",
              "      <td>8734.805687</td>\n",
              "    </tr>\n",
              "    <tr>\n",
              "      <th>max</th>\n",
              "      <td>1.966297e+08</td>\n",
              "      <td>182384.827557</td>\n",
              "    </tr>\n",
              "  </tbody>\n",
              "</table>\n",
              "</div>"
            ],
            "text/plain": [
              "         shape_area     shape_leng\n",
              "count  2.165000e+03    2165.000000\n",
              "mean   3.891504e+06    8727.346925\n",
              "std    7.952934e+06    8421.790925\n",
              "min    4.478076e+05    2816.869532\n",
              "25%    1.683689e+06    5622.863766\n",
              "50%    1.987938e+06    6496.952057\n",
              "75%    3.192228e+06    8734.805687\n",
              "max    1.966297e+08  182384.827557"
            ]
          },
          "metadata": {
            "tags": []
          },
          "execution_count": 25
        }
      ]
    },
    {
      "cell_type": "markdown",
      "metadata": {
        "id": "o6JbLGzePWtD",
        "colab_type": "text"
      },
      "source": [
        "# Coordinate systems, projections, and transformations "
      ]
    },
    {
      "cell_type": "markdown",
      "metadata": {
        "id": "PMnQTCmBV2hB",
        "colab_type": "text"
      },
      "source": [
        "conver to EPSG 2263 which is coordinated in feet, instead of lat long degrees\n",
        "\n",
        "extract the area of each gemetry : the geometry column has many relevant methods\n",
        "\n",
        "calculate the total area in miles squared. the feet to meter conversion is here \n",
        "https://www.google.com/search?sxsrf=ALeKk03B4ThQrJJXpFzoCrgRfrJ1nByPMg%3A1600870977934&ei=QVprX9muOIOl_QbOtaOwCQ&q=feet+to+mile&oq=feet+to+mile&gs_lcp=CgZwc3ktYWIQAzIICAAQsQMQkQIyAggAMgIIADICCAAyAggAMgIIADICCAAyAggAMgIIADICCAA6BAgAEEc6BAgjECc6BQgAELEDOgoIABCxAxAUEIcCUM_1AVjK-AFgzPoBaABwAngAgAFkiAHvApIBAzMuMZgBAKABAaoBB2d3cy13aXrIAQjAAQE&sclient=psy-ab&ved=0ahUKEwiZ0-GPvf_rAhWDUt8KHc7aCJYQ4dUDCA0&uact=5\n",
        "\n",
        "can you do it in 1 line?"
      ]
    },
    {
      "cell_type": "code",
      "metadata": {
        "id": "czAKhtoqmtJt",
        "colab_type": "code",
        "colab": {}
      },
      "source": [
        "from fiona.crs import from_epsg\n"
      ],
      "execution_count": 26,
      "outputs": []
    },
    {
      "cell_type": "code",
      "metadata": {
        "id": "BDsbkAMuPWtD",
        "colab_type": "code",
        "colab": {}
      },
      "source": [
        "...\n",
        "print ('total NYC land area: {:.0f} (mi^2)'.format(NYC_Area)) # from ft2 to mi2 #epsg=2263 is US feet"
      ],
      "execution_count": null,
      "outputs": []
    },
    {
      "cell_type": "markdown",
      "metadata": {
        "id": "WMiRUUFpPWtG",
        "colab_type": "text"
      },
      "source": [
        "### Visualize the Census Tract boundaries colored by boroughs"
      ]
    },
    {
      "cell_type": "code",
      "metadata": {
        "id": "W4x-awMLPWtH",
        "colab_type": "code",
        "colab": {}
      },
      "source": [
        "f, ax = plt.subplots(figsize=(10,10))\n",
        "ax.get_xaxis().set_visible(False)\n",
        "ax.get_yaxis().set_visible(False)\n",
        "ct_shape.plot(column='boro_code',alpha=1,linewidth=0.5,ax=ax, cmap='viridis')\n",
        "plt.title(\"Census Tract map colored by boroughs\");"
      ],
      "execution_count": null,
      "outputs": []
    },
    {
      "cell_type": "markdown",
      "metadata": {
        "id": "uLZ6PSetPWtT",
        "colab_type": "text"
      },
      "source": [
        "## Vusualize the ct area"
      ]
    },
    {
      "cell_type": "code",
      "metadata": {
        "id": "Nvw1OSbpXU_v",
        "colab_type": "code",
        "colab": {
          "base_uri": "https://localhost:8080/",
          "height": 435
        },
        "outputId": "ae3e04a3-15f7-474b-82b6-0aaa00b14c2b"
      },
      "source": [
        "ct_shape.to_crs(epsg=2263).head()"
      ],
      "execution_count": 29,
      "outputs": [
        {
          "output_type": "execute_result",
          "data": {
            "text/html": [
              "<div>\n",
              "<style scoped>\n",
              "    .dataframe tbody tr th:only-of-type {\n",
              "        vertical-align: middle;\n",
              "    }\n",
              "\n",
              "    .dataframe tbody tr th {\n",
              "        vertical-align: top;\n",
              "    }\n",
              "\n",
              "    .dataframe thead th {\n",
              "        text-align: right;\n",
              "    }\n",
              "</style>\n",
              "<table border=\"1\" class=\"dataframe\">\n",
              "  <thead>\n",
              "    <tr style=\"text-align: right;\">\n",
              "      <th></th>\n",
              "      <th>boro_code</th>\n",
              "      <th>boro_ct201</th>\n",
              "      <th>boro_name</th>\n",
              "      <th>cdeligibil</th>\n",
              "      <th>ct2010</th>\n",
              "      <th>ctlabel</th>\n",
              "      <th>ntacode</th>\n",
              "      <th>ntaname</th>\n",
              "      <th>puma</th>\n",
              "      <th>shape_area</th>\n",
              "      <th>shape_leng</th>\n",
              "      <th>geometry</th>\n",
              "    </tr>\n",
              "  </thead>\n",
              "  <tbody>\n",
              "    <tr>\n",
              "      <th>0</th>\n",
              "      <td>5</td>\n",
              "      <td>5000900</td>\n",
              "      <td>Staten Island</td>\n",
              "      <td>E</td>\n",
              "      <td>000900</td>\n",
              "      <td>9</td>\n",
              "      <td>SI22</td>\n",
              "      <td>West New Brighton-New Brighton-St. George</td>\n",
              "      <td>3903</td>\n",
              "      <td>2.497010e+06</td>\n",
              "      <td>7729.016794</td>\n",
              "      <td>POLYGON ((962269.126 173705.500, 962288.722 17...</td>\n",
              "    </tr>\n",
              "    <tr>\n",
              "      <th>1</th>\n",
              "      <td>1</td>\n",
              "      <td>1009800</td>\n",
              "      <td>Manhattan</td>\n",
              "      <td>I</td>\n",
              "      <td>009800</td>\n",
              "      <td>98</td>\n",
              "      <td>MN19</td>\n",
              "      <td>Turtle Bay-East Midtown</td>\n",
              "      <td>3808</td>\n",
              "      <td>1.906016e+06</td>\n",
              "      <td>5534.199811</td>\n",
              "      <td>POLYGON ((994133.507 214848.898, 994005.909 21...</td>\n",
              "    </tr>\n",
              "    <tr>\n",
              "      <th>2</th>\n",
              "      <td>1</td>\n",
              "      <td>1010000</td>\n",
              "      <td>Manhattan</td>\n",
              "      <td>I</td>\n",
              "      <td>010000</td>\n",
              "      <td>100</td>\n",
              "      <td>MN19</td>\n",
              "      <td>Turtle Bay-East Midtown</td>\n",
              "      <td>3808</td>\n",
              "      <td>1.860938e+06</td>\n",
              "      <td>5692.168737</td>\n",
              "      <td>POLYGON ((993108.306 216013.131, 992982.220 21...</td>\n",
              "    </tr>\n",
              "    <tr>\n",
              "      <th>3</th>\n",
              "      <td>1</td>\n",
              "      <td>1010200</td>\n",
              "      <td>Manhattan</td>\n",
              "      <td>I</td>\n",
              "      <td>010200</td>\n",
              "      <td>102</td>\n",
              "      <td>MN17</td>\n",
              "      <td>Midtown-Midtown South</td>\n",
              "      <td>3807</td>\n",
              "      <td>1.860993e+06</td>\n",
              "      <td>5687.802439</td>\n",
              "      <td>POLYGON ((992216.539 216507.687, 992091.031 21...</td>\n",
              "    </tr>\n",
              "    <tr>\n",
              "      <th>4</th>\n",
              "      <td>1</td>\n",
              "      <td>1010400</td>\n",
              "      <td>Manhattan</td>\n",
              "      <td>I</td>\n",
              "      <td>010400</td>\n",
              "      <td>104</td>\n",
              "      <td>MN17</td>\n",
              "      <td>Midtown-Midtown South</td>\n",
              "      <td>3807</td>\n",
              "      <td>1.864600e+06</td>\n",
              "      <td>5693.036367</td>\n",
              "      <td>POLYGON ((991325.882 217001.689, 991199.221 21...</td>\n",
              "    </tr>\n",
              "  </tbody>\n",
              "</table>\n",
              "</div>"
            ],
            "text/plain": [
              "  boro_code  ...                                           geometry\n",
              "0         5  ...  POLYGON ((962269.126 173705.500, 962288.722 17...\n",
              "1         1  ...  POLYGON ((994133.507 214848.898, 994005.909 21...\n",
              "2         1  ...  POLYGON ((993108.306 216013.131, 992982.220 21...\n",
              "3         1  ...  POLYGON ((992216.539 216507.687, 992091.031 21...\n",
              "4         1  ...  POLYGON ((991325.882 217001.689, 991199.221 21...\n",
              "\n",
              "[5 rows x 12 columns]"
            ]
          },
          "metadata": {
            "tags": []
          },
          "execution_count": 29
        }
      ]
    },
    {
      "cell_type": "code",
      "metadata": {
        "id": "nVoOiWCYXhYL",
        "colab_type": "code",
        "colab": {}
      },
      "source": [
        "ct_shape['shape_areainmi2'] = ct_shape.to_crs(epsg=2263).geometry.area / (2.788*10**7)\n"
      ],
      "execution_count": 30,
      "outputs": []
    },
    {
      "cell_type": "code",
      "metadata": {
        "id": "-eiAmnfKX6n6",
        "colab_type": "code",
        "colab": {
          "base_uri": "https://localhost:8080/",
          "height": 516
        },
        "outputId": "b47db753-8eb5-47f3-b9f4-8becb213242f"
      },
      "source": [
        "ct_shape.head()"
      ],
      "execution_count": 31,
      "outputs": [
        {
          "output_type": "execute_result",
          "data": {
            "text/html": [
              "<div>\n",
              "<style scoped>\n",
              "    .dataframe tbody tr th:only-of-type {\n",
              "        vertical-align: middle;\n",
              "    }\n",
              "\n",
              "    .dataframe tbody tr th {\n",
              "        vertical-align: top;\n",
              "    }\n",
              "\n",
              "    .dataframe thead th {\n",
              "        text-align: right;\n",
              "    }\n",
              "</style>\n",
              "<table border=\"1\" class=\"dataframe\">\n",
              "  <thead>\n",
              "    <tr style=\"text-align: right;\">\n",
              "      <th></th>\n",
              "      <th>boro_code</th>\n",
              "      <th>boro_ct201</th>\n",
              "      <th>boro_name</th>\n",
              "      <th>cdeligibil</th>\n",
              "      <th>ct2010</th>\n",
              "      <th>ctlabel</th>\n",
              "      <th>ntacode</th>\n",
              "      <th>ntaname</th>\n",
              "      <th>puma</th>\n",
              "      <th>shape_area</th>\n",
              "      <th>shape_leng</th>\n",
              "      <th>geometry</th>\n",
              "      <th>shape_areainmi2</th>\n",
              "    </tr>\n",
              "  </thead>\n",
              "  <tbody>\n",
              "    <tr>\n",
              "      <th>0</th>\n",
              "      <td>5</td>\n",
              "      <td>5000900</td>\n",
              "      <td>Staten Island</td>\n",
              "      <td>E</td>\n",
              "      <td>000900</td>\n",
              "      <td>9</td>\n",
              "      <td>SI22</td>\n",
              "      <td>West New Brighton-New Brighton-St. George</td>\n",
              "      <td>3903</td>\n",
              "      <td>2.497010e+06</td>\n",
              "      <td>7729.016794</td>\n",
              "      <td>POLYGON ((-74.07921 40.64343, -74.07914 40.643...</td>\n",
              "      <td>0.089563</td>\n",
              "    </tr>\n",
              "    <tr>\n",
              "      <th>1</th>\n",
              "      <td>1</td>\n",
              "      <td>1009800</td>\n",
              "      <td>Manhattan</td>\n",
              "      <td>I</td>\n",
              "      <td>009800</td>\n",
              "      <td>98</td>\n",
              "      <td>MN19</td>\n",
              "      <td>Turtle Bay-East Midtown</td>\n",
              "      <td>3808</td>\n",
              "      <td>1.906016e+06</td>\n",
              "      <td>5534.199811</td>\n",
              "      <td>POLYGON ((-73.96433 40.75638, -73.96479 40.755...</td>\n",
              "      <td>0.068365</td>\n",
              "    </tr>\n",
              "    <tr>\n",
              "      <th>2</th>\n",
              "      <td>1</td>\n",
              "      <td>1010000</td>\n",
              "      <td>Manhattan</td>\n",
              "      <td>I</td>\n",
              "      <td>010000</td>\n",
              "      <td>100</td>\n",
              "      <td>MN19</td>\n",
              "      <td>Turtle Bay-East Midtown</td>\n",
              "      <td>3808</td>\n",
              "      <td>1.860938e+06</td>\n",
              "      <td>5692.168737</td>\n",
              "      <td>POLYGON ((-73.96802 40.75958, -73.96848 40.758...</td>\n",
              "      <td>0.066748</td>\n",
              "    </tr>\n",
              "    <tr>\n",
              "      <th>3</th>\n",
              "      <td>1</td>\n",
              "      <td>1010200</td>\n",
              "      <td>Manhattan</td>\n",
              "      <td>I</td>\n",
              "      <td>010200</td>\n",
              "      <td>102</td>\n",
              "      <td>MN17</td>\n",
              "      <td>Midtown-Midtown South</td>\n",
              "      <td>3807</td>\n",
              "      <td>1.860993e+06</td>\n",
              "      <td>5687.802439</td>\n",
              "      <td>POLYGON ((-73.97124 40.76094, -73.97170 40.760...</td>\n",
              "      <td>0.066750</td>\n",
              "    </tr>\n",
              "    <tr>\n",
              "      <th>4</th>\n",
              "      <td>1</td>\n",
              "      <td>1010400</td>\n",
              "      <td>Manhattan</td>\n",
              "      <td>I</td>\n",
              "      <td>010400</td>\n",
              "      <td>104</td>\n",
              "      <td>MN17</td>\n",
              "      <td>Midtown-Midtown South</td>\n",
              "      <td>3807</td>\n",
              "      <td>1.864600e+06</td>\n",
              "      <td>5693.036367</td>\n",
              "      <td>POLYGON ((-73.97446 40.76229, -73.97491 40.761...</td>\n",
              "      <td>0.066879</td>\n",
              "    </tr>\n",
              "  </tbody>\n",
              "</table>\n",
              "</div>"
            ],
            "text/plain": [
              "  boro_code  ... shape_areainmi2\n",
              "0         5  ...        0.089563\n",
              "1         1  ...        0.068365\n",
              "2         1  ...        0.066748\n",
              "3         1  ...        0.066750\n",
              "4         1  ...        0.066879\n",
              "\n",
              "[5 rows x 13 columns]"
            ]
          },
          "metadata": {
            "tags": []
          },
          "execution_count": 31
        }
      ]
    },
    {
      "cell_type": "code",
      "metadata": {
        "scrolled": false,
        "id": "xWHGOn3lPWtT",
        "colab_type": "code",
        "colab": {}
      },
      "source": [
        "f, ax = plt.subplots(figsize=(10,10))\n",
        "ax.get_xaxis().set_visible(False)\n",
        "ax.get_yaxis().set_visible(False)\n",
        "ct_shape.plot(column='shape_areainmi2',cmap='hot_r',alpha=1,linewidth=0.1,ax=ax, legend=True)\n",
        "plt.title(\"ct area (mi squared\");"
      ],
      "execution_count": null,
      "outputs": []
    },
    {
      "cell_type": "markdown",
      "metadata": {
        "id": "sizWBLBhPWtV",
        "colab_type": "text"
      },
      "source": [
        "## Choropleths"
      ]
    },
    {
      "cell_type": "code",
      "metadata": {
        "id": "nv99vYI1Yn2m",
        "colab_type": "code",
        "colab": {
          "base_uri": "https://localhost:8080/",
          "height": 347
        },
        "outputId": "ff131faa-2367-40a3-d811-f634d2fa0db2"
      },
      "source": [
        "!pip install -U --no-deps mapclassify git+git://github.com/geopandas/geopandas.git@master\n"
      ],
      "execution_count": 33,
      "outputs": [
        {
          "output_type": "stream",
          "text": [
            "Collecting git+git://github.com/geopandas/geopandas.git@master\n",
            "  Cloning git://github.com/geopandas/geopandas.git (to revision master) to /tmp/pip-req-build-1dvlyver\n",
            "  Running command git clone -q git://github.com/geopandas/geopandas.git /tmp/pip-req-build-1dvlyver\n",
            "Requirement already up-to-date: mapclassify in /usr/local/lib/python3.6/dist-packages (2.3.0)\n",
            "Building wheels for collected packages: geopandas\n",
            "  Building wheel for geopandas (setup.py) ... \u001b[?25l\u001b[?25hdone\n",
            "  Created wheel for geopandas: filename=geopandas-0.8.0+40.gcb4e8cb-py2.py3-none-any.whl size=963639 sha256=19a04392782953ecbe3f7236feeda176019bebd021f8831ca150ea3eeed4e6be\n",
            "  Stored in directory: /tmp/pip-ephem-wheel-cache-6eq2mnju/wheels/1e/57/dc/7a5ea8503aefb23576c42181adfca7fc173fde5b71900660bc\n",
            "Successfully built geopandas\n",
            "Installing collected packages: geopandas\n",
            "  Found existing installation: geopandas 0.8.0+40.gcb4e8cb\n",
            "    Uninstalling geopandas-0.8.0+40.gcb4e8cb:\n",
            "      Successfully uninstalled geopandas-0.8.0+40.gcb4e8cb\n",
            "Successfully installed geopandas-0.8.0+40.gcb4e8cb\n"
          ],
          "name": "stdout"
        },
        {
          "output_type": "display_data",
          "data": {
            "application/vnd.colab-display-data+json": {
              "pip_warning": {
                "packages": [
                  "geopandas"
                ]
              }
            }
          },
          "metadata": {
            "tags": []
          }
        }
      ]
    },
    {
      "cell_type": "code",
      "metadata": {
        "id": "FO0oJeHePWtW",
        "colab_type": "code",
        "colab": {}
      },
      "source": [
        "f, ax = plt.subplots(figsize=(10,10))\n",
        "ax.get_xaxis().set_visible(False)\n",
        "ax.get_yaxis().set_visible(False)\n",
        "ct_shape.plot(column='shape_areainmi2',cmap='viridis',alpha=1,\n",
        "                  linewidth=0.1,ax=ax, scheme=\"quantiles\", legend=True, k=10)\n",
        "plt.title(\"census tract sizey by decile\");"
      ],
      "execution_count": null,
      "outputs": []
    },
    {
      "cell_type": "code",
      "metadata": {
        "id": "q7PHkYXqPWtZ",
        "colab_type": "code",
        "colab": {}
      },
      "source": [
        "f, ax = plt.subplots(figsize=(10,10))\n",
        "ax.get_xaxis().set_visible(False)\n",
        "ax.get_yaxis().set_visible(False)\n",
        "ct_shape.plot(column='shape_areainmi2',cmap='viridis',alpha=1,linewidth=0.1,ax=ax, \n",
        "                  scheme=\"Equal_interval\", legend=True, k=5)\n",
        "plt.title(\"census tract size\");"
      ],
      "execution_count": null,
      "outputs": []
    },
    {
      "cell_type": "code",
      "metadata": {
        "id": "TvfMjBT0dUmA",
        "colab_type": "code",
        "colab": {}
      },
      "source": [
        "f, ax = plt.subplots(figsize=(10,10))\n",
        "ax.get_xaxis().set_visible(False)\n",
        "ax.get_yaxis().set_visible(False)\n",
        "ct_shape.plot(column='shape_areainmi2',cmap='viridis',alpha=1,linewidth=0.1,ax=ax, \n",
        "                  scheme=\"Equal_interval\", legend=True, k=5, legend_kwds={'loc': 'upper left'});\n",
        "plt.title(\"census tract size\");"
      ],
      "execution_count": null,
      "outputs": []
    },
    {
      "cell_type": "markdown",
      "metadata": {
        "id": "sPyimkS0ZTll",
        "colab_type": "text"
      },
      "source": [
        "At some point i got so tired of moving the legend around that i made a whole package to plot choropleths of NYC https://github.com/fedhere/choroplethNYC"
      ]
    },
    {
      "cell_type": "markdown",
      "metadata": {
        "id": "HWNDsJEpPWtd",
        "colab_type": "text"
      },
      "source": [
        "# Explore CitiBike data"
      ]
    },
    {
      "cell_type": "markdown",
      "metadata": {
        "id": "iGCz2zjBPWtd",
        "colab_type": "text"
      },
      "source": [
        "### Load CitiBike data"
      ]
    },
    {
      "cell_type": "code",
      "metadata": {
        "id": "ZMBcCI7bPWtd",
        "colab_type": "code",
        "colab": {
          "base_uri": "https://localhost:8080/",
          "height": 451
        },
        "outputId": "08451c62-ac40-42ab-8760-15586739c2dd"
      },
      "source": [
        "cb201309 = pd.read_csv('https://s3.amazonaws.com/tripdata/201309-citibike-tripdata.zip', index_col='starttime')\n",
        "cb201309.head()"
      ],
      "execution_count": 37,
      "outputs": [
        {
          "output_type": "execute_result",
          "data": {
            "text/html": [
              "<div>\n",
              "<style scoped>\n",
              "    .dataframe tbody tr th:only-of-type {\n",
              "        vertical-align: middle;\n",
              "    }\n",
              "\n",
              "    .dataframe tbody tr th {\n",
              "        vertical-align: top;\n",
              "    }\n",
              "\n",
              "    .dataframe thead th {\n",
              "        text-align: right;\n",
              "    }\n",
              "</style>\n",
              "<table border=\"1\" class=\"dataframe\">\n",
              "  <thead>\n",
              "    <tr style=\"text-align: right;\">\n",
              "      <th></th>\n",
              "      <th>tripduration</th>\n",
              "      <th>stoptime</th>\n",
              "      <th>start station id</th>\n",
              "      <th>start station name</th>\n",
              "      <th>start station latitude</th>\n",
              "      <th>start station longitude</th>\n",
              "      <th>end station id</th>\n",
              "      <th>end station name</th>\n",
              "      <th>end station latitude</th>\n",
              "      <th>end station longitude</th>\n",
              "      <th>bikeid</th>\n",
              "      <th>usertype</th>\n",
              "      <th>birth year</th>\n",
              "      <th>gender</th>\n",
              "    </tr>\n",
              "    <tr>\n",
              "      <th>starttime</th>\n",
              "      <th></th>\n",
              "      <th></th>\n",
              "      <th></th>\n",
              "      <th></th>\n",
              "      <th></th>\n",
              "      <th></th>\n",
              "      <th></th>\n",
              "      <th></th>\n",
              "      <th></th>\n",
              "      <th></th>\n",
              "      <th></th>\n",
              "      <th></th>\n",
              "      <th></th>\n",
              "      <th></th>\n",
              "    </tr>\n",
              "  </thead>\n",
              "  <tbody>\n",
              "    <tr>\n",
              "      <th>2013-09-01 00:00:02</th>\n",
              "      <td>1010</td>\n",
              "      <td>2013-09-01 00:16:52</td>\n",
              "      <td>254</td>\n",
              "      <td>W 11 St &amp; 6 Ave</td>\n",
              "      <td>40.735324</td>\n",
              "      <td>-73.998004</td>\n",
              "      <td>147</td>\n",
              "      <td>Greenwich St &amp; Warren St</td>\n",
              "      <td>40.715422</td>\n",
              "      <td>-74.011220</td>\n",
              "      <td>15014</td>\n",
              "      <td>Subscriber</td>\n",
              "      <td>1974</td>\n",
              "      <td>1</td>\n",
              "    </tr>\n",
              "    <tr>\n",
              "      <th>2013-09-01 00:00:09</th>\n",
              "      <td>1443</td>\n",
              "      <td>2013-09-01 00:24:12</td>\n",
              "      <td>151</td>\n",
              "      <td>Cleveland Pl &amp; Spring St</td>\n",
              "      <td>40.721816</td>\n",
              "      <td>-73.997203</td>\n",
              "      <td>497</td>\n",
              "      <td>E 17 St &amp; Broadway</td>\n",
              "      <td>40.737050</td>\n",
              "      <td>-73.990093</td>\n",
              "      <td>19393</td>\n",
              "      <td>Customer</td>\n",
              "      <td>\\N</td>\n",
              "      <td>0</td>\n",
              "    </tr>\n",
              "    <tr>\n",
              "      <th>2013-09-01 00:00:16</th>\n",
              "      <td>1387</td>\n",
              "      <td>2013-09-01 00:23:23</td>\n",
              "      <td>352</td>\n",
              "      <td>W 56 St &amp; 6 Ave</td>\n",
              "      <td>40.763406</td>\n",
              "      <td>-73.977225</td>\n",
              "      <td>405</td>\n",
              "      <td>Washington St &amp; Gansevoort St</td>\n",
              "      <td>40.739323</td>\n",
              "      <td>-74.008119</td>\n",
              "      <td>16160</td>\n",
              "      <td>Subscriber</td>\n",
              "      <td>1992</td>\n",
              "      <td>1</td>\n",
              "    </tr>\n",
              "    <tr>\n",
              "      <th>2013-09-01 00:00:18</th>\n",
              "      <td>405</td>\n",
              "      <td>2013-09-01 00:07:03</td>\n",
              "      <td>490</td>\n",
              "      <td>8 Ave &amp; W 33 St</td>\n",
              "      <td>40.751551</td>\n",
              "      <td>-73.993934</td>\n",
              "      <td>459</td>\n",
              "      <td>W 20 St &amp; 11 Ave</td>\n",
              "      <td>40.746745</td>\n",
              "      <td>-74.007756</td>\n",
              "      <td>14997</td>\n",
              "      <td>Subscriber</td>\n",
              "      <td>1973</td>\n",
              "      <td>1</td>\n",
              "    </tr>\n",
              "    <tr>\n",
              "      <th>2013-09-01 00:00:20</th>\n",
              "      <td>270</td>\n",
              "      <td>2013-09-01 00:04:50</td>\n",
              "      <td>236</td>\n",
              "      <td>St Marks Pl &amp; 2 Ave</td>\n",
              "      <td>40.728419</td>\n",
              "      <td>-73.987140</td>\n",
              "      <td>393</td>\n",
              "      <td>E 5 St &amp; Avenue C</td>\n",
              "      <td>40.722992</td>\n",
              "      <td>-73.979955</td>\n",
              "      <td>19609</td>\n",
              "      <td>Subscriber</td>\n",
              "      <td>1984</td>\n",
              "      <td>1</td>\n",
              "    </tr>\n",
              "  </tbody>\n",
              "</table>\n",
              "</div>"
            ],
            "text/plain": [
              "                     tripduration             stoptime  ...  birth year gender\n",
              "starttime                                               ...                   \n",
              "2013-09-01 00:00:02          1010  2013-09-01 00:16:52  ...        1974      1\n",
              "2013-09-01 00:00:09          1443  2013-09-01 00:24:12  ...          \\N      0\n",
              "2013-09-01 00:00:16          1387  2013-09-01 00:23:23  ...        1992      1\n",
              "2013-09-01 00:00:18           405  2013-09-01 00:07:03  ...        1973      1\n",
              "2013-09-01 00:00:20           270  2013-09-01 00:04:50  ...        1984      1\n",
              "\n",
              "[5 rows x 14 columns]"
            ]
          },
          "metadata": {
            "tags": []
          },
          "execution_count": 37
        }
      ]
    },
    {
      "cell_type": "code",
      "metadata": {
        "id": "vOHVJfeRPWtf",
        "colab_type": "code",
        "colab": {}
      },
      "source": [
        "cb201309.index = pd.to_datetime(cb201309.index)"
      ],
      "execution_count": 20,
      "outputs": []
    },
    {
      "cell_type": "markdown",
      "metadata": {
        "id": "oAGVYUUyPWtn",
        "colab_type": "text"
      },
      "source": [
        "## Map CitiBike Data to CT level"
      ]
    },
    {
      "cell_type": "markdown",
      "metadata": {
        "id": "rQzNQ-RwPWto",
        "colab_type": "text"
      },
      "source": [
        "### extract CitiBike station location data"
      ]
    },
    {
      "cell_type": "code",
      "metadata": {
        "id": "z5GKfGzxbArQ",
        "colab_type": "code",
        "colab": {
          "base_uri": "https://localhost:8080/",
          "height": 826
        },
        "outputId": "807694d9-c57e-47b1-80b9-88996e66ebe9"
      },
      "source": [
        "cb201309.groupby(\"start station id\").first()"
      ],
      "execution_count": 38,
      "outputs": [
        {
          "output_type": "execute_result",
          "data": {
            "text/html": [
              "<div>\n",
              "<style scoped>\n",
              "    .dataframe tbody tr th:only-of-type {\n",
              "        vertical-align: middle;\n",
              "    }\n",
              "\n",
              "    .dataframe tbody tr th {\n",
              "        vertical-align: top;\n",
              "    }\n",
              "\n",
              "    .dataframe thead th {\n",
              "        text-align: right;\n",
              "    }\n",
              "</style>\n",
              "<table border=\"1\" class=\"dataframe\">\n",
              "  <thead>\n",
              "    <tr style=\"text-align: right;\">\n",
              "      <th></th>\n",
              "      <th>tripduration</th>\n",
              "      <th>stoptime</th>\n",
              "      <th>start station name</th>\n",
              "      <th>start station latitude</th>\n",
              "      <th>start station longitude</th>\n",
              "      <th>end station id</th>\n",
              "      <th>end station name</th>\n",
              "      <th>end station latitude</th>\n",
              "      <th>end station longitude</th>\n",
              "      <th>bikeid</th>\n",
              "      <th>usertype</th>\n",
              "      <th>birth year</th>\n",
              "      <th>gender</th>\n",
              "    </tr>\n",
              "    <tr>\n",
              "      <th>start station id</th>\n",
              "      <th></th>\n",
              "      <th></th>\n",
              "      <th></th>\n",
              "      <th></th>\n",
              "      <th></th>\n",
              "      <th></th>\n",
              "      <th></th>\n",
              "      <th></th>\n",
              "      <th></th>\n",
              "      <th></th>\n",
              "      <th></th>\n",
              "      <th></th>\n",
              "      <th></th>\n",
              "    </tr>\n",
              "  </thead>\n",
              "  <tbody>\n",
              "    <tr>\n",
              "      <th>72</th>\n",
              "      <td>143</td>\n",
              "      <td>2013-09-01 01:29:19</td>\n",
              "      <td>W 52 St &amp; 11 Ave</td>\n",
              "      <td>40.767272</td>\n",
              "      <td>-73.993929</td>\n",
              "      <td>367</td>\n",
              "      <td>E 53 St &amp; Lexington Ave</td>\n",
              "      <td>40.758281</td>\n",
              "      <td>-73.970694</td>\n",
              "      <td>16521</td>\n",
              "      <td>Subscriber</td>\n",
              "      <td>1960</td>\n",
              "      <td>1</td>\n",
              "    </tr>\n",
              "    <tr>\n",
              "      <th>79</th>\n",
              "      <td>1049</td>\n",
              "      <td>2013-09-01 00:37:46</td>\n",
              "      <td>Franklin St &amp; W Broadway</td>\n",
              "      <td>40.719116</td>\n",
              "      <td>-74.006667</td>\n",
              "      <td>363</td>\n",
              "      <td>West Thames St</td>\n",
              "      <td>40.708347</td>\n",
              "      <td>-74.017134</td>\n",
              "      <td>17660</td>\n",
              "      <td>Customer</td>\n",
              "      <td>\\N</td>\n",
              "      <td>0</td>\n",
              "    </tr>\n",
              "    <tr>\n",
              "      <th>82</th>\n",
              "      <td>437</td>\n",
              "      <td>2013-09-01 12:09:47</td>\n",
              "      <td>St James Pl &amp; Pearl St</td>\n",
              "      <td>40.711174</td>\n",
              "      <td>-74.000165</td>\n",
              "      <td>151</td>\n",
              "      <td>Cleveland Pl &amp; Spring St</td>\n",
              "      <td>40.721816</td>\n",
              "      <td>-73.997203</td>\n",
              "      <td>19046</td>\n",
              "      <td>Subscriber</td>\n",
              "      <td>1980</td>\n",
              "      <td>2</td>\n",
              "    </tr>\n",
              "    <tr>\n",
              "      <th>83</th>\n",
              "      <td>857</td>\n",
              "      <td>2013-09-01 00:57:59</td>\n",
              "      <td>Atlantic Ave &amp; Fort Greene Pl</td>\n",
              "      <td>40.683826</td>\n",
              "      <td>-73.976323</td>\n",
              "      <td>406</td>\n",
              "      <td>Hicks St &amp; Montague St</td>\n",
              "      <td>40.695128</td>\n",
              "      <td>-73.995951</td>\n",
              "      <td>19618</td>\n",
              "      <td>Subscriber</td>\n",
              "      <td>1977</td>\n",
              "      <td>2</td>\n",
              "    </tr>\n",
              "    <tr>\n",
              "      <th>116</th>\n",
              "      <td>468</td>\n",
              "      <td>2013-09-01 00:13:46</td>\n",
              "      <td>W 17 St &amp; 8 Ave</td>\n",
              "      <td>40.741776</td>\n",
              "      <td>-74.001497</td>\n",
              "      <td>540</td>\n",
              "      <td>Lexington Ave &amp; E 26 St</td>\n",
              "      <td>40.741473</td>\n",
              "      <td>-73.983209</td>\n",
              "      <td>17346</td>\n",
              "      <td>Subscriber</td>\n",
              "      <td>1991</td>\n",
              "      <td>1</td>\n",
              "    </tr>\n",
              "    <tr>\n",
              "      <th>...</th>\n",
              "      <td>...</td>\n",
              "      <td>...</td>\n",
              "      <td>...</td>\n",
              "      <td>...</td>\n",
              "      <td>...</td>\n",
              "      <td>...</td>\n",
              "      <td>...</td>\n",
              "      <td>...</td>\n",
              "      <td>...</td>\n",
              "      <td>...</td>\n",
              "      <td>...</td>\n",
              "      <td>...</td>\n",
              "      <td>...</td>\n",
              "    </tr>\n",
              "    <tr>\n",
              "      <th>2017</th>\n",
              "      <td>266</td>\n",
              "      <td>2013-09-01 00:08:15</td>\n",
              "      <td>E 43 St &amp; 2 Ave</td>\n",
              "      <td>40.750224</td>\n",
              "      <td>-73.971214</td>\n",
              "      <td>228</td>\n",
              "      <td>E 48 St &amp; 3 Ave</td>\n",
              "      <td>40.754601</td>\n",
              "      <td>-73.971879</td>\n",
              "      <td>18462</td>\n",
              "      <td>Subscriber</td>\n",
              "      <td>1981</td>\n",
              "      <td>1</td>\n",
              "    </tr>\n",
              "    <tr>\n",
              "      <th>2021</th>\n",
              "      <td>1727</td>\n",
              "      <td>2013-09-01 01:05:25</td>\n",
              "      <td>W 45 St &amp; 8 Ave</td>\n",
              "      <td>40.759291</td>\n",
              "      <td>-73.988597</td>\n",
              "      <td>218</td>\n",
              "      <td>Gallatin Pl &amp; Livingston St</td>\n",
              "      <td>40.690284</td>\n",
              "      <td>-73.987071</td>\n",
              "      <td>16734</td>\n",
              "      <td>Customer</td>\n",
              "      <td>\\N</td>\n",
              "      <td>0</td>\n",
              "    </tr>\n",
              "    <tr>\n",
              "      <th>2022</th>\n",
              "      <td>1233</td>\n",
              "      <td>2013-09-01 00:39:20</td>\n",
              "      <td>E 59 St &amp; Sutton Pl</td>\n",
              "      <td>40.758491</td>\n",
              "      <td>-73.959206</td>\n",
              "      <td>528</td>\n",
              "      <td>2 Ave &amp; E 31 St</td>\n",
              "      <td>40.742909</td>\n",
              "      <td>-73.977061</td>\n",
              "      <td>19488</td>\n",
              "      <td>Subscriber</td>\n",
              "      <td>1961</td>\n",
              "      <td>2</td>\n",
              "    </tr>\n",
              "    <tr>\n",
              "      <th>2023</th>\n",
              "      <td>457</td>\n",
              "      <td>2013-09-01 00:35:20</td>\n",
              "      <td>E 55 St &amp; Lexington Ave</td>\n",
              "      <td>40.759681</td>\n",
              "      <td>-73.970314</td>\n",
              "      <td>449</td>\n",
              "      <td>W 52 St &amp; 9 Ave</td>\n",
              "      <td>40.764618</td>\n",
              "      <td>-73.987895</td>\n",
              "      <td>20031</td>\n",
              "      <td>Subscriber</td>\n",
              "      <td>1982</td>\n",
              "      <td>1</td>\n",
              "    </tr>\n",
              "    <tr>\n",
              "      <th>3002</th>\n",
              "      <td>844</td>\n",
              "      <td>2013-09-01 01:50:51</td>\n",
              "      <td>South End Ave &amp; Liberty St</td>\n",
              "      <td>40.711512</td>\n",
              "      <td>-74.015756</td>\n",
              "      <td>350</td>\n",
              "      <td>Clinton St &amp; Grand St</td>\n",
              "      <td>40.715595</td>\n",
              "      <td>-73.987030</td>\n",
              "      <td>20503</td>\n",
              "      <td>Subscriber</td>\n",
              "      <td>1970</td>\n",
              "      <td>2</td>\n",
              "    </tr>\n",
              "  </tbody>\n",
              "</table>\n",
              "<p>330 rows × 13 columns</p>\n",
              "</div>"
            ],
            "text/plain": [
              "                  tripduration             stoptime  ... birth year  gender\n",
              "start station id                                     ...                   \n",
              "72                         143  2013-09-01 01:29:19  ...       1960       1\n",
              "79                        1049  2013-09-01 00:37:46  ...         \\N       0\n",
              "82                         437  2013-09-01 12:09:47  ...       1980       2\n",
              "83                         857  2013-09-01 00:57:59  ...       1977       2\n",
              "116                        468  2013-09-01 00:13:46  ...       1991       1\n",
              "...                        ...                  ...  ...        ...     ...\n",
              "2017                       266  2013-09-01 00:08:15  ...       1981       1\n",
              "2021                      1727  2013-09-01 01:05:25  ...         \\N       0\n",
              "2022                      1233  2013-09-01 00:39:20  ...       1961       2\n",
              "2023                       457  2013-09-01 00:35:20  ...       1982       1\n",
              "3002                       844  2013-09-01 01:50:51  ...       1970       2\n",
              "\n",
              "[330 rows x 13 columns]"
            ]
          },
          "metadata": {
            "tags": []
          },
          "execution_count": 38
        }
      ]
    },
    {
      "cell_type": "code",
      "metadata": {
        "id": "tX-b67qwPWto",
        "colab_type": "code",
        "colab": {
          "base_uri": "https://localhost:8080/",
          "height": 220
        },
        "outputId": "672e60d5-b271-4df7-86f6-147a523e776c"
      },
      "source": [
        "station_id = cb201309.groupby(\"start station id\").first()[[\"start station latitude\",\"start station longitude\"]]\n",
        "station_id.rename({\"start station latitude\":\"lat\",\"start station longitude\":\"lon\"}, axis=1, inplace=True)\n",
        "#station_id.index = station_id.index.astype(str)\n",
        "station_id.head()"
      ],
      "execution_count": 64,
      "outputs": [
        {
          "output_type": "execute_result",
          "data": {
            "text/html": [
              "<div>\n",
              "<style scoped>\n",
              "    .dataframe tbody tr th:only-of-type {\n",
              "        vertical-align: middle;\n",
              "    }\n",
              "\n",
              "    .dataframe tbody tr th {\n",
              "        vertical-align: top;\n",
              "    }\n",
              "\n",
              "    .dataframe thead th {\n",
              "        text-align: right;\n",
              "    }\n",
              "</style>\n",
              "<table border=\"1\" class=\"dataframe\">\n",
              "  <thead>\n",
              "    <tr style=\"text-align: right;\">\n",
              "      <th></th>\n",
              "      <th>lat</th>\n",
              "      <th>lon</th>\n",
              "    </tr>\n",
              "    <tr>\n",
              "      <th>start station id</th>\n",
              "      <th></th>\n",
              "      <th></th>\n",
              "    </tr>\n",
              "  </thead>\n",
              "  <tbody>\n",
              "    <tr>\n",
              "      <th>72</th>\n",
              "      <td>40.767272</td>\n",
              "      <td>-73.993929</td>\n",
              "    </tr>\n",
              "    <tr>\n",
              "      <th>79</th>\n",
              "      <td>40.719116</td>\n",
              "      <td>-74.006667</td>\n",
              "    </tr>\n",
              "    <tr>\n",
              "      <th>82</th>\n",
              "      <td>40.711174</td>\n",
              "      <td>-74.000165</td>\n",
              "    </tr>\n",
              "    <tr>\n",
              "      <th>83</th>\n",
              "      <td>40.683826</td>\n",
              "      <td>-73.976323</td>\n",
              "    </tr>\n",
              "    <tr>\n",
              "      <th>116</th>\n",
              "      <td>40.741776</td>\n",
              "      <td>-74.001497</td>\n",
              "    </tr>\n",
              "  </tbody>\n",
              "</table>\n",
              "</div>"
            ],
            "text/plain": [
              "                        lat        lon\n",
              "start station id                      \n",
              "72                40.767272 -73.993929\n",
              "79                40.719116 -74.006667\n",
              "82                40.711174 -74.000165\n",
              "83                40.683826 -73.976323\n",
              "116               40.741776 -74.001497"
            ]
          },
          "metadata": {
            "tags": []
          },
          "execution_count": 64
        }
      ]
    },
    {
      "cell_type": "markdown",
      "metadata": {
        "id": "zySaIE0jPWtq",
        "colab_type": "text"
      },
      "source": [
        "### Create CitiBike station Geometry (Point) from Coordinates (Lat & Lon)"
      ]
    },
    {
      "cell_type": "code",
      "metadata": {
        "id": "5heNxyqOPWtr",
        "colab_type": "code",
        "colab": {
          "base_uri": "https://localhost:8080/",
          "height": 220
        },
        "outputId": "e51f035a-edc3-4e77-cac7-e8c80c0c0ae9"
      },
      "source": [
        "import shapely\n",
        "# combine lat and lon to one column\n",
        "station_id['lonlat'] = list(zip(station_id.lon,station_id.lat))\n",
        "# Create Point Geometry for based on lonlat column\n",
        "station_id['geometry'] = station_id[['lonlat']].applymap(lambda x:shapely.geometry.Point(x))\n",
        "station_id = gpd.GeoDataFrame(station_id)\n",
        "station_id.head()"
      ],
      "execution_count": 65,
      "outputs": [
        {
          "output_type": "execute_result",
          "data": {
            "text/html": [
              "<div>\n",
              "<style scoped>\n",
              "    .dataframe tbody tr th:only-of-type {\n",
              "        vertical-align: middle;\n",
              "    }\n",
              "\n",
              "    .dataframe tbody tr th {\n",
              "        vertical-align: top;\n",
              "    }\n",
              "\n",
              "    .dataframe thead th {\n",
              "        text-align: right;\n",
              "    }\n",
              "</style>\n",
              "<table border=\"1\" class=\"dataframe\">\n",
              "  <thead>\n",
              "    <tr style=\"text-align: right;\">\n",
              "      <th></th>\n",
              "      <th>lat</th>\n",
              "      <th>lon</th>\n",
              "      <th>lonlat</th>\n",
              "      <th>geometry</th>\n",
              "    </tr>\n",
              "    <tr>\n",
              "      <th>start station id</th>\n",
              "      <th></th>\n",
              "      <th></th>\n",
              "      <th></th>\n",
              "      <th></th>\n",
              "    </tr>\n",
              "  </thead>\n",
              "  <tbody>\n",
              "    <tr>\n",
              "      <th>72</th>\n",
              "      <td>40.767272</td>\n",
              "      <td>-73.993929</td>\n",
              "      <td>(-73.99392888, 40.76727216)</td>\n",
              "      <td>POINT (-73.99393 40.76727)</td>\n",
              "    </tr>\n",
              "    <tr>\n",
              "      <th>79</th>\n",
              "      <td>40.719116</td>\n",
              "      <td>-74.006667</td>\n",
              "      <td>(-74.00666661, 40.71911552)</td>\n",
              "      <td>POINT (-74.00667 40.71912)</td>\n",
              "    </tr>\n",
              "    <tr>\n",
              "      <th>82</th>\n",
              "      <td>40.711174</td>\n",
              "      <td>-74.000165</td>\n",
              "      <td>(-74.00016545, 40.71117416)</td>\n",
              "      <td>POINT (-74.00017 40.71117)</td>\n",
              "    </tr>\n",
              "    <tr>\n",
              "      <th>83</th>\n",
              "      <td>40.683826</td>\n",
              "      <td>-73.976323</td>\n",
              "      <td>(-73.97632328, 40.68382604)</td>\n",
              "      <td>POINT (-73.97632 40.68383)</td>\n",
              "    </tr>\n",
              "    <tr>\n",
              "      <th>116</th>\n",
              "      <td>40.741776</td>\n",
              "      <td>-74.001497</td>\n",
              "      <td>(-74.00149746, 40.74177603)</td>\n",
              "      <td>POINT (-74.00150 40.74178)</td>\n",
              "    </tr>\n",
              "  </tbody>\n",
              "</table>\n",
              "</div>"
            ],
            "text/plain": [
              "                        lat  ...                    geometry\n",
              "start station id             ...                            \n",
              "72                40.767272  ...  POINT (-73.99393 40.76727)\n",
              "79                40.719116  ...  POINT (-74.00667 40.71912)\n",
              "82                40.711174  ...  POINT (-74.00017 40.71117)\n",
              "83                40.683826  ...  POINT (-73.97632 40.68383)\n",
              "116               40.741776  ...  POINT (-74.00150 40.74178)\n",
              "\n",
              "[5 rows x 4 columns]"
            ]
          },
          "metadata": {
            "tags": []
          },
          "execution_count": 65
        }
      ]
    },
    {
      "cell_type": "code",
      "metadata": {
        "id": "0eQQl7oM3mQN",
        "colab_type": "code",
        "colab": {}
      },
      "source": [
        "station_id.plot();"
      ],
      "execution_count": null,
      "outputs": []
    },
    {
      "cell_type": "code",
      "metadata": {
        "id": "1NQCGbLO6VBT",
        "colab_type": "code",
        "colab": {}
      },
      "source": [
        "ct_shape.boundary.plot();"
      ],
      "execution_count": null,
      "outputs": []
    },
    {
      "cell_type": "code",
      "metadata": {
        "id": "CW4f-4VP5fnz",
        "colab_type": "code",
        "colab": {}
      },
      "source": [
        "f, ax = plt.subplots(figsize=(10,10))\n",
        "ax.get_xaxis().set_visible(False)\n",
        "ax.get_yaxis().set_visible(False)\n",
        "ct_shape.boundary.plot(ax=ax, alpha=0.5)\n",
        "station_id.plot(ax=ax, c='orange');"
      ],
      "execution_count": null,
      "outputs": []
    },
    {
      "cell_type": "code",
      "metadata": {
        "id": "cNyz5UgDJYIQ",
        "colab_type": "code",
        "colab": {}
      },
      "source": [
        "f, ax = plt.subplots(figsize=(10,10))\n",
        "ax.get_xaxis().set_visible(False)\n",
        "ax.get_yaxis().set_visible(False)\n",
        "ct_shape.boundary.plot(ax=ax, alpha=0.5)\n",
        "station_id.plot(ax=ax, c='orange');\n",
        "ax.set_xlim(-74.03, -73.93)\n",
        "ax.set_ylim(40.65, 40.78)"
      ],
      "execution_count": null,
      "outputs": []
    },
    {
      "cell_type": "markdown",
      "metadata": {
        "id": "Yums1ZwIPWtt",
        "colab_type": "text"
      },
      "source": [
        "# Intersect  two geometries\n",
        "``` gdp.ct_shape.geometry.intersect```\n",
        "\n"
      ]
    },
    {
      "cell_type": "code",
      "metadata": {
        "id": "5UTKGBUqPWtu",
        "colab_type": "code",
        "colab": {
          "base_uri": "https://localhost:8080/",
          "height": 48,
          "referenced_widgets": [
            "b58623f7e251438c87e72805ff81ac44",
            "9af5f53ffd3b4ba5a953966774925790",
            "5de9c97dc5af4e4f9ce31457caecab07"
          ]
        },
        "outputId": "d801b9d5-dcf6-45e2-d2e8-1f576a82306a"
      },
      "source": [
        "a=[]\n",
        "#setup a progressbar\n",
        "if hasWidgets:\n",
        "    pb = widgets.FloatProgress(min=0, max=1, description=\"Creating pts:\")\n",
        "    display(pb)\n",
        "step = 0.05\n",
        "updatestep = 0\n",
        "# check for each citibike stations to see what CT they are belong to\n",
        "for i in range(len(station_id)):\n",
        "    a.append(ct_shape[ct_shape.geometry.intersects(station_id.iloc[i].geometry)].boro_ct201.values[0])\n",
        "    progress = (i+1)/len(station_id)\n",
        "    curstep = progress//step\n",
        "    if hasWidgets:\n",
        "        pb.value = progress\n",
        "    elif updatestep!=curstep:\n",
        "        # should use /r, but this is currently broken in jupyterlab, see https://github.com/jupyterlab/jupyterlab/issues/5326\n",
        "        print ('{:.0f}%'.format(progress*100), end=\" \")\n",
        "        updatestep=curstep\n",
        "station_id['boro_ct201'] = a\n",
        "if hasWidgets: pb.description = \"Done!\"\n",
        "else: print (\"100%\")"
      ],
      "execution_count": 70,
      "outputs": [
        {
          "output_type": "display_data",
          "data": {
            "application/vnd.jupyter.widget-view+json": {
              "model_id": "b58623f7e251438c87e72805ff81ac44",
              "version_minor": 0,
              "version_major": 2
            },
            "text/plain": [
              "FloatProgress(value=0.0, description='Creating pts:', max=1.0)"
            ]
          },
          "metadata": {
            "tags": []
          }
        }
      ]
    },
    {
      "cell_type": "code",
      "metadata": {
        "id": "dlFfQWhsd1I1",
        "colab_type": "code",
        "colab": {
          "base_uri": "https://localhost:8080/",
          "height": 220
        },
        "outputId": "fce7ccb9-397d-4a7c-a320-b4048de377d8"
      },
      "source": [
        "station_id.head()"
      ],
      "execution_count": 71,
      "outputs": [
        {
          "output_type": "execute_result",
          "data": {
            "text/html": [
              "<div>\n",
              "<style scoped>\n",
              "    .dataframe tbody tr th:only-of-type {\n",
              "        vertical-align: middle;\n",
              "    }\n",
              "\n",
              "    .dataframe tbody tr th {\n",
              "        vertical-align: top;\n",
              "    }\n",
              "\n",
              "    .dataframe thead th {\n",
              "        text-align: right;\n",
              "    }\n",
              "</style>\n",
              "<table border=\"1\" class=\"dataframe\">\n",
              "  <thead>\n",
              "    <tr style=\"text-align: right;\">\n",
              "      <th></th>\n",
              "      <th>lat</th>\n",
              "      <th>lon</th>\n",
              "      <th>lonlat</th>\n",
              "      <th>geometry</th>\n",
              "      <th>boro_ct201</th>\n",
              "    </tr>\n",
              "    <tr>\n",
              "      <th>start station id</th>\n",
              "      <th></th>\n",
              "      <th></th>\n",
              "      <th></th>\n",
              "      <th></th>\n",
              "      <th></th>\n",
              "    </tr>\n",
              "  </thead>\n",
              "  <tbody>\n",
              "    <tr>\n",
              "      <th>72</th>\n",
              "      <td>40.767272</td>\n",
              "      <td>-73.993929</td>\n",
              "      <td>(-73.99392888, 40.76727216)</td>\n",
              "      <td>POINT (-73.99393 40.76727)</td>\n",
              "      <td>1013500</td>\n",
              "    </tr>\n",
              "    <tr>\n",
              "      <th>79</th>\n",
              "      <td>40.719116</td>\n",
              "      <td>-74.006667</td>\n",
              "      <td>(-74.00666661, 40.71911552)</td>\n",
              "      <td>POINT (-74.00667 40.71912)</td>\n",
              "      <td>1003300</td>\n",
              "    </tr>\n",
              "    <tr>\n",
              "      <th>82</th>\n",
              "      <td>40.711174</td>\n",
              "      <td>-74.000165</td>\n",
              "      <td>(-74.00016545, 40.71117416)</td>\n",
              "      <td>POINT (-74.00017 40.71117)</td>\n",
              "      <td>1002500</td>\n",
              "    </tr>\n",
              "    <tr>\n",
              "      <th>83</th>\n",
              "      <td>40.683826</td>\n",
              "      <td>-73.976323</td>\n",
              "      <td>(-73.97632328, 40.68382604)</td>\n",
              "      <td>POINT (-73.97632 40.68383)</td>\n",
              "      <td>3003500</td>\n",
              "    </tr>\n",
              "    <tr>\n",
              "      <th>116</th>\n",
              "      <td>40.741776</td>\n",
              "      <td>-74.001497</td>\n",
              "      <td>(-74.00149746, 40.74177603)</td>\n",
              "      <td>POINT (-74.00150 40.74178)</td>\n",
              "      <td>1008300</td>\n",
              "    </tr>\n",
              "  </tbody>\n",
              "</table>\n",
              "</div>"
            ],
            "text/plain": [
              "                        lat        lon  ...                    geometry boro_ct201\n",
              "start station id                        ...                                       \n",
              "72                40.767272 -73.993929  ...  POINT (-73.99393 40.76727)    1013500\n",
              "79                40.719116 -74.006667  ...  POINT (-74.00667 40.71912)    1003300\n",
              "82                40.711174 -74.000165  ...  POINT (-74.00017 40.71117)    1002500\n",
              "83                40.683826 -73.976323  ...  POINT (-73.97632 40.68383)    3003500\n",
              "116               40.741776 -74.001497  ...  POINT (-74.00150 40.74178)    1008300\n",
              "\n",
              "[5 rows x 5 columns]"
            ]
          },
          "metadata": {
            "tags": []
          },
          "execution_count": 71
        }
      ]
    },
    {
      "cell_type": "code",
      "metadata": {
        "id": "-f09jJlqbtFE",
        "colab_type": "code",
        "colab": {
          "base_uri": "https://localhost:8080/",
          "height": 121
        },
        "outputId": "3ef45bb0-7422-449f-a07b-78c7fd359a03"
      },
      "source": [
        "# a point\n",
        "station_id.geometry.iloc[0]"
      ],
      "execution_count": 72,
      "outputs": [
        {
          "output_type": "execute_result",
          "data": {
            "text/plain": [
              "<shapely.geometry.point.Point at 0x7f484eee72b0>"
            ],
            "image/svg+xml": "<svg xmlns=\"http://www.w3.org/2000/svg\" xmlns:xlink=\"http://www.w3.org/1999/xlink\" width=\"100.0\" height=\"100.0\" viewBox=\"-74.99392888 39.76727216 2.0 2.0\" preserveAspectRatio=\"xMinYMin meet\"><g transform=\"matrix(1,0,0,-1,0,81.53454432)\"><circle cx=\"-73.99392888\" cy=\"40.76727216\" r=\"0.06\" stroke=\"#555555\" stroke-width=\"0.02\" fill=\"#66cc99\" opacity=\"0.6\" /></g></svg>"
          },
          "metadata": {
            "tags": []
          },
          "execution_count": 72
        }
      ]
    },
    {
      "cell_type": "markdown",
      "metadata": {
        "id": "CUyIK1A5PWtv",
        "colab_type": "text"
      },
      "source": [
        "## Perform a spatial join\n",
        "\n",
        "Perfoming an $n \\times m$ intersection test is horrifically inefficient and slow. Spatial joins use an R-tree for spatial indexing to rapidly join the tables on their geometries. \n",
        "\n",
        "Spatial joins operate on objects with eastings and northings, i.e., you must transform ALL data into a common CRS expressed with dimensioned lengths. This will NOT work on data expressed in lat/long!"
      ]
    },
    {
      "cell_type": "code",
      "metadata": {
        "id": "XC-SrmJNPWtw",
        "colab_type": "code",
        "colab": {}
      },
      "source": [
        "from geopandas.tools import sjoin"
      ],
      "execution_count": 73,
      "outputs": []
    },
    {
      "cell_type": "code",
      "metadata": {
        "id": "OtTVnu4meKRx",
        "colab_type": "code",
        "colab": {}
      },
      "source": [
        "# NOTE: I just created the gDF. it does not have a set of coordinates associated to the shapes!\n",
        "station_id.crs "
      ],
      "execution_count": 74,
      "outputs": []
    },
    {
      "cell_type": "code",
      "metadata": {
        "id": "0e3zbuetPWt0",
        "colab_type": "code",
        "colab": {}
      },
      "source": [
        "# set the initial lat-lon coordinates - what are the appropriate coordinates here?\n",
        "station_id.crs = ..."
      ],
      "execution_count": null,
      "outputs": []
    },
    {
      "cell_type": "code",
      "metadata": {
        "id": "mhemTrj8PWt2",
        "colab_type": "code",
        "colab": {}
      },
      "source": [
        "station_ft = station_id.to_crs(epsg=2263)\n",
        "ct_ft = ct_shape.to_crs(epsg=2263)"
      ],
      "execution_count": 79,
      "outputs": []
    },
    {
      "cell_type": "code",
      "metadata": {
        "id": "XoDih6N0jHFt",
        "colab_type": "code",
        "colab": {
          "base_uri": "https://localhost:8080/",
          "height": 732
        },
        "outputId": "ad01d315-1541-4da4-d109-659a266c4023"
      },
      "source": [
        "!apt install python3-rtree \n"
      ],
      "execution_count": 51,
      "outputs": [
        {
          "output_type": "stream",
          "text": [
            "Reading package lists... Done\n",
            "Building dependency tree       \n",
            "Reading state information... Done\n",
            "The following additional packages will be installed:\n",
            "  libspatialindex-c4v5 libspatialindex-dev libspatialindex4v5\n",
            "  python3-pkg-resources\n",
            "Suggested packages:\n",
            "  python3-setuptools\n",
            "The following NEW packages will be installed:\n",
            "  libspatialindex-c4v5 libspatialindex-dev libspatialindex4v5\n",
            "  python3-pkg-resources python3-rtree\n",
            "0 upgraded, 5 newly installed, 0 to remove and 11 not upgraded.\n",
            "Need to get 671 kB of archives.\n",
            "After this operation, 3,948 kB of additional disk space will be used.\n",
            "Get:1 http://archive.ubuntu.com/ubuntu bionic/universe amd64 libspatialindex4v5 amd64 1.8.5-5 [219 kB]\n",
            "Get:2 http://archive.ubuntu.com/ubuntu bionic/universe amd64 libspatialindex-c4v5 amd64 1.8.5-5 [51.7 kB]\n",
            "Get:3 http://archive.ubuntu.com/ubuntu bionic/main amd64 python3-pkg-resources all 39.0.1-2 [98.8 kB]\n",
            "Get:4 http://archive.ubuntu.com/ubuntu bionic/universe amd64 libspatialindex-dev amd64 1.8.5-5 [285 kB]\n",
            "Get:5 http://archive.ubuntu.com/ubuntu bionic/universe amd64 python3-rtree all 0.8.3+ds-1 [16.9 kB]\n",
            "Fetched 671 kB in 1s (781 kB/s)\n",
            "Selecting previously unselected package libspatialindex4v5:amd64.\n",
            "(Reading database ... 144676 files and directories currently installed.)\n",
            "Preparing to unpack .../libspatialindex4v5_1.8.5-5_amd64.deb ...\n",
            "Unpacking libspatialindex4v5:amd64 (1.8.5-5) ...\n",
            "Selecting previously unselected package libspatialindex-c4v5:amd64.\n",
            "Preparing to unpack .../libspatialindex-c4v5_1.8.5-5_amd64.deb ...\n",
            "Unpacking libspatialindex-c4v5:amd64 (1.8.5-5) ...\n",
            "Selecting previously unselected package python3-pkg-resources.\n",
            "Preparing to unpack .../python3-pkg-resources_39.0.1-2_all.deb ...\n",
            "Unpacking python3-pkg-resources (39.0.1-2) ...\n",
            "Selecting previously unselected package libspatialindex-dev:amd64.\n",
            "Preparing to unpack .../libspatialindex-dev_1.8.5-5_amd64.deb ...\n",
            "Unpacking libspatialindex-dev:amd64 (1.8.5-5) ...\n",
            "Selecting previously unselected package python3-rtree.\n",
            "Preparing to unpack .../python3-rtree_0.8.3+ds-1_all.deb ...\n",
            "Unpacking python3-rtree (0.8.3+ds-1) ...\n",
            "Setting up libspatialindex4v5:amd64 (1.8.5-5) ...\n",
            "Setting up python3-pkg-resources (39.0.1-2) ...\n",
            "Setting up libspatialindex-c4v5:amd64 (1.8.5-5) ...\n",
            "Setting up libspatialindex-dev:amd64 (1.8.5-5) ...\n",
            "Setting up python3-rtree (0.8.3+ds-1) ...\n",
            "Processing triggers for libc-bin (2.27-3ubuntu1.2) ...\n",
            "/sbin/ldconfig.real: /usr/local/lib/python3.6/dist-packages/ideep4py/lib/libmkldnn.so.0 is not a symbolic link\n",
            "\n"
          ],
          "name": "stdout"
        }
      ]
    },
    {
      "cell_type": "code",
      "metadata": {
        "id": "rSRP7He0KpPw",
        "colab_type": "code",
        "colab": {
          "base_uri": "https://localhost:8080/",
          "height": 141
        },
        "outputId": "075961c8-b3df-4cdc-a191-6e160f777d33"
      },
      "source": [
        "ct_ft.head(1)"
      ],
      "execution_count": 82,
      "outputs": [
        {
          "output_type": "execute_result",
          "data": {
            "text/html": [
              "<div>\n",
              "<style scoped>\n",
              "    .dataframe tbody tr th:only-of-type {\n",
              "        vertical-align: middle;\n",
              "    }\n",
              "\n",
              "    .dataframe tbody tr th {\n",
              "        vertical-align: top;\n",
              "    }\n",
              "\n",
              "    .dataframe thead th {\n",
              "        text-align: right;\n",
              "    }\n",
              "</style>\n",
              "<table border=\"1\" class=\"dataframe\">\n",
              "  <thead>\n",
              "    <tr style=\"text-align: right;\">\n",
              "      <th></th>\n",
              "      <th>boro_code</th>\n",
              "      <th>boro_ct201</th>\n",
              "      <th>boro_name</th>\n",
              "      <th>cdeligibil</th>\n",
              "      <th>ct2010</th>\n",
              "      <th>ctlabel</th>\n",
              "      <th>ntacode</th>\n",
              "      <th>ntaname</th>\n",
              "      <th>puma</th>\n",
              "      <th>shape_area</th>\n",
              "      <th>shape_leng</th>\n",
              "      <th>geometry</th>\n",
              "      <th>shape_areainmi2</th>\n",
              "    </tr>\n",
              "  </thead>\n",
              "  <tbody>\n",
              "    <tr>\n",
              "      <th>0</th>\n",
              "      <td>5</td>\n",
              "      <td>5000900</td>\n",
              "      <td>Staten Island</td>\n",
              "      <td>E</td>\n",
              "      <td>000900</td>\n",
              "      <td>9</td>\n",
              "      <td>SI22</td>\n",
              "      <td>West New Brighton-New Brighton-St. George</td>\n",
              "      <td>3903</td>\n",
              "      <td>2.497010e+06</td>\n",
              "      <td>7729.016794</td>\n",
              "      <td>POLYGON ((962269.126 173705.500, 962288.722 17...</td>\n",
              "      <td>0.089563</td>\n",
              "    </tr>\n",
              "  </tbody>\n",
              "</table>\n",
              "</div>"
            ],
            "text/plain": [
              "  boro_code  ... shape_areainmi2\n",
              "0         5  ...        0.089563\n",
              "\n",
              "[1 rows x 13 columns]"
            ]
          },
          "metadata": {
            "tags": []
          },
          "execution_count": 82
        }
      ]
    },
    {
      "cell_type": "code",
      "metadata": {
        "id": "j1fae86UUxAe",
        "colab_type": "code",
        "colab": {
          "base_uri": "https://localhost:8080/",
          "height": 105
        },
        "outputId": "12c765fc-5d5a-4700-e461-898f949af929"
      },
      "source": [
        "station_ft.head(1)"
      ],
      "execution_count": 83,
      "outputs": [
        {
          "output_type": "execute_result",
          "data": {
            "text/html": [
              "<div>\n",
              "<style scoped>\n",
              "    .dataframe tbody tr th:only-of-type {\n",
              "        vertical-align: middle;\n",
              "    }\n",
              "\n",
              "    .dataframe tbody tr th {\n",
              "        vertical-align: top;\n",
              "    }\n",
              "\n",
              "    .dataframe thead th {\n",
              "        text-align: right;\n",
              "    }\n",
              "</style>\n",
              "<table border=\"1\" class=\"dataframe\">\n",
              "  <thead>\n",
              "    <tr style=\"text-align: right;\">\n",
              "      <th></th>\n",
              "      <th>lat</th>\n",
              "      <th>lon</th>\n",
              "      <th>lonlat</th>\n",
              "      <th>geometry</th>\n",
              "      <th>boro_ct201</th>\n",
              "    </tr>\n",
              "    <tr>\n",
              "      <th>start station id</th>\n",
              "      <th></th>\n",
              "      <th></th>\n",
              "      <th></th>\n",
              "      <th></th>\n",
              "      <th></th>\n",
              "    </tr>\n",
              "  </thead>\n",
              "  <tbody>\n",
              "    <tr>\n",
              "      <th>72</th>\n",
              "      <td>40.767272</td>\n",
              "      <td>-73.993929</td>\n",
              "      <td>(-73.99392888, 40.76727216)</td>\n",
              "      <td>POINT (985931.707 218814.757)</td>\n",
              "      <td>1013500</td>\n",
              "    </tr>\n",
              "  </tbody>\n",
              "</table>\n",
              "</div>"
            ],
            "text/plain": [
              "                        lat  ...  boro_ct201\n",
              "start station id             ...            \n",
              "72                40.767272  ...     1013500\n",
              "\n",
              "[1 rows x 5 columns]"
            ]
          },
          "metadata": {
            "tags": []
          },
          "execution_count": 83
        }
      ]
    },
    {
      "cell_type": "code",
      "metadata": {
        "id": "WjNo6mxPPWt5",
        "colab_type": "code",
        "colab": {
          "base_uri": "https://localhost:8080/",
          "height": 1000
        },
        "outputId": "280bd611-49f8-45eb-9124-a79c7734650d"
      },
      "source": [
        "sjoin(ct_ft, station_ft)\n"
      ],
      "execution_count": 81,
      "outputs": [
        {
          "output_type": "execute_result",
          "data": {
            "text/html": [
              "<div>\n",
              "<style scoped>\n",
              "    .dataframe tbody tr th:only-of-type {\n",
              "        vertical-align: middle;\n",
              "    }\n",
              "\n",
              "    .dataframe tbody tr th {\n",
              "        vertical-align: top;\n",
              "    }\n",
              "\n",
              "    .dataframe thead th {\n",
              "        text-align: right;\n",
              "    }\n",
              "</style>\n",
              "<table border=\"1\" class=\"dataframe\">\n",
              "  <thead>\n",
              "    <tr style=\"text-align: right;\">\n",
              "      <th></th>\n",
              "      <th>boro_code</th>\n",
              "      <th>boro_ct201_left</th>\n",
              "      <th>boro_name</th>\n",
              "      <th>cdeligibil</th>\n",
              "      <th>ct2010</th>\n",
              "      <th>ctlabel</th>\n",
              "      <th>ntacode</th>\n",
              "      <th>ntaname</th>\n",
              "      <th>puma</th>\n",
              "      <th>shape_area</th>\n",
              "      <th>shape_leng</th>\n",
              "      <th>geometry</th>\n",
              "      <th>shape_areainmi2</th>\n",
              "      <th>index_right</th>\n",
              "      <th>lat</th>\n",
              "      <th>lon</th>\n",
              "      <th>lonlat</th>\n",
              "      <th>boro_ct201_right</th>\n",
              "    </tr>\n",
              "  </thead>\n",
              "  <tbody>\n",
              "    <tr>\n",
              "      <th>1</th>\n",
              "      <td>1</td>\n",
              "      <td>1009800</td>\n",
              "      <td>Manhattan</td>\n",
              "      <td>I</td>\n",
              "      <td>009800</td>\n",
              "      <td>98</td>\n",
              "      <td>MN19</td>\n",
              "      <td>Turtle Bay-East Midtown</td>\n",
              "      <td>3808</td>\n",
              "      <td>1.906016e+06</td>\n",
              "      <td>5534.199811</td>\n",
              "      <td>POLYGON ((994133.507 214848.898, 994005.909 21...</td>\n",
              "      <td>0.068365</td>\n",
              "      <td>454</td>\n",
              "      <td>40.754557</td>\n",
              "      <td>-73.965930</td>\n",
              "      <td>(-73.96592976, 40.75455731)</td>\n",
              "      <td>1009800</td>\n",
              "    </tr>\n",
              "    <tr>\n",
              "      <th>1</th>\n",
              "      <td>1</td>\n",
              "      <td>1009800</td>\n",
              "      <td>Manhattan</td>\n",
              "      <td>I</td>\n",
              "      <td>009800</td>\n",
              "      <td>98</td>\n",
              "      <td>MN19</td>\n",
              "      <td>Turtle Bay-East Midtown</td>\n",
              "      <td>3808</td>\n",
              "      <td>1.906016e+06</td>\n",
              "      <td>5534.199811</td>\n",
              "      <td>POLYGON ((994133.507 214848.898, 994005.909 21...</td>\n",
              "      <td>0.068365</td>\n",
              "      <td>441</td>\n",
              "      <td>40.756014</td>\n",
              "      <td>-73.967416</td>\n",
              "      <td>(-73.967416, 40.756014)</td>\n",
              "      <td>1009800</td>\n",
              "    </tr>\n",
              "    <tr>\n",
              "      <th>2</th>\n",
              "      <td>1</td>\n",
              "      <td>1010000</td>\n",
              "      <td>Manhattan</td>\n",
              "      <td>I</td>\n",
              "      <td>010000</td>\n",
              "      <td>100</td>\n",
              "      <td>MN19</td>\n",
              "      <td>Turtle Bay-East Midtown</td>\n",
              "      <td>3808</td>\n",
              "      <td>1.860938e+06</td>\n",
              "      <td>5692.168737</td>\n",
              "      <td>POLYGON ((993108.306 216013.131, 992982.220 21...</td>\n",
              "      <td>0.066748</td>\n",
              "      <td>522</td>\n",
              "      <td>40.757148</td>\n",
              "      <td>-73.972078</td>\n",
              "      <td>(-73.97207836, 40.75714758)</td>\n",
              "      <td>1010000</td>\n",
              "    </tr>\n",
              "    <tr>\n",
              "      <th>2</th>\n",
              "      <td>1</td>\n",
              "      <td>1010000</td>\n",
              "      <td>Manhattan</td>\n",
              "      <td>I</td>\n",
              "      <td>010000</td>\n",
              "      <td>100</td>\n",
              "      <td>MN19</td>\n",
              "      <td>Turtle Bay-East Midtown</td>\n",
              "      <td>3808</td>\n",
              "      <td>1.860938e+06</td>\n",
              "      <td>5692.168737</td>\n",
              "      <td>POLYGON ((993108.306 216013.131, 992982.220 21...</td>\n",
              "      <td>0.066748</td>\n",
              "      <td>367</td>\n",
              "      <td>40.758281</td>\n",
              "      <td>-73.970694</td>\n",
              "      <td>(-73.97069431, 40.75828065)</td>\n",
              "      <td>1010000</td>\n",
              "    </tr>\n",
              "    <tr>\n",
              "      <th>2</th>\n",
              "      <td>1</td>\n",
              "      <td>1010000</td>\n",
              "      <td>Manhattan</td>\n",
              "      <td>I</td>\n",
              "      <td>010000</td>\n",
              "      <td>100</td>\n",
              "      <td>MN19</td>\n",
              "      <td>Turtle Bay-East Midtown</td>\n",
              "      <td>3808</td>\n",
              "      <td>1.860938e+06</td>\n",
              "      <td>5692.168737</td>\n",
              "      <td>POLYGON ((993108.306 216013.131, 992982.220 21...</td>\n",
              "      <td>0.066748</td>\n",
              "      <td>2023</td>\n",
              "      <td>40.759681</td>\n",
              "      <td>-73.970314</td>\n",
              "      <td>(-73.97031366, 40.75968085)</td>\n",
              "      <td>1010000</td>\n",
              "    </tr>\n",
              "    <tr>\n",
              "      <th>...</th>\n",
              "      <td>...</td>\n",
              "      <td>...</td>\n",
              "      <td>...</td>\n",
              "      <td>...</td>\n",
              "      <td>...</td>\n",
              "      <td>...</td>\n",
              "      <td>...</td>\n",
              "      <td>...</td>\n",
              "      <td>...</td>\n",
              "      <td>...</td>\n",
              "      <td>...</td>\n",
              "      <td>...</td>\n",
              "      <td>...</td>\n",
              "      <td>...</td>\n",
              "      <td>...</td>\n",
              "      <td>...</td>\n",
              "      <td>...</td>\n",
              "      <td>...</td>\n",
              "    </tr>\n",
              "    <tr>\n",
              "      <th>2089</th>\n",
              "      <td>1</td>\n",
              "      <td>1001800</td>\n",
              "      <td>Manhattan</td>\n",
              "      <td>I</td>\n",
              "      <td>001800</td>\n",
              "      <td>18</td>\n",
              "      <td>MN27</td>\n",
              "      <td>Chinatown</td>\n",
              "      <td>3809</td>\n",
              "      <td>2.399275e+06</td>\n",
              "      <td>6391.921884</td>\n",
              "      <td>POLYGON ((987062.275 201781.687, 987099.571 20...</td>\n",
              "      <td>0.086057</td>\n",
              "      <td>473</td>\n",
              "      <td>40.721101</td>\n",
              "      <td>-73.991925</td>\n",
              "      <td>(-73.99192540000001, 40.72110063)</td>\n",
              "      <td>1001800</td>\n",
              "    </tr>\n",
              "    <tr>\n",
              "      <th>2089</th>\n",
              "      <td>1</td>\n",
              "      <td>1001800</td>\n",
              "      <td>Manhattan</td>\n",
              "      <td>I</td>\n",
              "      <td>001800</td>\n",
              "      <td>18</td>\n",
              "      <td>MN27</td>\n",
              "      <td>Chinatown</td>\n",
              "      <td>3809</td>\n",
              "      <td>2.399275e+06</td>\n",
              "      <td>6391.921884</td>\n",
              "      <td>POLYGON ((987062.275 201781.687, 987099.571 20...</td>\n",
              "      <td>0.086057</td>\n",
              "      <td>311</td>\n",
              "      <td>40.717227</td>\n",
              "      <td>-73.988021</td>\n",
              "      <td>(-73.98802084, 40.7172274)</td>\n",
              "      <td>1001800</td>\n",
              "    </tr>\n",
              "    <tr>\n",
              "      <th>2090</th>\n",
              "      <td>1</td>\n",
              "      <td>1004100</td>\n",
              "      <td>Manhattan</td>\n",
              "      <td>E</td>\n",
              "      <td>004100</td>\n",
              "      <td>41</td>\n",
              "      <td>MN24</td>\n",
              "      <td>SoHo-TriBeCa-Civic Center-Little Italy</td>\n",
              "      <td>3810</td>\n",
              "      <td>2.058614e+06</td>\n",
              "      <td>5913.870664</td>\n",
              "      <td>POLYGON ((985969.727 201933.578, 985907.954 20...</td>\n",
              "      <td>0.073838</td>\n",
              "      <td>263</td>\n",
              "      <td>40.717290</td>\n",
              "      <td>-73.996375</td>\n",
              "      <td>(-73.996375, 40.717290000000006)</td>\n",
              "      <td>1004100</td>\n",
              "    </tr>\n",
              "    <tr>\n",
              "      <th>2090</th>\n",
              "      <td>1</td>\n",
              "      <td>1004100</td>\n",
              "      <td>Manhattan</td>\n",
              "      <td>E</td>\n",
              "      <td>004100</td>\n",
              "      <td>41</td>\n",
              "      <td>MN24</td>\n",
              "      <td>SoHo-TriBeCa-Civic Center-Little Italy</td>\n",
              "      <td>3810</td>\n",
              "      <td>2.058614e+06</td>\n",
              "      <td>5913.870664</td>\n",
              "      <td>POLYGON ((985969.727 201933.578, 985907.954 20...</td>\n",
              "      <td>0.073838</td>\n",
              "      <td>151</td>\n",
              "      <td>40.721816</td>\n",
              "      <td>-73.997203</td>\n",
              "      <td>(-73.99720307, 40.7218158)</td>\n",
              "      <td>1004100</td>\n",
              "    </tr>\n",
              "    <tr>\n",
              "      <th>2127</th>\n",
              "      <td>1</td>\n",
              "      <td>1008601</td>\n",
              "      <td>Manhattan</td>\n",
              "      <td>I</td>\n",
              "      <td>008601</td>\n",
              "      <td>86.01</td>\n",
              "      <td>MN19</td>\n",
              "      <td>Turtle Bay-East Midtown</td>\n",
              "      <td>3808</td>\n",
              "      <td>1.212676e+06</td>\n",
              "      <td>5818.123317</td>\n",
              "      <td>POLYGON ((993140.783 211784.262, 993083.680 21...</td>\n",
              "      <td>0.043496</td>\n",
              "      <td>501</td>\n",
              "      <td>40.744219</td>\n",
              "      <td>-73.971212</td>\n",
              "      <td>(-73.97121214, 40.744219)</td>\n",
              "      <td>1008601</td>\n",
              "    </tr>\n",
              "  </tbody>\n",
              "</table>\n",
              "<p>330 rows × 18 columns</p>\n",
              "</div>"
            ],
            "text/plain": [
              "     boro_code  ... boro_ct201_right\n",
              "1            1  ...          1009800\n",
              "1            1  ...          1009800\n",
              "2            1  ...          1010000\n",
              "2            1  ...          1010000\n",
              "2            1  ...          1010000\n",
              "...        ...  ...              ...\n",
              "2089         1  ...          1001800\n",
              "2089         1  ...          1001800\n",
              "2090         1  ...          1004100\n",
              "2090         1  ...          1004100\n",
              "2127         1  ...          1008601\n",
              "\n",
              "[330 rows x 18 columns]"
            ]
          },
          "metadata": {
            "tags": []
          },
          "execution_count": 81
        }
      ]
    },
    {
      "cell_type": "markdown",
      "metadata": {
        "id": "zX4ODgMOK81h",
        "colab_type": "text"
      },
      "source": [
        "# count trips by census tract"
      ]
    },
    {
      "cell_type": "markdown",
      "metadata": {
        "id": "sO3uIrBSVH_w",
        "colab_type": "text"
      },
      "source": [
        "## count rides by census tract"
      ]
    },
    {
      "cell_type": "code",
      "metadata": {
        "id": "dJMKgS2Pm-we",
        "colab_type": "code",
        "colab": {
          "base_uri": "https://localhost:8080/",
          "height": 220
        },
        "outputId": "84dc68f0-b400-4e8a-925a-9d4395f06374"
      },
      "source": [
        "montlytrips = ..."
      ],
      "execution_count": 84,
      "outputs": [
        {
          "output_type": "execute_result",
          "data": {
            "text/html": [
              "<div>\n",
              "<style scoped>\n",
              "    .dataframe tbody tr th:only-of-type {\n",
              "        vertical-align: middle;\n",
              "    }\n",
              "\n",
              "    .dataframe tbody tr th {\n",
              "        vertical-align: top;\n",
              "    }\n",
              "\n",
              "    .dataframe thead th {\n",
              "        text-align: right;\n",
              "    }\n",
              "</style>\n",
              "<table border=\"1\" class=\"dataframe\">\n",
              "  <thead>\n",
              "    <tr style=\"text-align: right;\">\n",
              "      <th></th>\n",
              "      <th>MonthlyAve</th>\n",
              "    </tr>\n",
              "    <tr>\n",
              "      <th>start station id</th>\n",
              "      <th></th>\n",
              "    </tr>\n",
              "  </thead>\n",
              "  <tbody>\n",
              "    <tr>\n",
              "      <th>72</th>\n",
              "      <td>3153</td>\n",
              "    </tr>\n",
              "    <tr>\n",
              "      <th>79</th>\n",
              "      <td>2616</td>\n",
              "    </tr>\n",
              "    <tr>\n",
              "      <th>82</th>\n",
              "      <td>1393</td>\n",
              "    </tr>\n",
              "    <tr>\n",
              "      <th>83</th>\n",
              "      <td>1689</td>\n",
              "    </tr>\n",
              "    <tr>\n",
              "      <th>116</th>\n",
              "      <td>5982</td>\n",
              "    </tr>\n",
              "  </tbody>\n",
              "</table>\n",
              "</div>"
            ],
            "text/plain": [
              "                  MonthlyAve\n",
              "start station id            \n",
              "72                      3153\n",
              "79                      2616\n",
              "82                      1393\n",
              "83                      1689\n",
              "116                     5982"
            ]
          },
          "metadata": {
            "tags": []
          },
          "execution_count": 84
        }
      ]
    },
    {
      "cell_type": "code",
      "metadata": {
        "id": "vumf7aO3oy0N",
        "colab_type": "code",
        "colab": {}
      },
      "source": [
        "# add the series to station id\n",
        "station_id = station_id.join(pd.Series(montlytrips.MonthlyAve))"
      ],
      "execution_count": 85,
      "outputs": []
    },
    {
      "cell_type": "code",
      "metadata": {
        "id": "kGak6q5HNtpy",
        "colab_type": "code",
        "colab": {
          "base_uri": "https://localhost:8080/",
          "height": 220
        },
        "outputId": "6062392b-195b-46dc-d720-2859b5c6c0f1"
      },
      "source": [
        "station_id.head()"
      ],
      "execution_count": 86,
      "outputs": [
        {
          "output_type": "execute_result",
          "data": {
            "text/html": [
              "<div>\n",
              "<style scoped>\n",
              "    .dataframe tbody tr th:only-of-type {\n",
              "        vertical-align: middle;\n",
              "    }\n",
              "\n",
              "    .dataframe tbody tr th {\n",
              "        vertical-align: top;\n",
              "    }\n",
              "\n",
              "    .dataframe thead th {\n",
              "        text-align: right;\n",
              "    }\n",
              "</style>\n",
              "<table border=\"1\" class=\"dataframe\">\n",
              "  <thead>\n",
              "    <tr style=\"text-align: right;\">\n",
              "      <th></th>\n",
              "      <th>lat</th>\n",
              "      <th>lon</th>\n",
              "      <th>lonlat</th>\n",
              "      <th>geometry</th>\n",
              "      <th>boro_ct201</th>\n",
              "      <th>MonthlyAve</th>\n",
              "    </tr>\n",
              "    <tr>\n",
              "      <th>start station id</th>\n",
              "      <th></th>\n",
              "      <th></th>\n",
              "      <th></th>\n",
              "      <th></th>\n",
              "      <th></th>\n",
              "      <th></th>\n",
              "    </tr>\n",
              "  </thead>\n",
              "  <tbody>\n",
              "    <tr>\n",
              "      <th>72</th>\n",
              "      <td>40.767272</td>\n",
              "      <td>-73.993929</td>\n",
              "      <td>(-73.99392888, 40.76727216)</td>\n",
              "      <td>POINT (-73.99393 40.76727)</td>\n",
              "      <td>1013500</td>\n",
              "      <td>3153</td>\n",
              "    </tr>\n",
              "    <tr>\n",
              "      <th>79</th>\n",
              "      <td>40.719116</td>\n",
              "      <td>-74.006667</td>\n",
              "      <td>(-74.00666661, 40.71911552)</td>\n",
              "      <td>POINT (-74.00667 40.71912)</td>\n",
              "      <td>1003300</td>\n",
              "      <td>2616</td>\n",
              "    </tr>\n",
              "    <tr>\n",
              "      <th>82</th>\n",
              "      <td>40.711174</td>\n",
              "      <td>-74.000165</td>\n",
              "      <td>(-74.00016545, 40.71117416)</td>\n",
              "      <td>POINT (-74.00017 40.71117)</td>\n",
              "      <td>1002500</td>\n",
              "      <td>1393</td>\n",
              "    </tr>\n",
              "    <tr>\n",
              "      <th>83</th>\n",
              "      <td>40.683826</td>\n",
              "      <td>-73.976323</td>\n",
              "      <td>(-73.97632328, 40.68382604)</td>\n",
              "      <td>POINT (-73.97632 40.68383)</td>\n",
              "      <td>3003500</td>\n",
              "      <td>1689</td>\n",
              "    </tr>\n",
              "    <tr>\n",
              "      <th>116</th>\n",
              "      <td>40.741776</td>\n",
              "      <td>-74.001497</td>\n",
              "      <td>(-74.00149746, 40.74177603)</td>\n",
              "      <td>POINT (-74.00150 40.74178)</td>\n",
              "      <td>1008300</td>\n",
              "      <td>5982</td>\n",
              "    </tr>\n",
              "  </tbody>\n",
              "</table>\n",
              "</div>"
            ],
            "text/plain": [
              "                        lat        lon  ... boro_ct201 MonthlyAve\n",
              "start station id                        ...                      \n",
              "72                40.767272 -73.993929  ...    1013500       3153\n",
              "79                40.719116 -74.006667  ...    1003300       2616\n",
              "82                40.711174 -74.000165  ...    1002500       1393\n",
              "83                40.683826 -73.976323  ...    3003500       1689\n",
              "116               40.741776 -74.001497  ...    1008300       5982\n",
              "\n",
              "[5 rows x 6 columns]"
            ]
          },
          "metadata": {
            "tags": []
          },
          "execution_count": 86
        }
      ]
    },
    {
      "cell_type": "code",
      "metadata": {
        "id": "Rzu4pg17N9Mw",
        "colab_type": "code",
        "colab": {
          "base_uri": "https://localhost:8080/",
          "height": 420
        },
        "outputId": "ab23c2bf-7754-43d5-e4b1-204ea3782e8f"
      },
      "source": [
        "# group by borough code\n",
        "..."
      ],
      "execution_count": 131,
      "outputs": [
        {
          "output_type": "execute_result",
          "data": {
            "text/html": [
              "<div>\n",
              "<style scoped>\n",
              "    .dataframe tbody tr th:only-of-type {\n",
              "        vertical-align: middle;\n",
              "    }\n",
              "\n",
              "    .dataframe tbody tr th {\n",
              "        vertical-align: top;\n",
              "    }\n",
              "\n",
              "    .dataframe thead th {\n",
              "        text-align: right;\n",
              "    }\n",
              "</style>\n",
              "<table border=\"1\" class=\"dataframe\">\n",
              "  <thead>\n",
              "    <tr style=\"text-align: right;\">\n",
              "      <th></th>\n",
              "      <th>lat</th>\n",
              "      <th>lon</th>\n",
              "      <th>tripduration</th>\n",
              "      <th>MonthlyAve</th>\n",
              "    </tr>\n",
              "    <tr>\n",
              "      <th>boro_ct201</th>\n",
              "      <th></th>\n",
              "      <th></th>\n",
              "      <th></th>\n",
              "      <th></th>\n",
              "    </tr>\n",
              "  </thead>\n",
              "  <tbody>\n",
              "    <tr>\n",
              "      <th>1000202</th>\n",
              "      <td>122.139540</td>\n",
              "      <td>-221.945671</td>\n",
              "      <td>4809</td>\n",
              "      <td>4809</td>\n",
              "    </tr>\n",
              "    <tr>\n",
              "      <th>1000600</th>\n",
              "      <td>122.138696</td>\n",
              "      <td>-221.969594</td>\n",
              "      <td>5817</td>\n",
              "      <td>5817</td>\n",
              "    </tr>\n",
              "    <tr>\n",
              "      <th>1000700</th>\n",
              "      <td>284.940680</td>\n",
              "      <td>-518.057100</td>\n",
              "      <td>19521</td>\n",
              "      <td>19521</td>\n",
              "    </tr>\n",
              "    <tr>\n",
              "      <th>1000800</th>\n",
              "      <td>81.424829</td>\n",
              "      <td>-147.986943</td>\n",
              "      <td>2817</td>\n",
              "      <td>2817</td>\n",
              "    </tr>\n",
              "    <tr>\n",
              "      <th>1000900</th>\n",
              "      <td>122.107424</td>\n",
              "      <td>-222.036744</td>\n",
              "      <td>5466</td>\n",
              "      <td>5466</td>\n",
              "    </tr>\n",
              "    <tr>\n",
              "      <th>...</th>\n",
              "      <td>...</td>\n",
              "      <td>...</td>\n",
              "      <td>...</td>\n",
              "      <td>...</td>\n",
              "    </tr>\n",
              "    <tr>\n",
              "      <th>3054900</th>\n",
              "      <td>81.423304</td>\n",
              "      <td>-147.931154</td>\n",
              "      <td>1908</td>\n",
              "      <td>1908</td>\n",
              "    </tr>\n",
              "    <tr>\n",
              "      <th>3055100</th>\n",
              "      <td>40.712605</td>\n",
              "      <td>-73.962644</td>\n",
              "      <td>1154</td>\n",
              "      <td>1154</td>\n",
              "    </tr>\n",
              "    <tr>\n",
              "      <th>3055300</th>\n",
              "      <td>40.715348</td>\n",
              "      <td>-73.960241</td>\n",
              "      <td>2665</td>\n",
              "      <td>2665</td>\n",
              "    </tr>\n",
              "    <tr>\n",
              "      <th>3055500</th>\n",
              "      <td>40.716887</td>\n",
              "      <td>-73.963198</td>\n",
              "      <td>2095</td>\n",
              "      <td>2095</td>\n",
              "    </tr>\n",
              "    <tr>\n",
              "      <th>3123700</th>\n",
              "      <td>40.694528</td>\n",
              "      <td>-73.958089</td>\n",
              "      <td>297</td>\n",
              "      <td>297</td>\n",
              "    </tr>\n",
              "  </tbody>\n",
              "</table>\n",
              "<p>163 rows × 4 columns</p>\n",
              "</div>"
            ],
            "text/plain": [
              "                   lat         lon  tripduration  MonthlyAve\n",
              "boro_ct201                                                  \n",
              "1000202     122.139540 -221.945671          4809        4809\n",
              "1000600     122.138696 -221.969594          5817        5817\n",
              "1000700     284.940680 -518.057100         19521       19521\n",
              "1000800      81.424829 -147.986943          2817        2817\n",
              "1000900     122.107424 -222.036744          5466        5466\n",
              "...                ...         ...           ...         ...\n",
              "3054900      81.423304 -147.931154          1908        1908\n",
              "3055100      40.712605  -73.962644          1154        1154\n",
              "3055300      40.715348  -73.960241          2665        2665\n",
              "3055500      40.716887  -73.963198          2095        2095\n",
              "3123700      40.694528  -73.958089           297         297\n",
              "\n",
              "[163 rows x 4 columns]"
            ]
          },
          "metadata": {
            "tags": []
          },
          "execution_count": 131
        }
      ]
    },
    {
      "cell_type": "markdown",
      "metadata": {
        "id": "Kbk6T2pNPWt-",
        "colab_type": "text"
      },
      "source": [
        "## Add Monthly rides to the station GeoDataFrame with CT code"
      ]
    },
    {
      "cell_type": "code",
      "metadata": {
        "id": "6QPUEdB6qr69",
        "colab_type": "code",
        "colab": {
          "base_uri": "https://localhost:8080/",
          "height": 536
        },
        "outputId": "5e2d5cd7-2b78-4960-bf88-e1f46d4c7752"
      },
      "source": [
        "...\n",
        "tripsbyct.head()"
      ],
      "execution_count": 87,
      "outputs": [
        {
          "output_type": "execute_result",
          "data": {
            "text/html": [
              "<div>\n",
              "<style scoped>\n",
              "    .dataframe tbody tr th:only-of-type {\n",
              "        vertical-align: middle;\n",
              "    }\n",
              "\n",
              "    .dataframe tbody tr th {\n",
              "        vertical-align: top;\n",
              "    }\n",
              "\n",
              "    .dataframe thead th {\n",
              "        text-align: right;\n",
              "    }\n",
              "</style>\n",
              "<table border=\"1\" class=\"dataframe\">\n",
              "  <thead>\n",
              "    <tr style=\"text-align: right;\">\n",
              "      <th></th>\n",
              "      <th>boro_code</th>\n",
              "      <th>boro_ct201</th>\n",
              "      <th>boro_name</th>\n",
              "      <th>cdeligibil</th>\n",
              "      <th>ct2010</th>\n",
              "      <th>ctlabel</th>\n",
              "      <th>ntacode</th>\n",
              "      <th>ntaname</th>\n",
              "      <th>puma</th>\n",
              "      <th>shape_area</th>\n",
              "      <th>shape_leng</th>\n",
              "      <th>geometry</th>\n",
              "      <th>shape_areainmi2</th>\n",
              "      <th>MonthlyAve</th>\n",
              "    </tr>\n",
              "  </thead>\n",
              "  <tbody>\n",
              "    <tr>\n",
              "      <th>1</th>\n",
              "      <td>1</td>\n",
              "      <td>1009800</td>\n",
              "      <td>Manhattan</td>\n",
              "      <td>I</td>\n",
              "      <td>009800</td>\n",
              "      <td>98</td>\n",
              "      <td>MN19</td>\n",
              "      <td>Turtle Bay-East Midtown</td>\n",
              "      <td>3808</td>\n",
              "      <td>1.906016e+06</td>\n",
              "      <td>5534.199811</td>\n",
              "      <td>POLYGON ((-73.96433 40.75638, -73.96479 40.755...</td>\n",
              "      <td>0.068365</td>\n",
              "      <td>3986</td>\n",
              "    </tr>\n",
              "    <tr>\n",
              "      <th>2</th>\n",
              "      <td>1</td>\n",
              "      <td>1010000</td>\n",
              "      <td>Manhattan</td>\n",
              "      <td>I</td>\n",
              "      <td>010000</td>\n",
              "      <td>100</td>\n",
              "      <td>MN19</td>\n",
              "      <td>Turtle Bay-East Midtown</td>\n",
              "      <td>3808</td>\n",
              "      <td>1.860938e+06</td>\n",
              "      <td>5692.168737</td>\n",
              "      <td>POLYGON ((-73.96802 40.75958, -73.96848 40.758...</td>\n",
              "      <td>0.066748</td>\n",
              "      <td>7208</td>\n",
              "    </tr>\n",
              "    <tr>\n",
              "      <th>3</th>\n",
              "      <td>1</td>\n",
              "      <td>1010200</td>\n",
              "      <td>Manhattan</td>\n",
              "      <td>I</td>\n",
              "      <td>010200</td>\n",
              "      <td>102</td>\n",
              "      <td>MN17</td>\n",
              "      <td>Midtown-Midtown South</td>\n",
              "      <td>3807</td>\n",
              "      <td>1.860993e+06</td>\n",
              "      <td>5687.802439</td>\n",
              "      <td>POLYGON ((-73.97124 40.76094, -73.97170 40.760...</td>\n",
              "      <td>0.066750</td>\n",
              "      <td>4898</td>\n",
              "    </tr>\n",
              "    <tr>\n",
              "      <th>4</th>\n",
              "      <td>1</td>\n",
              "      <td>1010400</td>\n",
              "      <td>Manhattan</td>\n",
              "      <td>I</td>\n",
              "      <td>010400</td>\n",
              "      <td>104</td>\n",
              "      <td>MN17</td>\n",
              "      <td>Midtown-Midtown South</td>\n",
              "      <td>3807</td>\n",
              "      <td>1.864600e+06</td>\n",
              "      <td>5693.036367</td>\n",
              "      <td>POLYGON ((-73.97446 40.76229, -73.97491 40.761...</td>\n",
              "      <td>0.066879</td>\n",
              "      <td>6609</td>\n",
              "    </tr>\n",
              "    <tr>\n",
              "      <th>5</th>\n",
              "      <td>1</td>\n",
              "      <td>1011300</td>\n",
              "      <td>Manhattan</td>\n",
              "      <td>I</td>\n",
              "      <td>011300</td>\n",
              "      <td>113</td>\n",
              "      <td>MN17</td>\n",
              "      <td>Midtown-Midtown South</td>\n",
              "      <td>3807</td>\n",
              "      <td>1.890907e+06</td>\n",
              "      <td>5699.860641</td>\n",
              "      <td>POLYGON ((-73.98412 40.75484, -73.98460 40.754...</td>\n",
              "      <td>0.067823</td>\n",
              "      <td>19212</td>\n",
              "    </tr>\n",
              "  </tbody>\n",
              "</table>\n",
              "</div>"
            ],
            "text/plain": [
              "  boro_code boro_ct201  ... shape_areainmi2 MonthlyAve\n",
              "1         1    1009800  ...        0.068365       3986\n",
              "2         1    1010000  ...        0.066748       7208\n",
              "3         1    1010200  ...        0.066750       4898\n",
              "4         1    1010400  ...        0.066879       6609\n",
              "5         1    1011300  ...        0.067823      19212\n",
              "\n",
              "[5 rows x 14 columns]"
            ]
          },
          "metadata": {
            "tags": []
          },
          "execution_count": 87
        }
      ]
    },
    {
      "cell_type": "code",
      "metadata": {
        "scrolled": false,
        "id": "exLvzXQCPWuG",
        "colab_type": "code",
        "colab": {}
      },
      "source": [
        "f, ax = plt.subplots(figsize=(10,10))\n",
        "tripsbyct.plot(column='MonthlyAve',cmap='hot_r',alpha=1,linewidth=0.1,ax=ax)\n",
        "plt.title(\"Monthly Ride Counts\");"
      ],
      "execution_count": null,
      "outputs": []
    },
    {
      "cell_type": "markdown",
      "metadata": {
        "id": "3MEgOPvYPWuI",
        "colab_type": "text"
      },
      "source": [
        "### Removing the CTs that are out of zoom boundries"
      ]
    },
    {
      "cell_type": "code",
      "metadata": {
        "id": "IjPkIbbLPWuJ",
        "colab_type": "code",
        "colab": {
          "base_uri": "https://localhost:8080/",
          "height": 915
        },
        "outputId": "89732579-cbca-4ba8-db91-fe65bf981529"
      },
      "source": [
        "ct_shape_MonthlyAve_Zoom = tripsbyct[tripsbyct.MonthlyAve>10]\n",
        "ct_shape_MonthlyAve_Zoom.crs\n",
        "ct_shape_MonthlyAve_Zoom.to_crs(epsg=\"2263\")"
      ],
      "execution_count": 89,
      "outputs": [
        {
          "output_type": "execute_result",
          "data": {
            "text/html": [
              "<div>\n",
              "<style scoped>\n",
              "    .dataframe tbody tr th:only-of-type {\n",
              "        vertical-align: middle;\n",
              "    }\n",
              "\n",
              "    .dataframe tbody tr th {\n",
              "        vertical-align: top;\n",
              "    }\n",
              "\n",
              "    .dataframe thead th {\n",
              "        text-align: right;\n",
              "    }\n",
              "</style>\n",
              "<table border=\"1\" class=\"dataframe\">\n",
              "  <thead>\n",
              "    <tr style=\"text-align: right;\">\n",
              "      <th></th>\n",
              "      <th>boro_code</th>\n",
              "      <th>boro_ct201</th>\n",
              "      <th>boro_name</th>\n",
              "      <th>cdeligibil</th>\n",
              "      <th>ct2010</th>\n",
              "      <th>ctlabel</th>\n",
              "      <th>ntacode</th>\n",
              "      <th>ntaname</th>\n",
              "      <th>puma</th>\n",
              "      <th>shape_area</th>\n",
              "      <th>shape_leng</th>\n",
              "      <th>geometry</th>\n",
              "      <th>shape_areainmi2</th>\n",
              "      <th>MonthlyAve</th>\n",
              "    </tr>\n",
              "  </thead>\n",
              "  <tbody>\n",
              "    <tr>\n",
              "      <th>1</th>\n",
              "      <td>1</td>\n",
              "      <td>1009800</td>\n",
              "      <td>Manhattan</td>\n",
              "      <td>I</td>\n",
              "      <td>009800</td>\n",
              "      <td>98</td>\n",
              "      <td>MN19</td>\n",
              "      <td>Turtle Bay-East Midtown</td>\n",
              "      <td>3808</td>\n",
              "      <td>1.906016e+06</td>\n",
              "      <td>5534.199811</td>\n",
              "      <td>POLYGON ((994133.507 214848.898, 994005.909 21...</td>\n",
              "      <td>0.068365</td>\n",
              "      <td>3986</td>\n",
              "    </tr>\n",
              "    <tr>\n",
              "      <th>2</th>\n",
              "      <td>1</td>\n",
              "      <td>1010000</td>\n",
              "      <td>Manhattan</td>\n",
              "      <td>I</td>\n",
              "      <td>010000</td>\n",
              "      <td>100</td>\n",
              "      <td>MN19</td>\n",
              "      <td>Turtle Bay-East Midtown</td>\n",
              "      <td>3808</td>\n",
              "      <td>1.860938e+06</td>\n",
              "      <td>5692.168737</td>\n",
              "      <td>POLYGON ((993108.306 216013.131, 992982.220 21...</td>\n",
              "      <td>0.066748</td>\n",
              "      <td>7208</td>\n",
              "    </tr>\n",
              "    <tr>\n",
              "      <th>3</th>\n",
              "      <td>1</td>\n",
              "      <td>1010200</td>\n",
              "      <td>Manhattan</td>\n",
              "      <td>I</td>\n",
              "      <td>010200</td>\n",
              "      <td>102</td>\n",
              "      <td>MN17</td>\n",
              "      <td>Midtown-Midtown South</td>\n",
              "      <td>3807</td>\n",
              "      <td>1.860993e+06</td>\n",
              "      <td>5687.802439</td>\n",
              "      <td>POLYGON ((992216.539 216507.687, 992091.031 21...</td>\n",
              "      <td>0.066750</td>\n",
              "      <td>4898</td>\n",
              "    </tr>\n",
              "    <tr>\n",
              "      <th>4</th>\n",
              "      <td>1</td>\n",
              "      <td>1010400</td>\n",
              "      <td>Manhattan</td>\n",
              "      <td>I</td>\n",
              "      <td>010400</td>\n",
              "      <td>104</td>\n",
              "      <td>MN17</td>\n",
              "      <td>Midtown-Midtown South</td>\n",
              "      <td>3807</td>\n",
              "      <td>1.864600e+06</td>\n",
              "      <td>5693.036367</td>\n",
              "      <td>POLYGON ((991325.882 217001.689, 991199.221 21...</td>\n",
              "      <td>0.066879</td>\n",
              "      <td>6609</td>\n",
              "    </tr>\n",
              "    <tr>\n",
              "      <th>5</th>\n",
              "      <td>1</td>\n",
              "      <td>1011300</td>\n",
              "      <td>Manhattan</td>\n",
              "      <td>I</td>\n",
              "      <td>011300</td>\n",
              "      <td>113</td>\n",
              "      <td>MN17</td>\n",
              "      <td>Midtown-Midtown South</td>\n",
              "      <td>3807</td>\n",
              "      <td>1.890907e+06</td>\n",
              "      <td>5699.860641</td>\n",
              "      <td>POLYGON ((988650.277 214286.402, 988517.806 21...</td>\n",
              "      <td>0.067823</td>\n",
              "      <td>19212</td>\n",
              "    </tr>\n",
              "    <tr>\n",
              "      <th>...</th>\n",
              "      <td>...</td>\n",
              "      <td>...</td>\n",
              "      <td>...</td>\n",
              "      <td>...</td>\n",
              "      <td>...</td>\n",
              "      <td>...</td>\n",
              "      <td>...</td>\n",
              "      <td>...</td>\n",
              "      <td>...</td>\n",
              "      <td>...</td>\n",
              "      <td>...</td>\n",
              "      <td>...</td>\n",
              "      <td>...</td>\n",
              "      <td>...</td>\n",
              "    </tr>\n",
              "    <tr>\n",
              "      <th>2062</th>\n",
              "      <td>1</td>\n",
              "      <td>1006000</td>\n",
              "      <td>Manhattan</td>\n",
              "      <td>I</td>\n",
              "      <td>006000</td>\n",
              "      <td>60</td>\n",
              "      <td>MN50</td>\n",
              "      <td>Stuyvesant Town-Cooper Village</td>\n",
              "      <td>3808</td>\n",
              "      <td>1.304407e+06</td>\n",
              "      <td>6260.705669</td>\n",
              "      <td>MULTIPOLYGON (((994980.207 205295.575, 994980....</td>\n",
              "      <td>0.046786</td>\n",
              "      <td>7216</td>\n",
              "    </tr>\n",
              "    <tr>\n",
              "      <th>2063</th>\n",
              "      <td>1</td>\n",
              "      <td>1006400</td>\n",
              "      <td>Manhattan</td>\n",
              "      <td>I</td>\n",
              "      <td>006400</td>\n",
              "      <td>64</td>\n",
              "      <td>MN21</td>\n",
              "      <td>Gramercy</td>\n",
              "      <td>3808</td>\n",
              "      <td>1.934408e+06</td>\n",
              "      <td>5564.012569</td>\n",
              "      <td>POLYGON ((990332.258 207988.157, 990196.892 20...</td>\n",
              "      <td>0.069383</td>\n",
              "      <td>4456</td>\n",
              "    </tr>\n",
              "    <tr>\n",
              "      <th>2089</th>\n",
              "      <td>1</td>\n",
              "      <td>1001800</td>\n",
              "      <td>Manhattan</td>\n",
              "      <td>I</td>\n",
              "      <td>001800</td>\n",
              "      <td>18</td>\n",
              "      <td>MN27</td>\n",
              "      <td>Chinatown</td>\n",
              "      <td>3809</td>\n",
              "      <td>2.399275e+06</td>\n",
              "      <td>6391.921884</td>\n",
              "      <td>POLYGON ((987062.275 201781.687, 987099.571 20...</td>\n",
              "      <td>0.086057</td>\n",
              "      <td>13828</td>\n",
              "    </tr>\n",
              "    <tr>\n",
              "      <th>2090</th>\n",
              "      <td>1</td>\n",
              "      <td>1004100</td>\n",
              "      <td>Manhattan</td>\n",
              "      <td>E</td>\n",
              "      <td>004100</td>\n",
              "      <td>41</td>\n",
              "      <td>MN24</td>\n",
              "      <td>SoHo-TriBeCa-Civic Center-Little Italy</td>\n",
              "      <td>3810</td>\n",
              "      <td>2.058614e+06</td>\n",
              "      <td>5913.870664</td>\n",
              "      <td>POLYGON ((985969.727 201933.578, 985907.954 20...</td>\n",
              "      <td>0.073838</td>\n",
              "      <td>11145</td>\n",
              "    </tr>\n",
              "    <tr>\n",
              "      <th>2127</th>\n",
              "      <td>1</td>\n",
              "      <td>1008601</td>\n",
              "      <td>Manhattan</td>\n",
              "      <td>I</td>\n",
              "      <td>008601</td>\n",
              "      <td>86.01</td>\n",
              "      <td>MN19</td>\n",
              "      <td>Turtle Bay-East Midtown</td>\n",
              "      <td>3808</td>\n",
              "      <td>1.212676e+06</td>\n",
              "      <td>5818.123317</td>\n",
              "      <td>POLYGON ((993140.783 211784.262, 993083.680 21...</td>\n",
              "      <td>0.043496</td>\n",
              "      <td>3212</td>\n",
              "    </tr>\n",
              "  </tbody>\n",
              "</table>\n",
              "<p>163 rows × 14 columns</p>\n",
              "</div>"
            ],
            "text/plain": [
              "     boro_code boro_ct201  ... shape_areainmi2 MonthlyAve\n",
              "1            1    1009800  ...        0.068365       3986\n",
              "2            1    1010000  ...        0.066748       7208\n",
              "3            1    1010200  ...        0.066750       4898\n",
              "4            1    1010400  ...        0.066879       6609\n",
              "5            1    1011300  ...        0.067823      19212\n",
              "...        ...        ...  ...             ...        ...\n",
              "2062         1    1006000  ...        0.046786       7216\n",
              "2063         1    1006400  ...        0.069383       4456\n",
              "2089         1    1001800  ...        0.086057      13828\n",
              "2090         1    1004100  ...        0.073838      11145\n",
              "2127         1    1008601  ...        0.043496       3212\n",
              "\n",
              "[163 rows x 14 columns]"
            ]
          },
          "metadata": {
            "tags": []
          },
          "execution_count": 89
        }
      ]
    },
    {
      "cell_type": "code",
      "metadata": {
        "id": "MXZ3ahBPPWuL",
        "colab_type": "code",
        "colab": {
          "base_uri": "https://localhost:8080/",
          "height": 50
        },
        "outputId": "1cdb46bf-0a3c-43c4-c911-63a35a805cc4"
      },
      "source": [
        "print ('Total number of CTs: {}'.format(len(ct_shape)))\n",
        "print ('Number of zoomed CTs: {}'.format(len(ct_shape_MonthlyAve_Zoom.MonthlyAve)))"
      ],
      "execution_count": 90,
      "outputs": [
        {
          "output_type": "stream",
          "text": [
            "Total number of CTs: 2165\n",
            "Number of zoomed CTs: 163\n"
          ],
          "name": "stdout"
        }
      ]
    },
    {
      "cell_type": "markdown",
      "metadata": {
        "id": "sFjx_F0aPWuO",
        "colab_type": "text"
      },
      "source": [
        "### Map the monthly rides "
      ]
    },
    {
      "cell_type": "code",
      "metadata": {
        "id": "sgTRleb4PWuO",
        "colab_type": "code",
        "colab": {}
      },
      "source": [
        "f, ax = plt.subplots(figsize=(10,10))\n",
        "ax.get_xaxis().set_visible(False)\n",
        "ax.get_yaxis().set_visible(False)\n",
        "ct_shape_MonthlyAve_Zoom.plot(column='MonthlyAve',cmap='hot_r',alpha=1,linewidth=0.1,ax=ax)\n",
        "plt.title(\"Monthly Ride Counts\");"
      ],
      "execution_count": null,
      "outputs": []
    },
    {
      "cell_type": "markdown",
      "metadata": {
        "id": "E_bn9OiAPWuQ",
        "colab_type": "text"
      },
      "source": [
        "### Export Shapefile CTs in the CitiBike Zone"
      ]
    },
    {
      "cell_type": "code",
      "metadata": {
        "id": "QYqIMdLlPWuR",
        "colab_type": "code",
        "colab": {
          "base_uri": "https://localhost:8080/",
          "height": 33
        },
        "outputId": "4cee057c-f200-47e1-fe9c-6311f97d721f"
      },
      "source": [
        "%mkdir Output"
      ],
      "execution_count": 92,
      "outputs": [
        {
          "output_type": "stream",
          "text": [
            "mkdir: cannot create directory ‘Output’: File exists\n"
          ],
          "name": "stdout"
        }
      ]
    },
    {
      "cell_type": "code",
      "metadata": {
        "id": "MO6G1liZPWuS",
        "colab_type": "code",
        "colab": {
          "base_uri": "https://localhost:8080/",
          "height": 70
        },
        "outputId": "7be2849b-d718-47de-cd30-5bcfb2f7396c"
      },
      "source": [
        "path = 'Output/ct_shape_MonthlyAve_Zoom.shp'\n",
        "ct_shape_MonthlyAve_Zoom.to_file(path)"
      ],
      "execution_count": 93,
      "outputs": [
        {
          "output_type": "stream",
          "text": [
            "/usr/local/lib/python3.6/dist-packages/ipykernel_launcher.py:2: UserWarning: Column names longer than 10 characters will be truncated when saved to ESRI Shapefile.\n",
            "  \n"
          ],
          "name": "stderr"
        }
      ]
    },
    {
      "cell_type": "code",
      "metadata": {
        "id": "yGtsMRl95WyT",
        "colab_type": "code",
        "colab": {
          "base_uri": "https://localhost:8080/",
          "height": 1000
        },
        "outputId": "fa153d1b-4213-465c-b62f-41d33d73cfec"
      },
      "source": [
        "gpd.GeoDataFrame.from_file(\"Output/ct_shape_MonthlyAve_Zoom.shp\")"
      ],
      "execution_count": 94,
      "outputs": [
        {
          "output_type": "execute_result",
          "data": {
            "text/html": [
              "<div>\n",
              "<style scoped>\n",
              "    .dataframe tbody tr th:only-of-type {\n",
              "        vertical-align: middle;\n",
              "    }\n",
              "\n",
              "    .dataframe tbody tr th {\n",
              "        vertical-align: top;\n",
              "    }\n",
              "\n",
              "    .dataframe thead th {\n",
              "        text-align: right;\n",
              "    }\n",
              "</style>\n",
              "<table border=\"1\" class=\"dataframe\">\n",
              "  <thead>\n",
              "    <tr style=\"text-align: right;\">\n",
              "      <th></th>\n",
              "      <th>boro_code</th>\n",
              "      <th>boro_ct201</th>\n",
              "      <th>boro_name</th>\n",
              "      <th>cdeligibil</th>\n",
              "      <th>ct2010</th>\n",
              "      <th>ctlabel</th>\n",
              "      <th>ntacode</th>\n",
              "      <th>ntaname</th>\n",
              "      <th>puma</th>\n",
              "      <th>shape_area</th>\n",
              "      <th>shape_leng</th>\n",
              "      <th>shape_ar_1</th>\n",
              "      <th>MonthlyAve</th>\n",
              "      <th>geometry</th>\n",
              "    </tr>\n",
              "  </thead>\n",
              "  <tbody>\n",
              "    <tr>\n",
              "      <th>0</th>\n",
              "      <td>1</td>\n",
              "      <td>1009800</td>\n",
              "      <td>Manhattan</td>\n",
              "      <td>I</td>\n",
              "      <td>009800</td>\n",
              "      <td>98</td>\n",
              "      <td>MN19</td>\n",
              "      <td>Turtle Bay-East Midtown</td>\n",
              "      <td>3808</td>\n",
              "      <td>1.906016e+06</td>\n",
              "      <td>5534.199811</td>\n",
              "      <td>0.068365</td>\n",
              "      <td>3986</td>\n",
              "      <td>POLYGON ((-73.96433 40.75638, -73.96479 40.755...</td>\n",
              "    </tr>\n",
              "    <tr>\n",
              "      <th>1</th>\n",
              "      <td>1</td>\n",
              "      <td>1010000</td>\n",
              "      <td>Manhattan</td>\n",
              "      <td>I</td>\n",
              "      <td>010000</td>\n",
              "      <td>100</td>\n",
              "      <td>MN19</td>\n",
              "      <td>Turtle Bay-East Midtown</td>\n",
              "      <td>3808</td>\n",
              "      <td>1.860938e+06</td>\n",
              "      <td>5692.168737</td>\n",
              "      <td>0.066748</td>\n",
              "      <td>7208</td>\n",
              "      <td>POLYGON ((-73.96802 40.75958, -73.96848 40.758...</td>\n",
              "    </tr>\n",
              "    <tr>\n",
              "      <th>2</th>\n",
              "      <td>1</td>\n",
              "      <td>1010200</td>\n",
              "      <td>Manhattan</td>\n",
              "      <td>I</td>\n",
              "      <td>010200</td>\n",
              "      <td>102</td>\n",
              "      <td>MN17</td>\n",
              "      <td>Midtown-Midtown South</td>\n",
              "      <td>3807</td>\n",
              "      <td>1.860993e+06</td>\n",
              "      <td>5687.802439</td>\n",
              "      <td>0.066750</td>\n",
              "      <td>4898</td>\n",
              "      <td>POLYGON ((-73.97124 40.76094, -73.97170 40.760...</td>\n",
              "    </tr>\n",
              "    <tr>\n",
              "      <th>3</th>\n",
              "      <td>1</td>\n",
              "      <td>1010400</td>\n",
              "      <td>Manhattan</td>\n",
              "      <td>I</td>\n",
              "      <td>010400</td>\n",
              "      <td>104</td>\n",
              "      <td>MN17</td>\n",
              "      <td>Midtown-Midtown South</td>\n",
              "      <td>3807</td>\n",
              "      <td>1.864600e+06</td>\n",
              "      <td>5693.036367</td>\n",
              "      <td>0.066879</td>\n",
              "      <td>6609</td>\n",
              "      <td>POLYGON ((-73.97446 40.76229, -73.97491 40.761...</td>\n",
              "    </tr>\n",
              "    <tr>\n",
              "      <th>4</th>\n",
              "      <td>1</td>\n",
              "      <td>1011300</td>\n",
              "      <td>Manhattan</td>\n",
              "      <td>I</td>\n",
              "      <td>011300</td>\n",
              "      <td>113</td>\n",
              "      <td>MN17</td>\n",
              "      <td>Midtown-Midtown South</td>\n",
              "      <td>3807</td>\n",
              "      <td>1.890907e+06</td>\n",
              "      <td>5699.860641</td>\n",
              "      <td>0.067823</td>\n",
              "      <td>19212</td>\n",
              "      <td>POLYGON ((-73.98412 40.75484, -73.98460 40.754...</td>\n",
              "    </tr>\n",
              "    <tr>\n",
              "      <th>...</th>\n",
              "      <td>...</td>\n",
              "      <td>...</td>\n",
              "      <td>...</td>\n",
              "      <td>...</td>\n",
              "      <td>...</td>\n",
              "      <td>...</td>\n",
              "      <td>...</td>\n",
              "      <td>...</td>\n",
              "      <td>...</td>\n",
              "      <td>...</td>\n",
              "      <td>...</td>\n",
              "      <td>...</td>\n",
              "      <td>...</td>\n",
              "      <td>...</td>\n",
              "    </tr>\n",
              "    <tr>\n",
              "      <th>158</th>\n",
              "      <td>1</td>\n",
              "      <td>1006000</td>\n",
              "      <td>Manhattan</td>\n",
              "      <td>I</td>\n",
              "      <td>006000</td>\n",
              "      <td>60</td>\n",
              "      <td>MN50</td>\n",
              "      <td>Stuyvesant Town-Cooper Village</td>\n",
              "      <td>3808</td>\n",
              "      <td>1.304407e+06</td>\n",
              "      <td>6260.705669</td>\n",
              "      <td>0.046786</td>\n",
              "      <td>7216</td>\n",
              "      <td>MULTIPOLYGON (((-73.96128 40.73016, -73.96128 ...</td>\n",
              "    </tr>\n",
              "    <tr>\n",
              "      <th>159</th>\n",
              "      <td>1</td>\n",
              "      <td>1006400</td>\n",
              "      <td>Manhattan</td>\n",
              "      <td>I</td>\n",
              "      <td>006400</td>\n",
              "      <td>64</td>\n",
              "      <td>MN21</td>\n",
              "      <td>Gramercy</td>\n",
              "      <td>3808</td>\n",
              "      <td>1.934408e+06</td>\n",
              "      <td>5564.012569</td>\n",
              "      <td>0.069383</td>\n",
              "      <td>4456</td>\n",
              "      <td>POLYGON ((-73.97805 40.73755, -73.97854 40.736...</td>\n",
              "    </tr>\n",
              "    <tr>\n",
              "      <th>160</th>\n",
              "      <td>1</td>\n",
              "      <td>1001800</td>\n",
              "      <td>Manhattan</td>\n",
              "      <td>I</td>\n",
              "      <td>001800</td>\n",
              "      <td>18</td>\n",
              "      <td>MN27</td>\n",
              "      <td>Chinatown</td>\n",
              "      <td>3809</td>\n",
              "      <td>2.399275e+06</td>\n",
              "      <td>6391.921884</td>\n",
              "      <td>0.086057</td>\n",
              "      <td>13828</td>\n",
              "      <td>POLYGON ((-73.98985 40.72052, -73.98972 40.720...</td>\n",
              "    </tr>\n",
              "    <tr>\n",
              "      <th>161</th>\n",
              "      <td>1</td>\n",
              "      <td>1004100</td>\n",
              "      <td>Manhattan</td>\n",
              "      <td>E</td>\n",
              "      <td>004100</td>\n",
              "      <td>41</td>\n",
              "      <td>MN24</td>\n",
              "      <td>SoHo-TriBeCa-Civic Center-Little Italy</td>\n",
              "      <td>3810</td>\n",
              "      <td>2.058614e+06</td>\n",
              "      <td>5913.870664</td>\n",
              "      <td>0.073838</td>\n",
              "      <td>11145</td>\n",
              "      <td>POLYGON ((-73.99380 40.72094, -73.99402 40.720...</td>\n",
              "    </tr>\n",
              "    <tr>\n",
              "      <th>162</th>\n",
              "      <td>1</td>\n",
              "      <td>1008601</td>\n",
              "      <td>Manhattan</td>\n",
              "      <td>I</td>\n",
              "      <td>008601</td>\n",
              "      <td>86.01</td>\n",
              "      <td>MN19</td>\n",
              "      <td>Turtle Bay-East Midtown</td>\n",
              "      <td>3808</td>\n",
              "      <td>1.212676e+06</td>\n",
              "      <td>5818.123317</td>\n",
              "      <td>0.043496</td>\n",
              "      <td>3212</td>\n",
              "      <td>POLYGON ((-73.96791 40.74797, -73.96812 40.747...</td>\n",
              "    </tr>\n",
              "  </tbody>\n",
              "</table>\n",
              "<p>163 rows × 14 columns</p>\n",
              "</div>"
            ],
            "text/plain": [
              "    boro_code  ...                                           geometry\n",
              "0           1  ...  POLYGON ((-73.96433 40.75638, -73.96479 40.755...\n",
              "1           1  ...  POLYGON ((-73.96802 40.75958, -73.96848 40.758...\n",
              "2           1  ...  POLYGON ((-73.97124 40.76094, -73.97170 40.760...\n",
              "3           1  ...  POLYGON ((-73.97446 40.76229, -73.97491 40.761...\n",
              "4           1  ...  POLYGON ((-73.98412 40.75484, -73.98460 40.754...\n",
              "..        ...  ...                                                ...\n",
              "158         1  ...  MULTIPOLYGON (((-73.96128 40.73016, -73.96128 ...\n",
              "159         1  ...  POLYGON ((-73.97805 40.73755, -73.97854 40.736...\n",
              "160         1  ...  POLYGON ((-73.98985 40.72052, -73.98972 40.720...\n",
              "161         1  ...  POLYGON ((-73.99380 40.72094, -73.99402 40.720...\n",
              "162         1  ...  POLYGON ((-73.96791 40.74797, -73.96812 40.747...\n",
              "\n",
              "[163 rows x 14 columns]"
            ]
          },
          "metadata": {
            "tags": []
          },
          "execution_count": 94
        }
      ]
    },
    {
      "cell_type": "code",
      "metadata": {
        "id": "bRqPuBA5Vlgl",
        "colab_type": "code",
        "colab": {}
      },
      "source": [
        ""
      ],
      "execution_count": null,
      "outputs": []
    }
  ]
}