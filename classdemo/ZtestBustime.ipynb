{
  "nbformat": 4,
  "nbformat_minor": 0,
  "metadata": {
    "anaconda-cloud": {},
    "kernelspec": {
      "display_name": "Python 3",
      "language": "python",
      "name": "python3"
    },
    "language_info": {
      "codemirror_mode": {
        "name": "ipython",
        "version": 2
      },
      "file_extension": ".py",
      "mimetype": "text/x-python",
      "name": "python",
      "nbconvert_exporter": "python",
      "pygments_lexer": "ipython2",
      "version": "2.7.12"
    },
    "latex_envs": {
      "LaTeX_envs_menu_present": true,
      "bibliofile": "biblio.bib",
      "cite_by": "apalike",
      "current_citInitial": 1,
      "eqLabelWithNumbers": true,
      "eqNumInitial": 1,
      "hotkeys": {
        "equation": "Ctrl-E",
        "itemize": "Ctrl-I"
      },
      "labels_anchors": false,
      "latex_user_defs": false,
      "report_style_numbering": false,
      "user_envs_cfg": false
    },
    "toc": {
      "colors": {
        "hover_highlight": "#DAA520",
        "running_highlight": "#FF0000",
        "selected_highlight": "#FFD700"
      },
      "moveMenuLeft": true,
      "nav_menu": {
        "height": "11.992187999999999px",
        "width": "1.992188px"
      },
      "navigate_menu": true,
      "number_sections": true,
      "sideBar": true,
      "threshold": 4,
      "toc_cell": false,
      "toc_section_display": "block",
      "toc_window_display": false
    },
    "colab": {
      "name": "ZtestBustime.ipynb",
      "provenance": [],
      "include_colab_link": true
    }
  },
  "cells": [
    {
      "cell_type": "markdown",
      "metadata": {
        "id": "view-in-github",
        "colab_type": "text"
      },
      "source": [
        "<a href=\"https://colab.research.google.com/github/fedhere/PUS2020_FBianco/blob/master/classdemo/ZtestBustime.ipynb\" target=\"_parent\"><img src=\"https://colab.research.google.com/assets/colab-badge.svg\" alt=\"Open In Colab\"/></a>"
      ]
    },
    {
      "cell_type": "markdown",
      "metadata": {
        "run_control": {
          "frozen": false,
          "read_only": false
        },
        "id": "YO5LvNa1ZhJ9",
        "colab_type": "text"
      },
      "source": [
        "Prepared by Federica B Bianco, UDel @fedhere\n"
      ]
    },
    {
      "cell_type": "code",
      "metadata": {
        "ExecuteTime": {
          "end_time": "2017-10-16T11:32:40.379904",
          "start_time": "2017-10-16T11:32:39.960474"
        },
        "run_control": {
          "frozen": false,
          "read_only": false
        },
        "id": "V23RHH3MZhJ-",
        "colab_type": "code",
        "colab": {}
      },
      "source": [
        "from __future__ import division, print_function\n",
        "import numpy as np\n",
        "import pandas as pd"
      ],
      "execution_count": 6,
      "outputs": []
    },
    {
      "cell_type": "markdown",
      "metadata": {
        "run_control": {
          "frozen": false,
          "read_only": false
        },
        "id": "p4PxPoCFZhKB",
        "colab_type": "text"
      },
      "source": [
        "# a statement of Null and alternative, and the significance level chosen\n",
        " Stating the Null Hypothesis: The bus rerouting does not change the average travel time.\n",
        "\n",
        " $H_0$: TimeNew.mean() >= TimeOld.mean()\n",
        "\n",
        " $H_a$: TimeNew.mean() < TimeOld.mean()\n",
        "\n",
        " $\\alpha=0.05$"
      ]
    },
    {
      "cell_type": "code",
      "metadata": {
        "ExecuteTime": {
          "end_time": "2017-10-16T11:34:06.975519",
          "start_time": "2017-10-16T11:34:06.723095"
        },
        "run_control": {
          "frozen": false,
          "read_only": false
        },
        "id": "RZT6ktrnZhKB",
        "colab_type": "code",
        "colab": {}
      },
      "source": [
        "# the raw input must be read directly \n",
        "timesNew = pd.read_csv(\"https://raw.githubusercontent.com/fedhere/PUS2020_FBianco/master/data/bustimes.txt\").values"
      ],
      "execution_count": 8,
      "outputs": []
    },
    {
      "cell_type": "code",
      "metadata": {
        "ExecuteTime": {
          "end_time": "2017-10-16T11:34:08.748065",
          "start_time": "2017-10-16T11:34:08.625314"
        },
        "id": "TM9DbTerZhKF",
        "colab_type": "code",
        "colab": {
          "base_uri": "https://localhost:8080/",
          "height": 1000
        },
        "outputId": "83b74916-eca9-440b-b77d-9e3be0dcc09b"
      },
      "source": [
        "timesNew"
      ],
      "execution_count": 9,
      "outputs": [
        {
          "output_type": "execute_result",
          "data": {
            "text/plain": [
              "array([[32.82137636],\n",
              "       [30.2291014 ],\n",
              "       [31.41376587],\n",
              "       [39.01055035],\n",
              "       [34.82207891],\n",
              "       [39.87188366],\n",
              "       [39.57994562],\n",
              "       [31.02658678],\n",
              "       [27.66246068],\n",
              "       [18.8752884 ],\n",
              "       [46.2313731 ],\n",
              "       [30.01522604],\n",
              "       [47.6004104 ],\n",
              "       [16.52726666],\n",
              "       [42.4462331 ],\n",
              "       [33.62527449],\n",
              "       [42.28462558],\n",
              "       [46.20520667],\n",
              "       [30.87517392],\n",
              "       [32.94800341],\n",
              "       [26.17691512],\n",
              "       [31.25699649],\n",
              "       [35.33644554],\n",
              "       [35.64072501],\n",
              "       [40.32297174],\n",
              "       [38.04348588],\n",
              "       [29.4579793 ],\n",
              "       [23.91636367],\n",
              "       [34.56403521],\n",
              "       [45.42782464],\n",
              "       [38.95607754],\n",
              "       [39.11396748],\n",
              "       [39.67398759],\n",
              "       [31.89148105],\n",
              "       [22.62379325],\n",
              "       [26.18910408],\n",
              "       [43.54114213],\n",
              "       [33.2607386 ],\n",
              "       [31.67602384],\n",
              "       [37.12846259],\n",
              "       [38.22048496],\n",
              "       [34.38814185],\n",
              "       [36.11407371],\n",
              "       [44.08064814],\n",
              "       [29.59917161],\n",
              "       [37.02411751],\n",
              "       [41.60576556],\n",
              "       [44.37860528],\n",
              "       [38.06471077],\n",
              "       [22.90526456],\n",
              "       [40.27182857],\n",
              "       [31.57979239],\n",
              "       [25.88037795],\n",
              "       [28.8913048 ],\n",
              "       [44.33687925],\n",
              "       [36.78948684],\n",
              "       [43.46098875],\n",
              "       [40.65557   ],\n",
              "       [26.16634004],\n",
              "       [25.13884784],\n",
              "       [33.01581456],\n",
              "       [32.87050073],\n",
              "       [26.28557154],\n",
              "       [39.44933037],\n",
              "       [36.25528612],\n",
              "       [40.719133  ],\n",
              "       [40.57181545],\n",
              "       [19.87166413],\n",
              "       [43.21925286],\n",
              "       [31.48102823],\n",
              "       [37.14915056],\n",
              "       [38.991504  ],\n",
              "       [20.53059384],\n",
              "       [27.80447692],\n",
              "       [38.69933298],\n",
              "       [30.0223142 ],\n",
              "       [38.64884169],\n",
              "       [26.40668884],\n",
              "       [32.10224978],\n",
              "       [28.31532754],\n",
              "       [43.26195884],\n",
              "       [40.3609407 ],\n",
              "       [37.3025258 ],\n",
              "       [31.45110181],\n",
              "       [38.79599524],\n",
              "       [36.92553372],\n",
              "       [32.37167945],\n",
              "       [23.25835631],\n",
              "       [26.42613261],\n",
              "       [48.74987653],\n",
              "       [31.42512354],\n",
              "       [46.80679298],\n",
              "       [30.59748648],\n",
              "       [20.7926322 ],\n",
              "       [26.19785226],\n",
              "       [42.7274097 ],\n",
              "       [33.7314695 ],\n",
              "       [37.23859057],\n",
              "       [36.33984141]])"
            ]
          },
          "metadata": {
            "tags": []
          },
          "execution_count": 9
        }
      ]
    },
    {
      "cell_type": "code",
      "metadata": {
        "ExecuteTime": {
          "end_time": "2017-10-16T11:34:10.431483",
          "start_time": "2017-10-16T11:34:10.423583"
        },
        "run_control": {
          "frozen": false,
          "read_only": false
        },
        "id": "EP2a3esiZhKH",
        "colab_type": "code",
        "colab": {}
      },
      "source": [
        "alpha = 0.05\n",
        "timesOldMean = 36.\n",
        "timesOldStd = 6.\n"
      ],
      "execution_count": 10,
      "outputs": []
    },
    {
      "cell_type": "markdown",
      "metadata": {
        "id": "P3jSPXJYZhKM",
        "colab_type": "text"
      },
      "source": [
        "Treating the old times distribution as a \"population\" and with 100 (>30) observation of new trips I can use the Z test. "
      ]
    },
    {
      "cell_type": "code",
      "metadata": {
        "ExecuteTime": {
          "end_time": "2017-10-16T11:34:57.496575",
          "start_time": "2017-10-16T11:34:57.489258"
        },
        "run_control": {
          "frozen": false,
          "read_only": false
        },
        "id": "k-vUT-CSZhKM",
        "colab_type": "code",
        "colab": {
          "base_uri": "https://localhost:8080/",
          "height": 34
        },
        "outputId": "b97317f8-adfa-49b0-a471-e6965ae2da51"
      },
      "source": [
        "print(\"The new average travel time is {0:.2f}\".format(timesNew.mean()))"
      ],
      "execution_count": 11,
      "outputs": [
        {
          "output_type": "stream",
          "text": [
            "The new average travel time is 34.49\n"
          ],
          "name": "stdout"
        }
      ]
    },
    {
      "cell_type": "code",
      "metadata": {
        "ExecuteTime": {
          "end_time": "2017-10-16T11:36:29.406166",
          "start_time": "2017-10-16T11:36:29.400076"
        },
        "run_control": {
          "frozen": false,
          "read_only": false
        },
        "id": "gXWXhxxxZhKP",
        "colab_type": "code",
        "colab": {
          "base_uri": "https://localhost:8080/",
          "height": 34
        },
        "outputId": "461e0cb7-8016-45bf-dcc6-96bbec50834a"
      },
      "source": [
        "# here it is ok to use either the stdev from timesOld or from timesNew\n",
        "z = (timesOldMean - timesNew.mean()) / (timesOldStd / np.sqrt(len(timesNew)))\n",
        "print(\"The Z statistics is Z = {0:.2f}\".format(z))"
      ],
      "execution_count": 13,
      "outputs": [
        {
          "output_type": "stream",
          "text": [
            "The Z statistics is Z = 2.50\n"
          ],
          "name": "stdout"
        }
      ]
    },
    {
      "cell_type": "code",
      "metadata": {
        "ExecuteTime": {
          "end_time": "2017-10-16T11:36:29.906183",
          "start_time": "2017-10-16T11:36:29.896661"
        },
        "run_control": {
          "frozen": false,
          "read_only": false
        },
        "id": "BX97DJ_NZhKR",
        "colab_type": "code",
        "colab": {
          "base_uri": "https://localhost:8080/",
          "height": 136
        },
        "outputId": "09632b27-a805-491a-ddc1-989b28b9df72"
      },
      "source": [
        "print(\"Z score for Bus X8 rerouting: {0:.1f}\".format(z))\n",
        "print(\"This means we are {0:.1f} standard deviations away\".format(z))\n",
        "print(\"from the mean of the old trip duration\\n\\n\")\n",
        "if z > 2:\n",
        "    result = \"IS REJECTED\"\n",
        "else: \n",
        "    result = \"CANNOT BE REJECTED\"\n",
        "\n",
        "print(\"The Null Hypothesis that the new route makes commuting time worse\")\n",
        "print(\"{0:s} at the {1:.1f}% significance level (p<0.05)\".format(result, 100*(1-alpha)))"
      ],
      "execution_count": 15,
      "outputs": [
        {
          "output_type": "stream",
          "text": [
            "Z score for Bus X8 rerouting: 2.5\n",
            "This means we are 2.5 standard deviations away\n",
            "from the mean of the old trip duration\n",
            "\n",
            "\n",
            "The Null Hypothesis that the new route makes commuting time worse\n",
            "IS REJECTED at the 95.0% significance level (p<0.05)\n"
          ],
          "name": "stdout"
        }
      ]
    },
    {
      "cell_type": "code",
      "metadata": {
        "run_control": {
          "frozen": false,
          "read_only": false
        },
        "id": "Zx0tkCVtZhKT",
        "colab_type": "code",
        "colab": {}
      },
      "source": [
        ""
      ],
      "execution_count": null,
      "outputs": []
    }
  ]
}