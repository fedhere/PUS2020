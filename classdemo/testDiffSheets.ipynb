{
  "nbformat": 4,
  "nbformat_minor": 0,
  "metadata": {
    "colab": {
      "name": "testDiffSheets.ipynb",
      "provenance": [],
      "authorship_tag": "ABX9TyNHULKsrSX9VqKUhcRHLoz4",
      "include_colab_link": true
    },
    "kernelspec": {
      "name": "python3",
      "display_name": "Python 3"
    }
  },
  "cells": [
    {
      "cell_type": "markdown",
      "metadata": {
        "id": "view-in-github",
        "colab_type": "text"
      },
      "source": [
        "<a href=\"https://colab.research.google.com/github/fedhere/PUS2020_FBianco/blob/master/classdemos/testDiffSheets.ipynb\" target=\"_parent\"><img src=\"https://colab.research.google.com/assets/colab-badge.svg\" alt=\"Open In Colab\"/></a>"
      ]
    },
    {
      "cell_type": "code",
      "metadata": {
        "id": "QnjigIgHppfI",
        "colab_type": "code",
        "colab": {}
      },
      "source": [
        "from google.colab import drive\n",
        "import pandas as pd"
      ],
      "execution_count": null,
      "outputs": []
    },
    {
      "cell_type": "code",
      "metadata": {
        "id": "OlaPMRIsp1vG",
        "colab_type": "code",
        "colab": {
          "base_uri": "https://localhost:8080/",
          "height": 121
        },
        "outputId": "9c98ca64-86a1-43af-c0d1-89df5399555e"
      },
      "source": [
        "drive.mount(\"/content/drive\")\n"
      ],
      "execution_count": null,
      "outputs": [
        {
          "output_type": "stream",
          "text": [
            "Go to this URL in a browser: https://accounts.google.com/o/oauth2/auth?client_id=947318989803-6bn6qk8qdgf4n4g3pfee6491hc0brc4i.apps.googleusercontent.com&redirect_uri=urn%3aietf%3awg%3aoauth%3a2.0%3aoob&scope=email%20https%3a%2f%2fwww.googleapis.com%2fauth%2fdocs.test%20https%3a%2f%2fwww.googleapis.com%2fauth%2fdrive%20https%3a%2f%2fwww.googleapis.com%2fauth%2fdrive.photos.readonly%20https%3a%2f%2fwww.googleapis.com%2fauth%2fpeopleapi.readonly&response_type=code\n",
            "\n",
            "Enter your authorization code:\n",
            "··········\n",
            "Mounted at /content/drive\n"
          ],
          "name": "stdout"
        }
      ]
    },
    {
      "cell_type": "code",
      "metadata": {
        "id": "8OgHSWomp5lx",
        "colab_type": "code",
        "colab": {
          "base_uri": "https://localhost:8080/",
          "height": 34
        },
        "outputId": "24f66e36-4ad2-4d7d-8a20-235655460147"
      },
      "source": [
        "ls"
      ],
      "execution_count": null,
      "outputs": [
        {
          "output_type": "stream",
          "text": [
            "\u001b[0m\u001b[01;34mdrive\u001b[0m/  \u001b[01;34msample_data\u001b[0m/\n"
          ],
          "name": "stdout"
        }
      ]
    },
    {
      "cell_type": "code",
      "metadata": {
        "id": "rraSe_fKrCoD",
        "colab_type": "code",
        "colab": {
          "base_uri": "https://localhost:8080/",
          "height": 34
        },
        "outputId": "652ec33a-ea8a-42bd-a9b2-aaec91c22f24"
      },
      "source": [
        "cd drive\n"
      ],
      "execution_count": null,
      "outputs": [
        {
          "output_type": "stream",
          "text": [
            "/content/drive\n"
          ],
          "name": "stdout"
        }
      ]
    },
    {
      "cell_type": "code",
      "metadata": {
        "id": "eD8y0dHirK4f",
        "colab_type": "code",
        "colab": {
          "base_uri": "https://localhost:8080/",
          "height": 34
        },
        "outputId": "6d990ee3-ef6b-4a0a-d19f-63f73d42e6a2"
      },
      "source": [
        "ls"
      ],
      "execution_count": null,
      "outputs": [
        {
          "output_type": "stream",
          "text": [
            "\u001b[0m\u001b[01;34m'My Drive'\u001b[0m/  \u001b[01;34m'Shared drives'\u001b[0m/\n"
          ],
          "name": "stdout"
        }
      ]
    },
    {
      "cell_type": "code",
      "metadata": {
        "id": "GvHVJVT0rQxX",
        "colab_type": "code",
        "colab": {
          "base_uri": "https://localhost:8080/",
          "height": 34
        },
        "outputId": "6898701a-00a8-4349-b5cf-38c2cad58bf3"
      },
      "source": [
        "cd Shared\\ drives/PUS2020"
      ],
      "execution_count": null,
      "outputs": [
        {
          "output_type": "stream",
          "text": [
            "/content/drive/Shared drives/PUS2020\n"
          ],
          "name": "stdout"
        }
      ]
    },
    {
      "cell_type": "code",
      "metadata": {
        "id": "xUCiiT0prZ8E",
        "colab_type": "code",
        "colab": {
          "base_uri": "https://localhost:8080/",
          "height": 134
        },
        "outputId": "fe5942e6-6619-43d1-fadc-77ad145f5a26"
      },
      "source": [
        "ls data"
      ],
      "execution_count": null,
      "outputs": [
        {
          "output_type": "stream",
          "text": [
            "arrest_data_daily_by_zip.csv  MapPLUTO.shp.xml  MNMapPLUTO.shp.xml\n",
            "MapPLUTO.cpg                  MapPLUTO.shx      MNMapPLUTO.shx\n",
            "MapPLUTO.dbf                  MNMapPLUTO.dbf    PLUTODD20v5.pdf\n",
            "MapPLUTO.prj                  MNMapPLUTO.prj    PlutoReadme20v5.pdf\n",
            "MapPLUTO.sbn                  MNMapPLUTO.sbn    Varnamesnlabels_m2ihip_R.xlsx\n",
            "MapPLUTO.sbx                  MNMapPLUTO.sbx    Varnamesnlabels_m2ihip.xlsx\n",
            "MapPLUTO.shp                  MNMapPLUTO.shp\n"
          ],
          "name": "stdout"
        }
      ]
    },
    {
      "cell_type": "code",
      "metadata": {
        "id": "Lbz73CHLrSmj",
        "colab_type": "code",
        "colab": {
          "base_uri": "https://localhost:8080/",
          "height": 402
        },
        "outputId": "e710513c-ef4b-48d5-9f90-d8a75761fa93"
      },
      "source": [
        "df1 = pd.read_excel(\"data/Varnamesnlabels_m2ihip_R.xlsx\")\n",
        "df1"
      ],
      "execution_count": null,
      "outputs": [
        {
          "output_type": "execute_result",
          "data": {
            "text/html": [
              "<div>\n",
              "<style scoped>\n",
              "    .dataframe tbody tr th:only-of-type {\n",
              "        vertical-align: middle;\n",
              "    }\n",
              "\n",
              "    .dataframe tbody tr th {\n",
              "        vertical-align: top;\n",
              "    }\n",
              "\n",
              "    .dataframe thead th {\n",
              "        text-align: right;\n",
              "    }\n",
              "</style>\n",
              "<table border=\"1\" class=\"dataframe\">\n",
              "  <thead>\n",
              "    <tr style=\"text-align: right;\">\n",
              "      <th></th>\n",
              "      <th>varname</th>\n",
              "      <th>varlabel</th>\n",
              "    </tr>\n",
              "  </thead>\n",
              "  <tbody>\n",
              "    <tr>\n",
              "      <th>0</th>\n",
              "      <td>id</td>\n",
              "      <td>NaN</td>\n",
              "    </tr>\n",
              "    <tr>\n",
              "      <th>1</th>\n",
              "      <td>m2StartDate</td>\n",
              "      <td>Start Date</td>\n",
              "    </tr>\n",
              "    <tr>\n",
              "      <th>2</th>\n",
              "      <td>m2EndDate</td>\n",
              "      <td>End Date</td>\n",
              "    </tr>\n",
              "    <tr>\n",
              "      <th>3</th>\n",
              "      <td>m2RecordedDate</td>\n",
              "      <td>Recorded Date</td>\n",
              "    </tr>\n",
              "    <tr>\n",
              "      <th>4</th>\n",
              "      <td>m2hid</td>\n",
              "      <td>Enter House ID Number here (1-8):</td>\n",
              "    </tr>\n",
              "    <tr>\n",
              "      <th>...</th>\n",
              "      <td>...</td>\n",
              "      <td>...</td>\n",
              "    </tr>\n",
              "    <tr>\n",
              "      <th>217</th>\n",
              "      <td>m2severetotal</td>\n",
              "      <td>Addiction Severity Total Composite: Higher sco...</td>\n",
              "    </tr>\n",
              "    <tr>\n",
              "      <th>218</th>\n",
              "      <td>m2currod</td>\n",
              "      <td>In the past month, did you experience an overd...</td>\n",
              "    </tr>\n",
              "    <tr>\n",
              "      <th>219</th>\n",
              "      <td>m2currodfreq_str</td>\n",
              "      <td>Number of times you experienced an overdose</td>\n",
              "    </tr>\n",
              "    <tr>\n",
              "      <th>220</th>\n",
              "      <td>m2openend_str</td>\n",
              "      <td>Is there anything else you would like us to know?</td>\n",
              "    </tr>\n",
              "    <tr>\n",
              "      <th>221</th>\n",
              "      <td>m2employoth_flag</td>\n",
              "      <td>Participant specified other employment status.</td>\n",
              "    </tr>\n",
              "  </tbody>\n",
              "</table>\n",
              "<p>222 rows × 2 columns</p>\n",
              "</div>"
            ],
            "text/plain": [
              "              varname                                           varlabel\n",
              "0                  id                                                NaN\n",
              "1         m2StartDate                                         Start Date\n",
              "2           m2EndDate                                           End Date\n",
              "3      m2RecordedDate                                      Recorded Date\n",
              "4               m2hid                  Enter House ID Number here (1-8):\n",
              "..                ...                                                ...\n",
              "217     m2severetotal  Addiction Severity Total Composite: Higher sco...\n",
              "218          m2currod  In the past month, did you experience an overd...\n",
              "219  m2currodfreq_str        Number of times you experienced an overdose\n",
              "220     m2openend_str  Is there anything else you would like us to know?\n",
              "221  m2employoth_flag     Participant specified other employment status.\n",
              "\n",
              "[222 rows x 2 columns]"
            ]
          },
          "metadata": {
            "tags": []
          },
          "execution_count": 21
        }
      ]
    },
    {
      "cell_type": "code",
      "metadata": {
        "id": "9E1IPI9KriuK",
        "colab_type": "code",
        "colab": {
          "base_uri": "https://localhost:8080/",
          "height": 402
        },
        "outputId": "55f7bb68-0ee6-4aa1-ea58-b455907adfb1"
      },
      "source": [
        "df2 = pd.read_excel(\"data/Varnamesnlabels_m2ihip.xlsx\")\n",
        "df2"
      ],
      "execution_count": null,
      "outputs": [
        {
          "output_type": "execute_result",
          "data": {
            "text/html": [
              "<div>\n",
              "<style scoped>\n",
              "    .dataframe tbody tr th:only-of-type {\n",
              "        vertical-align: middle;\n",
              "    }\n",
              "\n",
              "    .dataframe tbody tr th {\n",
              "        vertical-align: top;\n",
              "    }\n",
              "\n",
              "    .dataframe thead th {\n",
              "        text-align: right;\n",
              "    }\n",
              "</style>\n",
              "<table border=\"1\" class=\"dataframe\">\n",
              "  <thead>\n",
              "    <tr style=\"text-align: right;\">\n",
              "      <th></th>\n",
              "      <th>varname</th>\n",
              "      <th>varlabel</th>\n",
              "    </tr>\n",
              "  </thead>\n",
              "  <tbody>\n",
              "    <tr>\n",
              "      <th>0</th>\n",
              "      <td>id</td>\n",
              "      <td>NaN</td>\n",
              "    </tr>\n",
              "    <tr>\n",
              "      <th>1</th>\n",
              "      <td>m2hid</td>\n",
              "      <td>Enter House ID Number here (1-8):</td>\n",
              "    </tr>\n",
              "    <tr>\n",
              "      <th>2</th>\n",
              "      <td>m2ooh</td>\n",
              "      <td>NaN</td>\n",
              "    </tr>\n",
              "    <tr>\n",
              "      <th>3</th>\n",
              "      <td>m2age</td>\n",
              "      <td>How old are you? Please enter your current age...</td>\n",
              "    </tr>\n",
              "    <tr>\n",
              "      <th>4</th>\n",
              "      <td>m2agecat</td>\n",
              "      <td>Age, categorical variable</td>\n",
              "    </tr>\n",
              "    <tr>\n",
              "      <th>...</th>\n",
              "      <td>...</td>\n",
              "      <td>...</td>\n",
              "    </tr>\n",
              "    <tr>\n",
              "      <th>214</th>\n",
              "      <td>m2severetotal</td>\n",
              "      <td>Addiction Severity Total Composite: Higher sco...</td>\n",
              "    </tr>\n",
              "    <tr>\n",
              "      <th>215</th>\n",
              "      <td>m2currod</td>\n",
              "      <td>In the past month, did you experience an overd...</td>\n",
              "    </tr>\n",
              "    <tr>\n",
              "      <th>216</th>\n",
              "      <td>m2currodfreq_str</td>\n",
              "      <td>Number of times you experienced an overdose</td>\n",
              "    </tr>\n",
              "    <tr>\n",
              "      <th>217</th>\n",
              "      <td>m2openend_str</td>\n",
              "      <td>Is there anything else you would like us to know?</td>\n",
              "    </tr>\n",
              "    <tr>\n",
              "      <th>218</th>\n",
              "      <td>m2employoth_flag</td>\n",
              "      <td>Participant specified other employment status.</td>\n",
              "    </tr>\n",
              "  </tbody>\n",
              "</table>\n",
              "<p>219 rows × 2 columns</p>\n",
              "</div>"
            ],
            "text/plain": [
              "              varname                                           varlabel\n",
              "0                  id                                                NaN\n",
              "1               m2hid                  Enter House ID Number here (1-8):\n",
              "2               m2ooh                                                NaN\n",
              "3               m2age  How old are you? Please enter your current age...\n",
              "4            m2agecat                          Age, categorical variable\n",
              "..                ...                                                ...\n",
              "214     m2severetotal  Addiction Severity Total Composite: Higher sco...\n",
              "215          m2currod  In the past month, did you experience an overd...\n",
              "216  m2currodfreq_str        Number of times you experienced an overdose\n",
              "217     m2openend_str  Is there anything else you would like us to know?\n",
              "218  m2employoth_flag     Participant specified other employment status.\n",
              "\n",
              "[219 rows x 2 columns]"
            ]
          },
          "metadata": {
            "tags": []
          },
          "execution_count": 22
        }
      ]
    },
    {
      "cell_type": "code",
      "metadata": {
        "id": "iPxaFTxzrq5y",
        "colab_type": "code",
        "colab": {
          "base_uri": "https://localhost:8080/",
          "height": 452
        },
        "outputId": "7a2eb087-4a59-4d9f-8c97-1856fe37ab7f"
      },
      "source": [
        "merged = df2.merge(df1, on=\"varname\", how=\"outer\", indicator=True)\n",
        "merged"
      ],
      "execution_count": null,
      "outputs": [
        {
          "output_type": "execute_result",
          "data": {
            "text/html": [
              "<div>\n",
              "<style scoped>\n",
              "    .dataframe tbody tr th:only-of-type {\n",
              "        vertical-align: middle;\n",
              "    }\n",
              "\n",
              "    .dataframe tbody tr th {\n",
              "        vertical-align: top;\n",
              "    }\n",
              "\n",
              "    .dataframe thead th {\n",
              "        text-align: right;\n",
              "    }\n",
              "</style>\n",
              "<table border=\"1\" class=\"dataframe\">\n",
              "  <thead>\n",
              "    <tr style=\"text-align: right;\">\n",
              "      <th></th>\n",
              "      <th>varname</th>\n",
              "      <th>varlabel_x</th>\n",
              "      <th>varlabel_y</th>\n",
              "      <th>_merge</th>\n",
              "    </tr>\n",
              "  </thead>\n",
              "  <tbody>\n",
              "    <tr>\n",
              "      <th>0</th>\n",
              "      <td>id</td>\n",
              "      <td>NaN</td>\n",
              "      <td>NaN</td>\n",
              "      <td>both</td>\n",
              "    </tr>\n",
              "    <tr>\n",
              "      <th>1</th>\n",
              "      <td>m2hid</td>\n",
              "      <td>Enter House ID Number here (1-8):</td>\n",
              "      <td>Enter House ID Number here (1-8):</td>\n",
              "      <td>both</td>\n",
              "    </tr>\n",
              "    <tr>\n",
              "      <th>2</th>\n",
              "      <td>m2ooh</td>\n",
              "      <td>NaN</td>\n",
              "      <td>NaN</td>\n",
              "      <td>both</td>\n",
              "    </tr>\n",
              "    <tr>\n",
              "      <th>3</th>\n",
              "      <td>m2age</td>\n",
              "      <td>How old are you? Please enter your current age...</td>\n",
              "      <td>How old are you? Please enter your current age...</td>\n",
              "      <td>both</td>\n",
              "    </tr>\n",
              "    <tr>\n",
              "      <th>4</th>\n",
              "      <td>m2agecat</td>\n",
              "      <td>Age, categorical variable</td>\n",
              "      <td>Age, categorical variable</td>\n",
              "      <td>both</td>\n",
              "    </tr>\n",
              "    <tr>\n",
              "      <th>...</th>\n",
              "      <td>...</td>\n",
              "      <td>...</td>\n",
              "      <td>...</td>\n",
              "      <td>...</td>\n",
              "    </tr>\n",
              "    <tr>\n",
              "      <th>217</th>\n",
              "      <td>m2openend_str</td>\n",
              "      <td>Is there anything else you would like us to know?</td>\n",
              "      <td>Is there anything else you would like us to know?</td>\n",
              "      <td>both</td>\n",
              "    </tr>\n",
              "    <tr>\n",
              "      <th>218</th>\n",
              "      <td>m2employoth_flag</td>\n",
              "      <td>Participant specified other employment status.</td>\n",
              "      <td>Participant specified other employment status.</td>\n",
              "      <td>both</td>\n",
              "    </tr>\n",
              "    <tr>\n",
              "      <th>219</th>\n",
              "      <td>m2StartDate</td>\n",
              "      <td>NaN</td>\n",
              "      <td>Start Date</td>\n",
              "      <td>right_only</td>\n",
              "    </tr>\n",
              "    <tr>\n",
              "      <th>220</th>\n",
              "      <td>m2EndDate</td>\n",
              "      <td>NaN</td>\n",
              "      <td>End Date</td>\n",
              "      <td>right_only</td>\n",
              "    </tr>\n",
              "    <tr>\n",
              "      <th>221</th>\n",
              "      <td>m2RecordedDate</td>\n",
              "      <td>NaN</td>\n",
              "      <td>Recorded Date</td>\n",
              "      <td>right_only</td>\n",
              "    </tr>\n",
              "  </tbody>\n",
              "</table>\n",
              "<p>222 rows × 4 columns</p>\n",
              "</div>"
            ],
            "text/plain": [
              "              varname  ...      _merge\n",
              "0                  id  ...        both\n",
              "1               m2hid  ...        both\n",
              "2               m2ooh  ...        both\n",
              "3               m2age  ...        both\n",
              "4            m2agecat  ...        both\n",
              "..                ...  ...         ...\n",
              "217     m2openend_str  ...        both\n",
              "218  m2employoth_flag  ...        both\n",
              "219       m2StartDate  ...  right_only\n",
              "220         m2EndDate  ...  right_only\n",
              "221    m2RecordedDate  ...  right_only\n",
              "\n",
              "[222 rows x 4 columns]"
            ]
          },
          "metadata": {
            "tags": []
          },
          "execution_count": 26
        }
      ]
    },
    {
      "cell_type": "code",
      "metadata": {
        "id": "M1Nh9Lhvr_a1",
        "colab_type": "code",
        "colab": {
          "base_uri": "https://localhost:8080/",
          "height": 136
        },
        "outputId": "8fae1af4-b91c-493d-c49b-340b9db53c57"
      },
      "source": [
        "merged[merged._merge == 'right_only']"
      ],
      "execution_count": null,
      "outputs": [
        {
          "output_type": "execute_result",
          "data": {
            "text/html": [
              "<div>\n",
              "<style scoped>\n",
              "    .dataframe tbody tr th:only-of-type {\n",
              "        vertical-align: middle;\n",
              "    }\n",
              "\n",
              "    .dataframe tbody tr th {\n",
              "        vertical-align: top;\n",
              "    }\n",
              "\n",
              "    .dataframe thead th {\n",
              "        text-align: right;\n",
              "    }\n",
              "</style>\n",
              "<table border=\"1\" class=\"dataframe\">\n",
              "  <thead>\n",
              "    <tr style=\"text-align: right;\">\n",
              "      <th></th>\n",
              "      <th>varname</th>\n",
              "      <th>varlabel_x</th>\n",
              "      <th>varlabel_y</th>\n",
              "      <th>_merge</th>\n",
              "    </tr>\n",
              "  </thead>\n",
              "  <tbody>\n",
              "    <tr>\n",
              "      <th>219</th>\n",
              "      <td>m2StartDate</td>\n",
              "      <td>NaN</td>\n",
              "      <td>Start Date</td>\n",
              "      <td>right_only</td>\n",
              "    </tr>\n",
              "    <tr>\n",
              "      <th>220</th>\n",
              "      <td>m2EndDate</td>\n",
              "      <td>NaN</td>\n",
              "      <td>End Date</td>\n",
              "      <td>right_only</td>\n",
              "    </tr>\n",
              "    <tr>\n",
              "      <th>221</th>\n",
              "      <td>m2RecordedDate</td>\n",
              "      <td>NaN</td>\n",
              "      <td>Recorded Date</td>\n",
              "      <td>right_only</td>\n",
              "    </tr>\n",
              "  </tbody>\n",
              "</table>\n",
              "</div>"
            ],
            "text/plain": [
              "            varname varlabel_x     varlabel_y      _merge\n",
              "219     m2StartDate        NaN     Start Date  right_only\n",
              "220       m2EndDate        NaN       End Date  right_only\n",
              "221  m2RecordedDate        NaN  Recorded Date  right_only"
            ]
          },
          "metadata": {
            "tags": []
          },
          "execution_count": 28
        }
      ]
    },
    {
      "cell_type": "code",
      "metadata": {
        "id": "JFs8JvaHsRZn",
        "colab_type": "code",
        "colab": {
          "base_uri": "https://localhost:8080/",
          "height": 218
        },
        "outputId": "6a26d2b4-61fd-47f1-b3ae-58d1974c499b"
      },
      "source": [
        "merged.varlabel_x == merged.varlabel_y"
      ],
      "execution_count": null,
      "outputs": [
        {
          "output_type": "execute_result",
          "data": {
            "text/plain": [
              "0      False\n",
              "1       True\n",
              "2      False\n",
              "3       True\n",
              "4       True\n",
              "       ...  \n",
              "217     True\n",
              "218     True\n",
              "219    False\n",
              "220    False\n",
              "221    False\n",
              "Length: 222, dtype: bool"
            ]
          },
          "metadata": {
            "tags": []
          },
          "execution_count": 29
        }
      ]
    },
    {
      "cell_type": "code",
      "metadata": {
        "id": "OIEF_Zpvsdoc",
        "colab_type": "code",
        "colab": {
          "base_uri": "https://localhost:8080/",
          "height": 225
        },
        "outputId": "7a68168c-62e7-4b11-f404-7233384c16e5"
      },
      "source": [
        "merged[~(merged.varlabel_x == merged.varlabel_y)]"
      ],
      "execution_count": null,
      "outputs": [
        {
          "output_type": "execute_result",
          "data": {
            "text/html": [
              "<div>\n",
              "<style scoped>\n",
              "    .dataframe tbody tr th:only-of-type {\n",
              "        vertical-align: middle;\n",
              "    }\n",
              "\n",
              "    .dataframe tbody tr th {\n",
              "        vertical-align: top;\n",
              "    }\n",
              "\n",
              "    .dataframe thead th {\n",
              "        text-align: right;\n",
              "    }\n",
              "</style>\n",
              "<table border=\"1\" class=\"dataframe\">\n",
              "  <thead>\n",
              "    <tr style=\"text-align: right;\">\n",
              "      <th></th>\n",
              "      <th>varname</th>\n",
              "      <th>varlabel_x</th>\n",
              "      <th>varlabel_y</th>\n",
              "      <th>_merge</th>\n",
              "    </tr>\n",
              "  </thead>\n",
              "  <tbody>\n",
              "    <tr>\n",
              "      <th>0</th>\n",
              "      <td>id</td>\n",
              "      <td>NaN</td>\n",
              "      <td>NaN</td>\n",
              "      <td>both</td>\n",
              "    </tr>\n",
              "    <tr>\n",
              "      <th>2</th>\n",
              "      <td>m2ooh</td>\n",
              "      <td>NaN</td>\n",
              "      <td>NaN</td>\n",
              "      <td>both</td>\n",
              "    </tr>\n",
              "    <tr>\n",
              "      <th>184</th>\n",
              "      <td>m2currMAToth_str</td>\n",
              "      <td>List other currently used MAT medications.</td>\n",
              "      <td>Any other types of medications?</td>\n",
              "      <td>both</td>\n",
              "    </tr>\n",
              "    <tr>\n",
              "      <th>219</th>\n",
              "      <td>m2StartDate</td>\n",
              "      <td>NaN</td>\n",
              "      <td>Start Date</td>\n",
              "      <td>right_only</td>\n",
              "    </tr>\n",
              "    <tr>\n",
              "      <th>220</th>\n",
              "      <td>m2EndDate</td>\n",
              "      <td>NaN</td>\n",
              "      <td>End Date</td>\n",
              "      <td>right_only</td>\n",
              "    </tr>\n",
              "    <tr>\n",
              "      <th>221</th>\n",
              "      <td>m2RecordedDate</td>\n",
              "      <td>NaN</td>\n",
              "      <td>Recorded Date</td>\n",
              "      <td>right_only</td>\n",
              "    </tr>\n",
              "  </tbody>\n",
              "</table>\n",
              "</div>"
            ],
            "text/plain": [
              "              varname  ...      _merge\n",
              "0                  id  ...        both\n",
              "2               m2ooh  ...        both\n",
              "184  m2currMAToth_str  ...        both\n",
              "219       m2StartDate  ...  right_only\n",
              "220         m2EndDate  ...  right_only\n",
              "221    m2RecordedDate  ...  right_only\n",
              "\n",
              "[6 rows x 4 columns]"
            ]
          },
          "metadata": {
            "tags": []
          },
          "execution_count": 30
        }
      ]
    },
    {
      "cell_type": "code",
      "metadata": {
        "id": "oTAGkOq3sigs",
        "colab_type": "code",
        "colab": {}
      },
      "source": [
        ""
      ],
      "execution_count": null,
      "outputs": []
    }
  ]
}
