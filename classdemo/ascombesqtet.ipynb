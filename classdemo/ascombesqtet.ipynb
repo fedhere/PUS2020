{
  "nbformat": 4,
  "nbformat_minor": 0,
  "metadata": {
    "kernelspec": {
      "display_name": "Python 3",
      "language": "python",
      "name": "python3"
    },
    "language_info": {
      "codemirror_mode": {
        "name": "ipython",
        "version": 3
      },
      "file_extension": ".py",
      "mimetype": "text/x-python",
      "name": "python",
      "nbconvert_exporter": "python",
      "pygments_lexer": "ipython3",
      "version": "3.7.3"
    },
    "latex_envs": {
      "LaTeX_envs_menu_present": true,
      "autoclose": false,
      "autocomplete": true,
      "bibliofile": "biblio.bib",
      "cite_by": "apalike",
      "current_citInitial": 1,
      "eqLabelWithNumbers": true,
      "eqNumInitial": 1,
      "hotkeys": {
        "equation": "Ctrl-E",
        "itemize": "Ctrl-I"
      },
      "labels_anchors": false,
      "latex_user_defs": false,
      "report_style_numbering": false,
      "user_envs_cfg": false
    },
    "nbTranslate": {
      "displayLangs": [
        "*"
      ],
      "hotkey": "alt-t",
      "langInMainMenu": true,
      "sourceLang": "en",
      "targetLang": "fr",
      "useGoogleTranslate": true
    },
    "toc": {
      "base_numbering": 1,
      "nav_menu": {
        "height": "485px",
        "width": "251px"
      },
      "number_sections": true,
      "sideBar": true,
      "skip_h1_title": false,
      "title_cell": "Table of Contents",
      "title_sidebar": "Contents",
      "toc_cell": false,
      "toc_position": {},
      "toc_section_display": "block",
      "toc_window_display": false
    },
    "colab": {
      "name": "ascombesqtet.ipynb",
      "provenance": [],
      "include_colab_link": true
    }
  },
  "cells": [
    {
      "cell_type": "markdown",
      "metadata": {
        "id": "view-in-github",
        "colab_type": "text"
      },
      "source": [
        "<a href=\"https://colab.research.google.com/github/fedhere/PUS2020_FBianco/blob/master/classdemo/ascombesqtet.ipynb\" target=\"_parent\"><img src=\"https://colab.research.google.com/assets/colab-badge.svg\" alt=\"Open In Colab\"/></a>"
      ]
    },
    {
      "cell_type": "code",
      "metadata": {
        "id": "B3ddZjpqFC8O"
      },
      "source": [
        ""
      ],
      "execution_count": null,
      "outputs": []
    },
    {
      "cell_type": "markdown",
      "metadata": {
        "id": "PVDuyw0UEs8z"
      },
      "source": [
        "# Author: FBB\n",
        "\n",
        "### This is a demo of the famous Anscombe's Quartet \n",
        "### developed BY Federica B Bianco, UD @fedhere \n",
        "### for CUSP Principle of Urban Informatics. \n",
        "\n",
        "## The moral of the story is: look at your data!\n",
        "### version 1: August 2015 \n",
        "### last update: October 2020\n"
      ]
    },
    {
      "cell_type": "code",
      "metadata": {
        "ExecuteTime": {
          "end_time": "2020-09-09T19:27:47.920293Z",
          "start_time": "2020-09-09T19:27:47.502913Z"
        },
        "id": "2PwrzeGHEs80",
        "outputId": "3b0d3708-6998-459d-e001-95846b49a2ce",
        "colab": {
          "base_uri": "https://localhost:8080/",
          "height": 33
        }
      },
      "source": [
        "import os\n",
        "import numpy as np\n",
        "import pylab as pl\n",
        "%pylab inline"
      ],
      "execution_count": 2,
      "outputs": [
        {
          "output_type": "stream",
          "text": [
            "Populating the interactive namespace from numpy and matplotlib\n"
          ],
          "name": "stdout"
        }
      ]
    },
    {
      "cell_type": "markdown",
      "metadata": {
        "id": "GhUqa0oeEs83"
      },
      "source": [
        "### lets read in a file which is not a regular csv file, called anscombe.txt, but let's use the pandas moduleand its read_csv function"
      ]
    },
    {
      "cell_type": "code",
      "metadata": {
        "ExecuteTime": {
          "end_time": "2020-09-09T19:28:06.069868Z",
          "start_time": "2020-09-09T19:28:05.912023Z"
        },
        "id": "MSVzRfamEs83",
        "outputId": "38325b95-c4f4-4354-a8c6-a62eecf4534f",
        "colab": {
          "base_uri": "https://localhost:8080/",
          "height": 507
        }
      },
      "source": [
        "import pandas as pd\n",
        "pd.read_csv(\"https://raw.githubusercontent.com/fedhere/PUS2020_FBianco/master/data/anscombe.txt\")"
      ],
      "execution_count": 1,
      "outputs": [
        {
          "output_type": "execute_result",
          "data": {
            "text/html": [
              "<div>\n",
              "<style scoped>\n",
              "    .dataframe tbody tr th:only-of-type {\n",
              "        vertical-align: middle;\n",
              "    }\n",
              "\n",
              "    .dataframe tbody tr th {\n",
              "        vertical-align: top;\n",
              "    }\n",
              "\n",
              "    .dataframe thead th {\n",
              "        text-align: right;\n",
              "    }\n",
              "</style>\n",
              "<table border=\"1\" class=\"dataframe\">\n",
              "  <thead>\n",
              "    <tr style=\"text-align: right;\">\n",
              "      <th></th>\n",
              "      <th>Anscombe's Quartet</th>\n",
              "    </tr>\n",
              "  </thead>\n",
              "  <tbody>\n",
              "    <tr>\n",
              "      <th>0</th>\n",
              "      <td>Anscombe-Data-Set I I II II III III IV IV</td>\n",
              "    </tr>\n",
              "    <tr>\n",
              "      <th>1</th>\n",
              "      <td>X Y X Y X Y X Y</td>\n",
              "    </tr>\n",
              "    <tr>\n",
              "      <th>2</th>\n",
              "      <td>10 8.04 10 9.14 10 7.46 8 6.58</td>\n",
              "    </tr>\n",
              "    <tr>\n",
              "      <th>3</th>\n",
              "      <td>8 6.95 8 8.14 8 6.77 8 5.76</td>\n",
              "    </tr>\n",
              "    <tr>\n",
              "      <th>4</th>\n",
              "      <td>13 7.58 13 8.74 13 12.74 8 7.71</td>\n",
              "    </tr>\n",
              "    <tr>\n",
              "      <th>5</th>\n",
              "      <td>9 8.81 9 8.77 9 7.11 8 8.84</td>\n",
              "    </tr>\n",
              "    <tr>\n",
              "      <th>6</th>\n",
              "      <td>11 8.33 11 9.26 11 7.81 8 8.47</td>\n",
              "    </tr>\n",
              "    <tr>\n",
              "      <th>7</th>\n",
              "      <td>14 9.96 14 8.1 14 8.84 8 7.04</td>\n",
              "    </tr>\n",
              "    <tr>\n",
              "      <th>8</th>\n",
              "      <td>6 7.24 6 6.13 6 6.08 8 5.25</td>\n",
              "    </tr>\n",
              "    <tr>\n",
              "      <th>9</th>\n",
              "      <td>4 4.26 4 3.1 4 5.39 19 12.5</td>\n",
              "    </tr>\n",
              "    <tr>\n",
              "      <th>10</th>\n",
              "      <td>12 10.84 12 9.13 12 8.15 8 5.56</td>\n",
              "    </tr>\n",
              "    <tr>\n",
              "      <th>11</th>\n",
              "      <td>7 4.82 7 7.26 7 6.42 8 7.91</td>\n",
              "    </tr>\n",
              "    <tr>\n",
              "      <th>12</th>\n",
              "      <td>5 5.68 5 4.74 5 5.73 8 6.89</td>\n",
              "    </tr>\n",
              "    <tr>\n",
              "      <th>13</th>\n",
              "      <td>9.00 7.50 9.00 7.50 9.00 7.50 9.00 7.50 Mean</td>\n",
              "    </tr>\n",
              "    <tr>\n",
              "      <th>14</th>\n",
              "      <td>10.00 3.75 10.00 3.75 10.00 3.75 10.00 3.75 V...</td>\n",
              "    </tr>\n",
              "    <tr>\n",
              "      <th>15</th>\n",
              "      <td>0.816  0.816  0.816  0.817  Correlation (Pear...</td>\n",
              "    </tr>\n",
              "  </tbody>\n",
              "</table>\n",
              "</div>"
            ],
            "text/plain": [
              "                              Anscombe's Quartet     \n",
              "0         Anscombe-Data-Set I I II II III III IV IV  \n",
              "1                                   X Y X Y X Y X Y  \n",
              "2                    10 8.04 10 9.14 10 7.46 8 6.58  \n",
              "3                       8 6.95 8 8.14 8 6.77 8 5.76  \n",
              "4                   13 7.58 13 8.74 13 12.74 8 7.71  \n",
              "5                       9 8.81 9 8.77 9 7.11 8 8.84  \n",
              "6                    11 8.33 11 9.26 11 7.81 8 8.47  \n",
              "7                     14 9.96 14 8.1 14 8.84 8 7.04  \n",
              "8                       6 7.24 6 6.13 6 6.08 8 5.25  \n",
              "9                       4 4.26 4 3.1 4 5.39 19 12.5  \n",
              "10                  12 10.84 12 9.13 12 8.15 8 5.56  \n",
              "11                      7 4.82 7 7.26 7 6.42 8 7.91  \n",
              "12                      5 5.68 5 4.74 5 5.73 8 6.89  \n",
              "13      9.00 7.50 9.00 7.50 9.00 7.50 9.00 7.50 Mean \n",
              "14   10.00 3.75 10.00 3.75 10.00 3.75 10.00 3.75 V...\n",
              "15   0.816  0.816  0.816  0.817  Correlation (Pear..."
            ]
          },
          "metadata": {
            "tags": []
          },
          "execution_count": 1
        }
      ]
    },
    {
      "cell_type": "markdown",
      "metadata": {
        "id": "Ms6Rv2GOEs86"
      },
      "source": [
        "notice that I used the link to github starting with raw: https://raw.githubusercontent.com/fedhere/UInotebooks/master/anscombe.txt. The page https://github.com/fedhere/UInotebooks/blob/master/anscombe.txt is an html file hosting the text for rendering. Downloading that would download an html file. Try it. "
      ]
    },
    {
      "cell_type": "markdown",
      "metadata": {
        "id": "tuvl0v-GEs86"
      },
      "source": [
        "## pandas organizes datasets in \"data frames\"\n",
        "\n",
        "## lets read the file a little better by identifying what to use as header to name our variables"
      ]
    },
    {
      "cell_type": "code",
      "metadata": {
        "ExecuteTime": {
          "end_time": "2020-09-09T19:28:16.587421Z",
          "start_time": "2020-09-09T19:28:16.443484Z"
        },
        "id": "C0N3Sy0SEs87",
        "outputId": "6fa8fa36-e3c2-49ab-d124-1b4e8d87f3c1",
        "colab": {
          "base_uri": "https://localhost:8080/",
          "height": 597
        }
      },
      "source": [
        "pd.read_csv(\"https://raw.githubusercontent.com/fedhere/PUS2020_FBianco/master/data/anscombe.txt\", \n",
        "            header = [1, 2], delimiter=' ')"
      ],
      "execution_count": 3,
      "outputs": [
        {
          "output_type": "execute_result",
          "data": {
            "text/html": [
              "<div>\n",
              "<style scoped>\n",
              "    .dataframe tbody tr th:only-of-type {\n",
              "        vertical-align: middle;\n",
              "    }\n",
              "\n",
              "    .dataframe tbody tr th {\n",
              "        vertical-align: top;\n",
              "    }\n",
              "\n",
              "    .dataframe thead tr th {\n",
              "        text-align: left;\n",
              "    }\n",
              "</style>\n",
              "<table border=\"1\" class=\"dataframe\">\n",
              "  <thead>\n",
              "    <tr>\n",
              "      <th></th>\n",
              "      <th>Anscombe-Data-Set</th>\n",
              "      <th colspan=\"2\" halign=\"left\">I</th>\n",
              "      <th colspan=\"2\" halign=\"left\">II</th>\n",
              "      <th colspan=\"2\" halign=\"left\">III</th>\n",
              "      <th colspan=\"2\" halign=\"left\">IV</th>\n",
              "      <th>Unnamed: 9_level_0</th>\n",
              "      <th>Unnamed: 10_level_0</th>\n",
              "    </tr>\n",
              "    <tr>\n",
              "      <th></th>\n",
              "      <th>Unnamed: 0_level_1</th>\n",
              "      <th>X</th>\n",
              "      <th>Y</th>\n",
              "      <th>X</th>\n",
              "      <th>Y</th>\n",
              "      <th>X</th>\n",
              "      <th>Y</th>\n",
              "      <th>X</th>\n",
              "      <th>Y</th>\n",
              "      <th>Unnamed: 9_level_1</th>\n",
              "      <th>Unnamed: 10_level_1</th>\n",
              "    </tr>\n",
              "  </thead>\n",
              "  <tbody>\n",
              "    <tr>\n",
              "      <th>0</th>\n",
              "      <td>NaN</td>\n",
              "      <td>10.000</td>\n",
              "      <td>8.04</td>\n",
              "      <td>10.000</td>\n",
              "      <td>9.14</td>\n",
              "      <td>10.000</td>\n",
              "      <td>7.46</td>\n",
              "      <td>8.000</td>\n",
              "      <td>6.58</td>\n",
              "      <td>NaN</td>\n",
              "      <td>NaN</td>\n",
              "    </tr>\n",
              "    <tr>\n",
              "      <th>1</th>\n",
              "      <td>NaN</td>\n",
              "      <td>8.000</td>\n",
              "      <td>6.95</td>\n",
              "      <td>8.000</td>\n",
              "      <td>8.14</td>\n",
              "      <td>8.000</td>\n",
              "      <td>6.77</td>\n",
              "      <td>8.000</td>\n",
              "      <td>5.76</td>\n",
              "      <td>NaN</td>\n",
              "      <td>NaN</td>\n",
              "    </tr>\n",
              "    <tr>\n",
              "      <th>2</th>\n",
              "      <td>NaN</td>\n",
              "      <td>13.000</td>\n",
              "      <td>7.58</td>\n",
              "      <td>13.000</td>\n",
              "      <td>8.74</td>\n",
              "      <td>13.000</td>\n",
              "      <td>12.74</td>\n",
              "      <td>8.000</td>\n",
              "      <td>7.71</td>\n",
              "      <td>NaN</td>\n",
              "      <td>NaN</td>\n",
              "    </tr>\n",
              "    <tr>\n",
              "      <th>3</th>\n",
              "      <td>NaN</td>\n",
              "      <td>9.000</td>\n",
              "      <td>8.81</td>\n",
              "      <td>9.000</td>\n",
              "      <td>8.77</td>\n",
              "      <td>9.000</td>\n",
              "      <td>7.11</td>\n",
              "      <td>8.000</td>\n",
              "      <td>8.84</td>\n",
              "      <td>NaN</td>\n",
              "      <td>NaN</td>\n",
              "    </tr>\n",
              "    <tr>\n",
              "      <th>4</th>\n",
              "      <td>NaN</td>\n",
              "      <td>11.000</td>\n",
              "      <td>8.33</td>\n",
              "      <td>11.000</td>\n",
              "      <td>9.26</td>\n",
              "      <td>11.000</td>\n",
              "      <td>7.81</td>\n",
              "      <td>8.000</td>\n",
              "      <td>8.47</td>\n",
              "      <td>NaN</td>\n",
              "      <td>NaN</td>\n",
              "    </tr>\n",
              "    <tr>\n",
              "      <th>5</th>\n",
              "      <td>NaN</td>\n",
              "      <td>14.000</td>\n",
              "      <td>9.96</td>\n",
              "      <td>14.000</td>\n",
              "      <td>8.10</td>\n",
              "      <td>14.000</td>\n",
              "      <td>8.84</td>\n",
              "      <td>8.000</td>\n",
              "      <td>7.04</td>\n",
              "      <td>NaN</td>\n",
              "      <td>NaN</td>\n",
              "    </tr>\n",
              "    <tr>\n",
              "      <th>6</th>\n",
              "      <td>NaN</td>\n",
              "      <td>6.000</td>\n",
              "      <td>7.24</td>\n",
              "      <td>6.000</td>\n",
              "      <td>6.13</td>\n",
              "      <td>6.000</td>\n",
              "      <td>6.08</td>\n",
              "      <td>8.000</td>\n",
              "      <td>5.25</td>\n",
              "      <td>NaN</td>\n",
              "      <td>NaN</td>\n",
              "    </tr>\n",
              "    <tr>\n",
              "      <th>7</th>\n",
              "      <td>NaN</td>\n",
              "      <td>4.000</td>\n",
              "      <td>4.26</td>\n",
              "      <td>4.000</td>\n",
              "      <td>3.10</td>\n",
              "      <td>4.000</td>\n",
              "      <td>5.39</td>\n",
              "      <td>19.000</td>\n",
              "      <td>12.50</td>\n",
              "      <td>NaN</td>\n",
              "      <td>NaN</td>\n",
              "    </tr>\n",
              "    <tr>\n",
              "      <th>8</th>\n",
              "      <td>NaN</td>\n",
              "      <td>12.000</td>\n",
              "      <td>10.84</td>\n",
              "      <td>12.000</td>\n",
              "      <td>9.13</td>\n",
              "      <td>12.000</td>\n",
              "      <td>8.15</td>\n",
              "      <td>8.000</td>\n",
              "      <td>5.56</td>\n",
              "      <td>NaN</td>\n",
              "      <td>NaN</td>\n",
              "    </tr>\n",
              "    <tr>\n",
              "      <th>9</th>\n",
              "      <td>NaN</td>\n",
              "      <td>7.000</td>\n",
              "      <td>4.82</td>\n",
              "      <td>7.000</td>\n",
              "      <td>7.26</td>\n",
              "      <td>7.000</td>\n",
              "      <td>6.42</td>\n",
              "      <td>8.000</td>\n",
              "      <td>7.91</td>\n",
              "      <td>NaN</td>\n",
              "      <td>NaN</td>\n",
              "    </tr>\n",
              "    <tr>\n",
              "      <th>10</th>\n",
              "      <td>NaN</td>\n",
              "      <td>5.000</td>\n",
              "      <td>5.68</td>\n",
              "      <td>5.000</td>\n",
              "      <td>4.74</td>\n",
              "      <td>5.000</td>\n",
              "      <td>5.73</td>\n",
              "      <td>8.000</td>\n",
              "      <td>6.89</td>\n",
              "      <td>NaN</td>\n",
              "      <td>NaN</td>\n",
              "    </tr>\n",
              "    <tr>\n",
              "      <th>11</th>\n",
              "      <td>NaN</td>\n",
              "      <td>NaN</td>\n",
              "      <td>NaN</td>\n",
              "      <td>NaN</td>\n",
              "      <td>NaN</td>\n",
              "      <td>NaN</td>\n",
              "      <td>NaN</td>\n",
              "      <td>NaN</td>\n",
              "      <td>NaN</td>\n",
              "      <td>NaN</td>\n",
              "      <td>NaN</td>\n",
              "    </tr>\n",
              "    <tr>\n",
              "      <th>12</th>\n",
              "      <td>NaN</td>\n",
              "      <td>9.000</td>\n",
              "      <td>7.50</td>\n",
              "      <td>9.000</td>\n",
              "      <td>7.50</td>\n",
              "      <td>9.000</td>\n",
              "      <td>7.50</td>\n",
              "      <td>9.000</td>\n",
              "      <td>7.50</td>\n",
              "      <td>Mean</td>\n",
              "      <td>NaN</td>\n",
              "    </tr>\n",
              "    <tr>\n",
              "      <th>13</th>\n",
              "      <td>NaN</td>\n",
              "      <td>NaN</td>\n",
              "      <td>NaN</td>\n",
              "      <td>NaN</td>\n",
              "      <td>NaN</td>\n",
              "      <td>NaN</td>\n",
              "      <td>NaN</td>\n",
              "      <td>NaN</td>\n",
              "      <td>NaN</td>\n",
              "      <td>NaN</td>\n",
              "      <td>NaN</td>\n",
              "    </tr>\n",
              "    <tr>\n",
              "      <th>14</th>\n",
              "      <td>NaN</td>\n",
              "      <td>10.000</td>\n",
              "      <td>3.75</td>\n",
              "      <td>10.000</td>\n",
              "      <td>3.75</td>\n",
              "      <td>10.000</td>\n",
              "      <td>3.75</td>\n",
              "      <td>10.000</td>\n",
              "      <td>3.75</td>\n",
              "      <td>Variance</td>\n",
              "      <td>(Population)</td>\n",
              "    </tr>\n",
              "    <tr>\n",
              "      <th>15</th>\n",
              "      <td>NaN</td>\n",
              "      <td>NaN</td>\n",
              "      <td>NaN</td>\n",
              "      <td>NaN</td>\n",
              "      <td>NaN</td>\n",
              "      <td>NaN</td>\n",
              "      <td>NaN</td>\n",
              "      <td>NaN</td>\n",
              "      <td>NaN</td>\n",
              "      <td>NaN</td>\n",
              "      <td>NaN</td>\n",
              "    </tr>\n",
              "    <tr>\n",
              "      <th>16</th>\n",
              "      <td>NaN</td>\n",
              "      <td>0.816</td>\n",
              "      <td>NaN</td>\n",
              "      <td>0.816</td>\n",
              "      <td>NaN</td>\n",
              "      <td>0.816</td>\n",
              "      <td>NaN</td>\n",
              "      <td>0.817</td>\n",
              "      <td>NaN</td>\n",
              "      <td>Correlation</td>\n",
              "      <td>(Pearson)</td>\n",
              "    </tr>\n",
              "  </tbody>\n",
              "</table>\n",
              "</div>"
            ],
            "text/plain": [
              "    Anscombe-Data-Set       I  ... Unnamed: 9_level_0 Unnamed: 10_level_0\n",
              "   Unnamed: 0_level_1       X  ... Unnamed: 9_level_1 Unnamed: 10_level_1\n",
              "0                 NaN  10.000  ...                NaN                 NaN\n",
              "1                 NaN   8.000  ...                NaN                 NaN\n",
              "2                 NaN  13.000  ...                NaN                 NaN\n",
              "3                 NaN   9.000  ...                NaN                 NaN\n",
              "4                 NaN  11.000  ...                NaN                 NaN\n",
              "5                 NaN  14.000  ...                NaN                 NaN\n",
              "6                 NaN   6.000  ...                NaN                 NaN\n",
              "7                 NaN   4.000  ...                NaN                 NaN\n",
              "8                 NaN  12.000  ...                NaN                 NaN\n",
              "9                 NaN   7.000  ...                NaN                 NaN\n",
              "10                NaN   5.000  ...                NaN                 NaN\n",
              "11                NaN     NaN  ...                NaN                 NaN\n",
              "12                NaN   9.000  ...               Mean                 NaN\n",
              "13                NaN     NaN  ...                NaN                 NaN\n",
              "14                NaN  10.000  ...           Variance        (Population)\n",
              "15                NaN     NaN  ...                NaN                 NaN\n",
              "16                NaN   0.816  ...        Correlation           (Pearson)\n",
              "\n",
              "[17 rows x 11 columns]"
            ]
          },
          "metadata": {
            "tags": []
          },
          "execution_count": 3
        }
      ]
    },
    {
      "cell_type": "markdown",
      "metadata": {
        "id": "ReWw6DfPEs89"
      },
      "source": [
        "## lets read the file a little better yet by only reading the rows we want "
      ]
    },
    {
      "cell_type": "code",
      "metadata": {
        "ExecuteTime": {
          "end_time": "2020-09-09T19:28:24.260059Z",
          "start_time": "2020-09-09T19:28:24.141009Z"
        },
        "id": "AFODDGDUEs8-",
        "outputId": "0e911833-cd96-469d-c682-5aacedc76508",
        "colab": {
          "base_uri": "https://localhost:8080/",
          "height": 392
        }
      },
      "source": [
        "pd.read_csv(\"https://raw.githubusercontent.com/fedhere/PUS2020_FBianco/master/data/anscombe.txt\", \n",
        "            header = [1, 2], nrows = 11, delimiter=' ')"
      ],
      "execution_count": 4,
      "outputs": [
        {
          "output_type": "execute_result",
          "data": {
            "text/html": [
              "<div>\n",
              "<style scoped>\n",
              "    .dataframe tbody tr th:only-of-type {\n",
              "        vertical-align: middle;\n",
              "    }\n",
              "\n",
              "    .dataframe tbody tr th {\n",
              "        vertical-align: top;\n",
              "    }\n",
              "\n",
              "    .dataframe thead tr th {\n",
              "        text-align: left;\n",
              "    }\n",
              "</style>\n",
              "<table border=\"1\" class=\"dataframe\">\n",
              "  <thead>\n",
              "    <tr>\n",
              "      <th></th>\n",
              "      <th>Anscombe-Data-Set</th>\n",
              "      <th colspan=\"2\" halign=\"left\">I</th>\n",
              "      <th colspan=\"2\" halign=\"left\">II</th>\n",
              "      <th colspan=\"2\" halign=\"left\">III</th>\n",
              "      <th colspan=\"2\" halign=\"left\">IV</th>\n",
              "      <th>Unnamed: 9_level_0</th>\n",
              "      <th>Unnamed: 10_level_0</th>\n",
              "    </tr>\n",
              "    <tr>\n",
              "      <th></th>\n",
              "      <th>Unnamed: 0_level_1</th>\n",
              "      <th>X</th>\n",
              "      <th>Y</th>\n",
              "      <th>X</th>\n",
              "      <th>Y</th>\n",
              "      <th>X</th>\n",
              "      <th>Y</th>\n",
              "      <th>X</th>\n",
              "      <th>Y</th>\n",
              "      <th>Unnamed: 9_level_1</th>\n",
              "      <th>Unnamed: 10_level_1</th>\n",
              "    </tr>\n",
              "  </thead>\n",
              "  <tbody>\n",
              "    <tr>\n",
              "      <th>0</th>\n",
              "      <td>NaN</td>\n",
              "      <td>10</td>\n",
              "      <td>8.04</td>\n",
              "      <td>10</td>\n",
              "      <td>9.14</td>\n",
              "      <td>10</td>\n",
              "      <td>7.46</td>\n",
              "      <td>8</td>\n",
              "      <td>6.58</td>\n",
              "      <td>NaN</td>\n",
              "      <td>NaN</td>\n",
              "    </tr>\n",
              "    <tr>\n",
              "      <th>1</th>\n",
              "      <td>NaN</td>\n",
              "      <td>8</td>\n",
              "      <td>6.95</td>\n",
              "      <td>8</td>\n",
              "      <td>8.14</td>\n",
              "      <td>8</td>\n",
              "      <td>6.77</td>\n",
              "      <td>8</td>\n",
              "      <td>5.76</td>\n",
              "      <td>NaN</td>\n",
              "      <td>NaN</td>\n",
              "    </tr>\n",
              "    <tr>\n",
              "      <th>2</th>\n",
              "      <td>NaN</td>\n",
              "      <td>13</td>\n",
              "      <td>7.58</td>\n",
              "      <td>13</td>\n",
              "      <td>8.74</td>\n",
              "      <td>13</td>\n",
              "      <td>12.74</td>\n",
              "      <td>8</td>\n",
              "      <td>7.71</td>\n",
              "      <td>NaN</td>\n",
              "      <td>NaN</td>\n",
              "    </tr>\n",
              "    <tr>\n",
              "      <th>3</th>\n",
              "      <td>NaN</td>\n",
              "      <td>9</td>\n",
              "      <td>8.81</td>\n",
              "      <td>9</td>\n",
              "      <td>8.77</td>\n",
              "      <td>9</td>\n",
              "      <td>7.11</td>\n",
              "      <td>8</td>\n",
              "      <td>8.84</td>\n",
              "      <td>NaN</td>\n",
              "      <td>NaN</td>\n",
              "    </tr>\n",
              "    <tr>\n",
              "      <th>4</th>\n",
              "      <td>NaN</td>\n",
              "      <td>11</td>\n",
              "      <td>8.33</td>\n",
              "      <td>11</td>\n",
              "      <td>9.26</td>\n",
              "      <td>11</td>\n",
              "      <td>7.81</td>\n",
              "      <td>8</td>\n",
              "      <td>8.47</td>\n",
              "      <td>NaN</td>\n",
              "      <td>NaN</td>\n",
              "    </tr>\n",
              "    <tr>\n",
              "      <th>5</th>\n",
              "      <td>NaN</td>\n",
              "      <td>14</td>\n",
              "      <td>9.96</td>\n",
              "      <td>14</td>\n",
              "      <td>8.10</td>\n",
              "      <td>14</td>\n",
              "      <td>8.84</td>\n",
              "      <td>8</td>\n",
              "      <td>7.04</td>\n",
              "      <td>NaN</td>\n",
              "      <td>NaN</td>\n",
              "    </tr>\n",
              "    <tr>\n",
              "      <th>6</th>\n",
              "      <td>NaN</td>\n",
              "      <td>6</td>\n",
              "      <td>7.24</td>\n",
              "      <td>6</td>\n",
              "      <td>6.13</td>\n",
              "      <td>6</td>\n",
              "      <td>6.08</td>\n",
              "      <td>8</td>\n",
              "      <td>5.25</td>\n",
              "      <td>NaN</td>\n",
              "      <td>NaN</td>\n",
              "    </tr>\n",
              "    <tr>\n",
              "      <th>7</th>\n",
              "      <td>NaN</td>\n",
              "      <td>4</td>\n",
              "      <td>4.26</td>\n",
              "      <td>4</td>\n",
              "      <td>3.10</td>\n",
              "      <td>4</td>\n",
              "      <td>5.39</td>\n",
              "      <td>19</td>\n",
              "      <td>12.50</td>\n",
              "      <td>NaN</td>\n",
              "      <td>NaN</td>\n",
              "    </tr>\n",
              "    <tr>\n",
              "      <th>8</th>\n",
              "      <td>NaN</td>\n",
              "      <td>12</td>\n",
              "      <td>10.84</td>\n",
              "      <td>12</td>\n",
              "      <td>9.13</td>\n",
              "      <td>12</td>\n",
              "      <td>8.15</td>\n",
              "      <td>8</td>\n",
              "      <td>5.56</td>\n",
              "      <td>NaN</td>\n",
              "      <td>NaN</td>\n",
              "    </tr>\n",
              "    <tr>\n",
              "      <th>9</th>\n",
              "      <td>NaN</td>\n",
              "      <td>7</td>\n",
              "      <td>4.82</td>\n",
              "      <td>7</td>\n",
              "      <td>7.26</td>\n",
              "      <td>7</td>\n",
              "      <td>6.42</td>\n",
              "      <td>8</td>\n",
              "      <td>7.91</td>\n",
              "      <td>NaN</td>\n",
              "      <td>NaN</td>\n",
              "    </tr>\n",
              "    <tr>\n",
              "      <th>10</th>\n",
              "      <td>NaN</td>\n",
              "      <td>5</td>\n",
              "      <td>5.68</td>\n",
              "      <td>5</td>\n",
              "      <td>4.74</td>\n",
              "      <td>5</td>\n",
              "      <td>5.73</td>\n",
              "      <td>8</td>\n",
              "      <td>6.89</td>\n",
              "      <td>NaN</td>\n",
              "      <td>NaN</td>\n",
              "    </tr>\n",
              "  </tbody>\n",
              "</table>\n",
              "</div>"
            ],
            "text/plain": [
              "    Anscombe-Data-Set   I         ...     IV Unnamed: 9_level_0 Unnamed: 10_level_0\n",
              "   Unnamed: 0_level_1   X      Y  ...      Y Unnamed: 9_level_1 Unnamed: 10_level_1\n",
              "0                 NaN  10   8.04  ...   6.58                NaN                 NaN\n",
              "1                 NaN   8   6.95  ...   5.76                NaN                 NaN\n",
              "2                 NaN  13   7.58  ...   7.71                NaN                 NaN\n",
              "3                 NaN   9   8.81  ...   8.84                NaN                 NaN\n",
              "4                 NaN  11   8.33  ...   8.47                NaN                 NaN\n",
              "5                 NaN  14   9.96  ...   7.04                NaN                 NaN\n",
              "6                 NaN   6   7.24  ...   5.25                NaN                 NaN\n",
              "7                 NaN   4   4.26  ...  12.50                NaN                 NaN\n",
              "8                 NaN  12  10.84  ...   5.56                NaN                 NaN\n",
              "9                 NaN   7   4.82  ...   7.91                NaN                 NaN\n",
              "10                NaN   5   5.68  ...   6.89                NaN                 NaN\n",
              "\n",
              "[11 rows x 11 columns]"
            ]
          },
          "metadata": {
            "tags": []
          },
          "execution_count": 4
        }
      ]
    },
    {
      "cell_type": "markdown",
      "metadata": {
        "id": "l68CO-86GQPM"
      },
      "source": [
        "remove useless columns"
      ]
    },
    {
      "cell_type": "code",
      "metadata": {
        "id": "WJ_p4NnVGUT3",
        "outputId": "0cf0bf1b-ea4b-4153-e6ec-3ad9a3c0c798",
        "colab": {
          "base_uri": "https://localhost:8080/",
          "height": 392
        }
      },
      "source": [
        "pd.read_csv(\"https://raw.githubusercontent.com/fedhere/PUS2020_FBianco/master/data/anscombe.txt\", \n",
        "                   header = [1, 2], nrows = 11, delimiter=' ').iloc[:,1:9]"
      ],
      "execution_count": 5,
      "outputs": [
        {
          "output_type": "execute_result",
          "data": {
            "text/html": [
              "<div>\n",
              "<style scoped>\n",
              "    .dataframe tbody tr th:only-of-type {\n",
              "        vertical-align: middle;\n",
              "    }\n",
              "\n",
              "    .dataframe tbody tr th {\n",
              "        vertical-align: top;\n",
              "    }\n",
              "\n",
              "    .dataframe thead tr th {\n",
              "        text-align: left;\n",
              "    }\n",
              "</style>\n",
              "<table border=\"1\" class=\"dataframe\">\n",
              "  <thead>\n",
              "    <tr>\n",
              "      <th></th>\n",
              "      <th colspan=\"2\" halign=\"left\">I</th>\n",
              "      <th colspan=\"2\" halign=\"left\">II</th>\n",
              "      <th colspan=\"2\" halign=\"left\">III</th>\n",
              "      <th colspan=\"2\" halign=\"left\">IV</th>\n",
              "    </tr>\n",
              "    <tr>\n",
              "      <th></th>\n",
              "      <th>X</th>\n",
              "      <th>Y</th>\n",
              "      <th>X</th>\n",
              "      <th>Y</th>\n",
              "      <th>X</th>\n",
              "      <th>Y</th>\n",
              "      <th>X</th>\n",
              "      <th>Y</th>\n",
              "    </tr>\n",
              "  </thead>\n",
              "  <tbody>\n",
              "    <tr>\n",
              "      <th>0</th>\n",
              "      <td>10</td>\n",
              "      <td>8.04</td>\n",
              "      <td>10</td>\n",
              "      <td>9.14</td>\n",
              "      <td>10</td>\n",
              "      <td>7.46</td>\n",
              "      <td>8</td>\n",
              "      <td>6.58</td>\n",
              "    </tr>\n",
              "    <tr>\n",
              "      <th>1</th>\n",
              "      <td>8</td>\n",
              "      <td>6.95</td>\n",
              "      <td>8</td>\n",
              "      <td>8.14</td>\n",
              "      <td>8</td>\n",
              "      <td>6.77</td>\n",
              "      <td>8</td>\n",
              "      <td>5.76</td>\n",
              "    </tr>\n",
              "    <tr>\n",
              "      <th>2</th>\n",
              "      <td>13</td>\n",
              "      <td>7.58</td>\n",
              "      <td>13</td>\n",
              "      <td>8.74</td>\n",
              "      <td>13</td>\n",
              "      <td>12.74</td>\n",
              "      <td>8</td>\n",
              "      <td>7.71</td>\n",
              "    </tr>\n",
              "    <tr>\n",
              "      <th>3</th>\n",
              "      <td>9</td>\n",
              "      <td>8.81</td>\n",
              "      <td>9</td>\n",
              "      <td>8.77</td>\n",
              "      <td>9</td>\n",
              "      <td>7.11</td>\n",
              "      <td>8</td>\n",
              "      <td>8.84</td>\n",
              "    </tr>\n",
              "    <tr>\n",
              "      <th>4</th>\n",
              "      <td>11</td>\n",
              "      <td>8.33</td>\n",
              "      <td>11</td>\n",
              "      <td>9.26</td>\n",
              "      <td>11</td>\n",
              "      <td>7.81</td>\n",
              "      <td>8</td>\n",
              "      <td>8.47</td>\n",
              "    </tr>\n",
              "    <tr>\n",
              "      <th>5</th>\n",
              "      <td>14</td>\n",
              "      <td>9.96</td>\n",
              "      <td>14</td>\n",
              "      <td>8.10</td>\n",
              "      <td>14</td>\n",
              "      <td>8.84</td>\n",
              "      <td>8</td>\n",
              "      <td>7.04</td>\n",
              "    </tr>\n",
              "    <tr>\n",
              "      <th>6</th>\n",
              "      <td>6</td>\n",
              "      <td>7.24</td>\n",
              "      <td>6</td>\n",
              "      <td>6.13</td>\n",
              "      <td>6</td>\n",
              "      <td>6.08</td>\n",
              "      <td>8</td>\n",
              "      <td>5.25</td>\n",
              "    </tr>\n",
              "    <tr>\n",
              "      <th>7</th>\n",
              "      <td>4</td>\n",
              "      <td>4.26</td>\n",
              "      <td>4</td>\n",
              "      <td>3.10</td>\n",
              "      <td>4</td>\n",
              "      <td>5.39</td>\n",
              "      <td>19</td>\n",
              "      <td>12.50</td>\n",
              "    </tr>\n",
              "    <tr>\n",
              "      <th>8</th>\n",
              "      <td>12</td>\n",
              "      <td>10.84</td>\n",
              "      <td>12</td>\n",
              "      <td>9.13</td>\n",
              "      <td>12</td>\n",
              "      <td>8.15</td>\n",
              "      <td>8</td>\n",
              "      <td>5.56</td>\n",
              "    </tr>\n",
              "    <tr>\n",
              "      <th>9</th>\n",
              "      <td>7</td>\n",
              "      <td>4.82</td>\n",
              "      <td>7</td>\n",
              "      <td>7.26</td>\n",
              "      <td>7</td>\n",
              "      <td>6.42</td>\n",
              "      <td>8</td>\n",
              "      <td>7.91</td>\n",
              "    </tr>\n",
              "    <tr>\n",
              "      <th>10</th>\n",
              "      <td>5</td>\n",
              "      <td>5.68</td>\n",
              "      <td>5</td>\n",
              "      <td>4.74</td>\n",
              "      <td>5</td>\n",
              "      <td>5.73</td>\n",
              "      <td>8</td>\n",
              "      <td>6.89</td>\n",
              "    </tr>\n",
              "  </tbody>\n",
              "</table>\n",
              "</div>"
            ],
            "text/plain": [
              "     I         II       III         IV       \n",
              "     X      Y   X     Y   X      Y   X      Y\n",
              "0   10   8.04  10  9.14  10   7.46   8   6.58\n",
              "1    8   6.95   8  8.14   8   6.77   8   5.76\n",
              "2   13   7.58  13  8.74  13  12.74   8   7.71\n",
              "3    9   8.81   9  8.77   9   7.11   8   8.84\n",
              "4   11   8.33  11  9.26  11   7.81   8   8.47\n",
              "5   14   9.96  14  8.10  14   8.84   8   7.04\n",
              "6    6   7.24   6  6.13   6   6.08   8   5.25\n",
              "7    4   4.26   4  3.10   4   5.39  19  12.50\n",
              "8   12  10.84  12  9.13  12   8.15   8   5.56\n",
              "9    7   4.82   7  7.26   7   6.42   8   7.91\n",
              "10   5   5.68   5  4.74   5   5.73   8   6.89"
            ]
          },
          "metadata": {
            "tags": []
          },
          "execution_count": 5
        }
      ]
    },
    {
      "cell_type": "markdown",
      "metadata": {
        "id": "NmLOIF4YEs9A"
      },
      "source": [
        "## read in the dataframe into a variable _ansc_\n"
      ]
    },
    {
      "cell_type": "code",
      "metadata": {
        "ExecuteTime": {
          "end_time": "2020-09-09T19:28:33.872640Z",
          "start_time": "2020-09-09T19:28:33.724252Z"
        },
        "id": "mo1xAfq9Es9B",
        "outputId": "91d380c2-fab6-4d76-e586-566399a92223",
        "colab": {
          "base_uri": "https://localhost:8080/",
          "height": 261
        }
      },
      "source": [
        "ansc = pd.read_csv(\"https://raw.githubusercontent.com/fedhere/PUS2020_FBianco/master/data/anscombe.txt\", \n",
        "                   header = [1, 2], nrows = 11, delimiter=' ').iloc[:,1:9]\n",
        "ansc.info()"
      ],
      "execution_count": 6,
      "outputs": [
        {
          "output_type": "stream",
          "text": [
            "<class 'pandas.core.frame.DataFrame'>\n",
            "RangeIndex: 11 entries, 0 to 10\n",
            "Data columns (total 8 columns):\n",
            " #   Column    Non-Null Count  Dtype  \n",
            "---  ------    --------------  -----  \n",
            " 0   (I, X)    11 non-null     int64  \n",
            " 1   (I, Y)    11 non-null     float64\n",
            " 2   (II, X)   11 non-null     int64  \n",
            " 3   (II, Y)   11 non-null     float64\n",
            " 4   (III, X)  11 non-null     int64  \n",
            " 5   (III, Y)  11 non-null     float64\n",
            " 6   (IV, X)   11 non-null     int64  \n",
            " 7   (IV, Y)   11 non-null     float64\n",
            "dtypes: float64(4), int64(4)\n",
            "memory usage: 832.0 bytes\n"
          ],
          "name": "stdout"
        }
      ]
    },
    {
      "cell_type": "markdown",
      "metadata": {
        "id": "iF8F_k7CEs9E"
      },
      "source": [
        "A dataframe is a python object, or class. In this case the class hosts 4 datasets: I,II,III,IV. \n",
        "We can think of the dataframe as a python dictionary as well. \n",
        "\n",
        "If we think of it as a class lets refer to the first dataset identified as I as ```ansc.I```\n",
        "\n",
        "Otherwise I can refer to it as you would for a dictionary as ```ansc[I]```\n"
      ]
    },
    {
      "cell_type": "markdown",
      "metadata": {
        "id": "TY3MCA0gEs9E"
      },
      "source": [
        "#1 print each of the 4 distributions\n"
      ]
    },
    {
      "cell_type": "code",
      "metadata": {
        "id": "sAoFII-pFFVX",
        "outputId": "9a0f09fc-0c96-4a98-c825-c035d21b81f8",
        "colab": {
          "base_uri": "https://localhost:8080/",
          "height": 862
        }
      },
      "source": [
        "for c in ansc.columns[1::2]:\n",
        "  print(c)\n",
        "  print(ansc[c])"
      ],
      "execution_count": 24,
      "outputs": [
        {
          "output_type": "stream",
          "text": [
            "('I', 'Y')\n",
            "0      8.04\n",
            "1      6.95\n",
            "2      7.58\n",
            "3      8.81\n",
            "4      8.33\n",
            "5      9.96\n",
            "6      7.24\n",
            "7      4.26\n",
            "8     10.84\n",
            "9      4.82\n",
            "10     5.68\n",
            "Name: (I, Y), dtype: float64\n",
            "('II', 'Y')\n",
            "0     9.14\n",
            "1     8.14\n",
            "2     8.74\n",
            "3     8.77\n",
            "4     9.26\n",
            "5     8.10\n",
            "6     6.13\n",
            "7     3.10\n",
            "8     9.13\n",
            "9     7.26\n",
            "10    4.74\n",
            "Name: (II, Y), dtype: float64\n",
            "('III', 'Y')\n",
            "0      7.46\n",
            "1      6.77\n",
            "2     12.74\n",
            "3      7.11\n",
            "4      7.81\n",
            "5      8.84\n",
            "6      6.08\n",
            "7      5.39\n",
            "8      8.15\n",
            "9      6.42\n",
            "10     5.73\n",
            "Name: (III, Y), dtype: float64\n",
            "('IV', 'Y')\n",
            "0      6.58\n",
            "1      5.76\n",
            "2      7.71\n",
            "3      8.84\n",
            "4      8.47\n",
            "5      7.04\n",
            "6      5.25\n",
            "7     12.50\n",
            "8      5.56\n",
            "9      7.91\n",
            "10     6.89\n",
            "Name: (IV, Y), dtype: float64\n"
          ],
          "name": "stdout"
        }
      ]
    },
    {
      "cell_type": "markdown",
      "metadata": {
        "id": "Bl4y287pE_Ok"
      },
      "source": [
        "#2 extract the mean from each distribution\n",
        "#3 extract the standard deviation from each distribution\n"
      ]
    },
    {
      "cell_type": "code",
      "metadata": {
        "id": "jgvCR8rNEs9H",
        "outputId": "33848148-f724-4edb-dca0-e365f23a0bb0",
        "colab": {
          "base_uri": "https://localhost:8080/",
          "height": 50
        }
      },
      "source": [
        "print(\"Distribution Means:               {0:.2f}, {1:.2f}, {2:.2f}, {3:.2f}\"\\\n",
        "    .format(ansc.I.Y.mean(), ansc.II.Y.mean(), ansc.III.Y.mean(), ansc.IV.Y.mean()))\n",
        "print(\"Distribution Standard Deviations: {0:.2f}, {1:.2f}, {2:.2f}, {3:.2f}\"\\\n",
        "    .format(ansc.I.Y.std(), ansc.II.Y.std(), ansc.III.Y.std(), ansc.IV.Y.std()))\n"
      ],
      "execution_count": 25,
      "outputs": [
        {
          "output_type": "stream",
          "text": [
            "Distribution Means:               7.50, 7.50, 7.50, 7.50\n",
            "Distribution Standard Deviations: 2.03, 2.03, 2.03, 2.03\n"
          ],
          "name": "stdout"
        }
      ]
    },
    {
      "cell_type": "markdown",
      "metadata": {
        "id": "lXbUEB-UGQmV"
      },
      "source": [
        "#4 plot the mean and standard deviaion as 4 datapoints with errorbars into the same plot\n"
      ]
    },
    {
      "cell_type": "code",
      "metadata": {
        "id": "KmQoOpMBEs9K",
        "outputId": "4881911d-74f1-47e2-f157-acb96b00151f",
        "colab": {
          "base_uri": "https://localhost:8080/",
          "height": 375
        }
      },
      "source": [
        "fig = pl.figure(figsize=(10, 5))\n",
        "ax = [0] * 2\n",
        "\n",
        "ax[0] = fig.add_subplot(121)\n",
        "ax[1] = fig.add_subplot(122)\n",
        "colors=['DarkMagenta', 'MediumTurquoise', 'tomato', 'gray']\n",
        "for i in range(2):\n",
        "    ax[i].set_xticks([],[])\n",
        "\n",
        "ax[0].scatter(range(4), [ansc.I.Y.mean(), ansc.II.Y.mean(), ansc.III.Y.mean(), ansc.IV.Y.mean()], \n",
        "              s = 100, c = colors)\n",
        "ax[0].text(0.5, 0.75, 'mean', horizontalalignment = \"center\", \n",
        "           transform = ax[0].transAxes, fontsize = 19)\n",
        "ax[0].set_ylim(ansc.I.Y.mean()-0.01, ansc.I.Y.mean()+0.01)\n",
        "ax[1].scatter(range(4), [ansc.I.Y.std(), ansc.II.Y.std(), ansc.III.Y.std(), ansc.IV.Y.std()], \n",
        "              s = 100, c = colors)\n",
        "ax[1].text(0.5, 0.75, 'standard deviation', horizontalalignment = \"center\", \n",
        "           transform = ax[1].transAxes, fontsize = 19)\n",
        "ax[1].set_ylim(ansc.I.Y.std()-0.01, ansc.I.Y.std()+0.01)\n"
      ],
      "execution_count": 26,
      "outputs": [
        {
          "output_type": "stream",
          "text": [
            "/usr/local/lib/python3.6/dist-packages/ipykernel_launcher.py:8: MatplotlibDeprecationWarning: Passing the minor parameter of set_xticks() positionally is deprecated since Matplotlib 3.2; the parameter will become keyword-only two minor releases later.\n",
            "  \n"
          ],
          "name": "stderr"
        },
        {
          "output_type": "execute_result",
          "data": {
            "text/plain": [
              "(2.0215681359258153, 2.041568135925815)"
            ]
          },
          "metadata": {
            "tags": []
          },
          "execution_count": 26
        },
        {
          "output_type": "display_data",
          "data": {
            "image/png": "[encoded data removed]",
            "text/plain": [
              "<Figure size 720x360 with 2 Axes>"
            ]
          },
          "metadata": {
            "tags": [],
            "needs_background": "light"
          }
        }
      ]
    },
    {
      "cell_type": "code",
      "metadata": {
        "id": "Biy3nwP2EK2M",
        "outputId": "962bbbce-e0fd-46fc-9fe5-fa3ef43579d5",
        "colab": {
          "base_uri": "https://localhost:8080/",
          "height": 375
        }
      },
      "source": [
        "ax = pl.figure(figsize=(10, 5)).add_subplot(111) \n",
        "\n",
        "colors=['DarkMagenta', 'MediumTurquoise', 'tomato', 'gray']\n",
        "ax.set_xticks([],[])\n",
        "ax.errorbar(range(4), [ansc.I.Y.mean(), ansc.II.Y.mean(), ansc.III.Y.mean(), ansc.IV.Y.mean()], \n",
        "            yerr = [ansc.I.Y.std(), ansc.II.Y.std(), ansc.III.Y.std(), ansc.IV.Y.std()], \n",
        "            label= ['mean I', 'mean II', 'mean II', 'mean VI'], alpha=0.5, ecolor = colors, \n",
        "            fmt='o', )"
      ],
      "execution_count": 27,
      "outputs": [
        {
          "output_type": "stream",
          "text": [
            "/usr/local/lib/python3.6/dist-packages/ipykernel_launcher.py:4: MatplotlibDeprecationWarning: Passing the minor parameter of set_xticks() positionally is deprecated since Matplotlib 3.2; the parameter will become keyword-only two minor releases later.\n",
            "  after removing the cwd from sys.path.\n"
          ],
          "name": "stderr"
        },
        {
          "output_type": "execute_result",
          "data": {
            "text/plain": [
              "<ErrorbarContainer object of 3 artists>"
            ]
          },
          "metadata": {
            "tags": []
          },
          "execution_count": 27
        },
        {
          "output_type": "display_data",
          "data": {
            "image/png": "[encoded data removed]",
            "text/plain": [
              "<Figure size 720x360 with 1 Axes>"
            ]
          },
          "metadata": {
            "tags": [],
            "needs_background": "light"
          }
        }
      ]
    },
    {
      "cell_type": "markdown",
      "metadata": {
        "id": "un9aa7uNEv6v"
      },
      "source": [
        "# cool! they are identical! identical mean, identical standard deviation\n",
        "hence we are looking at the same distribution i guess.\n",
        "let's fit a line to it"
      ]
    },
    {
      "cell_type": "markdown",
      "metadata": {
        "id": "6ZNJXPNwGH64"
      },
      "source": [
        "#5 fit a line to each of the 4 distributions\n",
        "\n",
        "#6 plot each of the 4 distributions as a scatter plot (y vs x) and if you fit a line to the distribution also plot the line fit\n",
        "\n",
        "#7 plot the residuals of the line model for each distribution\n",
        "\n",
        "#8 optional: plot a boxplot for each distribution\n",
        "\n"
      ]
    },
    {
      "cell_type": "code",
      "metadata": {
        "id": "XpvWsRMIGjA5"
      },
      "source": [
        ""
      ],
      "execution_count": null,
      "outputs": []
    }
  ]
}