{
  "nbformat": 4,
  "nbformat_minor": 0,
  "metadata": {
    "colab": {
      "name": "NYC_business_census_data.ipynb",
      "provenance": [],
      "authorship_tag": "ABX9TyNYzl0S4vyQE3ZkKBp3oifN",
      "include_colab_link": true
    },
    "kernelspec": {
      "name": "python3",
      "display_name": "Python 3"
    }
  },
  "cells": [
    {
      "cell_type": "markdown",
      "metadata": {
        "id": "view-in-github",
        "colab_type": "text"
      },
      "source": [
        "<a href=\"https://colab.research.google.com/github/fedhere/PUS2020_FBianco/blob/master/HW11/NYC_business_census_data.ipynb\" target=\"_parent\"><img src=\"https://colab.research.google.com/assets/colab-badge.svg\" alt=\"Open In Colab\"/></a>"
      ]
    },
    {
      "cell_type": "code",
      "metadata": {
        "id": "Dzv4bbQdGRyZ",
        "outputId": "17c748cf-00d6-4aef-e281-b7141ba01911",
        "colab": {
          "base_uri": "https://localhost:8080/"
        }
      },
      "source": [
        "import pandas as pd\n",
        "import os\n",
        "\n",
        "\n",
        "# Download 2000 business data.\n",
        "!wget ftp://ftp.census.gov/Econ2001_And_Earlier/CBP_CSV/zbp00totals.zip\n",
        "\n",
        "# Download 2010 business data.\n",
        "!wget ftp://ftp.census.gov/econ2010/CBP_CSV/zbp10totals.zip"
      ],
      "execution_count": null,
      "outputs": [
        {
          "output_type": "stream",
          "text": [
            "--2020-11-11 16:23:23--  ftp://ftp.census.gov/Econ2001_And_Earlier/CBP_CSV/zbp00totals.zip\n",
            "           => ‘zbp00totals.zip.1’\n",
            "Resolving ftp.census.gov (ftp.census.gov)... 148.129.75.35, 2610:20:2010:a09:1000:0:9481:4b23\n",
            "Connecting to ftp.census.gov (ftp.census.gov)|148.129.75.35|:21... connected.\n",
            "Logging in as anonymous ... Logged in!\n",
            "==> SYST ... done.    ==> PWD ... done.\n",
            "==> TYPE I ... done.  ==> CWD (1) /Econ2001_And_Earlier/CBP_CSV ... done.\n",
            "==> SIZE zbp00totals.zip ... 628434\n",
            "==> PASV ... done.    ==> RETR zbp00totals.zip ... done.\n",
            "Length: 628434 (614K) (unauthoritative)\n",
            "\n",
            "zbp00totals.zip.1   100%[===================>] 613.71K   241KB/s    in 2.6s    \n",
            "\n",
            "2020-11-11 16:23:26 (241 KB/s) - ‘zbp00totals.zip.1’ saved [628434]\n",
            "\n",
            "--2020-11-11 16:23:27--  ftp://ftp.census.gov/econ2010/CBP_CSV/zbp10totals.zip\n",
            "           => ‘zbp10totals.zip.5’\n",
            "Resolving ftp.census.gov (ftp.census.gov)... 148.129.75.35, 2610:20:2010:a09:1000:0:9481:4b23\n",
            "Connecting to ftp.census.gov (ftp.census.gov)|148.129.75.35|:21... connected.\n",
            "Logging in as anonymous ... Logged in!\n",
            "==> SYST ... done.    ==> PWD ... done.\n",
            "==> TYPE I ... done.  ==> CWD (1) /econ2010/CBP_CSV ... done.\n",
            "==> SIZE zbp10totals.zip ... 797534\n",
            "==> PASV ... done.    ==> RETR zbp10totals.zip ... done.\n",
            "Length: 797534 (779K) (unauthoritative)\n",
            "\n",
            "zbp10totals.zip.5   100%[===================>] 778.84K   229KB/s    in 3.4s    \n",
            "\n",
            "2020-11-11 16:23:31 (229 KB/s) - ‘zbp10totals.zip.5’ saved [797534]\n",
            "\n"
          ],
          "name": "stdout"
        }
      ]
    },
    {
      "cell_type": "code",
      "metadata": {
        "id": "-qfvkvyLGadO",
        "outputId": "e8e3fbd2-7dd8-43ef-a7fb-3d75a45210a1",
        "colab": {
          "base_uri": "https://localhost:8080/"
        }
      },
      "source": [
        "\n",
        "# Unzip business data.\n",
        "\n",
        "!unzip zbp00totals.zip \n",
        "!unzip zbp10totals.zip \n",
        "\n"
      ],
      "execution_count": 17,
      "outputs": [
        {
          "output_type": "stream",
          "text": [
            "Archive:  zbp00totals.zip\n",
            "  inflating: zbp00totals.txt         \n",
            "Archive:  zbp10totals.zip\n",
            "  inflating: zbp10totals.txt         \n"
          ],
          "name": "stdout"
        }
      ]
    },
    {
      "cell_type": "code",
      "metadata": {
        "id": "Bcj0XHlAHqRv",
        "outputId": "96815400-6bd3-461f-fda1-f32ffc0abe61",
        "colab": {
          "base_uri": "https://localhost:8080/"
        }
      },
      "source": [
        "\n",
        "# Load data to pandas dataframes.\n",
        "df00 = pd.read_csv('zbp00totals/zbp00totals.txt', \n",
        "                   usecols=['ZIP', 'NAME', 'EST'])\n",
        "df10 = pd.read_csv('zbp10totals/zbp10totals.txt', \n",
        "                   usecols=['zip', 'name', 'est'])\n",
        "\n",
        "# Rename columns in 2000 data.\n",
        "df00.rename(columns={'NAME': 'name', 'ZIP': 'zip', 'EST': 'est'}, \n",
        "            inplace=True)\n",
        "\n",
        "# Remove data outside of NY.\n",
        "df00 = df00[df00.name.str[-2:] == 'NY']\n",
        "df10 = df10[df10.name.str[-2:] == 'NY']\n",
        "\n",
        "# Convert 'zip' to string.\n",
        "df00['zip'] = df00['zip'].map(lambda x: \"%05d\"%x)\n",
        "df10['zip'] = df10['zip'].map(lambda x: \"%05d\"%x)\n",
        "\n",
        "# Set zip to index.\n",
        "df00.set_index('zip', inplace=True)\n",
        "df10.set_index('zip', inplace=True)\n",
        "\n",
        "# Join business data on zip index.\n",
        "biz = df00.join(df10, how='outer', lsuffix='2000', rsuffix='2010')\n",
        "\n",
        "# Clean up dataframe columns.\n",
        "biz.drop('name2010', axis=1, inplace=True)\n",
        "biz.rename(columns={'name2000': 'name'}, inplace=True)\n",
        "biz['est2000'] = biz.est2000.astype(float)\n",
        "\n",
        "biz.sort_index().head(2), biz.sort_index().tail(2)"
      ],
      "execution_count": 22,
      "outputs": [
        {
          "output_type": "execute_result",
          "data": {
            "text/plain": [
              "(                     name  est2000  est2010\n",
              " zip                                        \n",
              " 00501      HOLTSVILLE, NY      1.0      2.0\n",
              " 06390  FISHERS ISLAND, NY     38.0     40.0,\n",
              "              name  est2000  est2010\n",
              " zip                                \n",
              " 14904  ELMIRA, NY    216.0    199.0\n",
              " 14905  ELMIRA, NY    121.0    105.0)"
            ]
          },
          "metadata": {
            "tags": []
          },
          "execution_count": 22
        }
      ]
    },
    {
      "cell_type": "code",
      "metadata": {
        "id": "Dpi8v4exJIKH"
      },
      "source": [
        ""
      ],
      "execution_count": null,
      "outputs": []
    }
  ]
}