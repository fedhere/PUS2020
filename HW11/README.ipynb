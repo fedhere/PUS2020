{
 "cells": [
  {
   "cell_type": "markdown",
   "metadata": {},
   "source": [
    "# HW 11\n"
   ]
  },
  {
   "cell_type": "markdown",
   "metadata": {},
   "source": [
    "## Motivation:\n",
    "One of the things that make NYC so interesting to study is its diversity on many axes: ethnic, economic, cultural. Neighborohoods tend to be segregated and clustered on most socioeconomic characteristics, however these characteristics do evolve in time. \n",
    "The goal is to identify NYC neighborhoods that are homogeneous by clustering their socioeconomic characteristics in 2000, and in 2010, and find the neighborhoods that change cluster, indicating that they evolve differently with respect to their cluster peers (e.g. gentrification).\n"
   ]
  },
  {
   "cell_type": "markdown",
   "metadata": {},
   "source": [
    "## Method:\n",
    "\n",
    "work at the maximum granularity that the data allows.\n",
    " \n",
    " \n",
    "WARMUP \n",
    "\n",
    "1) Find the number of businesses in 2010 and 2000. This information is available at the zipcode level - see notebook \"business\".\n",
    "\n",
    "2) Gather a zipcode shapefile and merge th number of businesses with the zipcode shapfile\n",
    "\n",
    "3) Find the *density* of businesses by dividing the number of businesses by the area of the zipcode (see geospatial homework 4)\n",
    "\n",
    "4) Collect census data from the 2010 and 2000 census and extract the estimate (mean) age, population, and diversity of each census tract for all 5 NYC boroughs. The diversity here (or lack thereof) can be measured by the fraction of white population.\n",
    "\n",
    "5) Collect the income data by census tract from the income from American Fact Finder for the years 2010 and 2000 at the census tract level. \n",
    "\n",
    "6) Merge the datasets for each year and show a the tables containing the relevant data: the features and whatever else you need to identify and plot the data.\n",
    "\n",
    "7) Display each of your features as a choropleth (a heatmap version of a geographical map where each census tract is a different color based on the value of the feature you are mapping) for both 2010 and 2000, and show the difference in the features as a third choroplath.\n",
    "\n",
    "10) Aggregate the census four features at the zipcode level and merge the zipcode dataframe\n",
    "\n",
    "11) Repeat steps 6,7,8 at the zipcode level with the added feature (number of businesses).\n",
    "\n",
    "12) Define a function that given a dataframe containing the relevant information and two cluster labels finds if the census tract changed cluster assignments from the first to the second label, and if so finds the individual features that are significantly different as measured by Pearson's correlation, plot those zipcodes, and plot a histogram of the features that have significantly changed. Run your function for all label pairs (2 points, one for the identification of locations that changed cluster and one for the identifiation of the features that changed significantly).\n",
    "\n",
    "13) Comment on the strength and weaknesses of this analysis, and on your findings (this is not the last step, but comments should be given throughout the notebook, and summarized here).\n",
    "    \n",
    "        \n",
    "DATA:\n",
    "\n",
    "the data is described in the HW11_DATA.ipynb notebook. \n",
    "\n",
    ]
  },
  {
   "cell_type": "code",
   "execution_count": null,
   "metadata": {
    "collapsed": true
   },
   "outputs": [],
   "source": []
  }
 ],
 "metadata": {
  "kernelspec": {
   "display_name": "PUI2016_Python3",
   "language": "python",
   "name": "pui2016_python3"
  },
  "language_info": {
   "codemirror_mode": {
    "name": "ipython",
    "version": 3
   },
   "file_extension": ".py",
   "mimetype": "text/x-python",
   "name": "python",
   "nbconvert_exporter": "python",
   "pygments_lexer": "ipython3",
   "version": "3.5.2"
  }
 },
 "nbformat": 4,
 "nbformat_minor": 0
}
