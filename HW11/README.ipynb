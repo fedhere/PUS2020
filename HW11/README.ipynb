{
 "cells": [
  {
   "cell_type": "markdown",
   "metadata": {},
   "source": [
    "# PUI2016 FINAL EXAM\n"
   ]
  },
  {
   "cell_type": "markdown",
   "metadata": {},
   "source": [
    "## This exam is take home. Deliver your solution as an ipython notebook, uploading it to NYUclasses BY TUESDAY 12/20/2016 at 9AM\n",
    "\n",
    "## work alone. \n",
    "If you have questions, feel free to ask your instructors and TAs. High level intellectual discussion is never forbidden, so general, conceptual questions can be discussed with your classmates, but do not exchange code, or algorithms (specific solution design).\n",
    "example of a fair question: Do you think clustering if all my variables are spatial requires whitening?\n",
    "example of an unfair question: did you divide the longitude by its mean or subtract it?\n",
    "Goal: identify specific socioechonomic changes in NYC over 10 years.\n",
    "\n",
    "## Motivation:\n",
    "One of the things that make NYC so interesting to study is its diversity on many axes: ethnic, economic, cultural. Neighborohoods tend to be segregated and clustered on most socioeconomic characteristics, however these characteristics do evolve in time. \n",
    "The goal is to identify NYC neighborhoods that are homogeneous by clustering their socioeconomic characteristics in 2000, and in 2010, and find the neighborhoods that change cluster, indicating that they evolve differently with respect to their cluster peers (e.g. gentrification).\n"
   ]
  },
  {
   "cell_type": "markdown",
   "metadata": {},
   "source": [
    "## Method:\n",
    "\n",
    "work at the maximum granularity that the data allows.\n",
    " \n",
    " \n",
    "WARMUP \n",
    "\n",
    "1) Find the number of businesses in 2010 and 2000. This information is available at the zipcode level (HW11).\n",
    "\n",
    "2) Gather a zipcode shapefile and merge th number of businesses with the zipcode shapfile\n",
    "\n",
    "3) Find the *density* of businesses by dividing the number of businesses by the area of the zipcode (see the hints file if you need to)\n",
    "\n",
    "MORE SERIOUS STUFF\n",
    "\n",
    "4) Collect census data from the 2010 and 2000 census and extract the estimate (mean) age, population, and diversity of each census tract for all 5 NYC boroughs. The diversity (or lack thereof) can be measured by the fraction of white population.\n",
    "\n",
    "5) Collect the income data by census tract from the income from American Fact Finder for the years 2010 and 2000 at the census tract level. \n",
    "\n",
    "6) Merge the datasets for each year and show a the tables containing the relevant data: the features and whatever else you need to identify and plot the data.\n",
    "\n",
    "7) Display each of your features as a choropleth (a heatmap version of a geographical map where each census tract is a different color based on the value of the feature you are mapping) for both 2010 and 2000, and show the difference in the features as a third choroplath.\n",
    "\n",
    "STEP 8 AND 9 ARE OPTIONAL BUT IF YOU DO THEM IT SHOULD ENABLE YOU TO MAKE MORE INSIGHTFUL COMMENTS ABOUT THE METHOD\n",
    "\n",
    "8) (OPTIONAL) Cluster the census tracts on these four features (using a Eucledian distance)\n",
    "\n",
    "9) (OPTIONAL) Identify the census tracts that have changed cluster assignment (those that are now associated with a different group of census tracts) and show a choropleth of the clusters in 2010, 2000 and a choropleth of the cluster changes. (Once you get through this, you have done most of the heavy lifting! The rest isbuilding upon this work.)\n",
    "\n",
    "10) Aggregate the census four features at the zipcode level and merge the zipcode dataframe\n",
    "\n",
    "11) Repeat steps 6,7,8 at the zipcode level with the added feature (number of businesses).\n",
    "\n",
    "12) Define a function that given a dataframe containing the relevant information and two cluster labels finds if the census tract changed cluster assignments from the first to the second label, and if so finds the individual features that are significantly different as measured by Pearson's correlation, plot those census tracts, and plot a histogram of the features that have significantly changed. Run your function for all label pairs (2 points, one for the identification of locations that changed cluster and one for the identifiation of the features that changed significantly).\n",
    "\n",
    "13) Comment on the strength and weaknesses of this analysis, and on your findings (this is not the last step, but comments should be given throughout the notebook, and summarized here).\n",
    "    \n",
    "        \n",
    "DATA:\n",
    "\n",
    "the data is described in the PUI2016_DATA.ipynb notebook. \n",
    "\n",
    "HINTS:\n",
    "\n",
    "The first hint is to READ THROUGH ALL OF THE INSTRUCTIONS. There are several tasks, but don't get overwhelmed: these are all things you have done before, and for which you have examples in the codes from the lecture and in the homework! \n",
    "Read the PUI2016_RULES.ipynb notebook to familiarize with the grading scheme and requirements (those are the same as they have been all year but its good to remind yourself.)\n",
    "Complete the minimum requirements first, get a first \"draft\" of the entire project. Then go back and work on detailes, and the optional requirements, clean up your notebook, improve the presentation etc. You can upload your work on NYU clases as many times as you want to and you will be graded on your final version.  Continue improving your work in a modular way (so you know you have the minimum by the deadline at least!)\n",
    "\n",
    "The bullet point list above is just the outline of the work, but many more detailed hints are given in the PUI2016_HINTS.ipynb notebook.\n",
    "If you have questions feel free to ask! I will be around on monday and we have a slack channel https://pui2016final.slack.com\n",
    "\n",
    "RULES:\n",
    "\n",
    "rules are spelled out in the PUI2016_RULES.ipynb markdown\n",
    "Dont cheat. Cheating will be punished with, at the very least, not getting a grade for the final which counts for 35% of the class, so very likely failing the class, and reported to the educational team for consideration of more significant action, academic probation, expulsion from the program etc. "
   ]
  },
  {
   "cell_type": "code",
   "execution_count": null,
   "metadata": {
    "collapsed": true
   },
   "outputs": [],
   "source": []
  }
 ],
 "metadata": {
  "kernelspec": {
   "display_name": "PUI2016_Python3",
   "language": "python",
   "name": "pui2016_python3"
  },
  "language_info": {
   "codemirror_mode": {
    "name": "ipython",
    "version": 3
   },
   "file_extension": ".py",
   "mimetype": "text/x-python",
   "name": "python",
   "nbconvert_exporter": "python",
   "pygments_lexer": "ipython3",
   "version": "3.5.2"
  }
 },
 "nbformat": 4,
 "nbformat_minor": 0
}
