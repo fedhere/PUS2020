{
  "nbformat": 4,
  "nbformat_minor": 0,
  "metadata": {
    "colab": {
      "name": "spatial joint of census tracts and zipcode",
      "provenance": [],
      "authorship_tag": "ABX9TyPcpGMMqd1kwn7hj+6t1EWt",
      "include_colab_link": true
    },
    "kernelspec": {
      "name": "python3",
      "display_name": "Python 3"
    }
  },
  "cells": [
    {
      "cell_type": "markdown",
      "metadata": {
        "id": "view-in-github",
        "colab_type": "text"
      },
      "source": [
        "<a href=\"https://colab.research.google.com/github/fedhere/PUS2020_FBianco/blob/master/HW11/spatial_joint_of_census_tracts_and_zipcode.ipynb\" target=\"_parent\"><img src=\"https://colab.research.google.com/assets/colab-badge.svg\" alt=\"Open In Colab\"/></a>"
      ]
    },
    {
      "cell_type": "code",
      "metadata": {
        "id": "wwLvyZm1QV-y",
        "outputId": "e2fef31c-e63b-41ef-d9d7-471a7704cc9d",
        "colab": {
          "base_uri": "https://localhost:8080/"
        }
      },
      "source": [
        "!apt install libspatialindex-c4v5\n",
        "!pip install pysal"
      ],
      "execution_count": 1,
      "outputs": [
        {
          "output_type": "stream",
          "text": [
            "Reading package lists... Done\n",
            "Building dependency tree       \n",
            "Reading state information... Done\n",
            "libspatialindex-c4v5 is already the newest version (1.8.5-5).\n",
            "0 upgraded, 0 newly installed, 0 to remove and 12 not upgraded.\n",
            "Requirement already satisfied: pysal in /usr/local/lib/python3.6/dist-packages (2.3.0)\n",
            "Requirement already satisfied: access>=1.1.1 in /usr/local/lib/python3.6/dist-packages (from pysal) (1.1.1)\n",
            "Requirement already satisfied: python-dateutil<=2.8.0 in /usr/local/lib/python3.6/dist-packages (from pysal) (2.8.0)\n",
            "Requirement already satisfied: libpysal>=4.3.0 in /usr/local/lib/python3.6/dist-packages (from pysal) (4.3.0)\n",
            "Requirement already satisfied: inequality>=1.0.0 in /usr/local/lib/python3.6/dist-packages (from pysal) (1.0.0)\n",
            "Requirement already satisfied: giddy>=2.3.3 in /usr/local/lib/python3.6/dist-packages (from pysal) (2.3.3)\n",
            "Requirement already satisfied: mgwr>=2.1.1 in /usr/local/lib/python3.6/dist-packages (from pysal) (2.1.2)\n",
            "Requirement already satisfied: splot>=1.1.3 in /usr/local/lib/python3.6/dist-packages (from pysal) (1.1.3)\n",
            "Requirement already satisfied: pytest-cov in /usr/local/lib/python3.6/dist-packages (from pysal) (2.10.1)\n",
            "Requirement already satisfied: pointpats>=2.2.0 in /usr/local/lib/python3.6/dist-packages (from pysal) (2.2.0)\n",
            "Requirement already satisfied: urllib3<1.25 in /usr/local/lib/python3.6/dist-packages (from pysal) (1.24.3)\n",
            "Requirement already satisfied: spvcm==0.3.0 in /usr/local/lib/python3.6/dist-packages (from pysal) (0.3.0)\n",
            "Requirement already satisfied: coverage in /usr/local/lib/python3.6/dist-packages (from pysal) (3.7.1)\n",
            "Requirement already satisfied: tobler>=0.3.1 in /usr/local/lib/python3.6/dist-packages (from pysal) (0.4.0)\n",
            "Requirement already satisfied: spglm>=1.0.7 in /usr/local/lib/python3.6/dist-packages (from pysal) (1.0.8)\n",
            "Requirement already satisfied: spreg>=1.1.1 in /usr/local/lib/python3.6/dist-packages (from pysal) (1.1.2.post1)\n",
            "Requirement already satisfied: segregation>=1.3.0 in /usr/local/lib/python3.6/dist-packages (from pysal) (1.4.0)\n",
            "Requirement already satisfied: spint>=1.0.6 in /usr/local/lib/python3.6/dist-packages (from pysal) (1.0.7)\n",
            "Requirement already satisfied: mapclassify>=2.3.0 in /usr/local/lib/python3.6/dist-packages (from pysal) (2.3.0)\n",
            "Requirement already satisfied: pytest in /usr/local/lib/python3.6/dist-packages (from pysal) (3.6.4)\n",
            "Requirement already satisfied: esda>=2.3.1 in /usr/local/lib/python3.6/dist-packages (from pysal) (2.3.1)\n",
            "Requirement already satisfied: spaghetti>=1.5.0 in /usr/local/lib/python3.6/dist-packages (from pysal) (1.5.3)\n",
            "Requirement already satisfied: pandas>=0.23.4 in /usr/local/lib/python3.6/dist-packages (from access>=1.1.1->pysal) (1.1.4)\n",
            "Requirement already satisfied: scipy>=0.11 in /usr/local/lib/python3.6/dist-packages (from access>=1.1.1->pysal) (1.4.1)\n",
            "Requirement already satisfied: Sphinx==2.4.3 in /usr/local/lib/python3.6/dist-packages (from access>=1.1.1->pysal) (2.4.3)\n",
            "Requirement already satisfied: numpy>=1.3 in /usr/local/lib/python3.6/dist-packages (from access>=1.1.1->pysal) (1.18.5)\n",
            "Requirement already satisfied: six>=1.5 in /usr/local/lib/python3.6/dist-packages (from python-dateutil<=2.8.0->pysal) (1.15.0)\n",
            "Requirement already satisfied: beautifulsoup4 in /usr/local/lib/python3.6/dist-packages (from libpysal>=4.3.0->pysal) (4.6.3)\n",
            "Requirement already satisfied: jinja2 in /usr/local/lib/python3.6/dist-packages (from libpysal>=4.3.0->pysal) (2.11.2)\n",
            "Requirement already satisfied: requests in /usr/local/lib/python3.6/dist-packages (from libpysal>=4.3.0->pysal) (2.23.0)\n",
            "Requirement already satisfied: quantecon>=0.4.7 in /usr/local/lib/python3.6/dist-packages (from giddy>=2.3.3->pysal) (0.4.8)\n",
            "Requirement already satisfied: matplotlib in /usr/local/lib/python3.6/dist-packages (from splot>=1.1.3->pysal) (3.2.2)\n",
            "Requirement already satisfied: seaborn in /usr/local/lib/python3.6/dist-packages (from splot>=1.1.3->pysal) (0.11.0)\n",
            "Requirement already satisfied: geopandas>=0.4.0 in /usr/local/lib/python3.6/dist-packages (from splot>=1.1.3->pysal) (0.8.1)\n",
            "Requirement already satisfied: descartes in /usr/local/lib/python3.6/dist-packages (from splot>=1.1.3->pysal) (1.1.0)\n",
            "Requirement already satisfied: opencv-contrib-python>=4.2.0 in /usr/local/lib/python3.6/dist-packages (from pointpats>=2.2.0->pysal) (4.4.0.46)\n",
            "Requirement already satisfied: rasterio in /usr/local/lib/python3.6/dist-packages (from tobler>=0.3.1->pysal) (1.1.8)\n",
            "Requirement already satisfied: statsmodels in /usr/local/lib/python3.6/dist-packages (from tobler>=0.3.1->pysal) (0.10.2)\n",
            "Requirement already satisfied: rasterstats in /usr/local/lib/python3.6/dist-packages (from tobler>=0.3.1->pysal) (0.15.0)\n",
            "Requirement already satisfied: tqdm in /usr/local/lib/python3.6/dist-packages (from tobler>=0.3.1->pysal) (4.41.1)\n",
            "Requirement already satisfied: scikit-learn>=0.21.3 in /usr/local/lib/python3.6/dist-packages (from segregation>=1.3.0->pysal) (0.22.2.post1)\n",
            "Requirement already satisfied: networkx in /usr/local/lib/python3.6/dist-packages (from mapclassify>=2.3.0->pysal) (2.5)\n",
            "Requirement already satisfied: attrs>=17.4.0 in /usr/local/lib/python3.6/dist-packages (from pytest->pysal) (20.2.0)\n",
            "Requirement already satisfied: py>=1.5.0 in /usr/local/lib/python3.6/dist-packages (from pytest->pysal) (1.9.0)\n",
            "Requirement already satisfied: atomicwrites>=1.0 in /usr/local/lib/python3.6/dist-packages (from pytest->pysal) (1.4.0)\n",
            "Requirement already satisfied: setuptools in /usr/local/lib/python3.6/dist-packages (from pytest->pysal) (50.3.2)\n",
            "Requirement already satisfied: more-itertools>=4.0.0 in /usr/local/lib/python3.6/dist-packages (from pytest->pysal) (8.6.0)\n",
            "Requirement already satisfied: pluggy<0.8,>=0.5 in /usr/local/lib/python3.6/dist-packages (from pytest->pysal) (0.7.1)\n",
            "Requirement already satisfied: rtree in /usr/local/lib/python3.6/dist-packages (from spaghetti>=1.5.0->pysal) (0.9.4)\n",
            "Requirement already satisfied: pytz>=2017.2 in /usr/local/lib/python3.6/dist-packages (from pandas>=0.23.4->access>=1.1.1->pysal) (2018.9)\n",
            "Requirement already satisfied: snowballstemmer>=1.1 in /usr/local/lib/python3.6/dist-packages (from Sphinx==2.4.3->access>=1.1.1->pysal) (2.0.0)\n",
            "Requirement already satisfied: Pygments>=2.0 in /usr/local/lib/python3.6/dist-packages (from Sphinx==2.4.3->access>=1.1.1->pysal) (2.6.1)\n",
            "Requirement already satisfied: docutils>=0.12 in /usr/local/lib/python3.6/dist-packages (from Sphinx==2.4.3->access>=1.1.1->pysal) (0.16)\n",
            "Requirement already satisfied: babel!=2.0,>=1.3 in /usr/local/lib/python3.6/dist-packages (from Sphinx==2.4.3->access>=1.1.1->pysal) (2.8.0)\n",
            "Requirement already satisfied: alabaster<0.8,>=0.7 in /usr/local/lib/python3.6/dist-packages (from Sphinx==2.4.3->access>=1.1.1->pysal) (0.7.12)\n",
            "Requirement already satisfied: sphinxcontrib-htmlhelp in /usr/local/lib/python3.6/dist-packages (from Sphinx==2.4.3->access>=1.1.1->pysal) (1.0.3)\n",
            "Requirement already satisfied: sphinxcontrib-jsmath in /usr/local/lib/python3.6/dist-packages (from Sphinx==2.4.3->access>=1.1.1->pysal) (1.0.1)\n",
            "Requirement already satisfied: sphinxcontrib-devhelp in /usr/local/lib/python3.6/dist-packages (from Sphinx==2.4.3->access>=1.1.1->pysal) (1.0.2)\n",
            "Requirement already satisfied: sphinxcontrib-qthelp in /usr/local/lib/python3.6/dist-packages (from Sphinx==2.4.3->access>=1.1.1->pysal) (1.0.3)\n",
            "Requirement already satisfied: imagesize in /usr/local/lib/python3.6/dist-packages (from Sphinx==2.4.3->access>=1.1.1->pysal) (1.2.0)\n",
            "Requirement already satisfied: packaging in /usr/local/lib/python3.6/dist-packages (from Sphinx==2.4.3->access>=1.1.1->pysal) (20.4)\n",
            "Requirement already satisfied: sphinxcontrib-serializinghtml in /usr/local/lib/python3.6/dist-packages (from Sphinx==2.4.3->access>=1.1.1->pysal) (1.1.4)\n",
            "Requirement already satisfied: sphinxcontrib-applehelp in /usr/local/lib/python3.6/dist-packages (from Sphinx==2.4.3->access>=1.1.1->pysal) (1.0.2)\n",
            "Requirement already satisfied: MarkupSafe>=0.23 in /usr/local/lib/python3.6/dist-packages (from jinja2->libpysal>=4.3.0->pysal) (1.1.1)\n",
            "Requirement already satisfied: idna<3,>=2.5 in /usr/local/lib/python3.6/dist-packages (from requests->libpysal>=4.3.0->pysal) (2.10)\n",
            "Requirement already satisfied: chardet<4,>=3.0.2 in /usr/local/lib/python3.6/dist-packages (from requests->libpysal>=4.3.0->pysal) (3.0.4)\n",
            "Requirement already satisfied: certifi>=2017.4.17 in /usr/local/lib/python3.6/dist-packages (from requests->libpysal>=4.3.0->pysal) (2020.6.20)\n",
            "Requirement already satisfied: sympy in /usr/local/lib/python3.6/dist-packages (from quantecon>=0.4.7->giddy>=2.3.3->pysal) (1.1.1)\n",
            "Requirement already satisfied: numba>=0.38 in /usr/local/lib/python3.6/dist-packages (from quantecon>=0.4.7->giddy>=2.3.3->pysal) (0.48.0)\n",
            "Requirement already satisfied: kiwisolver>=1.0.1 in /usr/local/lib/python3.6/dist-packages (from matplotlib->splot>=1.1.3->pysal) (1.3.1)\n",
            "Requirement already satisfied: cycler>=0.10 in /usr/local/lib/python3.6/dist-packages (from matplotlib->splot>=1.1.3->pysal) (0.10.0)\n",
            "Requirement already satisfied: pyparsing!=2.0.4,!=2.1.2,!=2.1.6,>=2.0.1 in /usr/local/lib/python3.6/dist-packages (from matplotlib->splot>=1.1.3->pysal) (2.4.7)\n",
            "Requirement already satisfied: pyproj>=2.2.0 in /usr/local/lib/python3.6/dist-packages (from geopandas>=0.4.0->splot>=1.1.3->pysal) (3.0.0.post1)\n",
            "Requirement already satisfied: fiona in /usr/local/lib/python3.6/dist-packages (from geopandas>=0.4.0->splot>=1.1.3->pysal) (1.8.17)\n",
            "Requirement already satisfied: shapely in /usr/local/lib/python3.6/dist-packages (from geopandas>=0.4.0->splot>=1.1.3->pysal) (1.7.1)\n",
            "Requirement already satisfied: affine in /usr/local/lib/python3.6/dist-packages (from rasterio->tobler>=0.3.1->pysal) (2.3.0)\n",
            "Requirement already satisfied: click<8,>=4.0 in /usr/local/lib/python3.6/dist-packages (from rasterio->tobler>=0.3.1->pysal) (7.1.2)\n",
            "Requirement already satisfied: snuggs>=1.4.1 in /usr/local/lib/python3.6/dist-packages (from rasterio->tobler>=0.3.1->pysal) (1.4.7)\n",
            "Requirement already satisfied: click-plugins in /usr/local/lib/python3.6/dist-packages (from rasterio->tobler>=0.3.1->pysal) (1.1.1)\n",
            "Requirement already satisfied: cligj>=0.5 in /usr/local/lib/python3.6/dist-packages (from rasterio->tobler>=0.3.1->pysal) (0.7.0)\n",
            "Requirement already satisfied: patsy>=0.4.0 in /usr/local/lib/python3.6/dist-packages (from statsmodels->tobler>=0.3.1->pysal) (0.5.1)\n",
            "Requirement already satisfied: simplejson in /usr/local/lib/python3.6/dist-packages (from rasterstats->tobler>=0.3.1->pysal) (3.17.2)\n",
            "Requirement already satisfied: joblib>=0.11 in /usr/local/lib/python3.6/dist-packages (from scikit-learn>=0.21.3->segregation>=1.3.0->pysal) (0.17.0)\n",
            "Requirement already satisfied: decorator>=4.3.0 in /usr/local/lib/python3.6/dist-packages (from networkx->mapclassify>=2.3.0->pysal) (4.4.2)\n",
            "Requirement already satisfied: mpmath>=0.19 in /usr/local/lib/python3.6/dist-packages (from sympy->quantecon>=0.4.7->giddy>=2.3.3->pysal) (1.1.0)\n",
            "Requirement already satisfied: llvmlite<0.32.0,>=0.31.0dev0 in /usr/local/lib/python3.6/dist-packages (from numba>=0.38->quantecon>=0.4.7->giddy>=2.3.3->pysal) (0.31.0)\n",
            "Requirement already satisfied: munch in /usr/local/lib/python3.6/dist-packages (from fiona->geopandas>=0.4.0->splot>=1.1.3->pysal) (2.5.0)\n"
          ],
          "name": "stdout"
        }
      ]
    },
    {
      "cell_type": "code",
      "metadata": {
        "id": "d7J4s0dWQ9ks",
        "outputId": "875600da-c70f-4089-d9da-5abf8c6f166d",
        "colab": {
          "base_uri": "https://localhost:8080/"
        }
      },
      "source": [
        "!pip install geopandas\n",
        "!apt install python3-rtree"
      ],
      "execution_count": 2,
      "outputs": [
        {
          "output_type": "stream",
          "text": [
            "Requirement already satisfied: geopandas in /usr/local/lib/python3.6/dist-packages (0.8.1)\n",
            "Requirement already satisfied: shapely in /usr/local/lib/python3.6/dist-packages (from geopandas) (1.7.1)\n",
            "Requirement already satisfied: pyproj>=2.2.0 in /usr/local/lib/python3.6/dist-packages (from geopandas) (3.0.0.post1)\n",
            "Requirement already satisfied: pandas>=0.23.0 in /usr/local/lib/python3.6/dist-packages (from geopandas) (1.1.4)\n",
            "Requirement already satisfied: fiona in /usr/local/lib/python3.6/dist-packages (from geopandas) (1.8.17)\n",
            "Requirement already satisfied: certifi in /usr/local/lib/python3.6/dist-packages (from pyproj>=2.2.0->geopandas) (2020.6.20)\n",
            "Requirement already satisfied: pytz>=2017.2 in /usr/local/lib/python3.6/dist-packages (from pandas>=0.23.0->geopandas) (2018.9)\n",
            "Requirement already satisfied: numpy>=1.15.4 in /usr/local/lib/python3.6/dist-packages (from pandas>=0.23.0->geopandas) (1.18.5)\n",
            "Requirement already satisfied: python-dateutil>=2.7.3 in /usr/local/lib/python3.6/dist-packages (from pandas>=0.23.0->geopandas) (2.8.0)\n",
            "Requirement already satisfied: click-plugins>=1.0 in /usr/local/lib/python3.6/dist-packages (from fiona->geopandas) (1.1.1)\n",
            "Requirement already satisfied: click<8,>=4.0 in /usr/local/lib/python3.6/dist-packages (from fiona->geopandas) (7.1.2)\n",
            "Requirement already satisfied: munch in /usr/local/lib/python3.6/dist-packages (from fiona->geopandas) (2.5.0)\n",
            "Requirement already satisfied: six>=1.7 in /usr/local/lib/python3.6/dist-packages (from fiona->geopandas) (1.15.0)\n",
            "Requirement already satisfied: cligj>=0.5 in /usr/local/lib/python3.6/dist-packages (from fiona->geopandas) (0.7.0)\n",
            "Requirement already satisfied: attrs>=17 in /usr/local/lib/python3.6/dist-packages (from fiona->geopandas) (20.2.0)\n",
            "Reading package lists... Done\n",
            "Building dependency tree       \n",
            "Reading state information... Done\n",
            "python3-rtree is already the newest version (0.8.3+ds-1).\n",
            "0 upgraded, 0 newly installed, 0 to remove and 12 not upgraded.\n"
          ],
          "name": "stdout"
        }
      ]
    },
    {
      "cell_type": "code",
      "metadata": {
        "id": "YFQD2enMQfJb"
      },
      "source": [
        "import pysal as ps\n"
      ],
      "execution_count": 3,
      "outputs": []
    },
    {
      "cell_type": "code",
      "metadata": {
        "id": "gUn_FifkM-SD"
      },
      "source": [
        "import geopandas as gpd"
      ],
      "execution_count": 4,
      "outputs": []
    },
    {
      "cell_type": "code",
      "metadata": {
        "id": "RBKrOtSPMHuG",
        "outputId": "975f73c8-e6f9-4133-cfd9-143bc700016a",
        "colab": {
          "base_uri": "https://localhost:8080/",
          "height": 997
        }
      },
      "source": [
        "censustract = gpd.GeoDataFrame.from_file(\n",
        "    \"https://data.cityofnewyork.us/api/geospatial/\" + \n",
        "    \"fxpq-c8ku?method=export&format=GeoJSON\")\n",
        "censustract"
      ],
      "execution_count": 5,
      "outputs": [
        {
          "output_type": "execute_result",
          "data": {
            "text/html": [
              "<div>\n",
              "<style scoped>\n",
              "    .dataframe tbody tr th:only-of-type {\n",
              "        vertical-align: middle;\n",
              "    }\n",
              "\n",
              "    .dataframe tbody tr th {\n",
              "        vertical-align: top;\n",
              "    }\n",
              "\n",
              "    .dataframe thead th {\n",
              "        text-align: right;\n",
              "    }\n",
              "</style>\n",
              "<table border=\"1\" class=\"dataframe\">\n",
              "  <thead>\n",
              "    <tr style=\"text-align: right;\">\n",
              "      <th></th>\n",
              "      <th>ntacode</th>\n",
              "      <th>shape_area</th>\n",
              "      <th>ntaname</th>\n",
              "      <th>shape_leng</th>\n",
              "      <th>boro_name</th>\n",
              "      <th>puma</th>\n",
              "      <th>ct2010</th>\n",
              "      <th>boro_code</th>\n",
              "      <th>cdeligibil</th>\n",
              "      <th>boro_ct2010</th>\n",
              "      <th>ctlabel</th>\n",
              "      <th>geometry</th>\n",
              "    </tr>\n",
              "  </thead>\n",
              "  <tbody>\n",
              "    <tr>\n",
              "      <th>0</th>\n",
              "      <td>SI22</td>\n",
              "      <td>2497009.71359</td>\n",
              "      <td>West New Brighton-New Brighton-St. George</td>\n",
              "      <td>7729.01679383</td>\n",
              "      <td>Staten Island</td>\n",
              "      <td>3903</td>\n",
              "      <td>000900</td>\n",
              "      <td>5</td>\n",
              "      <td>E</td>\n",
              "      <td>5000900</td>\n",
              "      <td>9</td>\n",
              "      <td>MULTIPOLYGON (((-74.07921 40.64343, -74.07914 ...</td>\n",
              "    </tr>\n",
              "    <tr>\n",
              "      <th>1</th>\n",
              "      <td>MN19</td>\n",
              "      <td>1906016.35002</td>\n",
              "      <td>Turtle Bay-East Midtown</td>\n",
              "      <td>5534.19981063</td>\n",
              "      <td>Manhattan</td>\n",
              "      <td>3808</td>\n",
              "      <td>009800</td>\n",
              "      <td>1</td>\n",
              "      <td>I</td>\n",
              "      <td>1009800</td>\n",
              "      <td>98</td>\n",
              "      <td>MULTIPOLYGON (((-73.96433 40.75638, -73.96479 ...</td>\n",
              "    </tr>\n",
              "    <tr>\n",
              "      <th>2</th>\n",
              "      <td>MN19</td>\n",
              "      <td>1860938.37721</td>\n",
              "      <td>Turtle Bay-East Midtown</td>\n",
              "      <td>5692.16873705</td>\n",
              "      <td>Manhattan</td>\n",
              "      <td>3808</td>\n",
              "      <td>010000</td>\n",
              "      <td>1</td>\n",
              "      <td>I</td>\n",
              "      <td>1010000</td>\n",
              "      <td>100</td>\n",
              "      <td>MULTIPOLYGON (((-73.96802 40.75958, -73.96848 ...</td>\n",
              "    </tr>\n",
              "    <tr>\n",
              "      <th>3</th>\n",
              "      <td>MN17</td>\n",
              "      <td>1860992.70485</td>\n",
              "      <td>Midtown-Midtown South</td>\n",
              "      <td>5687.80243866</td>\n",
              "      <td>Manhattan</td>\n",
              "      <td>3807</td>\n",
              "      <td>010200</td>\n",
              "      <td>1</td>\n",
              "      <td>I</td>\n",
              "      <td>1010200</td>\n",
              "      <td>102</td>\n",
              "      <td>MULTIPOLYGON (((-73.97124 40.76094, -73.97170 ...</td>\n",
              "    </tr>\n",
              "    <tr>\n",
              "      <th>4</th>\n",
              "      <td>MN17</td>\n",
              "      <td>1864600.37503</td>\n",
              "      <td>Midtown-Midtown South</td>\n",
              "      <td>5693.03636655</td>\n",
              "      <td>Manhattan</td>\n",
              "      <td>3807</td>\n",
              "      <td>010400</td>\n",
              "      <td>1</td>\n",
              "      <td>I</td>\n",
              "      <td>1010400</td>\n",
              "      <td>104</td>\n",
              "      <td>MULTIPOLYGON (((-73.97446 40.76229, -73.97491 ...</td>\n",
              "    </tr>\n",
              "    <tr>\n",
              "      <th>...</th>\n",
              "      <td>...</td>\n",
              "      <td>...</td>\n",
              "      <td>...</td>\n",
              "      <td>...</td>\n",
              "      <td>...</td>\n",
              "      <td>...</td>\n",
              "      <td>...</td>\n",
              "      <td>...</td>\n",
              "      <td>...</td>\n",
              "      <td>...</td>\n",
              "      <td>...</td>\n",
              "      <td>...</td>\n",
              "    </tr>\n",
              "    <tr>\n",
              "      <th>2160</th>\n",
              "      <td>QN61</td>\n",
              "      <td>2536195.96005</td>\n",
              "      <td>Jamaica</td>\n",
              "      <td>8201.8752654</td>\n",
              "      <td>Queens</td>\n",
              "      <td>4112</td>\n",
              "      <td>021200</td>\n",
              "      <td>4</td>\n",
              "      <td>I</td>\n",
              "      <td>4021200</td>\n",
              "      <td>212</td>\n",
              "      <td>MULTIPOLYGON (((-73.81153 40.70227, -73.81083 ...</td>\n",
              "    </tr>\n",
              "    <tr>\n",
              "      <th>2161</th>\n",
              "      <td>QN10</td>\n",
              "      <td>15530528.5775</td>\n",
              "      <td>Breezy Point-Belle Harbor-Rockaway Park-Broad ...</td>\n",
              "      <td>35194.2249482</td>\n",
              "      <td>Queens</td>\n",
              "      <td>4114</td>\n",
              "      <td>107201</td>\n",
              "      <td>4</td>\n",
              "      <td>I</td>\n",
              "      <td>4107201</td>\n",
              "      <td>1072.01</td>\n",
              "      <td>MULTIPOLYGON (((-73.81653 40.61495, -73.81655 ...</td>\n",
              "    </tr>\n",
              "    <tr>\n",
              "      <th>2162</th>\n",
              "      <td>QN99</td>\n",
              "      <td>71788388.9114</td>\n",
              "      <td>park-cemetery-etc-Queens</td>\n",
              "      <td>182384.827557</td>\n",
              "      <td>Queens</td>\n",
              "      <td>4114</td>\n",
              "      <td>107202</td>\n",
              "      <td>4</td>\n",
              "      <td>I</td>\n",
              "      <td>4107202</td>\n",
              "      <td>1072.02</td>\n",
              "      <td>MULTIPOLYGON (((-73.82645 40.59053, -73.82642 ...</td>\n",
              "    </tr>\n",
              "    <tr>\n",
              "      <th>2163</th>\n",
              "      <td>SI11</td>\n",
              "      <td>86233396.7938</td>\n",
              "      <td>Charleston-Richmond Valley-Tottenville</td>\n",
              "      <td>54954.3509498</td>\n",
              "      <td>Staten Island</td>\n",
              "      <td>3901</td>\n",
              "      <td>022600</td>\n",
              "      <td>5</td>\n",
              "      <td>I</td>\n",
              "      <td>5022600</td>\n",
              "      <td>226</td>\n",
              "      <td>MULTIPOLYGON (((-74.20700 40.55757, -74.20880 ...</td>\n",
              "    </tr>\n",
              "    <tr>\n",
              "      <th>2164</th>\n",
              "      <td>SI11</td>\n",
              "      <td>17601621.2932</td>\n",
              "      <td>Charleston-Richmond Valley-Tottenville</td>\n",
              "      <td>31778.4434412</td>\n",
              "      <td>Staten Island</td>\n",
              "      <td>3901</td>\n",
              "      <td>024800</td>\n",
              "      <td>5</td>\n",
              "      <td>I</td>\n",
              "      <td>5024800</td>\n",
              "      <td>248</td>\n",
              "      <td>MULTIPOLYGON (((-74.22948 40.51908, -74.22963 ...</td>\n",
              "    </tr>\n",
              "  </tbody>\n",
              "</table>\n",
              "<p>2165 rows × 12 columns</p>\n",
              "</div>"
            ],
            "text/plain": [
              "     ntacode  ...                                           geometry\n",
              "0       SI22  ...  MULTIPOLYGON (((-74.07921 40.64343, -74.07914 ...\n",
              "1       MN19  ...  MULTIPOLYGON (((-73.96433 40.75638, -73.96479 ...\n",
              "2       MN19  ...  MULTIPOLYGON (((-73.96802 40.75958, -73.96848 ...\n",
              "3       MN17  ...  MULTIPOLYGON (((-73.97124 40.76094, -73.97170 ...\n",
              "4       MN17  ...  MULTIPOLYGON (((-73.97446 40.76229, -73.97491 ...\n",
              "...      ...  ...                                                ...\n",
              "2160    QN61  ...  MULTIPOLYGON (((-73.81153 40.70227, -73.81083 ...\n",
              "2161    QN10  ...  MULTIPOLYGON (((-73.81653 40.61495, -73.81655 ...\n",
              "2162    QN99  ...  MULTIPOLYGON (((-73.82645 40.59053, -73.82642 ...\n",
              "2163    SI11  ...  MULTIPOLYGON (((-74.20700 40.55757, -74.20880 ...\n",
              "2164    SI11  ...  MULTIPOLYGON (((-74.22948 40.51908, -74.22963 ...\n",
              "\n",
              "[2165 rows x 12 columns]"
            ]
          },
          "metadata": {
            "tags": []
          },
          "execution_count": 5
        }
      ]
    },
    {
      "cell_type": "code",
      "metadata": {
        "id": "nzKixlbxOF_Z",
        "outputId": "67e3a48f-6cad-47d1-f350-1307a2a37a13",
        "colab": {
          "base_uri": "https://localhost:8080/",
          "height": 282
        }
      },
      "source": [
        "censustract.plot()"
      ],
      "execution_count": 6,
      "outputs": [
        {
          "output_type": "execute_result",
          "data": {
            "text/plain": [
              "<matplotlib.axes._subplots.AxesSubplot at 0x7f75f76959e8>"
            ]
          },
          "metadata": {
            "tags": []
          },
          "execution_count": 6
        },
        {
          "output_type": "display_data",
          "data": {
            "image/png": "[encoded data removed]",
            "text/plain": [
              "<Figure size 432x288 with 1 Axes>"
            ]
          },
          "metadata": {
            "tags": [],
            "needs_background": "light"
          }
        }
      ]
    },
    {
      "cell_type": "code",
      "metadata": {
        "id": "GAz3nMs4NfzW",
        "outputId": "715c26f1-d691-4b1e-8429-a4626e2e1ae9",
        "colab": {
          "base_uri": "https://localhost:8080/"
        }
      },
      "source": [
        "!wget https://data.cityofnewyork.us/download/i8iw-xf4u/application%2Fzip"
      ],
      "execution_count": 7,
      "outputs": [
        {
          "output_type": "stream",
          "text": [
            "--2020-11-11 17:05:48--  https://data.cityofnewyork.us/download/i8iw-xf4u/application%2Fzip\n",
            "Resolving data.cityofnewyork.us (data.cityofnewyork.us)... 52.206.140.205, 52.206.68.26, 52.206.140.199\n",
            "Connecting to data.cityofnewyork.us (data.cityofnewyork.us)|52.206.140.205|:443... connected.\n",
            "HTTP request sent, awaiting response... 302 Found\n",
            "Location: https://data.cityofnewyork.us/api/views/i8iw-xf4u/files/YObIR0MbpUVA0EpQzZSq5x55FzKGM2ejSeahdvjqR20?filename=ZIP_CODE_040114.zip [following]\n",
            "--2020-11-11 17:05:49--  https://data.cityofnewyork.us/api/views/i8iw-xf4u/files/YObIR0MbpUVA0EpQzZSq5x55FzKGM2ejSeahdvjqR20?filename=ZIP_CODE_040114.zip\n",
            "Reusing existing connection to data.cityofnewyork.us:443.\n",
            "HTTP request sent, awaiting response... 200 OK\n",
            "Length: unspecified [application/octet-stream]\n",
            "Saving to: ‘application%2Fzip.4’\n",
            "\n",
            "application%2Fzip.4     [ <=>                ]   1.44M  9.58MB/s    in 0.2s    \n",
            "\n",
            "2020-11-11 17:05:49 (9.58 MB/s) - ‘application%2Fzip.4’ saved [1514401]\n",
            "\n"
          ],
          "name": "stdout"
        }
      ]
    },
    {
      "cell_type": "code",
      "metadata": {
        "id": "i_7xwzSNN2BP",
        "outputId": "2858a986-cbe7-491d-9f18-aa59a72ad0f9",
        "colab": {
          "base_uri": "https://localhost:8080/"
        }
      },
      "source": [
        "!unzip application%2Fzip"
      ],
      "execution_count": 8,
      "outputs": [
        {
          "output_type": "stream",
          "text": [
            "Archive:  application%2Fzip\n",
            "replace ZIP_CODE_040114.shx? [y]es, [n]o, [A]ll, [N]one, [r]ename: "
          ],
          "name": "stdout"
        }
      ]
    },
    {
      "cell_type": "code",
      "metadata": {
        "id": "b3jgtpzQN7Yo",
        "outputId": "55b295cb-bea2-43eb-b02e-1b5b6238cbce",
        "colab": {
          "base_uri": "https://localhost:8080/",
          "height": 1000
        }
      },
      "source": [
        "zipcode = gpd.GeoDataFrame.from_file(\"ZIP_CODE_040114.shp\")\n",
        "zipcode"
      ],
      "execution_count": 17,
      "outputs": [
        {
          "output_type": "execute_result",
          "data": {
            "text/html": [
              "<div>\n",
              "<style scoped>\n",
              "    .dataframe tbody tr th:only-of-type {\n",
              "        vertical-align: middle;\n",
              "    }\n",
              "\n",
              "    .dataframe tbody tr th {\n",
              "        vertical-align: top;\n",
              "    }\n",
              "\n",
              "    .dataframe thead th {\n",
              "        text-align: right;\n",
              "    }\n",
              "</style>\n",
              "<table border=\"1\" class=\"dataframe\">\n",
              "  <thead>\n",
              "    <tr style=\"text-align: right;\">\n",
              "      <th></th>\n",
              "      <th>ZIPCODE</th>\n",
              "      <th>BLDGZIP</th>\n",
              "      <th>PO_NAME</th>\n",
              "      <th>POPULATION</th>\n",
              "      <th>AREA</th>\n",
              "      <th>STATE</th>\n",
              "      <th>COUNTY</th>\n",
              "      <th>ST_FIPS</th>\n",
              "      <th>CTY_FIPS</th>\n",
              "      <th>URL</th>\n",
              "      <th>SHAPE_AREA</th>\n",
              "      <th>SHAPE_LEN</th>\n",
              "      <th>geometry</th>\n",
              "    </tr>\n",
              "  </thead>\n",
              "  <tbody>\n",
              "    <tr>\n",
              "      <th>0</th>\n",
              "      <td>11436</td>\n",
              "      <td>0</td>\n",
              "      <td>Jamaica</td>\n",
              "      <td>18681.0</td>\n",
              "      <td>2.269930e+07</td>\n",
              "      <td>NY</td>\n",
              "      <td>Queens</td>\n",
              "      <td>36</td>\n",
              "      <td>081</td>\n",
              "      <td>http://www.usps.com/</td>\n",
              "      <td>0.0</td>\n",
              "      <td>0.0</td>\n",
              "      <td>POLYGON ((1038098.252 188138.380, 1038141.936 ...</td>\n",
              "    </tr>\n",
              "    <tr>\n",
              "      <th>1</th>\n",
              "      <td>11213</td>\n",
              "      <td>0</td>\n",
              "      <td>Brooklyn</td>\n",
              "      <td>62426.0</td>\n",
              "      <td>2.963100e+07</td>\n",
              "      <td>NY</td>\n",
              "      <td>Kings</td>\n",
              "      <td>36</td>\n",
              "      <td>047</td>\n",
              "      <td>http://www.usps.com/</td>\n",
              "      <td>0.0</td>\n",
              "      <td>0.0</td>\n",
              "      <td>POLYGON ((1001613.713 186926.440, 1002314.243 ...</td>\n",
              "    </tr>\n",
              "    <tr>\n",
              "      <th>2</th>\n",
              "      <td>11212</td>\n",
              "      <td>0</td>\n",
              "      <td>Brooklyn</td>\n",
              "      <td>83866.0</td>\n",
              "      <td>4.197210e+07</td>\n",
              "      <td>NY</td>\n",
              "      <td>Kings</td>\n",
              "      <td>36</td>\n",
              "      <td>047</td>\n",
              "      <td>http://www.usps.com/</td>\n",
              "      <td>0.0</td>\n",
              "      <td>0.0</td>\n",
              "      <td>POLYGON ((1011174.276 183696.338, 1011373.584 ...</td>\n",
              "    </tr>\n",
              "    <tr>\n",
              "      <th>3</th>\n",
              "      <td>11225</td>\n",
              "      <td>0</td>\n",
              "      <td>Brooklyn</td>\n",
              "      <td>56527.0</td>\n",
              "      <td>2.369863e+07</td>\n",
              "      <td>NY</td>\n",
              "      <td>Kings</td>\n",
              "      <td>36</td>\n",
              "      <td>047</td>\n",
              "      <td>http://www.usps.com/</td>\n",
              "      <td>0.0</td>\n",
              "      <td>0.0</td>\n",
              "      <td>POLYGON ((995908.365 183617.613, 996522.848 18...</td>\n",
              "    </tr>\n",
              "    <tr>\n",
              "      <th>4</th>\n",
              "      <td>11218</td>\n",
              "      <td>0</td>\n",
              "      <td>Brooklyn</td>\n",
              "      <td>72280.0</td>\n",
              "      <td>3.686880e+07</td>\n",
              "      <td>NY</td>\n",
              "      <td>Kings</td>\n",
              "      <td>36</td>\n",
              "      <td>047</td>\n",
              "      <td>http://www.usps.com/</td>\n",
              "      <td>0.0</td>\n",
              "      <td>0.0</td>\n",
              "      <td>POLYGON ((991997.113 176307.496, 992042.798 17...</td>\n",
              "    </tr>\n",
              "    <tr>\n",
              "      <th>...</th>\n",
              "      <td>...</td>\n",
              "      <td>...</td>\n",
              "      <td>...</td>\n",
              "      <td>...</td>\n",
              "      <td>...</td>\n",
              "      <td>...</td>\n",
              "      <td>...</td>\n",
              "      <td>...</td>\n",
              "      <td>...</td>\n",
              "      <td>...</td>\n",
              "      <td>...</td>\n",
              "      <td>...</td>\n",
              "      <td>...</td>\n",
              "    </tr>\n",
              "    <tr>\n",
              "      <th>258</th>\n",
              "      <td>10310</td>\n",
              "      <td>0</td>\n",
              "      <td>Staten Island</td>\n",
              "      <td>25003.0</td>\n",
              "      <td>5.346328e+07</td>\n",
              "      <td>NY</td>\n",
              "      <td>Richmond</td>\n",
              "      <td>36</td>\n",
              "      <td>085</td>\n",
              "      <td>http://www.usps.com/</td>\n",
              "      <td>0.0</td>\n",
              "      <td>0.0</td>\n",
              "      <td>POLYGON ((950767.507 172848.969, 950787.510 17...</td>\n",
              "    </tr>\n",
              "    <tr>\n",
              "      <th>259</th>\n",
              "      <td>11693</td>\n",
              "      <td>0</td>\n",
              "      <td>Far Rockaway</td>\n",
              "      <td>11052.0</td>\n",
              "      <td>3.497516e+06</td>\n",
              "      <td>NY</td>\n",
              "      <td>Kings</td>\n",
              "      <td>36</td>\n",
              "      <td>047</td>\n",
              "      <td>http://www.usps.com/</td>\n",
              "      <td>0.0</td>\n",
              "      <td>0.0</td>\n",
              "      <td>POLYGON ((1028453.995 167153.410, 1027813.010 ...</td>\n",
              "    </tr>\n",
              "    <tr>\n",
              "      <th>260</th>\n",
              "      <td>11249</td>\n",
              "      <td>0</td>\n",
              "      <td>Brooklyn</td>\n",
              "      <td>28481.0</td>\n",
              "      <td>1.777221e+07</td>\n",
              "      <td>NY</td>\n",
              "      <td>Kings</td>\n",
              "      <td>36</td>\n",
              "      <td>047</td>\n",
              "      <td>http://www.usps.com/</td>\n",
              "      <td>0.0</td>\n",
              "      <td>0.0</td>\n",
              "      <td>POLYGON ((995877.318 203206.075, 995968.511 20...</td>\n",
              "    </tr>\n",
              "    <tr>\n",
              "      <th>261</th>\n",
              "      <td>10162</td>\n",
              "      <td>1</td>\n",
              "      <td>New York</td>\n",
              "      <td>0.0</td>\n",
              "      <td>2.103489e+04</td>\n",
              "      <td>NY</td>\n",
              "      <td>New York</td>\n",
              "      <td>36</td>\n",
              "      <td>061</td>\n",
              "      <td>http://www.usps.com/</td>\n",
              "      <td>0.0</td>\n",
              "      <td>0.0</td>\n",
              "      <td>POLYGON ((997731.761 219560.922, 997641.948 21...</td>\n",
              "    </tr>\n",
              "    <tr>\n",
              "      <th>262</th>\n",
              "      <td>10119</td>\n",
              "      <td>1</td>\n",
              "      <td>New York</td>\n",
              "      <td>0.0</td>\n",
              "      <td>1.263930e+05</td>\n",
              "      <td>NY</td>\n",
              "      <td>New York</td>\n",
              "      <td>36</td>\n",
              "      <td>061</td>\n",
              "      <td>http://www.usps.com/</td>\n",
              "      <td>0.0</td>\n",
              "      <td>0.0</td>\n",
              "      <td>POLYGON ((986038.661 213051.063, 986135.314 21...</td>\n",
              "    </tr>\n",
              "  </tbody>\n",
              "</table>\n",
              "<p>263 rows × 13 columns</p>\n",
              "</div>"
            ],
            "text/plain": [
              "    ZIPCODE  ...                                           geometry\n",
              "0     11436  ...  POLYGON ((1038098.252 188138.380, 1038141.936 ...\n",
              "1     11213  ...  POLYGON ((1001613.713 186926.440, 1002314.243 ...\n",
              "2     11212  ...  POLYGON ((1011174.276 183696.338, 1011373.584 ...\n",
              "3     11225  ...  POLYGON ((995908.365 183617.613, 996522.848 18...\n",
              "4     11218  ...  POLYGON ((991997.113 176307.496, 992042.798 17...\n",
              "..      ...  ...                                                ...\n",
              "258   10310  ...  POLYGON ((950767.507 172848.969, 950787.510 17...\n",
              "259   11693  ...  POLYGON ((1028453.995 167153.410, 1027813.010 ...\n",
              "260   11249  ...  POLYGON ((995877.318 203206.075, 995968.511 20...\n",
              "261   10162  ...  POLYGON ((997731.761 219560.922, 997641.948 21...\n",
              "262   10119  ...  POLYGON ((986038.661 213051.063, 986135.314 21...\n",
              "\n",
              "[263 rows x 13 columns]"
            ]
          },
          "metadata": {
            "tags": []
          },
          "execution_count": 17
        }
      ]
    },
    {
      "cell_type": "code",
      "metadata": {
        "id": "UpknVVxBOCQ1",
        "outputId": "4018f52c-f194-422f-ed6e-5b56977b257a",
        "colab": {
          "base_uri": "https://localhost:8080/",
          "height": 299
        }
      },
      "source": [
        "zipcode.plot()"
      ],
      "execution_count": 18,
      "outputs": [
        {
          "output_type": "execute_result",
          "data": {
            "text/plain": [
              "<matplotlib.axes._subplots.AxesSubplot at 0x7f75f75ba550>"
            ]
          },
          "metadata": {
            "tags": []
          },
          "execution_count": 18
        },
        {
          "output_type": "display_data",
          "data": {
            "image/png": "[encoded data removed]",
            "text/plain": [
              "<Figure size 432x288 with 1 Axes>"
            ]
          },
          "metadata": {
            "tags": [],
            "needs_background": "light"
          }
        }
      ]
    },
    {
      "cell_type": "code",
      "metadata": {
        "id": "2gwhuviROkkb",
        "outputId": "05c60501-a306-4d5b-ad12-15baa047629f",
        "colab": {
          "base_uri": "https://localhost:8080/"
        }
      },
      "source": [
        "# Convert census tract data to centroid geometry.\n",
        "censustract['geometry'] = censustract.geometry.centroid\n"
      ],
      "execution_count": 19,
      "outputs": [
        {
          "output_type": "stream",
          "text": [
            "/usr/local/lib/python3.6/dist-packages/ipykernel_launcher.py:2: UserWarning: Geometry is in a geographic CRS. Results from 'centroid' are likely incorrect. Use 'GeoSeries.to_crs()' to re-project geometries to a projected CRS before this operation.\n",
            "\n",
            "  \n"
          ],
          "name": "stderr"
        }
      ]
    },
    {
      "cell_type": "code",
      "metadata": {
        "id": "T2B9RuE-PvL7"
      },
      "source": [
        "# Reset index of zipcodes for spatial join.\n",
        "censustract.reset_index(inplace=True)\n",
        "zipcode.reset_index(inplace=True)\n"
      ],
      "execution_count": 20,
      "outputs": []
    },
    {
      "cell_type": "code",
      "metadata": {
        "id": "7AqOhlrANOls"
      },
      "source": [
        "\n",
        "# Spatial join of 2000 & 2010 census tract centroids to zipcodes.\n",
        "zipcode = gpd.sjoin(left_df=censustract[[\"shape_leng\",\t\"boro_name\",\t\"ct2010\", \"geometry\"]],\n",
        "             right_df=zipcode[[\"ZIPCODE\",\t\"POPULATION\", \"geometry\"]].to_crs(censustract.crs),\n",
        "             how='right', op='intersects', \n",
        "             lsuffix='00', rsuffix='zc')\n"
      ],
      "execution_count": 21,
      "outputs": []
    },
    {
      "cell_type": "code",
      "metadata": {
        "id": "pSOtFzM9Rqb-",
        "outputId": "fce014e9-39e5-4489-dc0b-0063f2b49b38",
        "colab": {
          "base_uri": "https://localhost:8080/",
          "height": 1000
        }
      },
      "source": [
        "zipcode"
      ],
      "execution_count": 22,
      "outputs": [
        {
          "output_type": "execute_result",
          "data": {
            "text/html": [
              "<div>\n",
              "<style scoped>\n",
              "    .dataframe tbody tr th:only-of-type {\n",
              "        vertical-align: middle;\n",
              "    }\n",
              "\n",
              "    .dataframe tbody tr th {\n",
              "        vertical-align: top;\n",
              "    }\n",
              "\n",
              "    .dataframe thead th {\n",
              "        text-align: right;\n",
              "    }\n",
              "</style>\n",
              "<table border=\"1\" class=\"dataframe\">\n",
              "  <thead>\n",
              "    <tr style=\"text-align: right;\">\n",
              "      <th></th>\n",
              "      <th>index_00</th>\n",
              "      <th>shape_leng</th>\n",
              "      <th>boro_name</th>\n",
              "      <th>ct2010</th>\n",
              "      <th>ZIPCODE</th>\n",
              "      <th>POPULATION</th>\n",
              "      <th>geometry</th>\n",
              "    </tr>\n",
              "  </thead>\n",
              "  <tbody>\n",
              "    <tr>\n",
              "      <th>0</th>\n",
              "      <td>409.0</td>\n",
              "      <td>6323.59663386</td>\n",
              "      <td>Queens</td>\n",
              "      <td>019000</td>\n",
              "      <td>11436</td>\n",
              "      <td>18681.0</td>\n",
              "      <td>POLYGON ((-73.80585 40.68291, -73.80569 40.682...</td>\n",
              "    </tr>\n",
              "    <tr>\n",
              "      <th>0</th>\n",
              "      <td>573.0</td>\n",
              "      <td>6955.46452797</td>\n",
              "      <td>Queens</td>\n",
              "      <td>018800</td>\n",
              "      <td>11436</td>\n",
              "      <td>18681.0</td>\n",
              "      <td>POLYGON ((-73.80585 40.68291, -73.80569 40.682...</td>\n",
              "    </tr>\n",
              "    <tr>\n",
              "      <th>0</th>\n",
              "      <td>575.0</td>\n",
              "      <td>8038.55967977</td>\n",
              "      <td>Queens</td>\n",
              "      <td>019200</td>\n",
              "      <td>11436</td>\n",
              "      <td>18681.0</td>\n",
              "      <td>POLYGON ((-73.80585 40.68291, -73.80569 40.682...</td>\n",
              "    </tr>\n",
              "    <tr>\n",
              "      <th>0</th>\n",
              "      <td>1168.0</td>\n",
              "      <td>7150.59389471</td>\n",
              "      <td>Queens</td>\n",
              "      <td>018402</td>\n",
              "      <td>11436</td>\n",
              "      <td>18681.0</td>\n",
              "      <td>POLYGON ((-73.80585 40.68291, -73.80569 40.682...</td>\n",
              "    </tr>\n",
              "    <tr>\n",
              "      <th>0</th>\n",
              "      <td>1180.0</td>\n",
              "      <td>7087.16640819</td>\n",
              "      <td>Queens</td>\n",
              "      <td>018200</td>\n",
              "      <td>11436</td>\n",
              "      <td>18681.0</td>\n",
              "      <td>POLYGON ((-73.80585 40.68291, -73.80569 40.682...</td>\n",
              "    </tr>\n",
              "    <tr>\n",
              "      <th>...</th>\n",
              "      <td>...</td>\n",
              "      <td>...</td>\n",
              "      <td>...</td>\n",
              "      <td>...</td>\n",
              "      <td>...</td>\n",
              "      <td>...</td>\n",
              "      <td>...</td>\n",
              "    </tr>\n",
              "    <tr>\n",
              "      <th>260</th>\n",
              "      <td>1862.0</td>\n",
              "      <td>7343.45091916</td>\n",
              "      <td>Brooklyn</td>\n",
              "      <td>055500</td>\n",
              "      <td>11249</td>\n",
              "      <td>28481.0</td>\n",
              "      <td>POLYGON ((-73.95805 40.72442, -73.95772 40.724...</td>\n",
              "    </tr>\n",
              "    <tr>\n",
              "      <th>260</th>\n",
              "      <td>1867.0</td>\n",
              "      <td>6845.7755595</td>\n",
              "      <td>Brooklyn</td>\n",
              "      <td>054900</td>\n",
              "      <td>11249</td>\n",
              "      <td>28481.0</td>\n",
              "      <td>POLYGON ((-73.95805 40.72442, -73.95772 40.724...</td>\n",
              "    </tr>\n",
              "    <tr>\n",
              "      <th>260</th>\n",
              "      <td>1881.0</td>\n",
              "      <td>7122.6772057</td>\n",
              "      <td>Brooklyn</td>\n",
              "      <td>055100</td>\n",
              "      <td>11249</td>\n",
              "      <td>28481.0</td>\n",
              "      <td>POLYGON ((-73.95805 40.72442, -73.95772 40.724...</td>\n",
              "    </tr>\n",
              "    <tr>\n",
              "      <th>261</th>\n",
              "      <td>996.0</td>\n",
              "      <td>5904.30055105</td>\n",
              "      <td>Manhattan</td>\n",
              "      <td>013200</td>\n",
              "      <td>10162</td>\n",
              "      <td>0.0</td>\n",
              "      <td>POLYGON ((-73.95133 40.76931, -73.95165 40.769...</td>\n",
              "    </tr>\n",
              "    <tr>\n",
              "      <th>262</th>\n",
              "      <td>NaN</td>\n",
              "      <td>NaN</td>\n",
              "      <td>NaN</td>\n",
              "      <td>NaN</td>\n",
              "      <td>10119</td>\n",
              "      <td>0.0</td>\n",
              "      <td>POLYGON ((-73.99354 40.75145, -73.99320 40.751...</td>\n",
              "    </tr>\n",
              "  </tbody>\n",
              "</table>\n",
              "<p>2233 rows × 7 columns</p>\n",
              "</div>"
            ],
            "text/plain": [
              "     index_00  ...                                           geometry\n",
              "0       409.0  ...  POLYGON ((-73.80585 40.68291, -73.80569 40.682...\n",
              "0       573.0  ...  POLYGON ((-73.80585 40.68291, -73.80569 40.682...\n",
              "0       575.0  ...  POLYGON ((-73.80585 40.68291, -73.80569 40.682...\n",
              "0      1168.0  ...  POLYGON ((-73.80585 40.68291, -73.80569 40.682...\n",
              "0      1180.0  ...  POLYGON ((-73.80585 40.68291, -73.80569 40.682...\n",
              "..        ...  ...                                                ...\n",
              "260    1862.0  ...  POLYGON ((-73.95805 40.72442, -73.95772 40.724...\n",
              "260    1867.0  ...  POLYGON ((-73.95805 40.72442, -73.95772 40.724...\n",
              "260    1881.0  ...  POLYGON ((-73.95805 40.72442, -73.95772 40.724...\n",
              "261     996.0  ...  POLYGON ((-73.95133 40.76931, -73.95165 40.769...\n",
              "262       NaN  ...  POLYGON ((-73.99354 40.75145, -73.99320 40.751...\n",
              "\n",
              "[2233 rows x 7 columns]"
            ]
          },
          "metadata": {
            "tags": []
          },
          "execution_count": 22
        }
      ]
    },
    {
      "cell_type": "code",
      "metadata": {
        "id": "S8wsliaLOToQ",
        "outputId": "b248309c-5be3-46d0-8d11-8d8959e6ec47",
        "colab": {
          "base_uri": "https://localhost:8080/",
          "height": 437
        }
      },
      "source": [
        "\n",
        "\n",
        "# Join mean of spatial join results to zipcodes.\n",
        "zipcode.groupby(\"ZIPCODE\").mean()\n"
      ],
      "execution_count": 24,
      "outputs": [
        {
          "output_type": "execute_result",
          "data": {
            "text/html": [
              "<div>\n",
              "<style scoped>\n",
              "    .dataframe tbody tr th:only-of-type {\n",
              "        vertical-align: middle;\n",
              "    }\n",
              "\n",
              "    .dataframe tbody tr th {\n",
              "        vertical-align: top;\n",
              "    }\n",
              "\n",
              "    .dataframe thead th {\n",
              "        text-align: right;\n",
              "    }\n",
              "</style>\n",
              "<table border=\"1\" class=\"dataframe\">\n",
              "  <thead>\n",
              "    <tr style=\"text-align: right;\">\n",
              "      <th></th>\n",
              "      <th>index_00</th>\n",
              "      <th>POPULATION</th>\n",
              "    </tr>\n",
              "    <tr>\n",
              "      <th>ZIPCODE</th>\n",
              "      <th></th>\n",
              "      <th></th>\n",
              "    </tr>\n",
              "  </thead>\n",
              "  <tbody>\n",
              "    <tr>\n",
              "      <th>00083</th>\n",
              "      <td>1819.000000</td>\n",
              "      <td>25.0</td>\n",
              "    </tr>\n",
              "    <tr>\n",
              "      <th>10001</th>\n",
              "      <td>1703.166667</td>\n",
              "      <td>22413.0</td>\n",
              "    </tr>\n",
              "    <tr>\n",
              "      <th>10002</th>\n",
              "      <td>1383.928571</td>\n",
              "      <td>81305.0</td>\n",
              "    </tr>\n",
              "    <tr>\n",
              "      <th>10003</th>\n",
              "      <td>1693.700000</td>\n",
              "      <td>55878.0</td>\n",
              "    </tr>\n",
              "    <tr>\n",
              "      <th>10004</th>\n",
              "      <td>1607.333333</td>\n",
              "      <td>2187.0</td>\n",
              "    </tr>\n",
              "    <tr>\n",
              "      <th>...</th>\n",
              "      <td>...</td>\n",
              "      <td>...</td>\n",
              "    </tr>\n",
              "    <tr>\n",
              "      <th>11691</th>\n",
              "      <td>1604.000000</td>\n",
              "      <td>60267.0</td>\n",
              "    </tr>\n",
              "    <tr>\n",
              "      <th>11692</th>\n",
              "      <td>1359.500000</td>\n",
              "      <td>18018.0</td>\n",
              "    </tr>\n",
              "    <tr>\n",
              "      <th>11693</th>\n",
              "      <td>1712.333333</td>\n",
              "      <td>11052.0</td>\n",
              "    </tr>\n",
              "    <tr>\n",
              "      <th>11694</th>\n",
              "      <td>1643.142857</td>\n",
              "      <td>20163.0</td>\n",
              "    </tr>\n",
              "    <tr>\n",
              "      <th>11697</th>\n",
              "      <td>1518.000000</td>\n",
              "      <td>4079.0</td>\n",
              "    </tr>\n",
              "  </tbody>\n",
              "</table>\n",
              "<p>248 rows × 2 columns</p>\n",
              "</div>"
            ],
            "text/plain": [
              "            index_00  POPULATION\n",
              "ZIPCODE                         \n",
              "00083    1819.000000        25.0\n",
              "10001    1703.166667     22413.0\n",
              "10002    1383.928571     81305.0\n",
              "10003    1693.700000     55878.0\n",
              "10004    1607.333333      2187.0\n",
              "...              ...         ...\n",
              "11691    1604.000000     60267.0\n",
              "11692    1359.500000     18018.0\n",
              "11693    1712.333333     11052.0\n",
              "11694    1643.142857     20163.0\n",
              "11697    1518.000000      4079.0\n",
              "\n",
              "[248 rows x 2 columns]"
            ]
          },
          "metadata": {
            "tags": []
          },
          "execution_count": 24
        }
      ]
    },
    {
      "cell_type": "code",
      "metadata": {
        "id": "yH6AghF5Rc1e"
      },
      "source": [
        ""
      ],
      "execution_count": null,
      "outputs": []
    }
  ]
}