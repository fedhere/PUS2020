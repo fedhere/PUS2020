{
  "nbformat": 4,
  "nbformat_minor": 0,
  "metadata": {
    "colab": {
      "name": "distributions.ipynb",
      "provenance": [],
      "authorship_tag": "ABX9TyMAp2VqlKAsYN7ZxPXwc1GR",
      "include_colab_link": true
    },
    "kernelspec": {
      "name": "python3",
      "display_name": "Python 3"
    }
  },
  "cells": [
    {
      "cell_type": "markdown",
      "metadata": {
        "id": "view-in-github",
        "colab_type": "text"
      },
      "source": [
        "<a href=\"https://colab.research.google.com/github/fedhere/PUS2020_FBianco/blob/master/nbsforslides/distributions.ipynb\" target=\"_parent\"><img src=\"https://colab.research.google.com/assets/colab-badge.svg\" alt=\"Open In Colab\"/></a>"
      ]
    },
    {
      "cell_type": "code",
      "metadata": {
        "id": "QW3Xc63j8Iof",
        "colab_type": "code",
        "colab": {
          "base_uri": "https://localhost:8080/",
          "height": 106
        },
        "outputId": "a1f520ff-c50d-4191-82fd-aa64894f7d8d"
      },
      "source": [
        "import numpy as np\n",
        "import pylab as pl\n",
        "import scipy as sp\n",
        "from scipy.stats import norm\n",
        "import seaborn as sns\n",
        "%pylab inline"
      ],
      "execution_count": null,
      "outputs": [
        {
          "output_type": "stream",
          "text": [
            "Populating the interactive namespace from numpy and matplotlib\n"
          ],
          "name": "stdout"
        },
        {
          "output_type": "stream",
          "text": [
            "/usr/local/lib/python3.6/dist-packages/IPython/core/magics/pylab.py:161: UserWarning: pylab import has clobbered these variables: ['norm']\n",
            "`%matplotlib` prevents importing * from pylab and numpy\n",
            "  \"\\n`%matplotlib` prevents importing * from pylab and numpy\"\n"
          ],
          "name": "stderr"
        }
      ]
    },
    {
      "cell_type": "code",
      "metadata": {
        "id": "j9Vj377i8Lqz",
        "colab_type": "code",
        "colab": {
          "base_uri": "https://localhost:8080/",
          "height": 265
        },
        "outputId": "f6aaa01c-a3f9-46a8-b5b3-78115a7f38e6"
      },
      "source": [
        "# set a seed to make this reproducible\n",
        "# (every time i run it i get the same result even if i use random)\n",
        "np.random.seed()\n",
        "# Gaussian (normally) distribute data, mean 0, sdtev 1\n",
        "data = np.random.randn(200)\n",
        "y, x, p = pl.hist(data)"
      ],
      "execution_count": null,
      "outputs": [
        {
          "output_type": "display_data",
          "data": {
            "image/png": "[encoded data removed]",
            "text/plain": [
              "<Figure size 432x288 with 1 Axes>"
            ]
          },
          "metadata": {
            "tags": [],
            "needs_background": "light"
          }
        }
      ]
    },
    {
      "cell_type": "code",
      "metadata": {
        "id": "HCJRLDEo8TGN",
        "colab_type": "code",
        "colab": {
          "base_uri": "https://localhost:8080/",
          "height": 35
        },
        "outputId": "05704d90-2a0c-4062-eac4-4695b4120ebe"
      },
      "source": [
        "#fit a gaussian to the data\n",
        "mean,std = sp.stats.norm.fit(data)\n",
        "mean, std"
      ],
      "execution_count": null,
      "outputs": [
        {
          "output_type": "execute_result",
          "data": {
            "text/plain": [
              "(-0.02080601389348735, 0.9005892909003307)"
            ]
          },
          "metadata": {
            "tags": []
          },
          "execution_count": 12
        }
      ]
    },
    {
      "cell_type": "code",
      "metadata": {
        "id": "LrdnIouL8xUr",
        "colab_type": "code",
        "colab": {
          "base_uri": "https://localhost:8080/",
          "height": 275
        },
        "outputId": "92fee1e1-8ef9-40a8-dc0b-0ef19feeeb85"
      },
      "source": [
        "y, x, p = pl.hist(data, density=True)\n",
        "xr = np.arange(-5, 5, 0.1)\n",
        "pl.plot(xr, sp.stats.norm.pdf(xr, loc=mean, scale=std))\n",
        "sns.despine(offset=10, trim=True);\n"
      ],
      "execution_count": null,
      "outputs": [
        {
          "output_type": "display_data",
          "data": {
            "image/png": "[encoded data removed]",
            "text/plain": [
              "<Figure size 432x288 with 1 Axes>"
            ]
          },
          "metadata": {
            "tags": [],
            "needs_background": "light"
          }
        }
      ]
    },
    {
      "cell_type": "code",
      "metadata": {
        "id": "nJVy2HuE-G9c",
        "colab_type": "code",
        "colab": {
          "base_uri": "https://localhost:8080/",
          "height": 275
        },
        "outputId": "3f948230-943f-4e01-c6a8-007fdd9d623d"
      },
      "source": [
        "#Poisson distribution with lambda = 10\n",
        "data = np.random.poisson(10, 200)\n",
        "yp, xp, p = pl.hist(data, bins=10, density=True)\n",
        "pl.plot(range(20), sp.stats.poisson.pmf(range(20), mu=10))\n",
        "sns.despine(offset=10, trim=True);\n"
      ],
      "execution_count": null,
      "outputs": [
        {
          "output_type": "display_data",
          "data": {
            "image/png": "[encoded data removed]",
            "text/plain": [
              "<Figure size 432x288 with 1 Axes>"
            ]
          },
          "metadata": {
            "tags": [],
            "needs_background": "light"
          }
        }
      ]
    },
    {
      "cell_type": "code",
      "metadata": {
        "id": "RbYGCa9tPTBT",
        "colab_type": "code",
        "colab": {
          "base_uri": "https://localhost:8080/",
          "height": 309
        },
        "outputId": "70cd7582-7e62-47ef-8000-2fb8bfed0111"
      },
      "source": [
        "#poisson distribution with lambda=3\n",
        "mu = 3\n",
        "data = np.random.poisson(mu, 200)\n",
        "yp, xp, p = pl.hist(data, bins=10, density=True)\n",
        "pl.plot(range(20), sp.stats.poisson.pmf(range(20), mu=mu))\n",
        "sns.despine(offset=10, trim=True);\n",
        "print(\"mean\", data.mean())\n",
        "print(\"median\", data.mean())"
      ],
      "execution_count": null,
      "outputs": [
        {
          "output_type": "stream",
          "text": [
            "mean 2.9\n",
            "median 2.9\n"
          ],
          "name": "stdout"
        },
        {
          "output_type": "display_data",
          "data": {
            "image/png": "[encoded data removed]",
            "text/plain": [
              "<Figure size 432x288 with 1 Axes>"
            ]
          },
          "metadata": {
            "tags": [],
            "needs_background": "light"
          }
        }
      ]
    },
    {
      "cell_type": "code",
      "metadata": {
        "id": "5tpaWQqAAJOC",
        "colab_type": "code",
        "colab": {
          "base_uri": "https://localhost:8080/",
          "height": 275
        },
        "outputId": "378df96b-1717-4cf2-83cc-14eb872f030a"
      },
      "source": [
        "#poisson distribution with lambda=1\n",
        "data = np.random.poisson(1, 200)\n",
        "yp, xp, p = pl.hist(data, bins=10)\n",
        "sns.despine(offset=10, trim=True);\n"
      ],
      "execution_count": null,
      "outputs": [
        {
          "output_type": "display_data",
          "data": {
            "image/png": "[encoded data removed]",
            "text/plain": [
              "<Figure size 432x288 with 1 Axes>"
            ]
          },
          "metadata": {
            "tags": [],
            "needs_background": "light"
          }
        }
      ]
    },
    {
      "cell_type": "code",
      "metadata": {
        "id": "F3XfbqZOMpbh",
        "colab_type": "code",
        "colab": {
          "base_uri": "https://localhost:8080/",
          "height": 265
        },
        "outputId": "7040afbe-4142-4de8-ab71-af337a38ad57"
      },
      "source": [
        "#two gaussian distribution with slightly different mean, as different as the standard deviation\n",
        "np.random.seed(123)\n",
        "data = np.random.randn(200) + 2\n",
        "y, x, p = pl.hist(data, alpha=0.5)\n",
        "data = np.random.randn(200) + 1\n",
        "y, x, p = pl.hist(data, alpha=0.5)"
      ],
      "execution_count": null,
      "outputs": [
        {
          "output_type": "display_data",
          "data": {
            "image/png": "[encoded data removed]",
            "text/plain": [
              "<Figure size 432x288 with 1 Axes>"
            ]
          },
          "metadata": {
            "tags": [],
            "needs_background": "light"
          }
        }
      ]
    },
    {
      "cell_type": "code",
      "metadata": {
        "id": "JRn66W1wzP1F",
        "colab_type": "code",
        "colab": {}
      },
      "source": [
        ""
      ],
      "execution_count": null,
      "outputs": []
    }
  ]
}