{
  "nbformat": 4,
  "nbformat_minor": 0,
  "metadata": {
    "kernelspec": {
      "display_name": "Python 2",
      "language": "python",
      "name": "python2"
    },
    "language_info": {
      "codemirror_mode": {
        "name": "ipython",
        "version": 2
      },
      "file_extension": ".py",
      "mimetype": "text/x-python",
      "name": "python",
      "nbconvert_exporter": "python",
      "pygments_lexer": "ipython2",
      "version": "2.7.12"
    },
    "colab": {
      "name": "Distance_Women_services.ipynb",
      "provenance": []
    }
  },
  "cells": [
    {
      "cell_type": "code",
      "metadata": {
        "id": "3-_ZkdYuMnbV",
        "outputId": "4a9f84e8-d084-47ec-8ad7-57dc494901cc",
        "colab": {
          "base_uri": "https://localhost:8080/"
        }
      },
      "source": [
        "from __future__ import print_function\n",
        "import pandas as pd\n",
        "import pylab as pl\n",
        "import json\n",
        "%pylab inline"
      ],
      "execution_count": 5,
      "outputs": [
        {
          "output_type": "stream",
          "text": [
            "Populating the interactive namespace from numpy and matplotlib\n"
          ],
          "name": "stdout"
        }
      ]
    },
    {
      "cell_type": "code",
      "metadata": {
        "id": "9c2KGDB9Mnbb",
        "outputId": "1fab9928-99a7-436c-ea10-dc878953302d",
        "colab": {
          "base_uri": "https://localhost:8080/",
          "height": 403
        }
      },
      "source": [
        "#the data is from NYC Open Data https://data.cityofnewyork.us/Social-Services/NYC-Women-s-Resource-Network-Database/pqg4-dm6b\n",
        "womenserv = pd.read_csv(\"https://data.cityofnewyork.us/api/views/pqg4-dm6b/rows.csv?accessType=DOWNLOAD\")\n",
        "womenserv.head()"
      ],
      "execution_count": 6,
      "outputs": [
        {
          "output_type": "execute_result",
          "data": {
            "text/plain": [
              "                               OrganizationName Brooklyn Bronx Manhattan  \\\n",
              "0               First Saturday in October, Inc.        N     Y         N   \n",
              "1  Supportive Childrens Advocacy Network (SCAN)        N     N         Y   \n",
              "2                 Sjogren's Syndrome Foundation        N     N         Y   \n",
              "3                   Guardians of the Sick, Inc.        Y     N         N   \n",
              "4      Latin Media and Entertainment Commission        Y     Y         Y   \n",
              "\n",
              "  Queens Staten Island           Fax         Phone  \\\n",
              "0      N             N  7.185906e+09  7.185908e+09   \n",
              "1      N             N           NaN           NaN   \n",
              "2      N             N           NaN  2.127247e+09   \n",
              "3      N             N           NaN  7.184382e+09   \n",
              "4      Y             Y           NaN  2.126400e+09   \n",
              "\n",
              "                                                 URL noURL  ...  \\\n",
              "0                                                NaN   NaN  ...   \n",
              "1                                                NaN     N  ...   \n",
              "2                           http://www.sjogrens.org/   NaN  ...   \n",
              "3                                                NaN   NaN  ...   \n",
              "4  http://www.nyc.gov/html/lmec/html/home/home.shtml     N  ...   \n",
              "\n",
              "  Community Board City Council  Census Tract        BIN           BBL  \\\n",
              "0             NaN           NaN          NaN        NaN           NaN   \n",
              "1             NaN           NaN          NaN        NaN           NaN   \n",
              "2             NaN           NaN          NaN        NaN           NaN   \n",
              "3            12.0          44.0        218.0  3138585.0  3.056600e+09   \n",
              "4             NaN           NaN          NaN        NaN           NaN   \n",
              "\n",
              "                                                 NTA  \\\n",
              "0                                                NaN   \n",
              "1                                                NaN   \n",
              "2                                                NaN   \n",
              "3  Borough Park                                  ...   \n",
              "4                                                NaN   \n",
              "\n",
              "                      Address1 Address2      City Postcode  \n",
              "0  198 East 161st St, Ste. 201      NaN     Bronx      NaN  \n",
              "1        207 215 E 27th Street      NaN  New York  10016.0  \n",
              "2           109 East 50 Street      NaN  New York      NaN  \n",
              "3             5216 11th Avenue      NaN  Brooklyn  11219.0  \n",
              "4                          NaN      NaN  New York      NaN  \n",
              "\n",
              "[5 rows x 59 columns]"
            ],
            "text/html": [
              "<div>\n",
              "<style scoped>\n",
              "    .dataframe tbody tr th:only-of-type {\n",
              "        vertical-align: middle;\n",
              "    }\n",
              "\n",
              "    .dataframe tbody tr th {\n",
              "        vertical-align: top;\n",
              "    }\n",
              "\n",
              "    .dataframe thead th {\n",
              "        text-align: right;\n",
              "    }\n",
              "</style>\n",
              "<table border=\"1\" class=\"dataframe\">\n",
              "  <thead>\n",
              "    <tr style=\"text-align: right;\">\n",
              "      <th></th>\n",
              "      <th>OrganizationName</th>\n",
              "      <th>Brooklyn</th>\n",
              "      <th>Bronx</th>\n",
              "      <th>Manhattan</th>\n",
              "      <th>Queens</th>\n",
              "      <th>Staten Island</th>\n",
              "      <th>Fax</th>\n",
              "      <th>Phone</th>\n",
              "      <th>URL</th>\n",
              "      <th>noURL</th>\n",
              "      <th>...</th>\n",
              "      <th>Community Board</th>\n",
              "      <th>City Council</th>\n",
              "      <th>Census Tract</th>\n",
              "      <th>BIN</th>\n",
              "      <th>BBL</th>\n",
              "      <th>NTA</th>\n",
              "      <th>Address1</th>\n",
              "      <th>Address2</th>\n",
              "      <th>City</th>\n",
              "      <th>Postcode</th>\n",
              "    </tr>\n",
              "  </thead>\n",
              "  <tbody>\n",
              "    <tr>\n",
              "      <th>0</th>\n",
              "      <td>First Saturday in October, Inc.</td>\n",
              "      <td>N</td>\n",
              "      <td>Y</td>\n",
              "      <td>N</td>\n",
              "      <td>N</td>\n",
              "      <td>N</td>\n",
              "      <td>7.185906e+09</td>\n",
              "      <td>7.185908e+09</td>\n",
              "      <td>NaN</td>\n",
              "      <td>NaN</td>\n",
              "      <td>...</td>\n",
              "      <td>NaN</td>\n",
              "      <td>NaN</td>\n",
              "      <td>NaN</td>\n",
              "      <td>NaN</td>\n",
              "      <td>NaN</td>\n",
              "      <td>NaN</td>\n",
              "      <td>198 East 161st St, Ste. 201</td>\n",
              "      <td>NaN</td>\n",
              "      <td>Bronx</td>\n",
              "      <td>NaN</td>\n",
              "    </tr>\n",
              "    <tr>\n",
              "      <th>1</th>\n",
              "      <td>Supportive Childrens Advocacy Network (SCAN)</td>\n",
              "      <td>N</td>\n",
              "      <td>N</td>\n",
              "      <td>Y</td>\n",
              "      <td>N</td>\n",
              "      <td>N</td>\n",
              "      <td>NaN</td>\n",
              "      <td>NaN</td>\n",
              "      <td>NaN</td>\n",
              "      <td>N</td>\n",
              "      <td>...</td>\n",
              "      <td>NaN</td>\n",
              "      <td>NaN</td>\n",
              "      <td>NaN</td>\n",
              "      <td>NaN</td>\n",
              "      <td>NaN</td>\n",
              "      <td>NaN</td>\n",
              "      <td>207 215 E 27th Street</td>\n",
              "      <td>NaN</td>\n",
              "      <td>New York</td>\n",
              "      <td>10016.0</td>\n",
              "    </tr>\n",
              "    <tr>\n",
              "      <th>2</th>\n",
              "      <td>Sjogren's Syndrome Foundation</td>\n",
              "      <td>N</td>\n",
              "      <td>N</td>\n",
              "      <td>Y</td>\n",
              "      <td>N</td>\n",
              "      <td>N</td>\n",
              "      <td>NaN</td>\n",
              "      <td>2.127247e+09</td>\n",
              "      <td>http://www.sjogrens.org/</td>\n",
              "      <td>NaN</td>\n",
              "      <td>...</td>\n",
              "      <td>NaN</td>\n",
              "      <td>NaN</td>\n",
              "      <td>NaN</td>\n",
              "      <td>NaN</td>\n",
              "      <td>NaN</td>\n",
              "      <td>NaN</td>\n",
              "      <td>109 East 50 Street</td>\n",
              "      <td>NaN</td>\n",
              "      <td>New York</td>\n",
              "      <td>NaN</td>\n",
              "    </tr>\n",
              "    <tr>\n",
              "      <th>3</th>\n",
              "      <td>Guardians of the Sick, Inc.</td>\n",
              "      <td>Y</td>\n",
              "      <td>N</td>\n",
              "      <td>N</td>\n",
              "      <td>N</td>\n",
              "      <td>N</td>\n",
              "      <td>NaN</td>\n",
              "      <td>7.184382e+09</td>\n",
              "      <td>NaN</td>\n",
              "      <td>NaN</td>\n",
              "      <td>...</td>\n",
              "      <td>12.0</td>\n",
              "      <td>44.0</td>\n",
              "      <td>218.0</td>\n",
              "      <td>3138585.0</td>\n",
              "      <td>3.056600e+09</td>\n",
              "      <td>Borough Park                                  ...</td>\n",
              "      <td>5216 11th Avenue</td>\n",
              "      <td>NaN</td>\n",
              "      <td>Brooklyn</td>\n",
              "      <td>11219.0</td>\n",
              "    </tr>\n",
              "    <tr>\n",
              "      <th>4</th>\n",
              "      <td>Latin Media and Entertainment Commission</td>\n",
              "      <td>Y</td>\n",
              "      <td>Y</td>\n",
              "      <td>Y</td>\n",
              "      <td>Y</td>\n",
              "      <td>Y</td>\n",
              "      <td>NaN</td>\n",
              "      <td>2.126400e+09</td>\n",
              "      <td>http://www.nyc.gov/html/lmec/html/home/home.shtml</td>\n",
              "      <td>N</td>\n",
              "      <td>...</td>\n",
              "      <td>NaN</td>\n",
              "      <td>NaN</td>\n",
              "      <td>NaN</td>\n",
              "      <td>NaN</td>\n",
              "      <td>NaN</td>\n",
              "      <td>NaN</td>\n",
              "      <td>NaN</td>\n",
              "      <td>NaN</td>\n",
              "      <td>New York</td>\n",
              "      <td>NaN</td>\n",
              "    </tr>\n",
              "  </tbody>\n",
              "</table>\n",
              "<p>5 rows × 59 columns</p>\n",
              "</div>"
            ]
          },
          "metadata": {
            "tags": []
          },
          "execution_count": 6
        }
      ]
    },
    {
      "cell_type": "code",
      "metadata": {
        "id": "VsjR0QbkM5CN"
      },
      "source": [
        "#remove all columns i dont need like addresses\n",
        "womenserv = womenserv.iloc[:,:6]"
      ],
      "execution_count": 7,
      "outputs": []
    },
    {
      "cell_type": "markdown",
      "metadata": {
        "id": "HhUx0-vcMnbi"
      },
      "source": [
        "## one way to do it, i did it in class like this but it is unnecessary - I did it in a better way below\n",
        "```\n",
        "for br in womenserv.columns[1:]:\n",
        "    womenserv[br][womenserv[br] == 'Y'] = 1\n",
        "    womenserv[br][womenserv[br] == 'N'] = 0\n",
        "    \n",
        "womenserv.head()\n",
        "\n",
        "```"
      ]
    },
    {
      "cell_type": "code",
      "metadata": {
        "id": "X8WXzFXPM3Xj"
      },
      "source": [
        "# replacing N and Y with 0 and 1\n",
        "womenserv.replace({\"Y\":1}, inplace=True)\n",
        "womenserv.replace({\"N\":0}, inplace=True)"
      ],
      "execution_count": 8,
      "outputs": []
    },
    {
      "cell_type": "markdown",
      "metadata": {
        "id": "JfZ6nOKAMnbm"
      },
      "source": [
        "### Jaccard distance: co-occurrences / all\n",
        "\n",
        "Think about the distance between two objects a as a combination of cooccurrences: a cooccurence is when the feature is true for both objects. \n",
        "The Jaccard similarity focuses on the co-occurrence,.\n",
        "\n",
        "You can also think that the absence of a feature (False) is a way in which objects are similar: two borrows where neither has a service are similar in the absence of the services. The Simple Similarity also includes the simultaneouse lack of occurrence.\n",
        "---\n",
        "\n",
        "\n"
      ]
    },
    {
      "cell_type": "markdown",
      "metadata": {
        "id": "i7UOobeGP5b5"
      },
      "source": [
        "summing the Brooklyn and Bronx features I find which services are absent in both (0), present in both (2), or present in one but not the other (1)    \n"
      ]
    },
    {
      "cell_type": "code",
      "metadata": {
        "id": "_I2mWqRROV9Q",
        "outputId": "c1f89963-ac44-4cac-904b-c6ba1c5ae108",
        "colab": {
          "base_uri": "https://localhost:8080/"
        }
      },
      "source": [
        "print (\"which services are in Brooklyn or the Bronx?\")\n",
        "coocc =  womenserv.Brooklyn + womenserv.Bronx\n",
        "coocc"
      ],
      "execution_count": 11,
      "outputs": [
        {
          "output_type": "stream",
          "text": [
            "which services are in Brooklyn or the Bronx?\n"
          ],
          "name": "stdout"
        },
        {
          "output_type": "execute_result",
          "data": {
            "text/plain": [
              "0       1\n",
              "1       0\n",
              "2       0\n",
              "3       1\n",
              "4       2\n",
              "5       2\n",
              "6       0\n",
              "7       0\n",
              "8       0\n",
              "9       2\n",
              "10      0\n",
              "11      0\n",
              "12      0\n",
              "13      0\n",
              "14      1\n",
              "15      0\n",
              "16      1\n",
              "17      0\n",
              "18      0\n",
              "19      1\n",
              "20      0\n",
              "21      0\n",
              "22      2\n",
              "23      0\n",
              "24      0\n",
              "25      0\n",
              "26      2\n",
              "27      0\n",
              "28      1\n",
              "29      1\n",
              "       ..\n",
              "1117    1\n",
              "1118    0\n",
              "1119    0\n",
              "1120    0\n",
              "1121    0\n",
              "1122    0\n",
              "1123    0\n",
              "1124    0\n",
              "1125    0\n",
              "1126    0\n",
              "1127    1\n",
              "1128    1\n",
              "1129    1\n",
              "1130    0\n",
              "1131    0\n",
              "1132    1\n",
              "1133    1\n",
              "1134    1\n",
              "1135    0\n",
              "1136    0\n",
              "1137    0\n",
              "1138    1\n",
              "1139    0\n",
              "1140    0\n",
              "1141    1\n",
              "1142    1\n",
              "1143    1\n",
              "1144    1\n",
              "1145    0\n",
              "1146    0\n",
              "Length: 1147, dtype: int64"
            ]
          },
          "metadata": {
            "tags": []
          },
          "execution_count": 11
        }
      ]
    },
    {
      "cell_type": "code",
      "metadata": {
        "id": "AHqi5EeUOdEM",
        "outputId": "95e83f73-5c4e-404f-be78-514e38226025",
        "colab": {
          "base_uri": "https://localhost:8080/"
        }
      },
      "source": [
        "#Jaccard similarity: cooccurrence (true in both) over where its not absent in both (true in one only or true in both)\n",
        "print(\"Bronx-Brooklyn Jaccard similarity %.2f\"%(np.sum(coocc == 2) * 1.0 / \n",
        "                                                  np.sum(coocc > 0)))\n",
        "print(\"Bronx-Brooklyn Jaccard distance %.2f\"%(1 - (np.sum(coocc == 2) * 1.0 / \n",
        "                                                   np.sum(coocc > 0))))\n"
      ],
      "execution_count": 12,
      "outputs": [
        {
          "output_type": "stream",
          "text": [
            "Bronx-Brooklyn Jaccard similarity 0.42\n",
            "Bronx-Brooklyn Jaccard distance 0.58\n"
          ],
          "name": "stdout"
        }
      ]
    },
    {
      "cell_type": "code",
      "metadata": {
        "id": "wSpR9_VlQle8",
        "outputId": "f1c110c0-a17d-41a9-dfe7-f145eb0a1403",
        "colab": {
          "base_uri": "https://localhost:8080/"
        }
      },
      "source": [
        "#Simple similarity: cooccurrence (true in both), lack in both (False in both) over all possibilities\n",
        "print(\"Bronx-Brooklyn simple similarity %.2f\"%((np.sum(coocc == 2) + np.sum(coocc == 0)) * 1.0 / \n",
        "                                                len(coocc)))\n",
        "print(\"Bronx-Brooklyn simple distance %.2f\"%(1 - ((np.sum(coocc == 2) + np.sum(coocc == 0)) * 1.0 / \n",
        "                                                len(coocc))))"
      ],
      "execution_count": 14,
      "outputs": [
        {
          "output_type": "stream",
          "text": [
            "Bronx-Brooklyn simple similarity 0.77\n",
            "Bronx-Brooklyn simple distance 0.23\n"
          ],
          "name": "stdout"
        }
      ]
    },
    {
      "cell_type": "code",
      "metadata": {
        "id": "0F3yTxPLOvHj"
      },
      "source": [
        "# now with scipy\n",
        "import scipy as sp\n",
        "from scipy import spatial"
      ],
      "execution_count": 15,
      "outputs": []
    },
    {
      "cell_type": "code",
      "metadata": {
        "id": "bEVCKmfoOzwe",
        "outputId": "1d575d59-e462-40b3-c604-9b8fec0a3b33",
        "colab": {
          "base_uri": "https://localhost:8080/"
        }
      },
      "source": [
        "print(\"Bronx-Brooklyn distance %.2f\"%sp.spatial.distance.jaccard(\n",
        "    womenserv.Brooklyn.values, womenserv.Bronx.values))"
      ],
      "execution_count": 16,
      "outputs": [
        {
          "output_type": "stream",
          "text": [
            "Bronx-Brooklyn distance 0.58\n"
          ],
          "name": "stdout"
        }
      ]
    },
    {
      "cell_type": "markdown",
      "metadata": {
        "id": "5ts2Os4NTd_l"
      },
      "source": [
        "#calculate all Jaccard and all simple distances pair by pair and produce a distance matrix between borrows\n",
        "(e.g. Mn-Bx, Mn-Bk, Bk-Qu... there are 25 distances)"
      ]
    },
    {
      "cell_type": "code",
      "metadata": {
        "id": "4PvVAoCvTr_w",
        "outputId": "be52f12d-9937-4c31-e318-49edbc4de9b3",
        "colab": {
          "base_uri": "https://localhost:8080/"
        }
      },
      "source": [
        "print(\"The distance between all borrow pairs is:\")\n",
        "sp.spatial.distance.pdist(womenserv.iloc[:,1:].T, metric='Jaccard')"
      ],
      "execution_count": 17,
      "outputs": [
        {
          "output_type": "stream",
          "text": [
            "The distance between all borrow pairs is:\n"
          ],
          "name": "stdout"
        },
        {
          "output_type": "execute_result",
          "data": {
            "text/plain": [
              "array([0.57675439, 0.76157407, 0.65743945, 0.54005168, 0.73868047,\n",
              "       0.61020408, 0.41750842, 0.77691454, 0.75210084, 0.59529412])"
            ]
          },
          "metadata": {
            "tags": []
          },
          "execution_count": 17
        }
      ]
    },
    {
      "cell_type": "code",
      "metadata": {
        "id": "f_bzv8dLT-xC",
        "outputId": "ac818a84-6884-47db-fa56-cf9ad785d0c7",
        "colab": {
          "base_uri": "https://localhost:8080/",
          "height": 324
        }
      },
      "source": [
        "# to plot it I have to turn this vector into a matrix, the function sp.spatial.distance.squareform does that\n",
        "\n",
        "import pylab as pl\n",
        "pl.imshow(sp.spatial.distance.squareform(sp.spatial.distance.pdist(\n",
        "    womenserv.iloc[:,1:].T, metric='Jaccard')))\n",
        "pl.xticks(range(len(womenserv.columns[1:])), womenserv.columns[1:], rotation=90)\n",
        "pl.yticks(range(len(womenserv.columns[1:])), womenserv.columns[1:]);\n",
        "pl.colorbar();"
      ],
      "execution_count": 18,
      "outputs": [
        {
          "output_type": "display_data",
          "data": {
            "image/png": "[encoded data removed]",
            "text/plain": [
              "<Figure size 432x288 with 2 Axes>"
            ]
          },
          "metadata": {
            "tags": [],
            "needs_background": "light"
          }
        }
      ]
    },
    {
      "cell_type": "code",
      "metadata": {
        "id": "YPBZ5_7cU7jJ"
      },
      "source": [
        ""
      ],
      "execution_count": null,
      "outputs": []
    }
  ]
}